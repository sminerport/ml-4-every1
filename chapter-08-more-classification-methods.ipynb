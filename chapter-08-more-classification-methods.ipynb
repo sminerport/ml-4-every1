{
 "cells": [
  {
   "cell_type": "code",
   "execution_count": 1,
   "id": "08a7a9dc",
   "metadata": {},
   "outputs": [],
   "source": [
    "# setup\n",
    "from mlwpy import *\n",
    "%matplotlib inline\n",
    "\n",
    "iris = datasets.load_iris()\n",
    "\n",
    "# standard iris datset\n",
    "tts = skms.train_test_split(iris.data, iris.target,\n",
    "                            test_size=.33, random_state=21)\n",
    "\n",
    "(iris_train_ftrs, iris_test_ftrs,\n",
    "iris_train_tgt, iris_test_tgt) = tts\n",
    "\n",
    "# one-class variation\n",
    "useclass = 1\n",
    "tts_1c = skms.train_test_split(iris.data, iris.target==useclass,\n",
    "                               test_size=.33, random_state = 21)\n",
    "(iris_1c_train_ftrs, iris_1c_test_ftrs,\n",
    " iris_1c_train_tgt, iris_1c_test_tgt) = tts_1c"
   ]
  },
  {
   "cell_type": "markdown",
   "id": "69612f38",
   "metadata": {},
   "source": [
    "# 8.1 Revisiting Classification\n",
    "\n",
    "So far, we discussed two classifiers: Naive Bayes (NB) and *k*-Nearest Neighbors (*k*-NN).\n",
    "\n",
    "There are a number of pieces to specify in classifiers:\n",
    "\n",
    "1.  What rules do we give when separating classifiers? Are they straight lines? Are there more than one line? Do they have to be parallel to the edges of the paper? Can we use curves? How curvy can the lines be? Can we pick up the 'pencil' or must we make one and only one, continuous boundary before stopping?\n",
    "\n",
    "2.  How do we evaluate the separation made? If *Xs* and *Os* show up in the same region, what is causing that?\n",
    "\n",
    "Classification methods differ in two fundamental ways:\n",
    "\n",
    "1. They have different constraints on how to draw their boundaries\n",
    "2. They have different ways to evaluate the boundaries.  \n",
    "\n",
    "The differences are side effects of the underlying mathematics of the methods.  \n",
    "\n",
    "Once we have drawn *good* boundaries, we can ask simple questions to figure out the class of a new example: \"Are we inside or outside the fenced area?\" or \"Which side of a very long fence are we on?\" These questions can be simple, mathematical comparisons between a value computed from an example and a constant:\n",
    "\n",
    "1. Which side of a fence are we on? Is some value greater than 0?\n",
    "2. Which of the two possibilities is the answer? Is some value 0 or 1? Is some value -1 or 1?\n",
    "3. Is one event the more likely of two? Is some value greater than $\\frac{1}{2}$?\n",
    "4. Am I the most likely of several alternative? Is some value the greatest in a set of values?\n",
    "\n",
    "The first two questions are similar.  Often, the choice has to do with simplifying the underlying mathematics that we are setting aside for now.  The third question is a bit more genearl--not only can we say *which* outcome we prefer, but we can say *by how much* we prefer it.  If we don't have strict probabilities (instead we have generic scores), we might have a different threshold than one-half.  The fourth comes into play when we select between more than two classes. These questions are in their simplest forms.  Sometimes, we do a bit of additional processing before asking them.\n",
    "\n",
    "In this chapter, we look at four different methods for classification: decision trees, support vector classifiers, logistic regression, and discriminant analysis.  In that order, these methods introduce increasing numbers of assumptions.  As we saw with Naive Bayes, the assumptions don't *prevent* us from applying a method: we are free to use *any* method with *any* data.  Often, we won't know what assumptions are met before we apply the method.  The better the alignment between the assumptions of a method and the patterns in the data, the better we expect a method to perfrom.  Since we don't know, we may try multiple emthods, cross-validate, and use the method with the best cross-validated results as our final tool."
   ]
  },
  {
   "cell_type": "markdown",
   "id": "f76dab64",
   "metadata": {},
   "source": [
    "# 8.2 Decision Trees\n",
    "\n",
    "Trees are *prone to overfitting*  We reduce this tendency primarily by limiting the *depth* to which a tree can grow."
   ]
  },
  {
   "cell_type": "markdown",
   "id": "c2584bc4",
   "metadata": {},
   "source": [
    "## 8.2.1 Tree-Building Algorithms\n",
    "\n",
    "Tree-building methods result in a model that can be thought of as a *patchwork of constant predictors*.  The differences among DT revolve around:\n",
    "\n",
    "1. How they break down the entire space of the data into smaller and smaller regions\n",
    "2. When they stop the breakdown.\n",
    "\n",
    "Here's how a decision tree classifier (DTC) breaks down the *iris* data when it only consideres the first two features (*sepal length* and *sepal width*)."
   ]
  },
  {
   "cell_type": "code",
   "execution_count": 2,
   "id": "3f2b2f4a",
   "metadata": {},
   "outputs": [
    {
     "data": {
      "image/png": "[encoded data removed]",
      "text/plain": [
       "<Figure size 288x216 with 1 Axes>"
      ]
     },
     "metadata": {
      "needs_background": "light"
     },
     "output_type": "display_data"
    }
   ],
   "source": [
    "tree_classifiers = {'DTC' : tree.DecisionTreeClassifier(max_depth=1)}\n",
    "\n",
    "fig, ax = plt.subplots(1,1,figsize=(4,3))\n",
    "for name, mod in tree_classifiers.items():\n",
    "    # plot_boundary only uses specified columns\n",
    "    # [0,1] [sepal len/width] to predict and graph\n",
    "    plot_boundary(ax, iris.data, iris.target, mod, [0,1])\n",
    "    ax.set_title(name)\n",
    "plt.tight_layout()"
   ]
  },
  {
   "cell_type": "markdown",
   "id": "1081eb1b",
   "metadata": {},
   "source": [
    "The red region (on the right) is *setosa*.  The blue (top left) and gray (lower center) are the two *v* classes.  Note that the boundaries are all made with lines that are parallel to the *x* and *y* axes.  Also, I'm sneaking in a `max_depth=3` argument to the DT constructor.  For now `max_depth` is simply the maximum number of questions I can ask of any example before I classify it.  Playing twenty questions is a bit like setting the `max_depth=20` constraint.\n",
    "\n",
    "Breaking up the whole space creates a *partition*.  We predict the class of an examlpe based on the color of the region the example falls into.  Mathematically, we can write\n",
    "\n",
    "$$ target = \\Sigma_{R \\in P} C_RI (example \\in R)$$\n"
   ]
  },
  {
   "cell_type": "markdown",
   "id": "4f4168d2",
   "metadata": {},
   "source": [
    "The above equation is a very odd-looking dot product.  *R* is a region of our graph; *P* is the group of *all* regions.  Summing over all of the $R \\in P$ means we add up some values over the whole graph.  $C_R$ and $I(example \\in R)$ give us $C_R$ when an example is in *R* and give us zero everywhere else.  Together, these pieces look like $\\Sigma C_R I$ which is exactly a pretty convoluted dot product.\n",
    "\n",
    "Trees create blocky--think Legos or Tetris--regions of colored space from our features.  The partition--the shapes of the regions--is pretty constrained from one point of view.  It is made of overlaid rectangles where only the topmost rectangle counts.  Overlyaing cars as in Figure 8.4 gives us boundaries like those in Figure 8.5.  You can imagine neatly spreading out a few decks of cards on a rectangular table.  The cards are of different sizes and they must be horizontally and vertically aligned with the sides of the table.  The cards can overlap.  When cards of the same suit (clubs, hearts, diamonds, spades) are touching one another, they form a larger region of that suit.  To create those regions from points in space, we create simple yes/no answers by thresholding.  For example, we test a feature *Temp* against a value 55.  Choosing the values to split on is the trickiest aspect of implementing decision trees by hand. \n",
    "\n",
    "![](cards.jpg)"
   ]
  },
  {
   "cell_type": "markdown",
   "id": "8302238a",
   "metadata": {},
   "source": [
    "There are a number of major tree-building algorithms. ID3, C4.5, and C5.0 were made by Quinlan CART was developed independently.  In general, the tree-building algorithms use the following steps:\n",
    "\n",
    "1. Evaluate the set of features and splits and pick a 'best' feature-and-split\n",
    "2. Add a node to the tree that represents the feature-split\n",
    "3. For each descendant, work with the matching data and either:\n",
    "    1. If the targets are similar enough, return a predicted target\n",
    "    2. If not, return to step 1 and repeat\n",
    "\n",
    "Each step can be implemented and limited in different ways.  The DT algorithms control:\n",
    "1. What splits and partitions are allowed\n",
    "2. How feature-splits are evaluated\n",
    "3. What makes targets in a group similar enough to form a leaf,\n",
    "4. Other limits\n",
    "\n",
    "The other limits commonly include an absolute limit on the depth of the tree and the minimum number of examples at a leaf to make a prediction, regardless of similarity.  These constraints help prevent overfitting.  AS with identifying labels, if we can continually break down the feature space until we have single examples in each bucket, we'll get perfect training accuracy--but we'll lose generalization.  Unconstrained trees have very little bias, but they do suffer from high variance.  We'll see examples shortly."
   ]
  },
  {
   "cell_type": "code",
   "execution_count": 3,
   "id": "ff34d801",
   "metadata": {},
   "outputs": [
    {
     "data": {
      "text/plain": [
       "array([0.66, 0.66, 0.66])"
      ]
     },
     "execution_count": 3,
     "metadata": {},
     "output_type": "execute_result"
    }
   ],
   "source": [
    "dtc = tree.DecisionTreeClassifier(max_depth=1)\n",
    "skms.cross_val_score(dtc,\n",
    "                     iris.data, iris.target,\n",
    "                     cv=3, scoring='accuracy') # sorry"
   ]
  },
  {
   "cell_type": "markdown",
   "id": "b5783fc4",
   "metadata": {},
   "source": [
    "Overall, they do quite well.\n",
    "\n",
    "If we have a fit tree, we can view it graphically using one of two different methods.  The first needs an additional Python library, `pydotplus`, which you may not have installed on your computer.  The second requires an additional command-line program, `dot`, which you may have to install. `dot` is a program for drawing diagrams specified by text fieles, sort of like using HTML to specify how something looks on screen.  These outputs have a *Gini* value listed--we discuss that at the end of Chapter 13.  For now, just think of it as measuring how *pure* the class split is at that point.  If there is only one class represented, the *Gini* value is 0.0.\n",
    "\n",
    "We'll use the simplified single-class iris problem here: it only results in a single split, even if we allow the tree the freedom to grow more deeply."
   ]
  },
  {
   "cell_type": "code",
   "execution_count": 4,
   "id": "a90adcfb",
   "metadata": {},
   "outputs": [],
   "source": [
    "iris_1c_tree = (tree.DecisionTreeClassifier(max_depth=None)\n",
    "                    .fit(iris_1c_train_ftrs, iris_1c_train_tgt))"
   ]
  },
  {
   "cell_type": "code",
   "execution_count": 5,
   "id": "6a24654d",
   "metadata": {},
   "outputs": [
    {
     "data": {
      "text/plain": [
       "DecisionTreeClassifier()"
      ]
     },
     "execution_count": 5,
     "metadata": {},
     "output_type": "execute_result"
    }
   ],
   "source": [
    "iris_1c_tree"
   ]
  },
  {
   "cell_type": "code",
   "execution_count": 6,
   "id": "7160aef7",
   "metadata": {},
   "outputs": [
    {
     "name": "stderr",
     "output_type": "stream",
     "text": [
      "'[]' is not recognized as an internal or external command,\n",
      "operable program or batch file.\n"
     ]
    }
   ],
   "source": [
    "# using an additional library:\n",
    "# conda install pydotplus\n",
    "# pip install pydotplus\n",
    "\n",
    "![]"
   ]
  },
  {
   "cell_type": "code",
   "execution_count": 7,
   "id": "82557af0",
   "metadata": {},
   "outputs": [
    {
     "name": "stdout",
     "output_type": "stream",
     "text": [
      "Requirement already satisfied: pydotplus in c:\\users\\scott\\appdata\\local\\programs\\python\\python39\\lib\\site-packages (2.0.2)\n",
      "Requirement already satisfied: pyparsing>=2.0.1 in c:\\users\\scott\\appdata\\local\\programs\\python\\python39\\lib\\site-packages (from pydotplus) (2.4.7)\n"
     ]
    },
    {
     "name": "stderr",
     "output_type": "stream",
     "text": [
      "WARNING: You are using pip version 21.2.2; however, version 21.2.4 is available.\n",
      "You should consider upgrading via the 'c:\\users\\scott\\appdata\\local\\programs\\python\\python39\\python.exe -m pip install --upgrade pip' command.\n"
     ]
    }
   ],
   "source": [
    "import sys\n",
    "!{sys.executable} -m pip install --upgrade pydotplus"
   ]
  },
  {
   "cell_type": "code",
   "execution_count": 8,
   "id": "adf4edd6",
   "metadata": {},
   "outputs": [
    {
     "data": {
      "image/png": "[encoded data removed]",
      "text/plain": [
       "<IPython.core.display.Image object>"
      ]
     },
     "execution_count": 8,
     "metadata": {
      "image/png": {
       "height": 500,
       "width": 500
      }
     },
     "output_type": "execute_result"
    }
   ],
   "source": [
    "import pydotplus\n",
    "import os\n",
    "directory = 'outputs'\n",
    "\n",
    "dot_data = tree.export_graphviz(iris_1c_tree, out_file=None)\n",
    "graph = pydotplus.graph_from_dot_data(dot_data)\n",
    "\n",
    "graph.write_png('outputs/iris_1c.png')\n",
    "Image('outputs/iris_1c.png', width=500, height=500)\n"
   ]
  },
  {
   "cell_type": "code",
   "execution_count": 9,
   "id": "b821c966",
   "metadata": {},
   "outputs": [
    {
     "name": "stderr",
     "output_type": "stream",
     "text": [
      "Invalid switch - \"iris.dot\".\n"
     ]
    },
    {
     "data": {
      "image/png": "[encoded data removed]",
      "text/plain": [
       "<IPython.core.display.Image object>"
      ]
     },
     "execution_count": 9,
     "metadata": {
      "image/png": {
       "height": 500,
       "width": 500
      }
     },
     "output_type": "execute_result"
    }
   ],
   "source": [
    "# no added library to produce .dot file\n",
    "with open('outputs/iris.dot', 'w') as f:\n",
    "    dot_data = tree.export_graphviz(iris_1c_tree, out_file=f,\n",
    "                                    feature_names=iris.feature_names,\n",
    "                                    class_names=iris.target_names,\n",
    "                                    filled=True, rounded=True)\n",
    "    \n",
    "# the following '!' lines are \"shell\" commands\n",
    "# uses the 'dot' program to convert dot -> png\n",
    "!dot -Tpng outputs/iris.dot -o outputs/iris.png\n",
    "!del /f outputs/iris.dot\n",
    "\n",
    "Image('outputs/iris.png', width=500, height=500)"
   ]
  },
  {
   "cell_type": "markdown",
   "id": "4a1fc162",
   "metadata": {},
   "source": [
    "We can also get a feeling for what happens with increasing depth in a decision tree.  Let's take a look at the default tree from `DecisionTreeClassifier` and trees limited to depths 1, 2, and 3.  Remember, even at a `max_depth=2` we have three splits: one split for the root node and one split at each of the two children.  We expect to see these three splits as three cuts across our feature space.  The default setting, `max_depth=None` implies not constraining the depth at all, as if `max_depth =` $ \\infty $."
   ]
  },
  {
   "cell_type": "code",
   "execution_count": 10,
   "id": "6f4a575d",
   "metadata": {},
   "outputs": [
    {
     "data": {
      "image/png": "[encoded data removed]",
      "text/plain": [
       "<Figure size 288x288 with 4 Axes>"
      ]
     },
     "metadata": {
      "needs_background": "light"
     },
     "output_type": "display_data"
    }
   ],
   "source": [
    "fig, axes = plt.subplots(2,2,figsize=(4,4))\n",
    "\n",
    "depths = [1, 2, 3, None]\n",
    "for depth, ax in zip(depths, axes.flat):\n",
    "    dtc_model = tree.DecisionTreeClassifier(max_depth=depth)\n",
    "    # plot_boundary only uses specified columns [0,1]\n",
    "    # so we are only predicting with sepal length and width\n",
    "    plot_boundary(ax, iris.data, iris.target, dtc_model, [0,1])\n",
    "    ax.set_title('DTC (max_depth={})'.format(dtc_model.max_depth))\n",
    "    \n",
    "plt.tight_layout()"
   ]
  },
  {
   "cell_type": "markdown",
   "id": "72ca844c",
   "metadata": {},
   "source": [
    "The top-right figure has three boundary lines--cut or divisions--we expect: one between gray and red, one horizontally between gray and blue, and one vertically between gray and blue.  The two gray blue edges com from two different splits."
   ]
  },
  {
   "cell_type": "markdown",
   "id": "7ceee73d",
   "metadata": {},
   "source": [
    "### Bias and Variance in Decision Trees\n",
    "\n",
    "IF we start with a wide open, no-depth-limit tree, we'll have a model that is very flexible and can capture *any* finite pattern that doesn't have coin-flipping randomness built into it.  If we use unconstrained trees, we will likely overfit.  When we try to generalize, we have poor test performance.  How can we *bias* our trees or place limits on them to prevent overfitting? We can take several steps.\n",
    "\n",
    "1. We limit the depth of the trees. We allow fewer questions before categorizing.\n",
    "2. We can require more examples at leaves.  This constraint forces us to group together examples that might be different, since we aren't allowed to separate them.  Effectively smoothing out some of our boundaries.\n",
    "3. We can limit the number of features considered when asking questions of examples.  The constraint has the added benefit of speeding up our learning process.\n",
    "\n",
    "# 8.3 Support Vector Classifiers (SVC)\n",
    "\n",
    "A great oddity of logistic regression is that the underlying mathematics fail with perfectly separable data.  If drawing a line between the *Xs* and *Os* on paper is as simple as possible, the mathematics fall apart.  Let's look closer at the perfectly separable case.  What would *you* do with all the data falling neatly on either side of the tracks? (straight line).  Here are 3 possible lines:"
   ]
  },
  {
   "cell_type": "code",
   "execution_count": 11,
   "id": "10ac4aca",
   "metadata": {},
   "outputs": [
    {
     "data": {
      "image/png": "[encoded data removed]",
      "text/plain": [
       "<Figure size 288x216 with 1 Axes>"
      ]
     },
     "metadata": {
      "needs_background": "light"
     },
     "output_type": "display_data"
    }
   ],
   "source": [
    "fig, ax = plt.subplots(1,1,figsize=(4,3))\n",
    "\n",
    "# fancy way to get cross product of points\n",
    "left = np.mgrid[1:4.0, 1:10].reshape(2, -1).T\n",
    "right = np.mgrid[6:9.0, 1:10].reshape(2, -1).T\n",
    "\n",
    "# data points\n",
    "ax.scatter(left[:,0], left[:,1], c='b', marker='x')\n",
    "ax.scatter(right[:,0], right[:,1], c='r', marker='o')\n",
    "\n",
    "#separating lines\n",
    "ax.plot([3.5, 5.5], [1,9], 'y', label='A')\n",
    "ax.plot([4.5, 4.5], [1,9], 'k', label='B')\n",
    "ax.plot([3.5, 5.5], [9,1], 'g', label='C')\n",
    "ax.legend(loc='lower center');"
   ]
  },
  {
   "cell_type": "markdown",
   "id": "37801268",
   "metadata": {},
   "source": [
    "The line *B* is called the *maximum margin separator* between the classes."
   ]
  },
  {
   "cell_type": "code",
   "execution_count": 12,
   "id": "04e38d61",
   "metadata": {},
   "outputs": [
    {
     "data": {
      "image/png": "[encoded data removed]",
      "text/plain": [
       "<Figure size 288x216 with 1 Axes>"
      ]
     },
     "metadata": {
      "needs_background": "light"
     },
     "output_type": "display_data"
    }
   ],
   "source": [
    "fig, ax = plt.subplots(1,1,figsize=(4,3))\n",
    "\n",
    "# fancy way to get cross-product of points\n",
    "left = np.mgrid[1:4:2, 1:10].reshape(2, -1).T\n",
    "right = np.mgrid[6:9:2, 1:10].reshape(2, -1).T\n",
    "ax.scatter(left[:,0], left[:,1], c='b', marker='x')\n",
    "ax.scatter([2,2], [1,9], c='b', marker='x')\n",
    "ax.scatter(right[:,0], right[:,1], c='r', marker='o')\n",
    "ax.scatter([7,7], [1,9], c='r', marker='o')\n",
    "ax.set_xlim(0,9);"
   ]
  },
  {
   "cell_type": "markdown",
   "id": "07950266",
   "metadata": {},
   "source": [
    "We still have the outline, otherwise known as a hull, in the analogy of a hull of a ship, of our classes intact.  We can continue reducing the data we need to form the max-margin separating line.  Really, we don't need the *entire* border of both classes. Only the boundary points facing the opposing class really matter.  We can drop the non-facing points, as well.  We are left with two opposing lines of contestants facing off."
   ]
  },
  {
   "cell_type": "code",
   "execution_count": 13,
   "id": "5b36e7d5",
   "metadata": {},
   "outputs": [
    {
     "data": {
      "image/png": "[encoded data removed]",
      "text/plain": [
       "<Figure size 288x216 with 1 Axes>"
      ]
     },
     "metadata": {
      "needs_background": "light"
     },
     "output_type": "display_data"
    }
   ],
   "source": [
    "fig, ax = plt.subplots(1,1,figsize=(4,3))\n",
    "\n",
    "left = np.mgrid[3:4, 1:10].reshape(2, -1).T\n",
    "right = np.mgrid[6:7, 1:10].reshape(2, -1).T\n",
    "\n",
    "ax.scatter(left[:,0], left[:,1], c='b', marker='x')\n",
    "ax.scatter(right[:,0], right[:,1], c='r', marker='o')\n",
    "ax.set_xlim(0,9);"
   ]
  },
  {
   "cell_type": "markdown",
   "id": "f3ed9c1e",
   "metadata": {},
   "source": [
    "In essence, we can throw out a lot of our data and just focus on the points that matter.  The points that matter are called the *support vectors*.  They are basically *supporting examples*.  The heart of a SVC is to\n",
    "\n",
    "1. Find the *support vectors,* the border points \n",
    "2. Do the mathematics necessary to figure out the *maximum margin separator* between poitns.\n",
    "\n",
    "SVC try to balance off two competing concerns: getting the biggest margin between the example classes and minimizing the number of training errors.\n",
    "\n",
    "The example above had no *hard* training examples, everything fell on its own side of the tracks.  \n",
    "\n",
    "Two additional notes.  \n",
    "\n",
    "1. A big margin is good because under certain assumptions it leads to good generalization and good test set error.\n",
    "2. There are really two things that drive the need for more support vectors: additional complexity in the boundary between the classes and examples that don't play nicely with the proposed boundaries.\n",
    "\n",
    "We are talking about Support Vector Classifiers (SVCs).  Their elder sibling is Support Vector Machines (SVMs).  SVCs have some nice mathematical and practical properties:\n",
    "\n",
    "1. They are sparse, which means they focus on the hard training examples near the margin.  They adapt by storing more examples if necessay.  Contrast this with *k*-NN, which *always* needs to store *all* of the training examples to make predictions.\n",
    "2. The form of the SVC classification boundary is simple: it's a line.  The boundary can be made more complicated in a convenient way that we'll discuss when we talk about SVMs.\n",
    "3. SVCs genearlize well to novel test data because they try to leave as much cushioning between classes as possible--that's the maximum-margin principle coming to the rescue.\n",
    "4. The underlying optimization problem--finding the best line--leads to *the* best line given our constraints.  We don't get a suboptimal line.\n",
    "\n",
    "### 8.3.1 Performing SVC\n",
    "\n",
    "A few practical details that go along with using SVC:\n",
    "\n",
    "* SVCs aren't naturally suited to multiclass classification.  They are typically wrapped up in either one-versus-one (OvO) or one-versus-rest (OvR) systems.  \n",
    "    * You do not need to add this capability to SVMs.  It is done behind the scenes for you.  As of `scikit-learn` version `0.19`, the methods are all standardized on using OvR.\n",
    "    \n",
    "    * There are four ways (actually more) that we can get a SVC in `sklearn`: \n",
    "        * (1) using `LinearSVC`\n",
    "        * (2) using `SVC` with a *linear kernel*\n",
    "        * (3) using `SVC` with a *polynomial kernel* of degree 1 (in line in disguise),\n",
    "        * (4) using a `NuSVC` with a linear kernel.\n",
    "        \n",
    "    * The four methods do not necessarily lead to the *exact* same results due to mathematical, implementation, and default-argument differences.\n",
    "        * Reconciling the differences in painful\n",
    "        * Kernels are a coding detail for now.\n",
    "        \n",
    "#### 8.3.1.1 Just the Facts: Running SVCs\n",
    "\n",
    "Here, we focus on just two of the SVC options: `SVC` and `NuSVC` \n",
    "\n",
    "We get into the `nu` parameter in a moment, but we selected its value of `.9` to get a result close to that of the `SVC`.\n"
   ]
  },
  {
   "cell_type": "code",
   "execution_count": 14,
   "id": "4cdb90b1",
   "metadata": {},
   "outputs": [],
   "source": [
    "sv_classifiers = {\"SVC(Linear)\"   : svm.SVC(kernel='linear'),\n",
    "                  \"NuSVC(Linear)\" : svm.NuSVC(kernel='linear', nu=.9)}"
   ]
  },
  {
   "cell_type": "code",
   "execution_count": 15,
   "id": "541058f2",
   "metadata": {},
   "outputs": [
    {
     "data": {
      "image/png": "[encoded data removed]",
      "text/plain": [
       "<Figure size 432x216 with 2 Axes>"
      ]
     },
     "metadata": {
      "needs_background": "light"
     },
     "output_type": "display_data"
    }
   ],
   "source": [
    "fig, axes = plt.subplots(1,2,figsize=(6,3))\n",
    "for (name, mod), ax in zip(sv_classifiers.items(), axes.flat):\n",
    "    plot_boundary(ax, iris.data, iris.target, mod, [0,1])\n",
    "    ax.set_title(name)\n",
    "plt.tight_layout()    "
   ]
  },
  {
   "cell_type": "markdown",
   "id": "dae161b8",
   "metadata": {},
   "source": [
    "To get a quick glance, `SVC` and `NuSVC` are pretty similar, but the precise angles of the region boundaries are not identical. "
   ]
  },
  {
   "cell_type": "markdown",
   "id": "e846532b",
   "metadata": {},
   "source": [
    "#### 8.3.1.2 Parameters for SVCs\n",
    "\n",
    "`SVC` relies on one primary parameter, `C` to control its bias-variance tradeoff. `C` can be difficult to interpret directly. `NuSVC` solves the same task as `SVC` , but it relies on different mathematics.  We bother with it because the primary parameter for `NuSVC`, *v*--pronounced *new* and written in English as *nu*--has a simple meaning: *at least v%* of the data will be kept as a support vector.  \n",
    "\n",
    "It also has a consequence on errors, but errors on a special type: *margin errors*.  Margin errors are points that:\n",
    "\n",
    "1. Either on the wrong side of the separator (a classification error)\n",
    "2. on the correct side of the separator (correctly classified) *but* within the margin.   \n",
    "\n",
    "So, the effects of *v* is that we tolerate *at most v%* margin errors in our training data.  Under certain circumstances, margin errors increase to *v* and support vectors decrease to *v*.  \n",
    "\n",
    "Values of *v* are in the range [0, 1] which we interpret as a percent from 0% ot 100%.  While harder to interpret, `SVC` has better runtime characteristics than `NuSVC`.\n",
    "\n",
    "\n"
   ]
  },
  {
   "cell_type": "code",
   "execution_count": 16,
   "id": "a8b86369",
   "metadata": {},
   "outputs": [],
   "source": [
    "def do_linear_svc_separators(svc_maker, pname, params, ax):\n",
    "    'create svc(params) and draw separation boundary'\n",
    "    xys = (np.linspace(2,8,100),\n",
    "           np.linspace(2,8,100))\n",
    "    \n",
    "    for p in params:\n",
    "        \n",
    "        kwargs = {pname:p, 'kernel':'linear'}\n",
    "        svc = svc_maker(**kwargs).fit(ftrs, tgt)\n",
    "        # plot_separator is in mlwpy.py\n",
    "        plot_separator(svc, *xys,'{}={:g}'.format(pname, p), ax=ax)\n"
   ]
  },
  {
   "cell_type": "code",
   "execution_count": 17,
   "id": "b8538cb6",
   "metadata": {},
   "outputs": [
    {
     "data": {
      "image/png": "[encoded data removed]",
      "text/plain": [
       "<Figure size 864x288 with 3 Axes>"
      ]
     },
     "metadata": {
      "needs_background": "light"
     },
     "output_type": "display_data"
    }
   ],
   "source": [
    "ftrs = np.array([[3,3],\n",
    "                 [3,6],\n",
    "                 [7,3],\n",
    "                 [7,6], \n",
    "                 [6,3]])\n",
    "tgt = np.array([0,0,1,1,0])\n",
    "colors = np.array(['r', 'b'])\n",
    "\n",
    "Cs = [.1, 1.0, 10]\n",
    "nus = [.3, .4, .5]\n",
    "\n",
    "fig, axes = plt.subplots(1,3,figsize=(12,4),\n",
    "                         sharex=True, sharey=True)\n",
    "\n",
    "for ax in axes:\n",
    "    ax.scatter(ftrs[:,0], ftrs[:,1], c=colors[tgt])\n",
    "    \n",
    "ax.set_xlim(2,8); ax.set_ylim(2,7)\n",
    "\n",
    "do_linear_svc_separators(svm.SVC, \"C\", Cs, axes[1])\n",
    "do_linear_svc_separators(svm.NuSVC, \"nu\", nus, axes[2])\n",
    "\n",
    "axes[0].set_title(\"No Boundary\")\n",
    "axes[1].set_title(\"C Boundaries\")\n",
    "axes[2].set_title(r\"$\\nu$ Boundaries\");\n",
    "\n",
    "# the two right most points are blue\n",
    "# the remaining three points are red"
   ]
  },
  {
   "cell_type": "markdown",
   "id": "c2119be0",
   "metadata": {},
   "source": [
    "There are two take-home message here:\n",
    "\n",
    "1. A bigger *v* and a smaller *C* have approximately the same effect.  The *scales* of *v* and *C* are quite different however.\n",
    "    1. We're using orders of magnitude in *C* and we're using linear, one-tenth, steps in *v*.\n",
    "    \n",
    "2. Bigger *v* and smaller *C* can get us a SVC that to some extent *ignores* misclassificaiton.\n",
    "\n"
   ]
  },
  {
   "cell_type": "markdown",
   "id": "0733290a",
   "metadata": {},
   "source": [
    "## 8.3.2 Bias and Variance in SVCs\n",
    "\n",
    "One last set of comments is appropriate here.  Let's look at how our parameters *v* in `NuSVC` and *C* in `SVC`--relate to bias and variance.  We start by creating some data: "
   ]
  },
  {
   "cell_type": "code",
   "execution_count": 18,
   "id": "64367a86",
   "metadata": {},
   "outputs": [
    {
     "data": {
      "text/plain": [
       "array([[3, 3],\n",
       "       [3, 6],\n",
       "       [7, 3],\n",
       "       [7, 6],\n",
       "       [6, 3]])"
      ]
     },
     "execution_count": 18,
     "metadata": {},
     "output_type": "execute_result"
    }
   ],
   "source": [
    "ftrs"
   ]
  },
  {
   "cell_type": "code",
   "execution_count": 19,
   "id": "2ab4f19a",
   "metadata": {},
   "outputs": [
    {
     "data": {
      "image/png": "[encoded data removed]",
      "text/plain": [
       "<Figure size 288x216 with 1 Axes>"
      ]
     },
     "metadata": {
      "needs_background": "light"
     },
     "output_type": "display_data"
    }
   ],
   "source": [
    "ftrs, tgt = datasets.make_blobs(centers=2,\n",
    "                                n_features=3,\n",
    "                                n_samples=200,\n",
    "                                center_box = [-2, 2],\n",
    "                                random_state=1099)\n",
    "\n",
    "# note: using three features, but graphing only two dimensions\n",
    "fig, ax = plt.subplots(1,1,figsize=(4,3))\n",
    "ax.scatter(ftrs[:, 0], ftrs[:, 1],\n",
    "           marker='o', c=tgt, s=25, edgecolor='k')\n",
    "ax.axis('off');\n",
    "\n",
    "#generally the yellow class is on top\n",
    "# and the purple class is on bottom"
   ]
  },
  {
   "cell_type": "markdown",
   "id": "a73da0b2",
   "metadata": {},
   "source": [
    "Now, well look at the effect of *v*:"
   ]
  },
  {
   "cell_type": "code",
   "execution_count": 20,
   "id": "eb7ba004",
   "metadata": {},
   "outputs": [
    {
     "ename": "NameError",
     "evalue": "name 'tt' is not defined",
     "output_type": "error",
     "traceback": [
      "\u001b[1;31m---------------------------------------------------------------------------\u001b[0m",
      "\u001b[1;31mNameError\u001b[0m                                 Traceback (most recent call last)",
      "\u001b[1;32m<ipython-input-20-063a0d60263f>\u001b[0m in \u001b[0;36m<module>\u001b[1;34m\u001b[0m\n\u001b[1;32m----> 1\u001b[1;33m \u001b[0mtt\u001b[0m\u001b[1;33m\u001b[0m\u001b[1;33m\u001b[0m\u001b[0m\n\u001b[0m",
      "\u001b[1;31mNameError\u001b[0m: name 'tt' is not defined"
     ]
    }
   ],
   "source": [
    "tt"
   ]
  },
  {
   "cell_type": "markdown",
   "id": "dfa9145f",
   "metadata": {},
   "source": [
    "```python\n",
    "nus = np.linspace(0.05, 1.0, 10)\n",
    "\n",
    "tt = skms.validation_curve(svm.NuSVC(kernel='linear'),\n",
    "                           ftrs, tgt,\n",
    "                           param_name='nu',\n",
    "                           param_range=nus,\n",
    "                           cv=5)\n",
    "fig,ax = plt.subplots(1, 1,figsize=(4,3))\n",
    "ax = sns.lineplot(np.array(tt).transpose(),\n",
    "                  time=nus,\n",
    "                  condition=['Train', 'Test'],\n",
    "                  interpolate=False)\n",
    "\n",
    "ax.set_title('5-fold CV Performance for NuSVC')\n",
    "ax.set_xlabel('\\n'.join([r'$\\n$ for $\\nu$-SVC']))\n",
    "ax.set_ylim(.3, 1.01)\n",
    "ax.legend(loc='lower center');\n",
    "```\n",
    "\n",
    "![](svc.jpg)"
   ]
  },
  {
   "cell_type": "markdown",
   "id": "46d618de",
   "metadata": {},
   "source": [
    "We see that a very large *v* is awful for training and testing.  WE can't capture enough of the pattern to do anything--we are too biased.  On the other hand, decreasing *v8 lets us catpure *some* pattern--but when we go to test, we simply don't do very well.  We aren't generalizing because we have overfit the training data.  Broadly speaking a small *v* is equivalent to a large *C*, although the scales differ.\n",
    "\n",
    "\n",
    "```python\n",
    "cs = [0.0001, 0.001, 0.01, .1, 1.0, 10, 100, 1000]\n",
    "tt = skms.validation_curve(svm.SVC(kernel='linear'),\n",
    "                           ftrs, tgt,\n",
    "                           param_name='C',\n",
    "                           param_range=cs,\n",
    "                           cv=5)\n",
    "fig,ax =plt.subpltos(1,1,figsize=(4,3))\n",
    "ax = sns.tsplot(np.array(tt).transpose(),\n",
    "                time=cs,\n",
    "                condition=['Train', 'Test'],\n",
    "                interpolate=False)\n",
    "\n",
    "ax.set_title('5-fold CV Performance for SVC')\n",
    "ax.set_xlabel('\\n'.join([r'C for SVC']))\n",
    "ax.set_ylim(.8, 1.01)\n",
    "ax.set_xlim(.00001, 10001)\n",
    "ax.set_xscale('log')\n",
    "```\n",
    "\n",
    "![](SVC-2.jpg)"
   ]
  },
  {
   "cell_type": "markdown",
   "id": "92c8f21f",
   "metadata": {},
   "source": [
    "On the left, at small *C* values, both our training and testing performance is relatively poor.  On the right, at large *C*, our training performance is better than our test.  High values of *C* lead to overfitting and low values of *C* lead to underfitting.  While *C* is harder to interpret than *v*, it trades off between the complexity of our model and the errors we make.  A bigger *C* means that we care more about errors compared to complexity.  With a really big *C*, even the smallest errors matter a lot.  So we build a model with a lot of complexity to cover those errors.  We'll make our view of this tradeoff more concrete in Chapter 15."
   ]
  },
  {
   "cell_type": "markdown",
   "id": "c6a083bb",
   "metadata": {},
   "source": [
    "# 8.4 Logistic Regression\n",
    "\n",
    "Logistic regression is a linear classification technique.  It is bot a regression rechnique and a classification technique. Logistic regression is a *classification* method that uses *regression* as an internal component.  Logistic regression works in two stages: \n",
    "\n",
    "1. It computes something closely related to the probabilities of being in each target class\n",
    "2. It labels an example with the highest-probability class.\n",
    "\n",
    "The first step is a regression from the predictors to the not-quite-probabilities.  \n",
    "Next, we take a threshold against the not-quite-probabilities, or taking a maximum among several values, gives us a class.\n",
    "\n",
    "The *log-odds* are the not-quite probabilities mentioned above, which form a tight relationship between linear regression and logistic regresison.\n",
    "\n",
    "# 8.4.1 Betting Odds\n",
    "\n",
    "We deisgn a game where are probability of *winning* is 10%.  Of ten total attempts, we expect one win and nine losses.  If we create the ratio of the two numbers, we get $ \\frac{1}{9} \\approx .1111 $.  These are the *odds* of winning.  They can also be written as 1 : 9.  This, however, is *not* the *odds-ratio*: that is a *different* concept.\n",
    "\n",
    "For a given set of odds what is a *fair bet* for the odds? \n",
    "\n",
    "What amount of money do the participants wager so that in the long run, the game is fair.  \n",
    "\n",
    "We have 9 spades and 1 heart.  We shuffle and pick a card.  If it is a heart, we win, if not, the dealer wins.  How much should I and the dealer be willing to risk on the simple game if we want to have a fair outcome?\n",
    "\n",
    "What is the break-even point where we both expect to win the same amount of money?\n",
    "\n",
    "To figure out the break-even point, let's start with concrete numbers.  Here's an example where we both wager $10.\n",
    "\n",
    "$$ MyWinnings = (.1 \\times 10) + (.9 \\times -10) = 1 - 9 = -8 $$\n",
    "$$ DealerWinnings = (.9 \\times 10) + (.1 \\times -10) = 9 - 1 = 8 $$\n",
    "\n",
    "To compute this, we took the two possible outcomes, a win and a loss and combined\n",
    "\n",
    "1. the two probabilities of those outcomes (.1, .9)\n",
    "2. the two monetary results of those outcomes (10, -10)\n",
    "\n",
    "with a dot product.  Writing this out mathematically gives us $\\Sigma_{outcome}P_{outcome}\\nu_{outcome}$\n",
    "\n",
    "where p and v are the probabilities and dollar-values for each outcome.  \n",
    "\n",
    "This particular dot product is called the *expected value* of winnings when someone plays the game.\n",
    "\n",
    "Notice that since no money disappears, we have a true *zero-sum game* and our total winnings must balance out to zero.  Therefore, if we both risk an equal amount of money, we will lose money.\n",
    "\n",
    "To balance things out, I should stake *less money* than the dealer because I have lower odds of winning.  What is the break-even point for a bet?\n",
    "\n",
    "We could perform some algebra to calculate the answer, but let's do it experimentally with code.  We'll look at pairs of bets from $1 to $11 in setps of $2 and compute Mark's winnings.  We make use of two helper functions."
   ]
  },
  {
   "cell_type": "code",
   "execution_count": null,
   "id": "c8112fb9",
   "metadata": {},
   "outputs": [],
   "source": [
    "def simple_argmax(arr):\n",
    "    'helper to convert np.argmax into something usable '\n",
    "    return np.array(np.unravel_index(np.argmax(arr),\n",
    "                                     arr.shape))\n",
    "\n",
    "def df_names(df, idxs):\n",
    "    ' helper to convert number of index/column labels'\n",
    "    r,c = idxs\n",
    "    return df.index[r], df.columns[c]"
   ]
  },
  {
   "cell_type": "markdown",
   "id": "97e6e749",
   "metadata": {},
   "source": [
    "Now, we create a table of the outcomes for several combinations of betting:"
   ]
  },
  {
   "cell_type": "code",
   "execution_count": null,
   "id": "6ca898e7",
   "metadata": {},
   "outputs": [],
   "source": [
    "base_bets = np.arange(1,12,2)\n",
    "mark_bet, andy_bet = np.meshgrid(base_bets, base_bets)\n",
    "\n",
    "mark_winnings = .1 * andy_bet + .9 * -mark_bet\n",
    "\n",
    "df = pd.DataFrame(mark_winnings,\n",
    "                  index = base_bets,\n",
    "                  columns=base_bets)\n",
    "\n",
    "df.index.name = 'Andy Bet'\n",
    "df.columns.name = 'Mark Bet'\n",
    "\n",
    "print('Best Betting Scenario (for Mark) for These Values:')\n",
    "print('(Andy, Mark):', df_names(df, simple_argmax(mark_winnings)))\n",
    "\n",
    "display(df)"
   ]
  },
  {
   "cell_type": "markdown",
   "id": "2d5c333f",
   "metadata": {},
   "source": [
    "If my overall expected winnings are zero, so are the dealers.  The best outcome for me is in the lower-left corner of the table.  It occurs when I wager \\\\$1 and Andy wagers \\\\$11.  That's my lowest bet and Andy's highest bet.  Now, if Andy is willing to play a game where I bet \\\\$1 and he bets \\\\$99, things look different for me.  I win 10% of the time, so I'm looking at $.1 \\times 99 + .9 \\times -1 = 9$ If we played with these bets many times, I'd start coming out ahead.\n",
    "\n",
    "If two players had an equal probability of winning, the probabilities would be .5 each.  These correspond to an odds of 1 : 1 which we write as odds = 1.  These values are the tipping point between winning and losing.  Higher values 0.75, odds 3 : 1) make one event or winner *more* likely and the other *less* likely."
   ]
  },
  {
   "cell_type": "markdown",
   "id": "d6384641",
   "metadata": {},
   "source": [
    "## 8.4.2 Probabilities, Odds, and Log-Odds\n",
    "\n",
    "Now we understand odds.. What we care about is *log-odds*.  We start by creating a table of some probability values with corresponding odds and log-odds.  The log-odds are the mathematical logarithm applied to the odds values: log(odds)."
   ]
  },
  {
   "cell_type": "code",
   "execution_count": null,
   "id": "b7d65d34",
   "metadata": {},
   "outputs": [],
   "source": [
    "tail_probs = [0.0, .001, .01, .05, .10, .25, 1.0/3.0]\n",
    "\n",
    "lwr_probs = np.array(tail_probs)\n",
    "upr_probs = 1-lwr_probs[::-1]\n",
    "cent_prob = np.array([.5])\n",
    "\n",
    "probs = np.concatenate([lwr_probs, cent_prob, upr_probs])\n",
    "print(f'lwr_probs: {lwr_probs}')\n",
    "print(f'upr_probs: {upr_probs}')\n",
    "print(f'probs: {probs}')\n",
    "\n",
    "# much better than geterr/seterr/seterr\n",
    "with np.errstate(divide='ignore'):\n",
    "    odds  = probs / (1-probs)\n",
    "    log_odds = np.log(odds)\n",
    "    \n",
    "index=['{:4.1f}%'.format(p) for p in np.round(probs,3)*100]\n",
    "\n",
    "polo_dict = co.OrderedDict([('Prob(E)', probs),\n",
    "                            ('Odds(E:not E)', odds),\n",
    "                            ('Log-Odds', log_odds)])\n",
    "polo_df = pd.DataFrame(polo_dict, index=index)\n",
    "polo_df.index.name='Pct(%)'\n",
    "polo_df"
   ]
  },
  {
   "cell_type": "markdown",
   "id": "fe7ab1bd",
   "metadata": {},
   "source": [
    "We can change this to a graphical view, let's look at the relatoinship between probabilities and odds (expressed as fractions):"
   ]
  },
  {
   "cell_type": "code",
   "execution_count": null,
   "id": "d52c1056",
   "metadata": {},
   "outputs": [],
   "source": [
    "def helper(ax,x,y,x_name,y_name):\n",
    "    ax.plot(x,y, 'r--o')\n",
    "    ax.set_xlabel(x_name)\n",
    "    ax.set_ylabel(y_name)\n",
    "    \n",
    "# note we trim the values above 90% [index -5] b/c\n",
    "# the scale of the plots gets too compressed\n",
    "# (huh, log-scale takes care of that! funnny ....)\n",
    "\n",
    "fig, (ax0, ax1) = plt.subplots(1,2, figsize=(9,3))\n",
    "helper(ax0, probs[:-5], odds[:-5], 'probability', 'odds')\n",
    "helper(ax1, odds[:-5], probs[:-5], 'odds', 'probability')"
   ]
  },
  {
   "cell_type": "markdown",
   "id": "f669f2e2",
   "metadata": {},
   "source": [
    "and the relationship between probabilities and log-odds:"
   ]
  },
  {
   "cell_type": "code",
   "execution_count": null,
   "id": "06cb74ab",
   "metadata": {},
   "outputs": [],
   "source": [
    "fig, (ax0, ax1) = plt.subplots(1,2, figsize=(9,3))\n",
    "helper(ax0, probs, log_odds, 'probability', 'log-odds')\n",
    "helper(ax1, log_odds, probs, 'log-odds', 'probability')"
   ]
  },
  {
   "cell_type": "markdown",
   "id": "4cb09eb8",
   "metadata": {},
   "source": [
    "Looking at the first and last rows of the table, you see the extreme values for each of the probabilities, the odds, and log-odds.  The min and max probabilities correspond with events that are either impossibilities or guarantees.  Such things rarely happen."
   ]
  },
  {
   "cell_type": "markdown",
   "id": "a37e420d",
   "metadata": {},
   "source": [
    "Ranges of values:"
   ]
  },
  {
   "cell_type": "code",
   "execution_count": null,
   "id": "6c877e8f",
   "metadata": {},
   "outputs": [],
   "source": [
    "pd.DataFrame([polo_df.min(axis=0),\n",
    "              polo_df.max(axis=0)], index=['min', 'max']).T"
   ]
  },
  {
   "cell_type": "markdown",
   "id": "9a381d49",
   "metadata": {},
   "source": [
    "### 8.4.3. Just Do It: Logistic Regression Edition\n",
    "\n",
    "`sklearn` has several methods for performing logistic regression.  We call them through `LogisticRegression` and `SGDClassifier`.  \n",
    "\n",
    "In Section 4.4, we talked about four ways of picking a 'preferred' set of parameters.  The methods used by `sklearn` for logistic regressoin are smart step methods: from a starting point, make some adjustments, and repeat as necessary until the answer is *good enough*.  `SGD` stands for *Stochastic Gradient Descent* and it is one way of performing smart steps.  \n",
    "\n",
    "It makes adjustments by looking at the errors in the current guess and using those to lower the error of the next guess.  We tell `SGDClassifier` to use a *log-loss* model of the errors which gives us logistic-regression-like behavior.  Other losses lead to other classification methods.  `SGDClassifier` can handle very large problems, but it takes multiple iterations to do so and, because of its internal use of randomness, every run may result in a different answer.  With enough data and small  enough error tolerenace, `SGDClassifier` should reach, or convert to, similar answers on different run.\n",
    "\n",
    "The other logistic regression method we'll use is `LogisticRegression` with `method='saga'`.  `Saga` allows us to use a full multiclass model instead of wrapping a binary classification with a one-versus-rest."
   ]
  },
  {
   "cell_type": "code",
   "execution_count": null,
   "id": "16f1917c",
   "metadata": {},
   "outputs": [],
   "source": [
    "# Both options come with 'regularization' turned ON\n",
    "# we'll ignore that for now, but see Chapter 9 for more details\n",
    "LogReg = linear_model.LogisticRegression\n",
    "SGD = linear_model.SGDClassifier\n",
    "logreg_classifiers = {'LogReg(saga)': LogReg(solver='saga',\n",
    "                                             multi_class='multinomial',\n",
    "                                             max_iter=1000),\n",
    "                      'LogReg(SGD)' : SGD(loss='log', max_iter=1000)}\n",
    "\n",
    "fig, axes = plt.subplots(1,2,figsize=(12,4))\n",
    "axes = axes.flat\n",
    "\n",
    "for (name, mod), ax in zip(logreg_classifiers.items(), axes):\n",
    "    plot_boundary(ax, iris.data, iris.target, mod, [0,1])\n",
    "    ax.set_title(name)\n",
    "    \n",
    "plt.tight_layout()"
   ]
  },
  {
   "cell_type": "markdown",
   "id": "53db9269",
   "metadata": {},
   "source": [
    "## 8.4.4 A logistic Regression: A Space Oddity\n",
    "\n",
    "If all the data falls into two nice clusters, there are an infinite number of lines we can draw betwen the clusters.  Logistic regression has no built-in answer to pick one of the infinite alternatives.  Trying to solve a perfectly separable classification problem with LR may lead to problematic answers.  Fortunately:\n",
    "\n",
    "1. Those problems are more serious for statisticians that they are for us using logistic regression as a black-box prediction method\n",
    "2. For practical purposes in interesting problems, we never have perfectly separable data."
   ]
  },
  {
   "cell_type": "code",
   "execution_count": null,
   "id": "2c86557d",
   "metadata": {},
   "outputs": [],
   "source": [
    "fig, ax = plt.subplots(1,1,figsize=(4, 1))\n",
    "\n",
    "x = np.array([1,2,5,10]).reshape(-1, 1)\n",
    "y = ['red', 'blue', 'red', 'blue']\n",
    "ax.scatter(x,np.zeros_like(x), c=y)"
   ]
  },
  {
   "cell_type": "markdown",
   "id": "2908cfc8",
   "metadata": {},
   "source": [
    "This is a typical scenario: the two classes are intertwined.  We use a non-`sklearn` method to perform logistic regression.\n",
    "\n",
    "The method is a bit old-school, but will expose our issue clearly."
   ]
  },
  {
   "cell_type": "code",
   "execution_count": null,
   "id": "e369df43",
   "metadata": {},
   "outputs": [],
   "source": [
    "x"
   ]
  },
  {
   "cell_type": "code",
   "execution_count": null,
   "id": "df228c7e",
   "metadata": {},
   "outputs": [],
   "source": [
    "import statsmodels.api as sm\n",
    "\n",
    "#x = np.c_[x, np.ones_like(x)] # +1 trick\n",
    "tgt = (np.array(y) == 'red')\n",
    "\n",
    "# sm.Logit is statsmodel name for logistic regression\n",
    "(sm.Logit(tgt, x, method='newton')\n",
    "   .fit()\n",
    "   .predict(x))  # training predictions"
   ]
  },
  {
   "cell_type": "markdown",
   "id": "a9322166",
   "metadata": {},
   "source": [
    "Everything so far looks well behaved.  Look what happens with a seemingly minor change to the data."
   ]
  },
  {
   "cell_type": "code",
   "execution_count": null,
   "id": "5ec5b297",
   "metadata": {},
   "outputs": [],
   "source": [
    "fig, ax = plt.subplots(1,1,figsize=(4,1))\n",
    "\n",
    "x = np.array([1,4,6,10]).reshape(-1, 1)\n",
    "y = ['red', 'red', 'blue', 'blue']\n",
    "ax.scatter(x, np.zeros_like(x), c=y)"
   ]
  },
  {
   "cell_type": "code",
   "execution_count": null,
   "id": "1981029c",
   "metadata": {},
   "outputs": [],
   "source": [
    "tgt = (np.array(y) == 'red')\n",
    "\n",
    "try:\n",
    "    sm.Logit(tgt, x, method='newton').fit().predict(x) # in-sample preds\n",
    "except Exception as e:\n",
    "    print(e)"
   ]
  },
  {
   "cell_type": "markdown",
   "id": "49d1eea5",
   "metadata": {},
   "source": [
    "`Logit` is supposed to refuse to solve the problem.  It's supposed to warn there was perfect separation between the classes and there are no results to use.  The problem is that there is an infinite number of lines that we could draw and our old-school logistic regression doesn't have a built-in way to pick between them.  In turn, some methods don't do well with taht uncertainty and can give bad answers.  Hence, `Logit` is supposed to output with a *fail*."
   ]
  },
  {
   "cell_type": "markdown",
   "id": "0c1ad5b4",
   "metadata": {},
   "source": [
    "# 8.5 Discriminant Analysis\n",
    "\n",
    "*Discrimant analysis* (DA) is used to tell subtle difference that allow us to classify things.\n",
    "\n",
    "DA methods are interesting for at least three reasons:\n",
    "\n",
    "1. They have a wonderfully clear mathematic connection with Naive Bayes on continuous features (Gaussian Naive Bayes, GNB)\n",
    "2. Like GNB, discrimant analysis methods model the features and the target *together*.\n",
    "3. DA methods arise from particularly simple--or perhaps mathematically convenient--assumptions about the data.  The different DA methods make slightly different assumptions.\n",
    "\n",
    "Each DA metho works by making *assumptions* about the *true* nature of the data.  *The assumptions could be wrong*.\n",
    "\n",
    "Here are the sorts of assumptions these methods make:\n",
    "\n",
    "1. Features one and two talk to each other.  They care what class has to say.\n",
    "2. Features one and two talk to each other.  They don't care what Class has to say.\n",
    "3. Feature one doesn't talk to Feature two directly.  Anything Feature one knows comes from talking to Class.  \n",
    "4. Feature one doesn't talk to feature two, *nor* does it care what class has to say.\n",
    "\n",
    "The assumptions lead to different models.  \n",
    "\n",
    "## 8.5.1 Covariance\n",
    "\n",
    "Covariance describes one way in which the features are related--or not-- to each other.  If we are looking at physiological data on medical patients, our models might make good use of the fact that height and weight have a strong relationship.\n",
    "\n",
    "The covariance encoded the differnt ways features may metaphorically communicate with each other.\n",
    "\n",
    "Here, we are talking about the use of covariance as an internal widget of a learning machine.  Different constraints on covariance lead to different learning machines.  \n",
    "\n",
    "We start by talking about *variance*.  Remember, variance is the *sum of squared errors* of a model that predicts the mean value.\n",
    "\n",
    "$$ Var(X) = \\frac{1}{n}\\Sigma_{x \\in X} (x - \\bar{X})^2$$\n"
   ]
  },
  {
   "cell_type": "markdown",
   "id": "e594aa26",
   "metadata": {},
   "source": [
    "You might recognize a dot product in the formula for variance `var_X = dot(x-mean_X, x-mean_X) / n`  If we write the variance out as code for the sum of squared errors from the mean, it might look more familiar."
   ]
  },
  {
   "cell_type": "code",
   "execution_count": null,
   "id": "593e91b2",
   "metadata": {},
   "outputs": [],
   "source": [
    "X = np.array([1,3,5,10,20])\n",
    "n = len(X)\n",
    "\n",
    "mean_X = sum(X) / n\n",
    "errors = X - mean_X\n",
    "var_X = np.dot(errors, errors) / n\n",
    "\n",
    "fmt = 'long way: {}\\nbuilt in: {}\\n close: {}'\n",
    "print(fmt.format(var_X,\n",
    "                 np.var(X),\n",
    "                 np.allclose(var_X, np.var(X)))) # phew"
   ]
  },
  {
   "cell_type": "markdown",
   "id": "6a276c3b",
   "metadata": {},
   "source": [
    "#### 8.5.1.1 The Classic Approach"
   ]
  },
  {
   "cell_type": "markdown",
   "id": "c74db564",
   "metadata": {},
   "source": [
    "If we have two variables, we don't get quite the same easy verbal phrasing of comparing with a mean model.  Still, if I said that we take *two* models that predict the means for the two variables and *multiply* them together, you might come up with something like:\n",
    "\n"
   ]
  },
  {
   "cell_type": "markdown",
   "id": "718dd13a",
   "metadata": {},
   "source": [
    "$$ Cov(X, Y) = \\frac{1}{n} \\Sigma_{x \\in X \\\\ y \\in Y} (x - \\bar{X})(y-\\bar{Y}) $$"
   ]
  },
  {
   "cell_type": "markdown",
   "id": "9fa1f119",
   "metadata": {},
   "source": [
    "In code this looks like the following:"
   ]
  },
  {
   "cell_type": "code",
   "execution_count": null,
   "id": "31674d72",
   "metadata": {},
   "outputs": [],
   "source": [
    "X = np.array([1,3,5,10,20])\n",
    "Y = np.array([2,4,1,-2,12])\n",
    "\n",
    "mean_X = sum(X) / n\n",
    "mean_Y = sum(Y) / n\n",
    "\n",
    "errors_X = X - mean_X\n",
    "errors_Y = Y - mean_Y\n",
    "\n",
    "cov_XY = np.dot(errors_X, errors_Y) / n\n",
    "print('long way: {:5.2f}'.format(cov_XY))\n",
    "print('built in:', np.cov(X,Y,bias=True)[0,1])\n",
    "\n",
    "# note:\n",
    "# np.cov(X,Y,bias=True) gives [Cov(X,X), Cov(X,Y)\n",
    "#                              Cov(Y,X), Cov(Y,Y)]"
   ]
  },
  {
   "cell_type": "markdown",
   "id": "6eb257c5",
   "metadata": {},
   "source": [
    "Now, what happens if we ask about the covariance of a feature with itself? That means we can set *Y = X*, filling in *X* for *Y*, and we get\n",
    "\n",
    "$$ Cov(X, X) = \\frac{1}{n}\\Sigma_{x \\in X}(x - \\bar{X})(x - \\bar{X}) = \\frac{1}{n}\\Sigma_{x \\in X}(x - \\bar{X})^2 = Var(X) $$ "
   ]
  },
  {
   "cell_type": "markdown",
   "id": "e6fba320",
   "metadata": {},
   "source": [
    "The variance is always positive (strictly speaking, it can also be zero).  The covariance is a bit different.  The individual terms in the covariance sum will be positive if *both x* and *y* are greater than their means *or* if *both x* and *y* are less than their means.  \n",
    "\n",
    "If they are on different sides of their means (say, $x \\gt \\bar{X}$ and $y \\lt \\bar{Y}$), the sign of *that term* will be negative.  Overall, we could have a bunch of negative terms or a bunch of positive terms or a mix of the two.  The overall covariance could be positive or negative, close to zero or far away. \n",
    "\n",
    "![](quads.jpg)"
   ]
  },
  {
   "cell_type": "markdown",
   "id": "2e66466f",
   "metadata": {},
   "source": [
    "#### 8.5.1.2 An Alternative Approach\n",
    "\n",
    "There is a different, but equivalent formula for the covariance, giving us some insight into what the covariance represents.  \n",
    "\n",
    "Basically we take all the unique paris of *X* values, compute the difference between them, and square them.  Then, we add those values up.  For the variance, that looks like:"
   ]
  },
  {
   "cell_type": "code",
   "execution_count": null,
   "id": "9ffa4806",
   "metadata": {},
   "outputs": [],
   "source": [
    "var_x = 0\n",
    "n = len(X)\n",
    "for i in range(n):\n",
    "    for j in range(i, n): # rest of Xs\n",
    "        var_x += (X[i] - X[j])**2\n",
    "print('Var(X):', var_x / n**2)        "
   ]
  },
  {
   "cell_type": "markdown",
   "id": "663a4e70",
   "metadata": {},
   "source": [
    "The value we calculated is the same as the one we got earlier.  You might notice some ugliness in the Python code: we used indexing to access the `X[i]` values.  We didn't use direct iteration over `X`.  We fix that in a minute.\n",
    "\n",
    "Here's the equivalent snippet for covariance.  We'll take *X* and *Y* values for each pair of features and do a similar computation.  We take the differences and multiply them; then we add up all of those terms."
   ]
  },
  {
   "cell_type": "code",
   "execution_count": null,
   "id": "250ca232",
   "metadata": {},
   "outputs": [],
   "source": [
    "cov_xy = 0\n",
    "for i in range(len(X)):\n",
    "    for j in range(i, len(X)): # rest of Xs, Ys\n",
    "        cov_xy += (X[i] - X[j])*(Y[i]-Y[j])\n",
    "print('Cov(X,Y):', cov_xy / n**2)        "
   ]
  },
  {
   "cell_type": "markdown",
   "id": "a6086b3c",
   "metadata": {},
   "source": [
    "LEt's look at the *formulas* for the alternate forms of the covariance.  They assume we keep our *X* and *Y* values in order and use subscripts to access them.  \n",
    "\n",
    "$$ Var(X) = \\frac{1}{n^2}\\Sigma_i\\Sigma_{j \\gt i}(x_i - x_j)^2 $$\n",
    "$$ Cov(X, Y) = \\frac{1}{n^2}\\Sigma_i\\Sigma_{j \\gt i}(x_i - x_j)(y_i - y_j) $$\n",
    "$$ = \\frac{1}{2n^2}\\Sigma_{i,j}(x_i - x_j)(y_i - y_j) $$"
   ]
  },
  {
   "cell_type": "markdown",
   "id": "9e2c506b",
   "metadata": {},
   "source": [
    "If you look at the subscripts, you notice the are trying to avoid each other.  The purpose of $ j \\gt i $ is to say, \"I want *different* pairs of *x*s and *y*s\" I don't want to double-count things.  When we take that out, in the last equeation, we *do* double-count in the sum so we have to *divide by two* to get back to the correct answer.  The benefit of the last form is that we can simply add up over *all* the pairs of *x*s and then fix up the result.  There is a cost, though: we are adding in things we will just discard momentarily.  However, we will fix that too.\n",
    "\n"
   ]
  },
  {
   "cell_type": "code",
   "execution_count": null,
   "id": "a2b7be2e",
   "metadata": {},
   "outputs": [],
   "source": [
    "cov_XY = 0.0\n",
    "xy_pairs = it.product(zip(X,Y), repeat=2)\n",
    "for (x_i, y_i), (x_j, y_j) in xy_pairs:\n",
    "    cov_XY += (x_i - x_j) * (y_i - y_j)\n",
    "print('Cov(X,Y):', cov_XY / (2 * n**2))   "
   ]
  },
  {
   "cell_type": "markdown",
   "id": "59ce8ad8",
   "metadata": {},
   "source": [
    "We can do even better. `it.product` takes the complete element-by-element pairing of all the `zip(X,Y)` pairs. (Yes, that's pairs of pairs). `it.combinations` can ensure we use one, and only one, copy of each pair against another.  Doing this saves us $\\frac{1}{2}$ of the reps through our loop. So here, we do not have to divide by two."
   ]
  },
  {
   "cell_type": "code",
   "execution_count": null,
   "id": "77669f41",
   "metadata": {},
   "outputs": [],
   "source": [
    "cov_XX = 0.0\n",
    "for x_i, x_j in it.combinations(X, 2):\n",
    "    cov_XX += (x_i - x_j)**2\n",
    "print('Cov(X,X) == Var(X):', cov_XX / (n**2))"
   ]
  },
  {
   "cell_type": "code",
   "execution_count": null,
   "id": "a853ae90",
   "metadata": {},
   "outputs": [],
   "source": [
    "cov_XY = 0.0\n",
    "for (x_i, y_i), (x_j,y_j) in it.combinations(zip(X,Y), 2):\n",
    "    cov_XY += (x_i - x_j) * (y_i - y_j)\n",
    "print('Cov(X,Y):', cov_XY / (n**2))    "
   ]
  },
  {
   "cell_type": "markdown",
   "id": "2554c715",
   "metadata": {},
   "source": [
    "Looking at the formula $\\frac{1}{2n^2}\\Sigma_{i,j}(x_i - x_j)(y_i - y_j)$, we can deduce that the dovariance is simply a *sum of areas of rectangles* or a *sum product of distances*.  The covariance is very closely related to the sum of areas created by looking at each pair of points as corners of a rectangle.\n",
    "\n",
    "$c_{magic}$ is $\\frac{1}{2n^2}$.  If there were *n* terms being added up and we had $\\frac{1}{n}$, we'd be talking about the *average* area.  The squared value, $\\frac{1}{n^2}$ coomes from the double summation.  Looping from `i` from `1` to `n` and `j` from `1` to `n` means we have $n^2$ total pieces.  Averaging means we divide by $n^2$.  The $\\frac{1}{2}$ comes from not wanting to double-count rectangles.  If we conclude that $c_{magic} = \\frac{1}{2n^2}$, the covariance is simply the average area of the rectangles defined by all pairs of points.  The area is *signed*, is has a + or a -, depending on whether the line connecting the points is pointed up or down as it moves left-to-rgith.  The idea of a *signed area* an rea with a sign attached to it is explored in the graphics that follow.\n"
   ]
  },
  {
   "cell_type": "markdown",
   "id": "1bcd2625",
   "metadata": {},
   "source": [
    "#### 8.5.1.3 Visualizing Covariance\n",
    "\n",
    "Let's visualize what is going on with rectangle areas and covariances.  If we think of covariance as areas of rectangles, let's *draw* these rectangles.  We use a simple example with three data points and two features.  We'll draw the diagonal of each of the three rectangles and color in the total contributions at each region of the grid.  Red indicates a positive overall covariance; blue indicates a negative covariance.  Darker colors indicate more covariance in either the positive or negative direction: lighter colors, leading to white, indicate a lack of covariance.  Our technique to get the coloring right is to:\n",
    "\n",
    "1. build a NumPy `array` with the proper values and \n",
    "2. use matplotlib's `matshow`, matrix show, to display that matrix.\n",
    "\n",
    "We have a few helpers for 'drawing' the rectangles.  I use scare-quotes because we are *really* filling in values in an array.  Later, we'll use that array for that actual drawing."
   ]
  },
  {
   "cell_type": "code",
   "execution_count": null,
   "id": "00cae17a",
   "metadata": {},
   "outputs": [],
   "source": [
    "# color coding\n",
    "# -inf -> 0; - -> .5; inf -> 1\n",
    "# slowly at the tails; quickly in the middle (near 0)\n",
    "def sigmoid(x):\n",
    "    return np.exp(-np.logaddexp(0, -x))\n",
    "\n",
    "# to get the colors we need, we have to build a raw array\n",
    "# with the correct values; we are really 'drawing'\n",
    "# inside a numpy array, not on the screen\n",
    "def draw_rectangle(arr, pt1, pt2):\n",
    "    (x1,y1),(x2,y2) = pt1,pt2\n",
    "    delta_x, delta_y = x2-x1, y2-y1\n",
    "    r,c = min(y1,y2), min(x1,x2) # x,y -> r,c\n",
    "    # assign +/- 1 to each block in the rectangle.\n",
    "    # total summation value equals area of rectangle (signed for up/down)\n",
    "    arr[r:r+abs(delta_y),\n",
    "        c:c+abs(delta_x)] += np.sign(delta_x * delta_y)"
   ]
  },
  {
   "cell_type": "markdown",
   "id": "f1580bcc",
   "metadata": {},
   "source": [
    "Now, we create our three data points and 'draw'--fill in the array--the three rectangles that the points define:"
   ]
  },
  {
   "cell_type": "code",
   "execution_count": null,
   "id": "3c676038",
   "metadata": {},
   "outputs": [],
   "source": [
    "pts = [(1,1), (3,6), (6,3)]\n",
    "pt_array = np.array(pts, dtype=np.float64)\n",
    "\n",
    "# the array we are 'drawing' on:\n",
    "draw_arr = np.zeros((10,10))\n",
    "ct = len(pts)\n",
    "c_magic = 1 / ct**2 # without double counting\n",
    "\n",
    "# we use the clever don't-double-count method\n",
    "for pt1, pt2 in it.combinations(pts, 2):\n",
    "    draw_rectangle(draw_arr, pt1, pt2)\n",
    "\n",
    "draw_arr *= c_magic\n"
   ]
  },
  {
   "cell_type": "code",
   "execution_count": null,
   "id": "66c9f592",
   "metadata": {},
   "outputs": [],
   "source": [
    "# display the array we drew\n",
    "from matplotlib import cm\n",
    "fig, ax = plt.subplots(1,1,figsize=(4,3))\n",
    "ax.matshow(sigmoid(draw_arr), origin='lower', cmap=cm.bwr, vmin=0, vmax=1)\n",
    "fig.tight_layout()\n",
    "\n",
    "# show a diagonal across each rect.\n",
    "# the array elements are centered in each grid square\n",
    "ax.plot([ .5, 2.5],[ .5, 5.5], 'r')  # from 1,1 to 3,6\n",
    "ax.plot([ .5, 5.5],[ .5, 2.5], 'r') # from 1,1 to 6,3\n",
    "ax.plot([2.5, 5.5],[5.5, 2.5], 'b'); # from 3,6 to 6,3"
   ]
  },
  {
   "cell_type": "markdown",
   "id": "a37209e6",
   "metadata": {},
   "source": [
    "The graphic represents three datapoints defined by two features each."
   ]
  },
  {
   "cell_type": "code",
   "execution_count": null,
   "id": "3b4e5796",
   "metadata": {},
   "outputs": [],
   "source": [
    "np_cov = np.cov(pt_array[:,0], pt_array[:,1], bias=True)[0,1]\n",
    "print('Cov(x,y) - from numpy: {:4.2f}'.format(np_cov))\n",
    "\n",
    "# show the covariance, as calculated from our drawing\n",
    "print('Cov(x,y) - our long way: {:4.2f}'.format(draw_arr.sum()))"
   ]
  },
  {
   "cell_type": "markdown",
   "id": "c61c7ca1",
   "metadata": {},
   "source": [
    "In the diagram, red indicates a *positive* relationship between two data points: as *x* goes up, *y* goes up.  If I flip the points and draw the line backwards, this is the same as saying as *x* goes down, *y* goes down.  In either case, the *sign* of the terms is the same.  Reds contribute to a positive covariance.  On the other hand, blues indicate an opposing relationship between *x* and *y*: *x* up, *y* down or *x* down, *y* up.  The intensity of the color indicates the strength of the positive or negative relationship for teh two po8ints that define that rectanble.  The total covariance for the pair of points is divided equally among the squares of the rectangle.  To get the final color, we add up all the contributions we've gotten along the way.  Dark red is a big positive contribution, light blue is a small negative contribution.  Pure white is a zero contribution. Finally, we divide by the number of points squared.\n",
    "\n",
    "Here's what the raw numbers look like.  The value in a grid square is precisely what controls the color in that grid square.\n"
   ]
  },
  {
   "cell_type": "code",
   "execution_count": null,
   "id": "ee6eae3f",
   "metadata": {},
   "outputs": [],
   "source": [
    "plt.figure(figsize=(4.5,4.5))\n",
    "hm = sns.heatmap(draw_arr, center=0,\n",
    "                 square=True, annot=True,\n",
    "                 cmap='bwr', fmt='.1f')\n",
    "hm.invert_yaxis()\n",
    "hm.tick_params(bottom=False, left=False)"
   ]
  },
  {
   "cell_type": "markdown",
   "id": "aeebb701",
   "metadata": {},
   "source": [
    "Our discussion has been limited to the covariance between two features: *X* and *Y*.  In our datasets, we might have amny features--*X, Y, Z, ...* so we can have covariances between all pairs of features: Cov(X, Y), Cov(X, Z), Cov(Y, Z), and so on.  The covariance formula for two features relied on calculations between pairs of data points $\\{(x_1, y_1), (x_2, y_2)\\}$ for those two features.  Wehn we talk about *all* the covariances, we are talking about the relationships between all pairs of features and we need to record them in a table of some sort.  The table is called a *covariance matrix*.  It is simply a table listing the covariances--the average sums of rectangle areas--between different pairs of variables.  The covariance between *X* and *Y* is the same as the covariance between *Y* and *X*, so the table is going to have repeated entries.\n",
    "\n",
    "Here's an example that has relatively little *structure* in the data.  When we look at the covariance matrix, there's aren't too many patterns in it.  But there is one."
   ]
  },
  {
   "cell_type": "code",
   "execution_count": null,
   "id": "f7d3aedf",
   "metadata": {},
   "outputs": [],
   "source": [
    "data = pd.DataFrame({'X':[ 1, 3, 6],\n",
    "                     'Y':[ 1, 6, 3],\n",
    "                     'Z':[10, 5, 1]})\n",
    "data.index.name = 'examples'\n",
    "\n",
    "# it's not critical to these examples, but Pandas' cov is\n",
    "# 'unbiased' and we've been working with 'biased' covariance\n",
    "# see EOC notes for details\n",
    "display(data)\n",
    "print('Covariance:')\n",
    "display(data.cov())"
   ]
  },
  {
   "cell_type": "markdown",
   "id": "60e12be5",
   "metadata": {},
   "source": [
    "The elements are mirroed across the main diagonal.  *all* covariance matrices are *symmetric*.  Cov(*X, Y*) = Cov(*Y, X*) for all pairs of features.  Both *X* and *Y* have the *same* variance.  It shows up as Cov(*X, X*) and Cov(*Y, Y*). \n",
    "\n",
    "Now' let's imagine that our features are not directionally related to each other.  There's no set pattern: as one goes up, the other goes either up *or* down.  We might be trying to relate three measures we don't expect to be related at all: height, SAT scores, and love of abstract art.  We get something like this:"
   ]
  },
  {
   "cell_type": "code",
   "execution_count": null,
   "id": "efa74212",
   "metadata": {},
   "outputs": [],
   "source": [
    "data = pd.DataFrame({'x':[ 3, 6, 3, 4],\n",
    "                     'y':[ 9, 6, 3, 0],\n",
    "                     'z':[ 1, 4, 7, 0]})\n",
    "data.index.name = 'examples'\n",
    "display(data)\n",
    "print('Covariance:')\n",
    "display(data.cov()) #biased covariance, see EOC"
   ]
  },
  {
   "cell_type": "markdown",
   "id": "3c16c27b",
   "metadata": {},
   "source": [
    "The data numbers don't *look* so special, but that's a weird covariance matrix.  What's going on here? Let's plot the data values:"
   ]
  },
  {
   "cell_type": "code",
   "execution_count": null,
   "id": "b4c486ad",
   "metadata": {},
   "outputs": [],
   "source": [
    "fig, ax = plt.subplots(1,1,figsize=(4,3))\n",
    "data.plot(ax=ax)\n",
    "ax.vlines([0,1,2,3], 0, 10, colors='.5')\n",
    "\n",
    "ax.legend(loc='lower center', ncol=3)\n",
    "\n",
    "plt.box(False)\n",
    "ax.set_xticks([0,1,2,3])\n",
    "ax.set_ylabel('values')"
   ]
  },
  {
   "cell_type": "markdown",
   "id": "b84281d0",
   "metadata": {},
   "source": [
    "We see that we never get a *consistent* pattern.  It is never as simple as 'if *X* goes up, *Y* goes up.  The data is constructed is such as way so that not only are the covariances low, they cancel out more or less exactly.  All of the off-diagonal covariances in the matrix are zero.  The only non-zero entries are on the *diagonal* of the table.  This *diagonal* is called the *diagonal covariance matrix*.  *X, Y,* and *Z* all have their *own* variance, but they have no pairwise covariance.  IF their own variances were zero, that would mean the *sum of rectangle sizes* was zero.  \n",
    "\n",
    "That only happens if all the values are the same (e.g., x_1 = x_2 = x_3 = 42.314.  The not-quite-a-rectangle we construct from these *xs* would be a single point with no length or width.\n",
    "\n",
    "All of this discussion has been about one covariance matrix.  In a few minutes, we talk about how that matrix influences our DA methods.  But we can't always rely on one matrix to carry all of the information we need.  With multiple classes, we have two scenarios: one where there is a single covariance matrix that is the same for every class: one covariance is enough to describe everything.  The second case is where we need a different covariance matrix for each class.  We ignore middle ground and either have one matrix overall or have one for each class.\n",
    "\n",
    "Let's summarize what we learned about covariance.  In one interpretation, the covariance simlpy averages the sizes of pairwise rectangles constructed from two features.  Bigger rectangles mean bigger values.  If the rectangle is built by moving up-and-right, its value is positive.  If a pair of features moves essentially independently of each other--any coordinated increase is always offset by a corresponding decrease--the covariance is zero.\n",
    "\n"
   ]
  },
  {
   "cell_type": "markdown",
   "id": "47bc0ade",
   "metadata": {},
   "source": [
    "### 8.5.2 The Methods\n",
    "\n",
    "Now, we can talk about the differences between the four variations of discriminant analysis (DA): QDA, LDA, GNB, and DLDA.  *Q* stands for quadratic, *L* stands for linear, *DL* stands for diagonal linear, and GNB is our old friend Gaussian Naive Bayes: Naive Bayes on smoothly valued features.  \n",
    "\n",
    "These techniques make different *assumptions* about the covariances--the average rectangle sizes we dove into above.  \n",
    "\n",
    "1. QDA *assumes* that covariances between different features are *unconstrained*.  There can be class-wise differences between the covariance matrices.\n",
    "2. LDA adds a constraint.  It says that the covariances between features are all *the same* regardless of the *target classes.*  LDA assumes that regardless of target class, the same covariance matrix does a good job describing the data.  The entries in the single matrix are unconstrained.\n",
    "3. GNB *assumes* something different: it says that the covariances between *distinct* features--for example, Feature One and Feature Two--are all zero.  The covariance matrices have entries on their main diagonal and zeros *everywhere else.* GNB assumes that pairs of features are independent within that class--whihc leads to a Feature One versus Feature Two covariance of zero.\n",
    "4. DLDA combines LDA and GNB: the covariances are *assumed* to be the same for each class--there's only one covariance matrix--*and* Cov(X, Y) is zero between pairs of nonidentical features $(X \\ne Y).$ \n"
   ]
  },
  {
   "cell_type": "markdown",
   "id": "bc153eba",
   "metadata": {},
   "source": [
    "It is an assumption of the method, *not necessarily* the state of the world that produced the data.  \n",
    "\n",
    "1. QDA: possibly different covariance matrices per class,\n",
    "2. LDA: same covariance matrix for all classes,\n",
    "3. GNB: different diagonal covariance matrices per class,\n",
    "4. DLDA: same diagonal covariance matrix for all classes\n",
    "\n",
    "Let's make the idea of *classwise covariance matrices* and *different covariance matrices per class* concrete.  Suppose we have a table of data with measurements on cats and dogs.  The target class is whether we have a cat or dog.  The features are length and weight.  There are two ways to calculate the *variance* of the weights: either calculate the variance over *all* of the pets at once or calculate the variance over the cats and dogs *separately* so we keep track of two values.\n",
    "\n",
    "Calculating over *all* is similar to what we do with covariance in LDA and DLDA.  Calculating separately per cats and dogs is what we do with covariance QDA and GNB.  That is, in LDA and DLDA we calculate the covariance of length and weight over cats and dogs *together*; in QDA and GNB, we calculate the covariances *separately* for each pet type.\n",
    "\n",
    "| **Abreviation** | **Name** | **Assumptions** | **Description** |\n",
    "| --- | --- | --- | --- |\n",
    "| QDA | Quadratic Discriminant Analysis | any $\\Sigma c$ | per class, arbitrary CM |\n",
    "| LDA | Linear Discriminant Analysis | $\\Sigma c = \\Sigma$ | shared, arbitrary CM |\n",
    "| GNB | Gaussian Naive Bayes | $\\Sigma c = diag_c$ | per class, diagonal CM |\n",
    "| DLDA | Diagonal LDA | $\\Sigma c = diag$ | shared, diagonal CM | "
   ]
  },
  {
   "cell_type": "markdown",
   "id": "171263b1",
   "metadata": {},
   "source": [
    "# 8.5.3 Performing DA\n",
    "\n",
    "Let's look at the operation of the DA methods.  We do a simple train-test split and look at the confusion matrices from each of the four methods.\n"
   ]
  },
  {
   "cell_type": "code",
   "execution_count": 22,
   "id": "6e605707",
   "metadata": {},
   "outputs": [
    {
     "data": {
      "image/png": "[encoded data removed]",
      "text/plain": [
       "<Figure size 324x324 with 8 Axes>"
      ]
     },
     "metadata": {
      "needs_background": "light"
     },
     "output_type": "display_data"
    }
   ],
   "source": [
    "from mlwpy import *\n",
    "\n",
    "qda  = discriminant_analysis.QuadraticDiscriminantAnalysis()\n",
    "lda  = discriminant_analysis.LinearDiscriminantAnalysis()\n",
    "nb   = naive_bayes.GaussianNB()\n",
    "dlda = DLDA() # from mlwpy.py\n",
    "\n",
    "da_methods = [qda, lda, nb, dlda]\n",
    "names = ['QDA', 'LDA', 'NB', 'DLDA']\n",
    "\n",
    "fig, axes = plt.subplots(2,2,figsize=(4.5, 4.5),\n",
    "                         sharex=True, sharey = True)\n",
    "for ax, model, name in zip(axes.flat, da_methods, names):\n",
    "    preds = (model.fit(iris_train_ftrs, iris_train_tgt)\n",
    "                  .predict(iris_test_ftrs))\n",
    "    cm = metrics.confusion_matrix(iris_test_tgt, preds)\n",
    "    sns.heatmap(cm, annot=True, cbar=True, ax=ax)\n",
    "    ax.set_title(name)\n",
    "    \n",
    "axes[0,0].set_ylabel('Actual')\n",
    "axes[1,0].set_xlabel('Predicted');"
   ]
  },
  {
   "cell_type": "markdown",
   "id": "d66d4882",
   "metadata": {},
   "source": [
    "Be wary of reading too much into the differences here because they are not substantial.  There seems to be something to LDA as a sweet spot of the assumptions--based on Occam's razor, we make the *fewest* assumptions and get the job done.  LDA performs the best and makes the fewest assumptions.  \n",
    "\n",
    "There is some variation in the results when rerunning with multiple train-test split.  Therefore, LDA is not necessarily always going to be the best.  However, in the larger problem, it is worthwhile exploring in more detail.  Let's look at the borders the methods create."
   ]
  },
  {
   "cell_type": "code",
   "execution_count": 23,
   "id": "902af739",
   "metadata": {},
   "outputs": [
    {
     "data": {
      "image/png": "[encoded data removed]",
      "text/plain": [
       "<Figure size 324x324 with 4 Axes>"
      ]
     },
     "metadata": {
      "needs_background": "light"
     },
     "output_type": "display_data"
    }
   ],
   "source": [
    "fig, axes = plt.subplots(2,2,figsize=(4.5, 4.5))\n",
    "axes = axes.flat\n",
    "\n",
    "for model, ax, name in zip(da_methods, axes, names):\n",
    "    # plot boundary only uses the specified (two) dimensions to predict\n",
    "    plot_boundary(ax, iris.data, iris.target, model, [0,1])\n",
    "    ax.set_title(name)\n",
    "plt.tight_layout()    "
   ]
  },
  {
   "cell_type": "markdown",
   "id": "7f81faa3",
   "metadata": {},
   "source": [
    "Both QDA and GNB have nonlinear boundaries, they curve a bit. LDA and DLDA both have linear borders between the classes."
   ]
  },
  {
   "cell_type": "markdown",
   "id": "3568d5c0",
   "metadata": {},
   "source": [
    "# 8.6 Assumptions, Biases, and Classifiers\n",
    "\n",
    "In two dimensions, such as a *xy*-graph, we can draw a line and break the plane of the graph into two havles.  This idea also applies in higher dimensions.  WE can split a 3D space with a 2D thing: a plane.  We can repeat the same process in higher and higher dimensions--even when we can't really draw or conceive of these things with our intuition. \n",
    "\n",
    "The line, the plane, and their higher-dimension cousins are all *linear forms* in a specific mathematical sense.  They are simple, straight ahead, without wiggles.  If we need wiggles, like curves, parabolas, or circle, these forms take us to the realm of *nonlinear* techniques.  Nearest neighbors and decision trees capture relationships that are more wiggly than linear forms allow. Most techniques, including linear regression, logistic regression, and SVCs, can be extended to deal with nonlinear data.  We do this by replacing the notion of similarity rooted in the covariance matrix with another called a *kernel*.  Kernels are discussed in detail in Section 13.2.\n",
    "\n",
    "We moved from a very unbiased classifier--decision trees--through a variety of classifiers that make primarily linear borders (although GNB and QDA allow curved boundaries).  Here's how DTs and SVCs treat a simple example (is $y \\gt x$):"
   ]
  },
  {
   "cell_type": "code",
   "execution_count": 28,
   "id": "6e338c4c",
   "metadata": {},
   "outputs": [
    {
     "data": {
      "image/png": "[encoded data removed]",
      "text/plain": [
       "<Figure size 648x216 with 3 Axes>"
      ]
     },
     "metadata": {
      "needs_background": "light"
     },
     "output_type": "display_data"
    }
   ],
   "source": [
    "ftrs = np.mgrid[1:10, 1:10].T.reshape(-1, 2)\n",
    "tgt = ftrs[:,0] > ftrs[:,1]\n",
    "\n",
    "fig, axes = plt.subplots(1,3,figsize=(9,3))\n",
    "axes = axes.flat\n",
    "\n",
    "svc = svm.SVC(kernel='linear')\n",
    "dt_shallow = tree.DecisionTreeClassifier(max_depth=3)\n",
    "dt_deep = tree.DecisionTreeClassifier()\n",
    "models = [svc, dt_shallow, dt_deep]\n",
    "\n",
    "for model, ax in zip(models, axes):\n",
    "    # plot boundary only uses the specified (two) dimensions to predict\n",
    "    plot_boundary(ax, ftrs, tgt, model, [0,1])\n",
    "    ax.set_title(get_model_name(model))\n",
    "plt.tight_layout()    "
   ]
  },
  {
   "cell_type": "markdown",
   "id": "6fb6d60e",
   "metadata": {},
   "source": [
    "The first decision tree is hampered by the fact that we only allowed it to make a few splits in the middle pane.  As we let it ask more and more questions, `max_depth` gets larger.  Unlike logistic regression and the various discriminant analysis methods, SVCs don't have any underlying notion of probability built into them, making them *different* from DAs.  If data happens to fall into the feature-wise independence assumption (i.e., the diagonal covariance matrix of GNB), then GNB is going to be the best model.\n",
    "\n",
    "However, we never *know* ahead of time what assumptions will hold.  We apply a modeling method, like GNB, that comes with assumptions.  The better the assumptions line up with reality (i.e., the data), the better the method will do on that problem.  If the assumptions are met, we'd prefer GNB and we'd probably see it perform better classification.  If the assumptions are not met by reality, we can fall back to SVC.  From a certain perspective, SVCs make the fewest assumptions of the three models (the DA methods, logistic regression, and SVCs), so they are the most flexible.  Still, the other methods may do better when the assumptions are met.\n",
    "\n",
    "As we move from SVCs to logistic regression to DA, we move from \n",
    "\n",
    "1. minimal assumptions about the data to \n",
    "2. a primitive data model taht relates features and targets to\n",
    "3. varying degrees of assumptions about how the features are distributed, their relationships to the target, and the base rates of the targets.\n",
    "\n",
    "Logistic regression attempts to capture the relationship between the inputs and the output.  It captures the probability of the output given what we know about the inputs.  However, it ignores any self-contained information from the target class.  For example, it ignores knowledge from the data that a particular disease is very rare.  \n",
    "\n",
    "In contrast, the discriminant analysis methods model both a relationship between inputs and outputs *and* the base probabilities of the outputs.  Particularly, they capture:\n",
    "\n",
    "1. The probability of the inputs given what we know about an output *and*\n",
    "2. stand-alone information about the output\n",
    "\n",
    "The notes at the EOC explain this in more depth.\n"
   ]
  },
  {
   "cell_type": "markdown",
   "id": "b05422d0",
   "metadata": {},
   "source": [
    "# Comparison of Classifiers: Take Three\n",
    "\n",
    "With significant new tools in our classificaiton toolbox, let's attack a problem a bit more difficult than the irises.\n",
    "\n",
    "## 8.7.1 Digits\n",
    "\n",
    "We'll make use of the *digits* dataset in `sklearn`."
   ]
  },
  {
   "cell_type": "code",
   "execution_count": 29,
   "id": "ca960718",
   "metadata": {},
   "outputs": [],
   "source": [
    "digits = datasets.load_digits()"
   ]
  },
  {
   "cell_type": "markdown",
   "id": "664547d6",
   "metadata": {},
   "source": [
    "The data represents simple images of handwritten digits.  For example, the first digit is:"
   ]
  },
  {
   "cell_type": "code",
   "execution_count": 31,
   "id": "d8ce7ef5",
   "metadata": {},
   "outputs": [
    {
     "name": "stdout",
     "output_type": "stream",
     "text": [
      "Shape: (8, 8)\n"
     ]
    },
    {
     "data": {
      "text/plain": [
       "<matplotlib.image.AxesImage at 0x2472e740b80>"
      ]
     },
     "execution_count": 31,
     "metadata": {},
     "output_type": "execute_result"
    },
    {
     "data": {
      "image/png": "[encoded data removed]",
      "text/plain": [
       "<Figure size 216x216 with 1 Axes>"
      ]
     },
     "metadata": {
      "needs_background": "light"
     },
     "output_type": "display_data"
    }
   ],
   "source": [
    "print('Shape:', digits.images[0].shape)\n",
    "plt.figure(figsize=(3,3))\n",
    "plt.imshow(digits.images[0], cmap='gray')"
   ]
  },
  {
   "cell_type": "markdown",
   "id": "38f90f98",
   "metadata": {},
   "source": [
    "And it has a target value of:"
   ]
  },
  {
   "cell_type": "code",
   "execution_count": 32,
   "id": "c3ca53d9",
   "metadata": {},
   "outputs": [
    {
     "data": {
      "text/plain": [
       "0"
      ]
     },
     "execution_count": 32,
     "metadata": {},
     "output_type": "execute_result"
    }
   ],
   "source": [
    "digits.target[0]"
   ]
  },
  {
   "cell_type": "markdown",
   "id": "42b7ab1a",
   "metadata": {},
   "source": [
    "The dataset comes in two forms. One (`digits.images`) is appropriate for display purposes; We used it above.  The other (`digits.data`) is appropriate for use in learning.  That form is a flattened row of the informatoin in the square $64 \\times 64$ images.\n",
    "\n",
    "Now we can build our learning problem."
   ]
  },
  {
   "cell_type": "code",
   "execution_count": 35,
   "id": "42df5a64",
   "metadata": {},
   "outputs": [],
   "source": [
    "classifier_parade = \\\n",
    "    {'LogReg(1)' : linear_model.LogisticRegression(max_iter=1000),\n",
    "     'LogReg(2)' : linear_model.SGDClassifier(loss='log',\n",
    "                                              max_iter=1000),\n",
    "     'QDA' : discriminant_analysis.QuadraticDiscriminantAnalysis(),\n",
    "     'LDA' : discriminant_analysis.LinearDiscriminantAnalysis(),\n",
    "     'GNB' : naive_bayes.GaussianNB(),\n",
    "     \n",
    "     'SVC(1)' : svm.SVC(kernel='linear'),\n",
    "     'SVC(2)' : svm.LinearSVC(),\n",
    "     \n",
    "     'DTC' : tree.DecisionTreeClassifier(),\n",
    "     '5NN-C': neighbors.KNeighborsClassifier(),\n",
    "     '10NN-C' : neighbors.KNeighborsClassifier(n_neighbors=10)}    \n",
    "    \n",
    "    \n",
    "baseline = dummy.DummyClassifier(strategy='uniform')\n",
    "\n",
    "base_score = skms.cross_val_score(baseline,\n",
    "                                  digits.data, digits.target==1,\n",
    "                                  cv=10,\n",
    "                                  scoring='average_precision',\n",
    "                                  n_jobs=-1)"
   ]
  },
  {
   "cell_type": "code",
   "execution_count": 36,
   "id": "07b986b8",
   "metadata": {},
   "outputs": [
    {
     "data": {
      "image/png": "[encoded data removed]",
      "text/plain": [
       "<Figure size 432x288 with 1 Axes>"
      ]
     },
     "metadata": {
      "needs_background": "light"
     },
     "output_type": "display_data"
    }
   ],
   "source": [
    "fig, ax = plt.subplots(figsize=(6,4))\n",
    "ax.plot(base_score, label='base')\n",
    "for name, model in classifier_parade.items():\n",
    "    cv_scores = skms.cross_val_score(model,\n",
    "                                     digits.data, digits.target,\n",
    "                                     cv=10,\n",
    "                                     scoring='f1_macro',\n",
    "                                     n_jobs=-1) # all CPUs\n",
    "    my_lbl = '{} {:.3f}'.format(name, cv_scores.mean())\n",
    "    ax.plot(cv_scores, label=my_lbl, marker=next(markers))\n",
    "ax.set_ylim(0.0, 1.1)\n",
    "ax.set_xlabel('Fold')\n",
    "ax.set_ylabel('Accuracy')\n",
    "ax.legend(loc='lower center', ncol=2);"
   ]
  },
  {
   "cell_type": "markdown",
   "id": "3d8ece90",
   "metadata": {},
   "source": [
    "Frankly, there is too much going on here to easily summarize.  There are some overall trends.  You can see that a classical method, Logistic Regression, is competing nicely with a very modern method, SVCs.  Our drop-dead simple Nearest Neighbors methods are doing even better. It would b egood practice to dive into comparing different classifiers on different metrics for this problem.  You might also be interested in comparing resource utilization of the different methods on *digits*."
   ]
  },
  {
   "cell_type": "code",
   "execution_count": null,
   "id": "74c6cd7c",
   "metadata": {},
   "outputs": [],
   "source": []
  }
 ],
 "metadata": {
  "kernelspec": {
   "display_name": "Python 3",
   "language": "python",
   "name": "python3"
  },
  "language_info": {
   "codemirror_mode": {
    "name": "ipython",
    "version": 3
   },
   "file_extension": ".py",
   "mimetype": "text/x-python",
   "name": "python",
   "nbconvert_exporter": "python",
   "pygments_lexer": "ipython3",
   "version": "3.9.2"
  }
 },
 "nbformat": 4,
 "nbformat_minor": 5
}
