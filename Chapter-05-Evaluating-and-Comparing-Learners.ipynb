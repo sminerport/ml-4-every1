{
 "cells": [
  {
   "cell_type": "markdown",
   "id": "518e28ec-f4e1-41b0-9f54-11e4a74ba1f1",
   "metadata": {},
   "source": [
    "# Chapter 5: Evaluating and Comparing Learners"
   ]
  },
  {
   "cell_type": "code",
   "execution_count": 1,
   "id": "f5c0d33b-c2ef-4366-b3eb-c14cf91670c0",
   "metadata": {},
   "outputs": [],
   "source": [
    "from mlwpy import *\n",
    "\n",
    "diabetes = datasets.load_diabetes()\n",
    "%matplotlib inline"
   ]
  },
  {
   "cell_type": "code",
   "execution_count": 2,
   "id": "727803be-aa1e-4457-a7df-89cdaea98b3f",
   "metadata": {},
   "outputs": [
    {
     "data": {
      "text/html": [
       "<style>\n",
       "    td,th,p{\n",
       "    font-size: 20px\n",
       "}\n",
       "</style>\n"
      ],
      "text/plain": [
       "<IPython.core.display.HTML object>"
      ]
     },
     "metadata": {},
     "output_type": "display_data"
    }
   ],
   "source": [
    "%%HTML\n",
    "<style>\n",
    "    td,th,p{\n",
    "    font-size: 20px\n",
    "}\n",
    "</style>"
   ]
  },
  {
   "cell_type": "markdown",
   "id": "72fd02f9-a6f1-43a0-97fd-314f32788ee0",
   "metadata": {},
   "source": [
    "## 5.1 Evaluation and Why Less Is More\n",
    "\n",
    "Computer learning systems may be limited by capacity or distracted by noise.\n",
    "In machine learning, we call the capacity of what we can squeeze into our head the *bias* and we call getting distracted by noise the *variance*."
   ]
  },
  {
   "cell_type": "markdown",
   "id": "52666c1f-2c22-45f7-a2d3-280e33cbb78d",
   "metadata": {},
   "source": [
    "The most fundamental defense is *not teaching to the test*. To avoid teaching to the test, we use a three-step recipe:\n",
    "\n",
    "* step one: split the data into separate training and testing sets\n",
    "* step two: *learn* on the training data\n",
    "* step three: *evaluate* on the testing data"
   ]
  },
  {
   "cell_type": "markdown",
   "id": "b291a454-32d3-48a7-9778-b1ba4538766f",
   "metadata": {},
   "source": [
    "## 5.2 Terminology for Learning Phases\n",
    "\n",
    "We have liad out terminology for learning phases, training, selection, and assessment.\n",
    "\n",
    "If we fail a test, we could attribute failure to distinct options: (1) not bringing enough raw horsepower or capacity to the test and (2) focusing too much on irrelevant details.\n",
    "\n",
    "Number 2 is really just a case of being distracted by noise. The two sources of error have technical names: *underfitting* and *overfitting*. Let's cook up some practice data to investigate.\n"
   ]
  },
  {
   "cell_type": "markdown",
   "id": "fec90b9f-bfe0-408b-aa44-943146870832",
   "metadata": {},
   "source": [
    "### 5.3.1 Synthetic Data and Linear Regression"
   ]
  },
  {
   "cell_type": "markdown",
   "id": "50e78b28-49a9-4ab4-9010-3f5978f085af",
   "metadata": {},
   "source": [
    "Let's create a trivial dataset with one feature and a target and make a train-test split on it. The noise is chosen uniformly from values between -2 and 2."
   ]
  },
  {
   "cell_type": "code",
   "execution_count": 3,
   "id": "dc6308ff-b127-4429-b8c5-9e0c0abfcc99",
   "metadata": {},
   "outputs": [
    {
     "name": "stdout",
     "output_type": "stream",
     "text": [
      "[-10.      -8.9474  -7.8947  -6.8421  -5.7895  -4.7368  -3.6842  -2.6316\n",
      "  -1.5789  -0.5263   0.5263   1.5789   2.6316   3.6842   4.7368   5.7895\n",
      "   6.8421   7.8947   8.9474  10.    ]\n",
      "[196.4982 158.9137 122.5817  91.0234  62.6601  40.4993  22.3791  12.3151\n",
      "   2.3906  -1.6137  -4.3636   3.8658  12.1802  22.9962  40.6026  62.7696\n",
      "  89.8458 121.7528 156.8386 196.1649]\n"
     ]
    }
   ],
   "source": [
    "N = 20\n",
    "ftr = np.linspace(-10, 10, num=N)                 # ftr values\n",
    "tgt = 2*ftr**2 - 3 + np.random.uniform(-2, 2, N)  # tgt = func(ftr)\n",
    "print(ftr)\n",
    "print(tgt)"
   ]
  },
  {
   "cell_type": "code",
   "execution_count": 4,
   "id": "8656fcf2-ba13-454f-b5e2-7f0c078e92ff",
   "metadata": {},
   "outputs": [
    {
     "data": {
      "text/html": [
       "<div>\n",
       "<style scoped>\n",
       "    .dataframe tbody tr th:only-of-type {\n",
       "        vertical-align: middle;\n",
       "    }\n",
       "\n",
       "    .dataframe tbody tr th {\n",
       "        vertical-align: top;\n",
       "    }\n",
       "\n",
       "    .dataframe thead th {\n",
       "        text-align: right;\n",
       "    }\n",
       "</style>\n",
       "<table border=\"1\" class=\"dataframe\">\n",
       "  <thead>\n",
       "    <tr style=\"text-align: right;\">\n",
       "      <th></th>\n",
       "      <th>0</th>\n",
       "      <th>1</th>\n",
       "      <th>2</th>\n",
       "      <th>3</th>\n",
       "      <th>4</th>\n",
       "      <th>5</th>\n",
       "      <th>6</th>\n",
       "      <th>7</th>\n",
       "      <th>8</th>\n",
       "      <th>9</th>\n",
       "    </tr>\n",
       "  </thead>\n",
       "  <tbody>\n",
       "    <tr>\n",
       "      <th>ftr</th>\n",
       "      <td>-1.5789</td>\n",
       "      <td>-6.8421</td>\n",
       "      <td>-3.6842</td>\n",
       "      <td>1.5789</td>\n",
       "      <td>-7.8947</td>\n",
       "      <td>3.6842</td>\n",
       "      <td>7.8947</td>\n",
       "      <td>4.7368</td>\n",
       "      <td>5.7895</td>\n",
       "      <td>-0.5263</td>\n",
       "    </tr>\n",
       "    <tr>\n",
       "      <th>tgt</th>\n",
       "      <td>2.3906</td>\n",
       "      <td>91.0234</td>\n",
       "      <td>22.3791</td>\n",
       "      <td>3.8658</td>\n",
       "      <td>122.5817</td>\n",
       "      <td>22.9962</td>\n",
       "      <td>121.7528</td>\n",
       "      <td>40.6026</td>\n",
       "      <td>62.7696</td>\n",
       "      <td>-1.6137</td>\n",
       "    </tr>\n",
       "  </tbody>\n",
       "</table>\n",
       "</div>"
      ],
      "text/latex": [
       "{\\centering\n",
       "\\begin{tabular}{lrrrrrrrrrr}\n",
       "\\toprule\n",
       "{} &                    0 &                    1 &                    2 &                    3 &                    4 &                    5 &                    6 &                    7 &                    8 &                    9 \\\\\n",
       "\\midrule\n",
       "ftr &              -1.5789 &              -6.8421 &              -3.6842 &               1.5789 &              -7.8947 &               3.6842 &               7.8947 &               4.7368 &               5.7895 &              -0.5263 \\\\\n",
       "tgt &               2.3906 &              91.0234 &              22.3791 &               3.8658 &             122.5817 &              22.9962 &             121.7528 &              40.6026 &              62.7696 &              -1.6137 \\\\\n",
       "\\bottomrule\n",
       "\\end{tabular}\n",
       "\n",
       "\\medskip}"
      ],
      "text/plain": [
       "                       0                    1                    2  \\\n",
       "ftr              -1.5789              -6.8421              -3.6842   \n",
       "tgt               2.3906              91.0234              22.3791   \n",
       "\n",
       "                       3                    4                    5  \\\n",
       "ftr               1.5789              -7.8947               3.6842   \n",
       "tgt               3.8658             122.5817              22.9962   \n",
       "\n",
       "                       6                    7                    8  \\\n",
       "ftr               7.8947               4.7368               5.7895   \n",
       "tgt             121.7528              40.6026              62.7696   \n",
       "\n",
       "                       9  \n",
       "ftr              -0.5263  \n",
       "tgt              -1.6137  "
      ]
     },
     "metadata": {},
     "output_type": "display_data"
    }
   ],
   "source": [
    "(train_ftr, test_ftr,\n",
    " train_tgt, test_tgt) = skms.train_test_split(ftr, tgt, test_size=N//2)\n",
    "\n",
    "display(pd.DataFrame({'ftr':train_ftr,\n",
    "              'tgt':train_tgt}).T)"
   ]
  },
  {
   "cell_type": "markdown",
   "id": "bd8604cf-8832-4281-8d43-30c8bb767d55",
   "metadata": {},
   "source": [
    "Let's examine the data visually. The known data points, the training set, is the blue dots. The red pluses show the input feature values for the test set. We need to figure out how high up to take those values."
   ]
  },
  {
   "cell_type": "code",
   "execution_count": 5,
   "id": "f48bbf60-d992-43d5-ae22-e75e78d74cfe",
   "metadata": {},
   "outputs": [
    {
     "data": {
      "text/plain": [
       "[<matplotlib.lines.Line2D at 0x22c75e96730>]"
      ]
     },
     "execution_count": 5,
     "metadata": {},
     "output_type": "execute_result"
    },
    {
     "data": {
      "image/png": "[encoded data removed]",
      "text/plain": [
       "<Figure size 432x288 with 1 Axes>"
      ]
     },
     "metadata": {
      "needs_background": "light"
     },
     "output_type": "display_data"
    }
   ],
   "source": [
    "plt.plot(train_ftr, train_tgt, 'bo')\n",
    "plt.plot(test_ftr, np.zeros_like(test_ftr), 'r+')"
   ]
  },
  {
   "cell_type": "markdown",
   "id": "5eb576d3-69ac-4cad-956e-9798ac9a4f83",
   "metadata": {},
   "source": [
    "The numbers are a straightforward example of a regression task. Let's pull out linear regression (LR) and see what happens."
   ]
  },
  {
   "cell_type": "code",
   "execution_count": 6,
   "id": "abfda850-9af4-4fb0-ba6c-c5c2de92d26e",
   "metadata": {},
   "outputs": [
    {
     "data": {
      "text/plain": [
       "array([53.218 , 41.4552, 56.8374])"
      ]
     },
     "execution_count": 6,
     "metadata": {},
     "output_type": "execute_result"
    }
   ],
   "source": [
    "# note: sklearn *really* wants 2D inputs (a table)\n",
    "# so we use reshape here.\n",
    "sk_model = linear_model.LinearRegression()\n",
    "sk_model.fit(train_ftr.reshape(-1, 1), train_tgt)\n",
    "sk_preds = sk_model.predict(test_ftr.reshape(-1, 1))\n",
    "sk_preds[:3]"
   ]
  },
  {
   "cell_type": "markdown",
   "id": "89a6dd1a-43ce-4a8a-96a4-1c1a2fdca43a",
   "metadata": {},
   "source": [
    "### 5.3.2 Manually Manipulating Model Complexity\n",
    "\n",
    "Numpy provides `polyfit`, which takes input and output values, our features and a target, and a *degree of polynomial* to align with the data. Then, it figures out the right knob values--the coefficients of polynomails--and using `np.poly1d` turns the coefficients into a function that can take inputs and produce outputs. Let's explore how it works."
   ]
  },
  {
   "cell_type": "code",
   "execution_count": 7,
   "id": "74a9409b-4e87-41ee-a65d-d67a67f22f53",
   "metadata": {},
   "outputs": [
    {
     "name": "stdout",
     "output_type": "stream",
     "text": [
      "[53.218  41.4552 56.8374]\n"
     ]
    }
   ],
   "source": [
    "# fit-predict-evaluate a 1D polynomial (a line)\n",
    "model_one = np.poly1d(np.polyfit(train_ftr, train_tgt, 1))\n",
    "preds_one = model_one(test_ftr)\n",
    "print(preds_one[:3])"
   ]
  },
  {
   "cell_type": "markdown",
   "id": "09f125ea-bb1a-4668-8a8f-929353d19961",
   "metadata": {},
   "source": [
    "Interesting. The first three preds are the same as our LR model. Are all the predictions from these inputs the same? Yes. Let's demonstrate that and calculate the RMSE of the model:"
   ]
  },
  {
   "cell_type": "code",
   "execution_count": 8,
   "id": "23241a21-6992-4854-b353-bae356a3fdb7",
   "metadata": {},
   "outputs": [
    {
     "name": "stdout",
     "output_type": "stream",
     "text": [
      "all close? True\n",
      "RMSE: 86.69151817350722\n"
     ]
    }
   ],
   "source": [
    "# the preds come back the same\n",
    "print('all close?', np.allclose(sk_preds, preds_one))\n",
    "\n",
    "# and we can still use sklearn to evaluate it\n",
    "mse = metrics.mean_squared_error\n",
    "print('RMSE:', np.sqrt(mse(test_tgt, preds_one)))"
   ]
  },
  {
   "cell_type": "markdown",
   "id": "5951c97c-74f3-436e-8f30-34b591b5bf6e",
   "metadata": {},
   "source": [
    "Two take-home messages here. You can use alternative systems to train models. Not just `sklearn`. You can even use those alternative systems *with* `sklearn` to do the evaluatoin. Message 2: `np.polyfit`, can be manipulated to produce any degree of polynomial we are interested in. We just have to fit a relatively simple line, but we can move beyond that to more complicated patterns. Let's explore that now.\n",
    "\n",
    "One way to manipulate the complexity of linear regression is to ask, \"What happens if we break out of our straight jacket and allow bends?\" We can start answering that by looking at what happens when we add a single bend. For the non-mathphobic, a curve with one bend in it--called a parabola--is described by a degree-two polynomial. Instead of fitting a straight line to the points and picking the line with the lowest squared error, we hold up parabolas, curves with a single bend, to the training data and find the one that fits best. The mathematics are surprisingly, or at least comfortingly, similar. As a result, our code only requires a minor tweak."
   ]
  },
  {
   "cell_type": "code",
   "execution_count": 9,
   "id": "0696b6ce-c280-446c-b043-ef71f2ad768e",
   "metadata": {},
   "outputs": [
    {
     "name": "stdout",
     "output_type": "stream",
     "text": [
      "RMSE: 1.2765992188881143\n"
     ]
    }
   ],
   "source": [
    "# pit-predict-evaluate a 2dpolynomial (a parabola)\n",
    "model_two = np.poly1d(np.polyfit(train_ftr, train_tgt, 2))\n",
    "preds_two = model_two(test_ftr)\n",
    "print('RMSE:', np.sqrt(mse(test_tgt, preds_two)))"
   ]
  },
  {
   "cell_type": "markdown",
   "id": "301c42c4-6b3e-448d-8ec2-5d7412387a74",
   "metadata": {},
   "source": [
    "The test error improved quite a bit. Let's increase it again, this time using a degree-9 polynomial, also known as a *nonic*."
   ]
  },
  {
   "cell_type": "code",
   "execution_count": 10,
   "id": "3b07248a-d553-419f-8c95-2b2046d1c3d0",
   "metadata": {
    "tags": []
   },
   "outputs": [
    {
     "name": "stdout",
     "output_type": "stream",
     "text": [
      "RMSE: 317.36344242352277\n"
     ]
    }
   ],
   "source": [
    "model_three = np.poly1d(np.polyfit(train_ftr, train_tgt, 9))\n",
    "preds_three = model_three(test_ftr)\n",
    "print('RMSE:', np.sqrt(mse(test_tgt, preds_three)))"
   ]
  },
  {
   "cell_type": "markdown",
   "id": "b609b5e2-774a-4ffc-a558-e30b4a7ef1ea",
   "metadata": {},
   "source": [
    "The error is significantly worse than we saw with the parabola. That could be unexpected. Let's investigate."
   ]
  },
  {
   "cell_type": "markdown",
   "id": "7646854c-2374-4057-8bb6-eae203fed713",
   "metadata": {},
   "source": [
    "### 5.3.3 Goldilocks: Visualizing Overfitting, Underfitting, and \"Just Right\""
   ]
  },
  {
   "cell_type": "markdown",
   "id": "3970c9f5-7fa3-4a75-af36-1d537664599e",
   "metadata": {},
   "source": [
    "The error got terribly worse. What wen wrong? Let's break down what happened in the training and testing data visually."
   ]
  },
  {
   "cell_type": "code",
   "execution_count": 11,
   "id": "a4861858-94b8-46c0-92d3-340242e6130b",
   "metadata": {},
   "outputs": [
    {
     "name": "stdout",
     "output_type": "stream",
     "text": [
      "['line', 'parabola', 'nonic']\n",
      "[poly1d([-0.8596, 49.1463]), poly1d([ 1.9989, -0.0705, -3.0422]), poly1d([ 0.    , -0.    , -0.0005,  0.0008,  0.0187, -0.0232, -0.237 ,\n",
      "        1.9887,  0.9495, -1.6969])]\n",
      "(array([-1.5789, -6.8421, -3.6842,  1.5789, -7.8947,  3.6842,  7.8947,\n",
      "        4.7368,  5.7895, -0.5263]), array([  2.3906,  91.0234,  22.3791,   3.8658, 122.5817,  22.9962,\n",
      "       121.7528,  40.6026,  62.7696,  -1.6137]))\n",
      "(array([ -4.7368,   8.9474,  -8.9474,  -2.6316, -10.    ,   0.5263,\n",
      "         2.6316,  10.    ,  -5.7895,   6.8421]), array([ 40.4993, 156.8386, 158.9137,  12.3151, 196.4982,  -4.3636,\n",
      "        12.1802, 196.1649,  62.6601,  89.8458]))\n"
     ]
    }
   ],
   "source": [
    "import matplotlib.pyplot as plt\n",
    "\n",
    "labels = ['line', 'parabola', 'nonic']\n",
    "models = [model_one, model_two, model_three]\n",
    "train = (train_ftr, train_tgt)\n",
    "test = (test_ftr, test_tgt)\n",
    "print(labels)\n",
    "print(models)\n",
    "print(train)\n",
    "print(test)"
   ]
  },
  {
   "cell_type": "code",
   "execution_count": 12,
   "id": "bcb51a50-47b4-4d78-897d-1ea23fe63e7b",
   "metadata": {},
   "outputs": [
    {
     "data": {
      "text/plain": [
       "<matplotlib.legend.Legend at 0x22c75f945b0>"
      ]
     },
     "execution_count": 12,
     "metadata": {},
     "output_type": "execute_result"
    },
    {
     "data": {
      "image/png": "[encoded data removed]",
      "text/plain": [
       "<Figure size 432x216 with 2 Axes>"
      ]
     },
     "metadata": {
      "needs_background": "light"
     },
     "output_type": "display_data"
    }
   ],
   "source": [
    "fig, axes = plt.subplots(1, 2, figsize=(6, 3), sharey=True)\n",
    "for ax, (ftr, tgt) in zip(axes, [train, test]):\n",
    "    ax.plot(ftr, tgt, 'k+')\n",
    "    for m, lbl in zip(models, labels):\n",
    "        ftr = sorted(ftr)\n",
    "        ax.plot(ftr, m(ftr), '-', label=lbl)\n",
    "\n",
    "axes[1].set_ylim(-20, 200)\n",
    "axes[0].set_title('Train')\n",
    "axes[1].set_title('Test')\n",
    "axes[0].legend(loc='upper center')"
   ]
  },
  {
   "cell_type": "markdown",
   "id": "0ae09223-de1b-4c71-bf48-dc7aba1024c2",
   "metadata": {},
   "source": [
    "model_one, the straight line, has difficulty because our model follows a curved trajectory. `model_two` follows the curve just perfectly. `model_three` *seems* to follow the curve wonderfully when we train. It overlaps both `model_two` and the real outputs. However, it has problems when we go to testing. It starts exploding out of control near `ftr=-7`\n",
    "\n",
    "Let's run the model and gather up the results in one table. LEt's also throw in a degree-6 model."
   ]
  },
  {
   "cell_type": "code",
   "execution_count": 13,
   "id": "473772e7-3077-4512-b8f4-0026a5541f26",
   "metadata": {},
   "outputs": [
    {
     "data": {
      "text/html": [
       "<div>\n",
       "<style scoped>\n",
       "    .dataframe tbody tr th:only-of-type {\n",
       "        vertical-align: middle;\n",
       "    }\n",
       "\n",
       "    .dataframe tbody tr th {\n",
       "        vertical-align: top;\n",
       "    }\n",
       "\n",
       "    .dataframe thead th {\n",
       "        text-align: right;\n",
       "    }\n",
       "</style>\n",
       "<table border=\"1\" class=\"dataframe\">\n",
       "  <thead>\n",
       "    <tr style=\"text-align: right;\">\n",
       "      <th></th>\n",
       "      <th>Train Error</th>\n",
       "      <th>Test Error</th>\n",
       "    </tr>\n",
       "    <tr>\n",
       "      <th>Complexity</th>\n",
       "      <th></th>\n",
       "      <th></th>\n",
       "    </tr>\n",
       "  </thead>\n",
       "  <tbody>\n",
       "    <tr>\n",
       "      <th>1</th>\n",
       "      <td>45.4951</td>\n",
       "      <td>86.6915</td>\n",
       "    </tr>\n",
       "    <tr>\n",
       "      <th>2</th>\n",
       "      <td>1.0828</td>\n",
       "      <td>1.2766</td>\n",
       "    </tr>\n",
       "    <tr>\n",
       "      <th>6</th>\n",
       "      <td>0.2819</td>\n",
       "      <td>6.1417</td>\n",
       "    </tr>\n",
       "    <tr>\n",
       "      <th>9</th>\n",
       "      <td>0.0000</td>\n",
       "      <td>317.3634</td>\n",
       "    </tr>\n",
       "  </tbody>\n",
       "</table>\n",
       "</div>"
      ],
      "text/latex": [
       "{\\centering\n",
       "\\begin{tabular}{lrr}\n",
       "\\toprule\n",
       "{} &          Train Error &           Test Error \\\\\n",
       "Complexity &                      &                      \\\\\n",
       "\\midrule\n",
       "1          &              45.4951 &              86.6915 \\\\\n",
       "2          &               1.0828 &               1.2766 \\\\\n",
       "6          &               0.2819 &               6.1417 \\\\\n",
       "9          &               0.0000 &             317.3634 \\\\\n",
       "\\bottomrule\n",
       "\\end{tabular}\n",
       "\n",
       "\\medskip}"
      ],
      "text/plain": [
       "                    Train Error           Test Error\n",
       "Complexity                                          \n",
       "1                       45.4951              86.6915\n",
       "2                        1.0828               1.2766\n",
       "6                        0.2819               6.1417\n",
       "9                        0.0000             317.3634"
      ]
     },
     "execution_count": 13,
     "metadata": {},
     "output_type": "execute_result"
    }
   ],
   "source": [
    "results = []\n",
    "for complexity in [1, 2, 6, 9]:\n",
    "    model = np.poly1d(np.polyfit(train_ftr, train_tgt, complexity))\n",
    "    train_error = np.sqrt(mse(train_tgt, model(train_ftr)))\n",
    "    test_error = np.sqrt(mse(test_tgt, model(test_ftr)))\n",
    "    results.append((complexity, train_error, test_error))\n",
    "columns = ['Complexity', 'Train Error', 'Test Error']\n",
    "results_df = pd.DataFrame.from_records(results,\n",
    "                                       columns=columns,\n",
    "                                       index='Complexity')\n",
    "results_df"
   ]
  },
  {
   "cell_type": "markdown",
   "id": "2bb3c327-9845-4e06-af34-c64e4686c27d",
   "metadata": {},
   "source": [
    "* Model one (Complexity 1-a straight line): The model does not have enough raw horsepower, or capacity, to capture the complexity of a target. It is too biased towards flatness. The model *underfits*\n",
    "* Model three (Complexity 9-a wiggly 9-degree polynomial): Has enough horsepower. It is perfect on the training data but falls apart on the testing data because it memorized the *noise* or the randomness in the data. It veries too much with the data, meaning it *overfits* the data.\n",
    "* Model two (complexity 2-a parabola). It's not too hot, it's not too cold, it's just right, like Goldilocks. We do well on both the testing and training data. If we had set up a full validation step to select between the three machines with different complexity, we would be quite happy with model two. \n",
    "\n",
    "Let's graph the results of the train and test sets."
   ]
  },
  {
   "cell_type": "code",
   "execution_count": 14,
   "id": "167ec6fd-8cae-4ba1-9a85-f961b27cd5ff",
   "metadata": {},
   "outputs": [
    {
     "data": {
      "text/plain": [
       "<AxesSubplot:xlabel='Complexity'>"
      ]
     },
     "execution_count": 14,
     "metadata": {},
     "output_type": "execute_result"
    },
    {
     "data": {
      "image/png": "[encoded data removed]",
      "text/plain": [
       "<Figure size 432x288 with 1 Axes>"
      ]
     },
     "metadata": {
      "needs_background": "light"
     },
     "output_type": "display_data"
    }
   ],
   "source": [
    "results_df.plot()"
   ]
  },
  {
   "cell_type": "markdown",
   "id": "b46fe5db-5815-4591-9bee-52d73f7134b8",
   "metadata": {},
   "source": [
    "The key take-away is that as we ratchet up the complexity of the model, we get to a point where we can make the training error very small but where it really counts, on the test set, we get worse. Then, we get terrible. To highlight the important pieces of the graph, we can see a version with helpful labels."
   ]
  },
  {
   "cell_type": "markdown",
   "id": "b9b28349-48e5-4417-a124-466d23bedcb7",
   "metadata": {},
   "source": [
    "<img src=\"graphs.jpg\" alt=\"graphs\" style=\"width: 800px;\"/>"
   ]
  },
  {
   "cell_type": "markdown",
   "id": "24ba3d5c-dc8e-453b-98c5-31cc1dc0d4fe",
   "metadata": {},
   "source": [
    "### 5.3.4 Simplicity"
   ]
  },
  {
   "cell_type": "markdown",
   "id": "365938f2-f5b3-4118-9ec5-f8835f263ed1",
   "metadata": {},
   "source": [
    "## 5.4 From Errors to Costs"
   ]
  },
  {
   "cell_type": "markdown",
   "id": "410a52f5-d3f1-4385-bf14-224409a422a2",
   "metadata": {},
   "source": [
    "When discussing over and underfitting, we compared model complexity and model error rates. As we vary the complexity of models, the degree of polynomials, we have different training and test performance. Error and Complexity are intimately tied together. Some methods can explicitly trade off training error for complexity.\n",
    "\n",
    "In the factory machine analogy, we consider *both* our success in copying the input-output relationship *and* the values we set on the knobs. By separating out these two aspects of \"model goddness\" we can speak generally about both regression and classification problems. After progressing more, we'll be able to *describe* many algorithms in terms of just a few choices. How a method treats errors and complexity are two of these choices."
   ]
  },
  {
   "cell_type": "markdown",
   "id": "cef735ca-5df2-4fe4-9925-d5697d1c9285",
   "metadata": {},
   "source": [
    "### 5.4.1 Loss\n",
    "\n",
    "We construct a *loss function* that quantifies what happens when our model is wrong on a single example. We use that to build a *training loss* function that measures how well the model does on the entire training set. More technical write-ups call this the *empirical loss.* The training loss is the sum of the losses on each example. We can write that in code as the following:\n",
    "    "
   ]
  },
  {
   "cell_type": "code",
   "execution_count": 15,
   "id": "57656410-728b-4b54-837a-e9098e1a6b3e",
   "metadata": {},
   "outputs": [],
   "source": [
    "def training_loss(loss, model, training_data):\n",
    "    ' total training_loss on train_data with model under loss'\n",
    "    return sum(loss(model.predict(x.reshape(1, -1)), y)\n",
    "                                  for x, y in training_data)\n",
    "\n",
    "def squared_error(prediction, actual):\n",
    "    ' squared error on a single example'\n",
    "    return (prediction - actual)**2\n",
    "\n",
    "# could be used like:\n",
    "# my_training_loss = training_loss(squared_error, model, training_data)"
   ]
  },
  {
   "cell_type": "markdown",
   "id": "16c5074e-77c8-4c4c-a26f-b947edae2b0b",
   "metadata": {},
   "source": [
    "A generic mathematic way to write this is:\n",
    "\n",
    "$$ TrainingLoss_{Loss}(m, D_{train}) = \\Sigma_{x,y \\in D_{train}} Loss(m(x),y) $$\n",
    "\n",
    "where m represents the model.  In the specific case of squared-error (SE) on 3-NN, where 3-NN(x) represents the prediction of 3-NN on an example *x*:\n",
    "\n",
    "$$ TrainingLoss_{SE}(\\text{3-NN}, D_{train}) = \\Sigma_{x,y \\in D_{train}} SE(\\text{3-NN}(x), y) = \\Sigma_{x,y \\in D_{train}} (\\text{3-NN}(x) - y)^2 $$ \n",
    "\n",
    "We put this into code in the following example."
   ]
  },
  {
   "cell_type": "code",
   "execution_count": 16,
   "id": "93f197ef-b1d9-44da-805c-f258aee106d9",
   "metadata": {},
   "outputs": [
    {
     "name": "stdout",
     "output_type": "stream",
     "text": [
      "[863792.3333]\n"
     ]
    }
   ],
   "source": [
    "knn = neighbors.KNeighborsRegressor(n_neighbors=3)\n",
    "fit = knn.fit(diabetes.data, diabetes.target)\n",
    "\n",
    "training_data = zip(diabetes.data, diabetes.target)\n",
    "\n",
    "my_training_loss = training_loss(squared_error, knn, training_data)\n",
    "print(my_training_loss)"
   ]
  },
  {
   "cell_type": "markdown",
   "id": "f1969736-d556-44c4-a7d5-d7c1a9b3bb71",
   "metadata": {},
   "source": [
    "We can use `sklearn`'s `mean_squared_error` and multiply it by the number of training examples to undo the `mean` part to get the same answer."
   ]
  },
  {
   "cell_type": "code",
   "execution_count": 17,
   "id": "2876fa3a-64a1-48f4-8ec1-94baa17c5c8f",
   "metadata": {},
   "outputs": [
    {
     "name": "stdout",
     "output_type": "stream",
     "text": [
      "863792.3333333333\n"
     ]
    }
   ],
   "source": [
    "mse = metrics.mean_squared_error(diabetes.target,\n",
    "                                 knn.predict(diabetes.data))\n",
    "print(mse*len(diabetes.data))"
   ]
  },
  {
   "cell_type": "markdown",
   "id": "7fbd6048-2459-49d3-a406-238d850622bc",
   "metadata": {},
   "source": [
    "The TrainingLoss equation is a fundamental principle underlying the evaluation calculations we use. We add on to the equation to deal with the problem of determining a good model complexity. "
   ]
  },
  {
   "cell_type": "markdown",
   "id": "baf8f129-84be-4580-9914-ef6814aaf53f",
   "metadata": {},
   "source": [
    "### 5.4.2 Cost\n",
    "\n",
    "We can capture *any* pattern, even patterns that are noise. We need something that works against complexity and rewards simplicity. We do that by adding a value to the training loss to create a total notion of *cost*. $ cost = loss + complexity $. The term we add to deal with complexity has several technical names: regularization, smoothing, penalization, or shrinkage. \n",
    "\n",
    "The total cost we pay to use a model on some data depends on (1) how well it does and (2) how complicated it is. Complexity is like a baseline investment. With a very high initial investment, we better not have many errors. If we have a low initial investment, we might have some room to allow for error. The term for performance on unseen data is *generalization*. \n",
    "\n",
    "There is not a fixed idea how to trade off error and complexity. We leave it as an open question and it becomes part of the way our machine is build. It's another hyperparameter. Using the traditional naming scheme, lambda represents that tradeoff between error and complexity: $ \\lambda $.\n",
    "\n",
    "It can be unnatural to phrase some learners strictly in terms of loss and complexity, it is very broadly possible. We can choose a good value of $ \\lambda $ by performing several rounds of validation testing and taking the $ \\lambda $ that leads to the lowest cost."
   ]
  },
  {
   "cell_type": "code",
   "execution_count": 18,
   "id": "d705dac6-3595-40d0-b47d-e545018a23d6",
   "metadata": {},
   "outputs": [],
   "source": [
    "def complexity(model):\n",
    "    return model.complexity\n",
    "\n",
    "def cost(model, training_data, loss, _lambda):\n",
    "    return training_loss(model, training_data) + _lambda * complexity(model)"
   ]
  },
  {
   "cell_type": "markdown",
   "id": "b2441e41-0f07-44e2-98f4-1f106c4e2412",
   "metadata": {},
   "source": [
    "Mathematically, this looks like \n",
    "\n",
    "$$ Cost(m, D_{train}, Loss, \\lambda) = TrainingLoss_{Loss}(m, D_{train}) + \\lambda \\times Complexity(m) $$"
   ]
  },
  {
   "cell_type": "markdown",
   "id": "d6703bad-85b3-471b-a037-64d009e0361e",
   "metadata": {},
   "source": [
    "In other words, our cost goes up (1) if we make more mistakes and (2) if we invest resources in more expensive, but also more flexible models. If we take $ \\lambda = 2 $, one unit of complexity is comparable to two units of loss. If we take $ \\lambda = .5 $, two units of complexity are comparable to one unit of loss. Shifting $ \\lambda $ adjusts how much we care about errors and complexity."
   ]
  },
  {
   "cell_type": "markdown",
   "id": "b4c0c7f6-fa35-42ed-a067-ee414654456e",
   "metadata": {},
   "source": [
    "### 5.4.3 Score\n",
    "\n",
    "* Score: higher is better, try to maximize\n",
    "* Loss, error, and cost: lower is better, try to minimize.\n"
   ]
  },
  {
   "cell_type": "markdown",
   "id": "1b2e245f-ae33-47e9-b14a-a91fe40f3d3f",
   "metadata": {},
   "source": [
    "## 5.5 (Re)Sampling: Making More from Less\n",
    "\n",
    "How can we turn one dataset into many?"
   ]
  },
  {
   "cell_type": "markdown",
   "id": "8b89ee7f-44f9-467d-b016-0f8042015a3f",
   "metadata": {},
   "source": [
    "### 5.5.1 Cross-Validation\n",
    "\n",
    "<img src=\"buckets.jpg\" alt=\"buckets\" style=\"width: 800px;\"/>"
   ]
  },
  {
   "cell_type": "markdown",
   "id": "dfafe50a-be28-4d0e-84ed-16e56794ba18",
   "metadata": {},
   "source": [
    "**Figure 5.5** The setup for CV splits the data into approximately equal buckets."
   ]
  },
  {
   "cell_type": "markdown",
   "id": "1e5e6dc7-46d7-4c31-b29b-0a8bc2d478dd",
   "metadata": {},
   "source": [
    "Now, let's take the following setps as shown in the figure below:\n",
    "\n",
    "1. Take bucket $B_{1}$, combine $B_{II}$ and $B_{III}$ and use them as our training set. Train *ModelOne* from the combined training set. Now, evaluate *ModelOne* on bucket $B_{1}$ and record the performance as *EvalOne*."
   ]
  },
  {
   "cell_type": "markdown",
   "id": "87e64ce7-210c-45c1-897a-87422fe9daa2",
   "metadata": {},
   "source": [
    "<img src=\"CV.jpg\" alt=\"cross-validation\" style=\"width: 800px;\"/>"
   ]
  },
  {
   "cell_type": "markdown",
   "id": "82d783b0-d217-4774-be5a-2447b50c5c4f",
   "metadata": {},
   "source": [
    "After recording the three performance values, we may wish to graph them or summarize them statistically. \n",
    "\n",
    "Let's look at 5-fold CV with `sklearn`."
   ]
  },
  {
   "cell_type": "code",
   "execution_count": 19,
   "id": "c970ad4f-3f4b-461e-aba5-7d94de23f226",
   "metadata": {},
   "outputs": [
    {
     "data": {
      "text/plain": [
       "array([-3206.7542, -3426.4313, -3587.9422, -3039.4944, -3282.6016])"
      ]
     },
     "execution_count": 19,
     "metadata": {},
     "output_type": "execute_result"
    }
   ],
   "source": [
    "# data, model, fit & cv-score\n",
    "model = neighbors.KNeighborsRegressor(10)\n",
    "skms.cross_val_score(model,\n",
    "                     diabetes.data,\n",
    "                     diabetes.target,\n",
    "                     cv=5,\n",
    "                     scoring='neg_mean_squared_error')\n",
    "\n",
    "# notes:\n",
    "# defaults for cross_val_score are\n",
    "# cv=3 fold, no shuffle, stratified if classifier\n",
    "# model.score by default (regressors: r2, classifiers: accuracy)"
   ]
  },
  {
   "cell_type": "markdown",
   "id": "0c33c21e-08fe-4d89-9528-d3eedb868791",
   "metadata": {},
   "source": [
    "The default value for the `cv` argument to `cross_val_score` is `None`. To understand what that means, we have to look into the documentation for `cross_val_score`. \n",
    "\n",
    "`cv`: int or None or others. Determines the cross-validation splitting strategy. Possible inputs for cv are:\n",
    "* None, to use the default 3-fold cross validaiton\n",
    "* Integer, to specify the number of folds in a `(Stratified)K`\n",
    "* Others\n",
    "\n",
    "For integer/None inputs, if the estimator is a classifier and `y` is either binary or multiclass, `StratifiedKFold` is used. In all other cases, `KFold` is used.\n",
    "\n",
    "Two take home lessons:\n",
    "\n",
    "* By default we're doing 3-fold CV\n",
    "* for classification problems, `sklearn` uses stratification.\n",
    "\n",
    "By using `scoring='neg_mean_squared_error`, `sklearn` negates the MSE to go from an error measure to a score. Scores are all *negative*, but a bigger score is better. We can think of it as losing less money: instead of being down $100, we are down only $7.50.\n",
    "\n",
    "The default scoring for regressors is `r2`, also known as the *coefficient of determination*. It is very easy to misuse $R^2$ in `sklearn`.\n",
    "\n",
    "Using *k*-CV we need to balance three things. \n",
    "\n",
    "1. How long does it take to train and test our models. A bigger *k* means more bucks, which, in turn means more training and testing phases.\n",
    "    1. Some incremental/decremental learning methods can be implemented to minimize the amount of work necessary to train and test different models.\n",
    "    2. Most common models are *not* implemented with CV routines in a way that allows for this efficiency. \n",
    "    3. Training on smaller datasets is *faster* than training on larger datasets.\n",
    "    4. The run times depend on the specific learning methods.\n",
    "2. The second issue to balance is the value of *k* slides up and down betwen two extremes. The smallest useful value is *k* = 2, which makes two buckets of data and two estimates of our test error. \n",
    "    1. The largest value of *k* takes in the number of data points we have, $k = n$, resulting in each sample being in its own bucket and *n* total models and estimates. \n",
    "    2. When we have two buckets, we never train on the same data.\n",
    "    3. With three buckets, we have some overlap--half the training set used to create the model tested $B_1$ is in common with the training sets used to create the model tested on $B_{II}$. The common elements are those in $B_{III}$. \n",
    "    4. With *n* buckets, between any two of our models, they are trained on the *same n - 2* examples (see the figure below).\n",
    "    5. To get the full *n* examples, there's one more example for training that is different in the two CV folds and another example that is reserved for testing.\n",
    "  \n",
    "<img src=\"overlap.JPG\" alt=\"overlap\" style=\"width: 800px;\"/>"
   ]
  },
  {
   "cell_type": "markdown",
   "id": "3cb2307f-2685-4ec0-988c-41c64a97186a",
   "metadata": {},
   "source": [
    "The net effect is that the data in the training folds for $ k = 2 $ is *very different* and the data in the training folds for $ k = n $ is *almost the same.* The estimates we get out of $k = 2$ will be quite different, if there is a difference to be found. The estimates out of $k = n$ will be similar because they are doing *almost* the same thing!\n",
    "\n",
    "The theird issue is that small values of *k* relatively few folds, will result in training set sizes ranging from 50% (k=2) to 90% (k=10) of the data. Whether learning on that much data will be sufficient depends on the problem at hand. We can evalute that graphically using learning curves, as in Seciton 5.7.1 If the learning curve flattens out at the percent of data we are trying to learn from--if that much data is enough to get us to a sufficient performance threshold--we are probably OK using the related number of folds."
   ]
  },
  {
   "cell_type": "markdown",
   "id": "243dfdb7-06d8-4256-abe6-f470344b6367",
   "metadata": {},
   "source": [
    "### 5.5.2 Stratification\n",
    "\n",
    "Let's turn to a quick example of cross-validation in a classification context. Here, we tell `cross_val_score` to use 5-fold CV."
   ]
  },
  {
   "cell_type": "code",
   "execution_count": 20,
   "id": "903a4457-5d69-4c65-b2e1-9cb8f74c7458",
   "metadata": {},
   "outputs": [
    {
     "data": {
      "text/plain": [
       "array([0.9667, 1.    , 1.    , 0.9333, 1.    ])"
      ]
     },
     "execution_count": 20,
     "metadata": {},
     "output_type": "execute_result"
    }
   ],
   "source": [
    "iris = datasets.load_iris()\n",
    "model = neighbors.KNeighborsClassifier(10)\n",
    "skms.cross_val_score(model, iris.data, iris.target, cv=5)"
   ]
  },
  {
   "cell_type": "markdown",
   "id": "ae162d75-0fdb-46bd-bd3f-5fb9405d471f",
   "metadata": {},
   "source": [
    "The cross-validation is done in a *stratified* manner because it is the default for classifiers in `sklearn`. Stratification means that when making our trianing-testing splits for cross-validation, we want to respect the proportions of the targets that are present in our data. Let's look at an example from a small dataset targeting cats and dogs that we'll take two-fold training samples form."
   ]
  },
  {
   "cell_type": "code",
   "execution_count": 21,
   "id": "d7404022-728f-4aac-8291-51551b24d44f",
   "metadata": {},
   "outputs": [
    {
     "name": "stdout",
     "output_type": "stream",
     "text": [
      "[(array([3, 4, 5]), array([0, 1, 2])), (array([0, 1, 2]), array([3, 4, 5]))]\n"
     ]
    }
   ],
   "source": [
    "# not stratified \n",
    "pet = np.array(['cat', 'dog', 'cat',\n",
    "                'dog', 'dog', 'dog'])\n",
    "list_folds = list(skms.KFold(2).split(pet))\n",
    "print(list_folds)"
   ]
  },
  {
   "cell_type": "code",
   "execution_count": 22,
   "id": "5ac802fd-96b0-4068-9772-3a7722ce31d4",
   "metadata": {},
   "outputs": [
    {
     "name": "stdout",
     "output_type": "stream",
     "text": [
      "[[3 4 5]\n",
      " [0 1 2]]\n",
      "[['dog' 'dog' 'dog']\n",
      " ['cat' 'dog' 'cat']]\n"
     ]
    }
   ],
   "source": [
    "training_idxs = np.array(list_folds)[:, 0, :]\n",
    "print(training_idxs)\n",
    "print(pet[training_idxs])"
   ]
  },
  {
   "cell_type": "markdown",
   "id": "eabb1170-18aa-4ba7-b267-31da76e9e63f",
   "metadata": {},
   "source": [
    "There are no `cat`s in the first fold. There's not great. If that were our target, we would have no examples to learn about cats. Stratified sampling enforces fair play among the cats and dogs:"
   ]
  },
  {
   "cell_type": "code",
   "execution_count": 23,
   "id": "11db4b66-9f97-44ab-b4c4-9ef4828ab9f2",
   "metadata": {},
   "outputs": [
    {
     "name": "stdout",
     "output_type": "stream",
     "text": [
      "[['cat' 'dog' 'dog']\n",
      " ['cat' 'dog' 'dog']]\n"
     ]
    }
   ],
   "source": [
    "# stratified\n",
    "# note: typically this is behind the scenes\n",
    "# making StratifiedKFold produce readable output\n",
    "# requires some trickery.\n",
    "pet = np.array(['cat', 'dog', 'cat', 'dog', 'dog', 'dog'])\n",
    "idxs = np.array(list(skms.StratifiedKFold(2)\n",
    "                         .split(np.ones_like(pet), pet)))\n",
    "training_idxs = idxs[:, 0, :]\n",
    "print(pet[training_idxs])"
   ]
  },
  {
   "cell_type": "markdown",
   "id": "ef89f463-090a-41bf-97c8-0fa062832397",
   "metadata": {},
   "source": [
    "Now, both folds have a balanced number of cats and dogs, equal to their proportion in the overall dataset, ensuring we have the same *percent* of dogs and cats in each of our training sets as we do in our entire, available population. Without stratification, we could end up having too few (or even none) of a target class--in our nonstratified example, the first training set had no cats. That training data will not lead to a good model.\n",
    "\n",
    "Stratification is useful when (1) we have limited data overall or (2) we ahve classes that are poorly represented in our dataset. Poor representation might be due to rareness, if we are talking about an uncommon disease or winning lottery tickets, or it might be due to our data collection processes. Having a limited total amount of data makes *everything* rare, in a sense.\n",
    "\n",
    "How does the default stratification apply to the *iris* dataset in Chapter 3? It means that when we perform the CV splits, we can be sure that each of the training sets has a balanced representation from each of the three possible target flowers. IF we don't want stratification, it's slightly more tricky, but we can do it."
   ]
  },
  {
   "cell_type": "code",
   "execution_count": 24,
   "id": "82dc31f5-98cc-491c-9924-b1a5c2df0044",
   "metadata": {},
   "outputs": [
    {
     "data": {
      "text/plain": [
       "array([1.    , 1.    , 0.8667, 0.9667, 0.7667])"
      ]
     },
     "execution_count": 24,
     "metadata": {},
     "output_type": "execute_result"
    }
   ],
   "source": [
    "# running nonstratified CV\n",
    "iris = datasets.load_iris()\n",
    "model = neighbors.KNeighborsClassifier(10)\n",
    "non_strat_kf = skms.KFold(5)\n",
    "skms.cross_val_score(model,\n",
    "                     iris.data,\n",
    "                     iris.target,\n",
    "                     cv=non_strat_kf)"
   ]
  },
  {
   "cell_type": "markdown",
   "id": "114d0e48-029a-4202-bfc3-934c254645da",
   "metadata": {},
   "source": [
    "We can guess that the last fold probably had a bad distribution of flowers. We probably didn't see enough of one species to learn patterns to identify it."
   ]
  },
  {
   "cell_type": "markdown",
   "id": "b51db0b2-8ebd-43cd-b08d-2a24220db865",
   "metadata": {},
   "source": [
    "### 5.5.3 Repeated Train-Test Splits"
   ]
  },
  {
   "cell_type": "markdown",
   "id": "1466a5d4-aaf1-43b8-8243-e2fc545f6e69",
   "metadata": {},
   "source": [
    "Now, we will do some repeated coin flipping to generate several train-test splits. Why do we want to *repeat* the fundamental train-test split step? Any time we rely on randomness, we are subject to variation: several different train-test splits might give different results. Some will turn out well and others bad. Regarding train-test splits, we don't know ahead of time how well we expect to perform. If the problem is easy, all of the train-test splits will give a good learner that performs well on the test set. If it is a hard problem and we happen to select an easy subset of training data, we do great in training but perform horribly in testing. We can investigate the variation due to the train-test split by making many train-test splits and looking at different resutls. \n",
    "\n",
    "We do this by randomly resplitting several times and evaluating the outcomes. We can even compute stats, the mean, median, or variance, of the results if we want to get technical. The multiple values-one per train-test split- get us a distribution of the results and how often they occur. Repeated train-test splits get us a distribution of our evaluation measure, whether it is accuracy, root-mean-squared-error, or something else. The distribution is *not* over *every* possible source of variation. It simply takes into account one difference due to randomness: how we picked the training and testing data. We can see how *variable* our result is *due to* the randomness of mkaing a train-test split. Let's look at some results."
   ]
  },
  {
   "cell_type": "code",
   "execution_count": 25,
   "id": "dd5553f5-5c9e-43e0-a639-518c81785f81",
   "metadata": {},
   "outputs": [
    {
     "data": {
      "text/html": [
       "<div>\n",
       "<style scoped>\n",
       "    .dataframe tbody tr th:only-of-type {\n",
       "        vertical-align: middle;\n",
       "    }\n",
       "\n",
       "    .dataframe tbody tr th {\n",
       "        vertical-align: top;\n",
       "    }\n",
       "\n",
       "    .dataframe thead th {\n",
       "        text-align: right;\n",
       "    }\n",
       "</style>\n",
       "<table border=\"1\" class=\"dataframe\">\n",
       "  <thead>\n",
       "    <tr style=\"text-align: right;\">\n",
       "      <th>Repeat</th>\n",
       "      <th>0</th>\n",
       "      <th>1</th>\n",
       "      <th>2</th>\n",
       "      <th>3</th>\n",
       "      <th>4</th>\n",
       "      <th>5</th>\n",
       "      <th>6</th>\n",
       "      <th>7</th>\n",
       "      <th>8</th>\n",
       "      <th>9</th>\n",
       "    </tr>\n",
       "  </thead>\n",
       "  <tbody>\n",
       "    <tr>\n",
       "      <th>RMSE</th>\n",
       "      <td>49.0032</td>\n",
       "      <td>50.1912</td>\n",
       "      <td>51.9735</td>\n",
       "      <td>52.0722</td>\n",
       "      <td>53.2005</td>\n",
       "      <td>55.7008</td>\n",
       "      <td>56.2542</td>\n",
       "      <td>57.4917</td>\n",
       "      <td>58.6379</td>\n",
       "      <td>58.6942</td>\n",
       "    </tr>\n",
       "  </tbody>\n",
       "</table>\n",
       "</div>"
      ],
      "text/latex": [
       "{\\centering\n",
       "\\begin{tabular}{lrrrrrrrrrr}\n",
       "\\toprule\n",
       "Repeat &                    0 &                    1 &                    2 &                    3 &                    4 &                    5 &                    6 &                    7 &                    8 &                    9 \\\\\n",
       "\\midrule\n",
       "RMSE &              49.0032 &              50.1912 &              51.9735 &              52.0722 &              53.2005 &              55.7008 &              56.2542 &              57.4917 &              58.6379 &              58.6942 \\\\\n",
       "\\bottomrule\n",
       "\\end{tabular}\n",
       "\n",
       "\\medskip}"
      ],
      "text/plain": [
       "Repeat                    0                    1                    2  \\\n",
       "RMSE                49.0032              50.1912              51.9735   \n",
       "\n",
       "Repeat                    3                    4                    5  \\\n",
       "RMSE                52.0722              53.2005              55.7008   \n",
       "\n",
       "Repeat                    6                    7                    8  \\\n",
       "RMSE                56.2542              57.4917              58.6379   \n",
       "\n",
       "Repeat                    9  \n",
       "RMSE                58.6942  "
      ]
     },
     "metadata": {},
     "output_type": "display_data"
    }
   ],
   "source": [
    "# As a reminder, these are some of the imports \n",
    "# that are hidden behind: from mlwpy import *\n",
    "# from sklearn import (datasets, neighbors,\n",
    "#                      model_selection as skms,\n",
    "#                      linear_model, metrics)\n",
    "# see Appendix A for details\n",
    "\n",
    "linreg = linear_model.LinearRegression()\n",
    "diabetes = datasets.load_diabetes()\n",
    "\n",
    "scores = []\n",
    "for r in range(10):\n",
    "    tts = skms.train_test_split(diabetes.data,\n",
    "                                diabetes.target,\n",
    "                                test_size=.25)\n",
    "    (diabetes_train_ftrs, diabetes_test_ftrs,\n",
    "     diabetes_train_tgt, diabetes_test_tgt) = tts\n",
    "    \n",
    "    fit = linreg.fit(diabetes_train_ftrs, diabetes_train_tgt)\n",
    "    preds = fit.predict(diabetes_test_ftrs)\n",
    "    \n",
    "    score = metrics.mean_squared_error(diabetes_test_tgt, preds)\n",
    "    scores.append(score)\n",
    "    \n",
    "scores = pd.Series(np.sqrt(sorted(scores)))\n",
    "df = pd.DataFrame({'RMSE':scores})\n",
    "df.index.name = 'Repeat'\n",
    "display(df.T)\n"
   ]
  },
  {
   "cell_type": "markdown",
   "id": "ad2a4e9e-05eb-494d-a017-6386a853c9e3",
   "metadata": {},
   "source": [
    "Let's make a plot `swarmplot`, from the Seaborn library. It makes a single value plot--also called a stripplot--and stacks repeated values horizontally so you get a feel for where there are clumps of values."
   ]
  },
  {
   "cell_type": "code",
   "execution_count": 26,
   "id": "c98e1b0e-a8dc-4312-ae95-65fb1c28004d",
   "metadata": {},
   "outputs": [
    {
     "data": {
      "text/plain": [
       "Text(0.5, 0, 'Over Repeated\\nTrain-Test Splits')"
      ]
     },
     "execution_count": 26,
     "metadata": {},
     "output_type": "execute_result"
    },
    {
     "data": {
      "image/png": "[encoded data removed]",
      "text/plain": [
       "<Figure size 288x216 with 1 Axes>"
      ]
     },
     "metadata": {
      "needs_background": "light"
     },
     "output_type": "display_data"
    }
   ],
   "source": [
    "ax = plt.figure(figsize=(4, 3)).gca()\n",
    "sns.swarmplot(y='RMSE', data=df, ax=ax)\n",
    "ax.set_xlabel('Over Repeated\\nTrain-Test Splits')"
   ]
  },
  {
   "cell_type": "code",
   "execution_count": 27,
   "id": "7ec1b582-9d20-49dc-b7f1-4a5bf5dbf4d1",
   "metadata": {},
   "outputs": [
    {
     "data": {
      "text/html": [
       "<div>\n",
       "<style scoped>\n",
       "    .dataframe tbody tr th:only-of-type {\n",
       "        vertical-align: middle;\n",
       "    }\n",
       "\n",
       "    .dataframe tbody tr th {\n",
       "        vertical-align: top;\n",
       "    }\n",
       "\n",
       "    .dataframe thead th {\n",
       "        text-align: right;\n",
       "    }\n",
       "</style>\n",
       "<table border=\"1\" class=\"dataframe\">\n",
       "  <thead>\n",
       "    <tr style=\"text-align: right;\">\n",
       "      <th></th>\n",
       "      <th>count</th>\n",
       "      <th>mean</th>\n",
       "      <th>std</th>\n",
       "      <th>min</th>\n",
       "      <th>25%</th>\n",
       "      <th>50%</th>\n",
       "      <th>75%</th>\n",
       "      <th>max</th>\n",
       "    </tr>\n",
       "  </thead>\n",
       "  <tbody>\n",
       "    <tr>\n",
       "      <th>RMSE</th>\n",
       "      <td>10.0000</td>\n",
       "      <td>54.3219</td>\n",
       "      <td>3.5058</td>\n",
       "      <td>49.0032</td>\n",
       "      <td>51.9982</td>\n",
       "      <td>54.4507</td>\n",
       "      <td>57.1823</td>\n",
       "      <td>58.6942</td>\n",
       "    </tr>\n",
       "  </tbody>\n",
       "</table>\n",
       "</div>"
      ],
      "text/latex": [
       "{\\centering\n",
       "\\begin{tabular}{lrrrrrrrr}\n",
       "\\toprule\n",
       "{} &                count &                 mean &                  std &                  min &                  25\\% &                  50\\% &                  75\\% &                  max \\\\\n",
       "\\midrule\n",
       "RMSE &              10.0000 &              54.3219 &               3.5058 &              49.0032 &              51.9982 &              54.4507 &              57.1823 &              58.6942 \\\\\n",
       "\\bottomrule\n",
       "\\end{tabular}\n",
       "\n",
       "\\medskip}"
      ],
      "text/plain": [
       "                    count                 mean                  std  \\\n",
       "RMSE              10.0000              54.3219               3.5058   \n",
       "\n",
       "                      min                  25%                  50%  \\\n",
       "RMSE              49.0032              51.9982              54.4507   \n",
       "\n",
       "                      75%                  max  \n",
       "RMSE              57.1823              58.6942  "
      ]
     },
     "metadata": {},
     "output_type": "display_data"
    }
   ],
   "source": [
    "display(df.describe().T)"
   ]
  },
  {
   "cell_type": "markdown",
   "id": "1b0d47b0-a330-4b34-a2dd-cff6248e7962",
   "metadata": {},
   "source": [
    "When evaluating plots like this, always orient yourself to the scale of the data. We might think the data is pretty spread out, but upohn further review, we see it is clustered in the mid-to-upper 50s. Whether that is a lot depends on the size of the RMSE values--the mean is near 55, so we are in the ballpark of $ \\pm10%$. That's large enough to warrant our attention.\n",
    "\n",
    "Here's a way we can rewrite the score-computing code above with a list comprehension instead of a loop. The basic strategy is to (1) take the contents of the loop and turn it into a function and (2) use that function repeatedly in a list comprehension. The rewrite gets us a bit of performance gain. The biggest win is that we've given a *name* to our process of making a train-test split, fitting, predicting, and evaluating. Defining a function also gives us a single entity taht we can test for resource use and *reuse* in other code."
   ]
  },
  {
   "cell_type": "code",
   "execution_count": 28,
   "id": "9a283f4a-f068-459f-87a1-e9876a6022d1",
   "metadata": {},
   "outputs": [
    {
     "name": "stdout",
     "output_type": "stream",
     "text": [
      "3052.5402730578844\n"
     ]
    }
   ],
   "source": [
    "def tts_fit_score(model, data, msr, test_size=.25):\n",
    "    'apply a train-test split to fit model on data and eval with MSR '\n",
    "    tts = skms.train_test_split(data.data,\n",
    "                                data.target,\n",
    "                                test_size=test_size)\n",
    "    (train_ftrs, test_ftrs, train_tgt, test_tgt) = tts\n",
    "    fit = linreg.fit(train_ftrs, train_tgt)\n",
    "    preds = fit.predict(test_ftrs)\n",
    "    \n",
    "    score = msr(test_tgt, preds)\n",
    "    return score\n",
    "\n",
    "linreg = linear_model.LinearRegression()\n",
    "diabetes = datasets.load_diabetes()\n",
    "scores = [tts_fit_score(linreg, diabetes,\n",
    "                        metrics.mean_squared_error) for i in range(10)]\n",
    "\n",
    "print(np.mean(scores))"
   ]
  },
  {
   "cell_type": "markdown",
   "id": "b78e742e-460a-4b22-8210-acc4453b7ff3",
   "metadata": {},
   "source": [
    "With *k*-CV, we will get one, and only one, prediction for each and every example. Each example is in precisely one test bucket. The predictions for the *whole* dataset will be aggregated from the *k* models that are developed on different sets of data. With repeated train_test splits, we may completely ignore training or predicting on some examples and make repeated predictions on other examples as we see in the figure below. In repeated train-test splits, it is all subject too the randomness of our selection process.\n",
    "\n",
    "<img src=\"RTTS.jpg\" alt=\"RTTS\" style=\"width: 800px;\"/>"
   ]
  },
  {
   "cell_type": "markdown",
   "id": "5cb3e02a-949a-4256-921f-aec3ced82374",
   "metadata": {},
   "source": [
    "**Figure 5.8** RTTS may have duplication between repeats"
   ]
  },
  {
   "cell_type": "markdown",
   "id": "d9e82cda-75a1-4edf-a94a-6f467c19608a",
   "metadata": {},
   "source": [
    "### 5.5.4 A Better Way and Shuffling"
   ]
  },
  {
   "cell_type": "markdown",
   "id": "13dc11c2-5194-4f61-a679-9b1f445aa1c9",
   "metadata": {},
   "source": [
    "Managing the repeated looping to make multiple train-test splits was a bit annoy. It was not heart- or back-breaking, but there are many places we could make a mistake. It would be nice if someone wrapped the process up in a single stand-alone function. Fortunately, `sklearn` has done that. If we passa in a `ShuffleSplit` data-splitter to the `cv` argument of `cross_val_score`, we get precisely the algorithm we hand-coded above."
   ]
  },
  {
   "cell_type": "code",
   "execution_count": 29,
   "id": "80c5d099-55f4-47d0-a3e6-2bb09af44ffc",
   "metadata": {},
   "outputs": [
    {
     "data": {
      "text/html": [
       "<div>\n",
       "<style scoped>\n",
       "    .dataframe tbody tr th:only-of-type {\n",
       "        vertical-align: middle;\n",
       "    }\n",
       "\n",
       "    .dataframe tbody tr th {\n",
       "        vertical-align: top;\n",
       "    }\n",
       "\n",
       "    .dataframe thead th {\n",
       "        text-align: right;\n",
       "    }\n",
       "</style>\n",
       "<table border=\"1\" class=\"dataframe\">\n",
       "  <thead>\n",
       "    <tr style=\"text-align: right;\">\n",
       "      <th></th>\n",
       "      <th>count</th>\n",
       "      <th>mean</th>\n",
       "      <th>std</th>\n",
       "      <th>min</th>\n",
       "      <th>25%</th>\n",
       "      <th>50%</th>\n",
       "      <th>75%</th>\n",
       "      <th>max</th>\n",
       "    </tr>\n",
       "  </thead>\n",
       "  <tbody>\n",
       "    <tr>\n",
       "      <th>RMSE</th>\n",
       "      <td>10.0000</td>\n",
       "      <td>55.4388</td>\n",
       "      <td>3.5870</td>\n",
       "      <td>50.1900</td>\n",
       "      <td>52.9660</td>\n",
       "      <td>55.3967</td>\n",
       "      <td>58.3911</td>\n",
       "      <td>60.5432</td>\n",
       "    </tr>\n",
       "  </tbody>\n",
       "</table>\n",
       "</div>"
      ],
      "text/latex": [
       "{\\centering\n",
       "\\begin{tabular}{lrrrrrrrr}\n",
       "\\toprule\n",
       "{} &                count &                 mean &                  std &                  min &                  25\\% &                  50\\% &                  75\\% &                  max \\\\\n",
       "\\midrule\n",
       "RMSE &              10.0000 &              55.4388 &               3.5870 &              50.1900 &              52.9660 &              55.3967 &              58.3911 &              60.5432 \\\\\n",
       "\\bottomrule\n",
       "\\end{tabular}\n",
       "\n",
       "\\medskip}"
      ],
      "text/plain": [
       "                    count                 mean                  std  \\\n",
       "RMSE              10.0000              55.4388               3.5870   \n",
       "\n",
       "                      min                  25%                  50%  \\\n",
       "RMSE              50.1900              52.9660              55.3967   \n",
       "\n",
       "                      75%                  max  \n",
       "RMSE              58.3911              60.5432  "
      ]
     },
     "metadata": {},
     "output_type": "display_data"
    },
    {
     "data": {
      "text/plain": [
       "Text(0.5, 0, 'Over Repeated\\nTrain-Test Splits')"
      ]
     },
     "execution_count": 29,
     "metadata": {},
     "output_type": "execute_result"
    },
    {
     "data": {
      "image/png": "[encoded data removed]",
      "text/plain": [
       "<Figure size 432x288 with 1 Axes>"
      ]
     },
     "metadata": {
      "needs_background": "light"
     },
     "output_type": "display_data"
    }
   ],
   "source": [
    "linreg   = linear_model.LinearRegression()\n",
    "diabetes = datasets.load_diabetes()\n",
    "\n",
    "# nondefault cv=argument\n",
    "ss     = skms.ShuffleSplit(test_size=.25) # default, 10 splits\n",
    "scores = skms.cross_val_score(linreg,\n",
    "                               diabetes.data, diabetes.target,\n",
    "                               cv=ss,\n",
    "                               scoring='neg_mean_squared_error')\n",
    "\n",
    "scores = pd.Series(np.sqrt(-scores))\n",
    "df     = pd.DataFrame({'RMSE':scores})\n",
    "df.index.name = 'Repeat'\n",
    "display(df.describe().T)\n",
    "\n",
    "ax = sns.swarmplot(y='RMSE', data=df)\n",
    "ax.set_xlabel('Over Repeated\\nTrain-Test Splits')"
   ]
  },
  {
   "cell_type": "markdown",
   "id": "7457c483-5247-4cbc-992c-9861e268aa77",
   "metadata": {},
   "source": [
    "The slight differences with our manual version are due to randomly selecting the train-test splits. Now, we will talk about the randomness that goes on behind the scenes with `ShuffleSplit` and the `random_state` momentarily."
   ]
  },
  {
   "cell_type": "code",
   "execution_count": 30,
   "id": "14b82eae-8c44-4f47-9050-d91bb75bd1a6",
   "metadata": {},
   "outputs": [
    {
     "data": {
      "text/plain": [
       "array([ 16, 408, 432, 316,   3,  18, 355,  60, 398, 124])"
      ]
     },
     "execution_count": 30,
     "metadata": {},
     "output_type": "execute_result"
    }
   ],
   "source": [
    "ss = skms.ShuffleSplit(test_size=.25, random_state=42)\n",
    "\n",
    "train, test = 0, 1\n",
    "next(ss.split(diabetes.data))[train][:10]"
   ]
  },
  {
   "cell_type": "markdown",
   "id": "72241cb4-a0b5-4c16-82af-beb04e2f79df",
   "metadata": {},
   "source": [
    "We use `next` because `ShuffleSplit` relies on a Python generator to produce one split after another. `next` provides us with the next data split. After fetching the next data split, pick out the training data `[train]` and then the first ten examples `[:10]`."
   ]
  },
  {
   "cell_type": "code",
   "execution_count": 31,
   "id": "ec73685a-fa9f-4e6a-bdcd-a1faac57864d",
   "metadata": {},
   "outputs": [
    {
     "data": {
      "text/plain": [
       "array([ 16, 408, 432, 316,   3,  18, 355,  60, 398, 124])"
      ]
     },
     "execution_count": 31,
     "metadata": {},
     "output_type": "execute_result"
    }
   ],
   "source": [
    "ss = skms.ShuffleSplit(test_size=.25, random_state=42)\n",
    "next(ss.split(diabetes.data))[train][:10]"
   ]
  },
  {
   "cell_type": "markdown",
   "id": "e1d679d4-e024-4db2-a3a2-9f518a05cfef",
   "metadata": {},
   "source": [
    "Randomness on a computer is pseudo-random, being that it's a long list of numbers are random enough to fake their randomness. The values we generate will *look* mostly random, but the process used to generate them is deterministic. If we specify a starting point for the sequence of pseudo-random numbers, we get a reproducible list of the not-so-random values.\n",
    "\n",
    "When we use `random_state`, we set a starting point for `ShuffleSplit` to use when it asks for randomness. Repeatable train-test splitting is useful for creating reproducible test cases, sharing examples with students, and eliminating degrees of freedom when chasing down bugs.\n",
    "\n",
    "Here's another place a similar issue compes up. Let's do two separate runs of `KFold`ing."
   ]
  },
  {
   "cell_type": "code",
   "execution_count": 32,
   "id": "37bede22-c869-43ee-9937-f23ea776a549",
   "metadata": {},
   "outputs": [
    {
     "name": "stdout",
     "output_type": "stream",
     "text": [
      "Train: 0\n",
      "Test:  1\n",
      "KFold(n_splits=5, random_state=None, shuffle=False)\n",
      "[ 89  90  91  92  93  94  95  96  97  98  99 100 101 102 103 104 105 106\n",
      " 107 108 109 110 111 112 113 114 115 116 117 118 119 120 121 122 123 124\n",
      " 125 126 127 128 129 130 131 132 133 134 135 136 137 138 139 140 141 142\n",
      " 143 144 145 146 147 148 149 150 151 152 153 154 155 156 157 158 159 160\n",
      " 161 162 163 164 165 166 167 168 169 170 171 172 173 174 175 176 177 178\n",
      " 179 180 181 182 183 184 185 186 187 188 189 190 191 192 193 194 195 196\n",
      " 197 198 199 200 201 202 203 204 205 206 207 208 209 210 211 212 213 214\n",
      " 215 216 217 218 219 220 221 222 223 224 225 226 227 228 229 230 231 232\n",
      " 233 234 235 236 237 238 239 240 241 242 243 244 245 246 247 248 249 250\n",
      " 251 252 253 254 255 256 257 258 259 260 261 262 263 264 265 266 267 268\n",
      " 269 270 271 272 273 274 275 276 277 278 279 280 281 282 283 284 285 286\n",
      " 287 288 289 290 291 292 293 294 295 296 297 298 299 300 301 302 303 304\n",
      " 305 306 307 308 309 310 311 312 313 314 315 316 317 318 319 320 321 322\n",
      " 323 324 325 326 327 328 329 330 331 332 333 334 335 336 337 338 339 340\n",
      " 341 342 343 344 345 346 347 348 349 350 351 352 353 354 355 356 357 358\n",
      " 359 360 361 362 363 364 365 366 367 368 369 370 371 372 373 374 375 376\n",
      " 377 378 379 380 381 382 383 384 385 386 387 388 389 390 391 392 393 394\n",
      " 395 396 397 398 399 400 401 402 403 404 405 406 407 408 409 410 411 412\n",
      " 413 414 415 416 417 418 419 420 421 422 423 424 425 426 427 428 429 430\n",
      " 431 432 433 434 435 436 437 438 439 440 441]\n"
     ]
    },
    {
     "data": {
      "text/plain": [
       "array([89, 90, 91, 92, 93, 94, 95, 96, 97, 98])"
      ]
     },
     "execution_count": 32,
     "metadata": {},
     "output_type": "execute_result"
    }
   ],
   "source": [
    "train, test = 0, 1\n",
    "print(f'Train: {train}\\nTest:  {test}')\n",
    "kf = skms.KFold(5)\n",
    "print(kf)\n",
    "print(next(kf.split(diabetes.data))[train])\n",
    "next(kf.split(diabetes.data))[train][:10]"
   ]
  },
  {
   "cell_type": "code",
   "execution_count": 33,
   "id": "10afff97-4b79-48fe-9ff3-a213a777712f",
   "metadata": {},
   "outputs": [
    {
     "data": {
      "text/plain": [
       "array([89, 90, 91, 92, 93, 94, 95, 96, 97, 98])"
      ]
     },
     "execution_count": 33,
     "metadata": {},
     "output_type": "execute_result"
    }
   ],
   "source": [
    "kf = skms.KFold(5)\n",
    "next(kf.split(diabetes.data))[train][:10]"
   ]
  },
  {
   "cell_type": "code",
   "execution_count": 34,
   "id": "bb1643fe-d7e8-4d77-896d-f8521c0f2a19",
   "metadata": {},
   "outputs": [
    {
     "data": {
      "text/plain": [
       "array([89, 90, 91, 92, 93, 94, 95, 96, 97, 98])"
      ]
     },
     "execution_count": 34,
     "metadata": {},
     "output_type": "execute_result"
    }
   ],
   "source": [
    "kf = skms.KFold(5)\n",
    "next(kf.split(diabetes.data))[train][:10]"
   ]
  },
  {
   "cell_type": "markdown",
   "id": "14d66772-5d9e-45c9-be80-fe932dc39119",
   "metadata": {},
   "source": []
  },
  {
   "cell_type": "markdown",
   "id": "e9c2cf6a-ac59-4199-9c22-5e5ca8e4d99e",
   "metadata": {},
   "source": [
    "The lack of randomness, in places we *want* randomness, is starting to get a little old. The issue here is the default parameters to `KFold`.\n",
    "\n",
    "```python\n",
    "skms.KFold(n_splits=3, shuffle=False, random_state=None)\n",
    "```\n",
    "\n",
    "`shuffle=False`, the default, means that we *don't* shake up the examples before distributing them to different folds. If we *want* them shaken up, we need to say so. To keep the examples more readable, we switch back to the simple `pet` targets."
   ]
  },
  {
   "cell_type": "markdown",
   "id": "d8f2173a-2783-4ae3-96f8-4f495ad29cbe",
   "metadata": {},
   "source": [
    "#### 5.5.4.1 sklearn.model_selection.KFold\n",
    "```python\n",
    "class sklearn.model_selection.KFold(n_splits=5, *, shuffle=False, random_state=None)\n",
    "\n",
    "from sklearn import model_selection\n",
    "\n",
    "split(x, y=None, groups=None)\n",
    "```\n",
    "The `split()` method generates indices to split data into training and test sets. It yields a train: *ndarray* and an test: *ndarray*. "
   ]
  },
  {
   "cell_type": "code",
   "execution_count": 35,
   "id": "65f0eac4-1838-41e7-9a6e-b4c23647c903",
   "metadata": {},
   "outputs": [
    {
     "name": "stdout",
     "output_type": "stream",
     "text": [
      "Pet: ['cat' 'dog' 'cat' 'dog' 'dog' 'dog']\n",
      "kf: KFold(n_splits=3, random_state=None, shuffle=True)\n",
      "kf: 3\n",
      "Split group 1: [0 1 4 5]\n",
      "Split group 2: [0 1 3 5]\n",
      "Split group 1: ['cat' 'dog' 'dog' 'dog']\n",
      "Split group 2: ['cat' 'dog' 'dog' 'dog']\n"
     ]
    }
   ],
   "source": [
    "pet = np.array(['cat', 'dog', 'cat',\n",
    "                'dog', 'dog', 'dog'])\n",
    "\n",
    "kf = skms.KFold(3, shuffle=True)\n",
    "\n",
    "train, test = 0, 1\n",
    "split_1_group_1 = next(kf.split(pet))[train]\n",
    "split_2_group_1 = next(kf.split(pet))[train]\n",
    "\n",
    "print(f'Pet: {pet}')\n",
    "\n",
    "print(f'kf: {kf}')\n",
    "print(f'kf: {kf.get_n_splits()}')\n",
    "\n",
    "print(f'Split group 1: {split_1_group_1}')\n",
    "print(f'Split group 2: {split_2_group_1}')\n",
    "\n",
    "print(f'Split group 1: {pet[split_1_group_1]}')\n",
    "print(f'Split group 2: {pet[split_2_group_1]}')"
   ]
  },
  {
   "cell_type": "markdown",
   "id": "f0f40a7c-a775-427d-9cc8-68ac734e6dba",
   "metadata": {},
   "source": [
    "If we set a random state, it's shared by the splitters."
   ]
  },
  {
   "cell_type": "code",
   "execution_count": 36,
   "id": "61cf5601-e680-41cc-ac1d-fcc21a9a6e97",
   "metadata": {},
   "outputs": [
    {
     "name": "stdout",
     "output_type": "stream",
     "text": [
      "[0 2 3 5] [0 2 3 5]\n"
     ]
    }
   ],
   "source": [
    "kf = skms.KFold(3, shuffle=True, random_state=2)\n",
    "\n",
    "split_1_group_1 = next(kf.split(pet))[train]\n",
    "split_2_group_1 = next(kf.split(pet))[train]\n",
    "print(split_1_group_1,\n",
    "      split_2_group_1)"
   ]
  },
  {
   "cell_type": "markdown",
   "id": "1dfab749-5f2e-44a3-a5ef-02a6f73b98d5",
   "metadata": {},
   "source": [
    "# 5.5.5 Leave-One-Out Cross-Validation\n",
    "\n",
    "With 20 training examples, we could potentially make 20 train-test splits, do 20 training fits, do 20 testing rounds, and get 20 resulting evaluations. This version of CV is called *leave-one-out cross-validation* (LOOCV) it is interesting because *all* of the models we generate are going to have *almost all* of their training data in common. \n",
    "\n",
    "With 20 examples, 90% of the data is shared between any two training runs. You can refer back to Figure 5.7 to see it visually."
   ]
  },
  {
   "cell_type": "markdown",
   "id": "918771eb-8975-484e-a57a-461bf6191cf4",
   "metadata": {},
   "source": [
    "from sklearn.linear_model import LinearRegression"
   ]
  },
  {
   "cell_type": "code",
   "execution_count": 37,
   "id": "0fb82032-2529-465b-86b2-a68f258b1d3b",
   "metadata": {
    "tags": []
   },
   "outputs": [
    {
     "data": {
      "text/html": [
       "<div>\n",
       "<style scoped>\n",
       "    .dataframe tbody tr th:only-of-type {\n",
       "        vertical-align: middle;\n",
       "    }\n",
       "\n",
       "    .dataframe tbody tr th {\n",
       "        vertical-align: top;\n",
       "    }\n",
       "\n",
       "    .dataframe thead th {\n",
       "        text-align: right;\n",
       "    }\n",
       "</style>\n",
       "<table border=\"1\" class=\"dataframe\">\n",
       "  <thead>\n",
       "    <tr style=\"text-align: right;\">\n",
       "      <th></th>\n",
       "      <th>count</th>\n",
       "      <th>mean</th>\n",
       "      <th>std</th>\n",
       "      <th>min</th>\n",
       "      <th>25%</th>\n",
       "      <th>50%</th>\n",
       "      <th>75%</th>\n",
       "      <th>max</th>\n",
       "    </tr>\n",
       "  </thead>\n",
       "  <tbody>\n",
       "    <tr>\n",
       "      <th>RMSE</th>\n",
       "      <td>442.0000</td>\n",
       "      <td>44.3557</td>\n",
       "      <td>32.1973</td>\n",
       "      <td>0.2075</td>\n",
       "      <td>18.4820</td>\n",
       "      <td>39.5472</td>\n",
       "      <td>63.9738</td>\n",
       "      <td>158.2355</td>\n",
       "    </tr>\n",
       "  </tbody>\n",
       "</table>\n",
       "</div>"
      ],
      "text/latex": [
       "{\\centering\n",
       "\\begin{tabular}{lrrrrrrrr}\n",
       "\\toprule\n",
       "{} &                count &                 mean &                  std &                  min &                  25\\% &                  50\\% &                  75\\% &                  max \\\\\n",
       "\\midrule\n",
       "RMSE &             442.0000 &              44.3557 &              32.1973 &               0.2075 &              18.4820 &              39.5472 &              63.9738 &             158.2355 \\\\\n",
       "\\bottomrule\n",
       "\\end{tabular}\n",
       "\n",
       "\\medskip}"
      ],
      "text/plain": [
       "                    count                 mean                  std  \\\n",
       "RMSE             442.0000              44.3557              32.1973   \n",
       "\n",
       "                      min                  25%                  50%  \\\n",
       "RMSE               0.2075              18.4820              39.5472   \n",
       "\n",
       "                      75%                  max  \n",
       "RMSE              63.9738             158.2355  "
      ]
     },
     "metadata": {},
     "output_type": "display_data"
    },
    {
     "data": {
      "image/png": "[encoded data removed]",
      "text/plain": [
       "<Figure size 432x288 with 1 Axes>"
      ]
     },
     "metadata": {
      "needs_background": "light"
     },
     "output_type": "display_data"
    }
   ],
   "source": [
    "linreg = linear_model.LinearRegression()\n",
    "diabetes = datasets.load_diabetes()\n",
    "\n",
    "loo = skms.LeaveOneOut()\n",
    "scores = skms.cross_val_score(linreg,\n",
    "                              diabetes.data, diabetes.target,\n",
    "                              cv=loo,\n",
    "                              scoring='neg_mean_squared_error')\n",
    "scores = pd.Series(np.sqrt(-scores))\n",
    "df = pd.DataFrame({'RMSE':scores})\n",
    "df.index.name = 'Repeat'\n",
    "\n",
    "display(df.describe().T)\n",
    "ax = sns.swarmplot(y='RMSE', data=df)\n",
    "ax.set_xlabel('Over LOO\\nTrain-Test Splits')\n",
    "plt.show()"
   ]
  },
  {
   "cell_type": "code",
   "execution_count": 38,
   "id": "208cfe92-88f0-4eb8-87aa-c7b1694cf365",
   "metadata": {},
   "outputs": [
    {
     "name": "stdout",
     "output_type": "stream",
     "text": [
      "diabetes dataset length: 442\n"
     ]
    }
   ],
   "source": [
    "print(f'diabetes dataset length: {len(diabetes.data)}')"
   ]
  },
  {
   "cell_type": "markdown",
   "id": "740c1010-e9b6-4dbf-8de3-005b6d70088d",
   "metadata": {},
   "source": [
    "Curiously, about three noticeable points have a high RMSE and about twenty points form a distinct peak about the main body of the errors (RMSE > 100). There are about twenty points that are resistant to prediction with the model we are building using almost all of the data. It would be worthwhile to investigate any common factors in those difficult examples.\n",
    "\n",
    "LOOCV is a deterministic evaluation method, which means there's no randomness in the selection because everything is used in the save way every time we runm LOOCV. This can be useful for comparing and testing correctness of learning algorithms. It can be expensive to run LOOCV because we need to train the model once for each left-out example.\n",
    "\n",
    "The net effect on the evaluatoin side of incorporating lots of training data in every CV partition is that LOOCV gives a relatively unbiased estimate of the real error rate. Because the single-example predictions are so closely related and most of the training data is shared and piped into the same learning algorithm--the estimates of our performance error on *new* examlpes can vary widely. Overall, a general recommendation is to prefer 5- or 10-fold CV to LOOCV."
   ]
  },
  {
   "cell_type": "markdown",
   "id": "f28413cb-cbe2-4058-80e4-b308b82a2c3b",
   "metadata": {
    "jp-MarkdownHeadingCollapsed": true,
    "tags": []
   },
   "source": [
    "## 5.6 Break-It-Down: Deconstructing Error into Bias and Variance\n",
    "\n",
    "### 5.6.1 Variance of the Data\n",
    "\n",
    "---\n",
    "\n",
    "1. When we have an incorrect class or a MSE greater than zero, in other words when we make a mistake, there may be a few different causes. One of the causes is actual randomness in the relatoinship betwen the input features and the output target, we have no real control over.\n",
    "    1. College graduates that majored in economics and have five years of professional work experience will earn different amounts of money.\n",
    "    2. In the race track example, randomness may occur due to our timing devices or user error.\n",
    "   \n",
    "1. Having a rnage of outputs is a fundamental difference between the mathematical functions you saw in high school and random processes. \n",
    "    1. Instead of a single input having one-and-only-one output, a single input can have a distribution or a range of outputs. \n",
    "    2. Therefore, the degree to which our data is affected by randomness--either in measurement or in real-world differences--is called the *variance of the data*.\n",
    "    \n",
    "### 5.6.2 Variance of the Model\n",
    "\n",
    "---\n",
    "\n",
    "1. There are some sources of error we *can* control in a learning system, though there are limits on our control.\n",
    "    1. When we choose our training and testing datasets at random in a machine learning model, we lose some control over the outcome. \n",
    "        1. Therefore, model parameters are subject to the coin-flipping choice o training data.\n",
    "        2. Flipping the coins again gives us different training data.\n",
    "        3. Different training data gives us a different trained model.\n",
    "        4. The *variance of the model* is the way models vary due to the random selection of the data we train on.\n",
    "2. If we have a very bad data point, with a 1-NN model, most training and testing examples are unaffected by it.\n",
    "    1. However, for anyone that *is* the nearest neighbor of the bad example, things will go wrong.\n",
    "    2. If, however, we used a large number of neighbors, the effect of that example would be diluted out among many other training examples.\n",
    "        3. We have a tradeoff: being able to account for tricky examlpes also leaves us exposed to following bad examples.\n",
    "\n",
    "### 5.6.3 Bias of the Model\n",
    "\n",
    "---\n",
    "\n",
    "1. The last source of error is where we have the most control, the bias of the model.\n",
    "    1. As an example, a line has great difficulty following the path of a parabola.\n",
    "2. We can eliminate the noise, or the inherent randomness, by considering only a best-guess output for any given input.\n",
    "    1. A model that cannot match the *actual* relationship between the inputs and outputs, after ignoring the inherent noisiness in the data--has higher *bias*.\n",
    "        1. Highly biased models have difficulty capturing complicated patterns.\n",
    "        2. Models with low bias can follow more complicated patterns.\n",
    "\n",
    "### 5.6.4 All Together Now\n",
    "\n",
    "---\n",
    "\n",
    "1. Together, these three components give us a fundamental breakdown of the sources of errors in our predictions.\n",
    "    1. The variability in our data\n",
    "    2. the variability in creating our predicting model from training data\n",
    "    3. the bias of our model.\n",
    "        1. The relationship between these and our overall error is called the *bias-variance decomposition* written mathematically as $$ Error = Bias_{Learner} + Variance_{Learner(Training)} + Variance_{Data} $$\n",
    "        2. The errors in our predictions are due to the randomness in the data, variability in building our model from training data, and the difference between the relatoinships our model can express and the actual, *true* relationship in the data.\n",
    "\n",
    "### 5.6.5 Examples of Bias-Variance Tradeoffs\n",
    "\n",
    "---\n",
    "\n",
    "We will look at some concrete examples of the bias-variance tradeoff by looking at how it applies to *k*-Nearest Neighbors, Linear Regression, and Naive Bayes.\n",
    "\n",
    "#### 5.6.5.1 Bias-Variance for *k*-NN\n",
    "\n",
    "---\n",
    "\n",
    "Let's consider what happens when we vary the number of neighbors in *k*-NN models to the extreme. \n",
    "\n",
    "1. The fewest number of neighbors we can choose is one, which amounts to saying, \"If I am a new example, find who is most like me and label me with their target.\"\n",
    "    1. 1-NN has the potential to have a very jagged or wiggly board.\n",
    "    2. Every training examples gets to have its own say without consulting any of else.\n",
    "        1. Once we find the cloest example, we ignore what anyone else says.\n",
    "        2. With ten training examples, once we choose a closest neighbor, nothing about the other nine matters.\n",
    "2. When we do the opposite and do a 10-NN when we have ten examples, the strategy becomes to find the ten closest neighbors of a new example and average their target.\n",
    "    1. With 10 total example, every new example we come across has the exact same ten nearest neighbors.\n",
    "    2. Therefore, no matter the example, we are averaging *everyone's* target value.\n",
    "        1. This is equivalent to saying \"Make my predicted value the overall training mean.\"\n",
    "        2. Here, are predictions have no border, they are all exactly the same.\n",
    "            1. In other words, we predict the same value regardless of the input predictor values.\n",
    "            2. The only more biased prediciotn would be predicting some constant--say, 50--that isn't computed from the data at all.\n",
    "3. Decreasing ⬇ the number of neighbors increases ⬆ our variance and decreases ⬇ our bias (the model makes separate predictions for each training example because they are not average across all of the same NNs for each new test example).\n",
    "4. Increasing ⬆ the number of neighbors decreases ⬇ our variance and increases ⬆ our bias (all the predictions are the same)\n",
    "<img src=\"bias-variance.jpg\" alt=\"bias-variance\" style=\"width: 800px;\"/>\n",
    "\n",
    "**Figure x** Bias in *k*-NN\n",
    "\n",
    "#### 5.6.5.2 Bias-Variance for Linear Regression\n",
    "\n",
    "---\n",
    "\n",
    "1. Consider two linear regression models, *ConstantLinear* predicts a flat horizontal line and *PlainLinear* is a standard line that can incline and tilt.\n",
    "    1. *ConstantLinear* - sets all weights except $ w_0 $ to zero and gives the same output value regardless of input.\n",
    "        1. High bias\n",
    "        2. Low Variance\n",
    "    2. Few: include a few features, most $ w_i = 0 $\n",
    "    3. Many: include many features, a few $ w_i = 0 $ \n",
    "    4. *PlainLinear* - include all features, no $ w_i = 0 $\n",
    "        1. Low bias\n",
    "        2. High Variance\n",
    "2. With these variations, we have a spectrum of complexitities for our linear regression model as we saw with *k*-NN.\n",
    "    1. By setting more weights to zero and including fewer features, we cannot distinguish between differences represented in the lost features.\n",
    "        1. Our model gets *flatter* with respect to the missing dimensions.\n",
    "    <br><img src=\"shadow.jpg\" alt=\"shadow\" style=\"width: 800px;\"/>\n",
    "    2. By *extending* the features we include, such as by adding more *polynomial* terms like $x^2 and x^3$ we can accomodate more bends or wiggles in our data.\n",
    "        1. We use these bends to capture examples that appear to be oddities.\n",
    "        2. This also means we can be fooled by noise.\n",
    "    <br><img src=\"extend.jpg\" alt=\"extend\" style=\"width: 800px;\"/>\n",
    "    3. In linear regression, adding features, such as polynomial terms, decreases bias but increases variance. On the other hand, forcing the weights of features to zero increases bias and decreases variances.\n",
    "\n",
    "#### 5.6.5.3 Relating *k*-NN and Linear Regression\n",
    "\n",
    "---\n",
    "\n",
    "1. The most biased linear regression and nearest-neighbors models *both predict the mean*.\n",
    "    1. The constant linear model predicts a single value everywhere: *the mean*.\n",
    "    2. a *k*-NN system that has *k* equal to the number of examples in the training dataset takes into account all of the data and summarizies it, and this summary can be the *mean*.\n",
    "2. On the other end of the spectrum, the end with less bias, we get complexity in two very different ways.\n",
    "    1. *PlainLinear* includes information from all features, but trades off feature values, based on parameter weights, to get a \"central\" predicted value.\n",
    "    2. *1*-NN includes information from all the *features* in the distance calculation, but it only considers the closest *example* to get the prediction value.\n",
    "3. Consulting *more examples* in nearest neighbors leads to *more bias*, yet consulting *more features* in linear regression leads to *less bias*.\n",
    "    1. The explanation is that in nearest neighbors, when we consult someone else, we average the differences between examples.\n",
    "    2. Therefore, this has as much to do with our method of aggregating the informatoin as it does with the fact that we are consulting more examples.\n",
    "\n",
    "#### 5.6.5.4 Bias-Variance for Naive Bayes\n",
    "\n",
    "---\n",
    "\n",
    "What is the bias-variance of NB? Describing the tradeoff with NB is a little different because Naive Bayes is more like a single point on a spectrum of assumptions. \n",
    "\n",
    "1. The spectrum that NB lives on has *the number of conditional independence assumptions* on its *x* axis for complexity. \n",
    "    1. NB makes almost as many of these as possible: everything is conditionally independent given the class.\n",
    "        <br><img src=\"NB.jpg\" alt=\"NB\" style=\"width: 800px;\"/>\n",
    "    2. If a class is independent of all features, which we could describe as the ultimate independence assumption, the best we can do is guess based on the class distribution.\n",
    "       1. For a continuous target, this implies that we guess the *mean*.\n",
    "    3. Other, more complicated models that try to add complexity to NB could make fewer and fewer independence assumptions.\n",
    "       1. These models would come with more and more complicated claims about dependency.\n",
    "       2. Eventually we get the most complicated type fo dependency, the dreaded *full joint distribution.* \n",
    "           1. If we want to adequatly capture the distincitions in a fully dependent joint distribution, we need an amount of data that is exponentional in the number of features of the data.\n",
    "           2. For each additional feature we need something like another factor-of-10 examples.\n",
    "           3. If we need 100 examples for two features, we need 1000 for three features and so forth.\n",
    "\n",
    "#### 5.6.5.5 Summary Table\n",
    "\n",
    "---\n",
    "\n",
    "Each learning method, motivated by different priorities and data conceptualizations, all have a common starting point: in a simple enough scenario, they all predict the *mean*. Nearest neighbors with every example predicts the mean, if we choose it as our summary calculation. Linear regression with only $w_0$? The $w_0$ is the mean. A simpler form of Naive Bayes, is exactly the mean, or the most frequent value for a classification problem of the output target.\n",
    "\n",
    "However, each method extends that in different ways.\n",
    "\n",
    "| Scenario | Example | Good | Bad | Risk |\n",
    "| :--- | :--- | :--- | :--- | :--- |\n",
    "| high bias & low variance | more neighbors | resists noise | misses pattern | underfit | \n",
    "| | low-degree polynomial | forced to generalize | | |\n",
    "| | smaller or zero linear regression coefficients | | | \n",
    "| | more independence assumptions | | |\n",
    "| low bias & high variance | fewer neighbors | follows complex patterns | follows noise | overfit |\n",
    "| | high-degree polynomial | | memorizes training data | |\n",
    "| | bigger linear regression coefficients | | |\n",
    "| | fewer independence assumptions | | |"
   ]
  },
  {
   "cell_type": "markdown",
   "id": "df6681eb-4aed-479f-ac33-f5ac3bccc365",
   "metadata": {},
   "source": [
    "## 5.7 Graphical Evaluation and Comparison\n",
    "\n",
    "### 5.7.1 Learning Curves How Much Data Do We Need? \n",
    "\n",
    "One of the simplest questions we can ask about a learning system is how its performance increases as we give it more data. `sklearn` provides `learning_curve` to do the calculations we need."
   ]
  },
  {
   "cell_type": "code",
   "execution_count": 39,
   "id": "de83d24e-1a98-42a9-bff7-f88bbdc2dac8",
   "metadata": {},
   "outputs": [
    {
     "data": {
      "text/html": [
       "<div>\n",
       "<style scoped>\n",
       "    .dataframe tbody tr th:only-of-type {\n",
       "        vertical-align: middle;\n",
       "    }\n",
       "\n",
       "    .dataframe tbody tr th {\n",
       "        vertical-align: top;\n",
       "    }\n",
       "\n",
       "    .dataframe thead th {\n",
       "        text-align: right;\n",
       "    }\n",
       "</style>\n",
       "<table border=\"1\" class=\"dataframe\">\n",
       "  <thead>\n",
       "    <tr style=\"text-align: right;\">\n",
       "      <th></th>\n",
       "      <th>0</th>\n",
       "      <th>1</th>\n",
       "      <th>2</th>\n",
       "      <th>3</th>\n",
       "      <th>4</th>\n",
       "      <th>Mean 5-CV</th>\n",
       "    </tr>\n",
       "    <tr>\n",
       "      <th>% Data Used</th>\n",
       "      <th></th>\n",
       "      <th></th>\n",
       "      <th></th>\n",
       "      <th></th>\n",
       "      <th></th>\n",
       "      <th></th>\n",
       "    </tr>\n",
       "  </thead>\n",
       "  <tbody>\n",
       "    <tr>\n",
       "      <th>10</th>\n",
       "      <td>0.3333</td>\n",
       "      <td>0.3333</td>\n",
       "      <td>0.3333</td>\n",
       "      <td>0.3333</td>\n",
       "      <td>0.3333</td>\n",
       "      <td>0.3333</td>\n",
       "    </tr>\n",
       "    <tr>\n",
       "      <th>20</th>\n",
       "      <td>0.3333</td>\n",
       "      <td>0.3333</td>\n",
       "      <td>0.3333</td>\n",
       "      <td>0.3333</td>\n",
       "      <td>0.3333</td>\n",
       "      <td>0.3333</td>\n",
       "    </tr>\n",
       "    <tr>\n",
       "      <th>30</th>\n",
       "      <td>0.3333</td>\n",
       "      <td>0.3333</td>\n",
       "      <td>0.3333</td>\n",
       "      <td>0.3333</td>\n",
       "      <td>0.3333</td>\n",
       "      <td>0.3333</td>\n",
       "    </tr>\n",
       "    <tr>\n",
       "      <th>40</th>\n",
       "      <td>0.6667</td>\n",
       "      <td>0.6667</td>\n",
       "      <td>0.6667</td>\n",
       "      <td>0.6667</td>\n",
       "      <td>0.6667</td>\n",
       "      <td>0.6667</td>\n",
       "    </tr>\n",
       "    <tr>\n",
       "      <th>50</th>\n",
       "      <td>0.6667</td>\n",
       "      <td>0.6667</td>\n",
       "      <td>0.6667</td>\n",
       "      <td>0.6667</td>\n",
       "      <td>0.6667</td>\n",
       "      <td>0.6667</td>\n",
       "    </tr>\n",
       "    <tr>\n",
       "      <th>60</th>\n",
       "      <td>0.6667</td>\n",
       "      <td>0.6667</td>\n",
       "      <td>0.6667</td>\n",
       "      <td>0.6667</td>\n",
       "      <td>0.6667</td>\n",
       "      <td>0.6667</td>\n",
       "    </tr>\n",
       "    <tr>\n",
       "      <th>70</th>\n",
       "      <td>0.9000</td>\n",
       "      <td>0.8000</td>\n",
       "      <td>0.8333</td>\n",
       "      <td>0.8667</td>\n",
       "      <td>0.8000</td>\n",
       "      <td>0.8400</td>\n",
       "    </tr>\n",
       "    <tr>\n",
       "      <th>80</th>\n",
       "      <td>0.9667</td>\n",
       "      <td>0.9333</td>\n",
       "      <td>0.9000</td>\n",
       "      <td>0.9000</td>\n",
       "      <td>0.9667</td>\n",
       "      <td>0.9333</td>\n",
       "    </tr>\n",
       "    <tr>\n",
       "      <th>90</th>\n",
       "      <td>0.9667</td>\n",
       "      <td>1.0000</td>\n",
       "      <td>0.9000</td>\n",
       "      <td>0.9667</td>\n",
       "      <td>1.0000</td>\n",
       "      <td>0.9667</td>\n",
       "    </tr>\n",
       "    <tr>\n",
       "      <th>100</th>\n",
       "      <td>0.9667</td>\n",
       "      <td>1.0000</td>\n",
       "      <td>0.9333</td>\n",
       "      <td>0.9667</td>\n",
       "      <td>1.0000</td>\n",
       "      <td>0.9733</td>\n",
       "    </tr>\n",
       "  </tbody>\n",
       "</table>\n",
       "</div>"
      ],
      "text/latex": [
       "{\\centering\n",
       "\\begin{tabular}{lrrrrrr}\n",
       "\\toprule\n",
       "{} &                    0 &                    1 &                    2 &                    3 &                    4 &            Mean 5-CV \\\\\n",
       "\\% Data Used &                      &                      &                      &                      &                      &                      \\\\\n",
       "\\midrule\n",
       "10          &               0.3333 &               0.3333 &               0.3333 &               0.3333 &               0.3333 &               0.3333 \\\\\n",
       "20          &               0.3333 &               0.3333 &               0.3333 &               0.3333 &               0.3333 &               0.3333 \\\\\n",
       "30          &               0.3333 &               0.3333 &               0.3333 &               0.3333 &               0.3333 &               0.3333 \\\\\n",
       "40          &               0.6667 &               0.6667 &               0.6667 &               0.6667 &               0.6667 &               0.6667 \\\\\n",
       "50          &               0.6667 &               0.6667 &               0.6667 &               0.6667 &               0.6667 &               0.6667 \\\\\n",
       "60          &               0.6667 &               0.6667 &               0.6667 &               0.6667 &               0.6667 &               0.6667 \\\\\n",
       "70          &               0.9000 &               0.8000 &               0.8333 &               0.8667 &               0.8000 &               0.8400 \\\\\n",
       "80          &               0.9667 &               0.9333 &               0.9000 &               0.9000 &               0.9667 &               0.9333 \\\\\n",
       "90          &               0.9667 &               1.0000 &               0.9000 &               0.9667 &               1.0000 &               0.9667 \\\\\n",
       "100         &               0.9667 &               1.0000 &               0.9333 &               0.9667 &               1.0000 &               0.9733 \\\\\n",
       "\\bottomrule\n",
       "\\end{tabular}\n",
       "\n",
       "\\medskip}"
      ],
      "text/plain": [
       "                               0                    1                    2  \\\n",
       "% Data Used                                                                  \n",
       "10                        0.3333               0.3333               0.3333   \n",
       "20                        0.3333               0.3333               0.3333   \n",
       "30                        0.3333               0.3333               0.3333   \n",
       "40                        0.6667               0.6667               0.6667   \n",
       "50                        0.6667               0.6667               0.6667   \n",
       "60                        0.6667               0.6667               0.6667   \n",
       "70                        0.9000               0.8000               0.8333   \n",
       "80                        0.9667               0.9333               0.9000   \n",
       "90                        0.9667               1.0000               0.9000   \n",
       "100                       0.9667               1.0000               0.9333   \n",
       "\n",
       "                               3                    4            Mean 5-CV  \n",
       "% Data Used                                                                 \n",
       "10                        0.3333               0.3333               0.3333  \n",
       "20                        0.3333               0.3333               0.3333  \n",
       "30                        0.3333               0.3333               0.3333  \n",
       "40                        0.6667               0.6667               0.6667  \n",
       "50                        0.6667               0.6667               0.6667  \n",
       "60                        0.6667               0.6667               0.6667  \n",
       "70                        0.8667               0.8000               0.8400  \n",
       "80                        0.9000               0.9667               0.9333  \n",
       "90                        0.9667               1.0000               0.9667  \n",
       "100                       0.9667               1.0000               0.9733  "
      ]
     },
     "metadata": {},
     "output_type": "display_data"
    }
   ],
   "source": [
    "iris = datasets.load_iris()\n",
    "\n",
    "# 10 data set sizes: 10% - 100%\n",
    "# (that much data is piped to a 5-fold CV)\n",
    "train_sizes = np.linspace(.1, 1.0, 10)\n",
    "nn = neighbors.KNeighborsClassifier()\n",
    "\n",
    "(train_N,\n",
    " train_scores,\n",
    " test_scores) = skms.learning_curve(nn, iris.data, iris.target, cv=5, train_sizes=train_sizes)\n",
    "\n",
    "# collapse across the 5 CV scores; one result for each data set size\n",
    "df = pd.DataFrame(test_scores, index=(train_sizes*100).astype(np.int))\n",
    "df['Mean 5-CV'] = df.mean(axis='columns')\n",
    "df.index.name = '% Data Used'\n",
    "display(df)"
   ]
  },
  {
   "cell_type": "markdown",
   "id": "7ee00d4f-de0b-41cd-9552-2f520a7b278d",
   "metadata": {},
   "source": [
    "`learning_curve` returns arrays with two dimensions: the number of training sizes by the number of cv-folds, which we can refer to as `(percents, folds)`. Above, that translates into `(10, 5)`. \n",
    "\n",
    "Turning the table above into graphs can be a bit of a headache, but seaborn provides a helper for this, which is being deprecated. `tsplot` creates multiple overlaid graphs, one for each condition, such as the train and test conditions in this case, and gives us a senter and a range based on the repeated measurements.\n",
    "\n",
    "`tsplot` expects data with three components: times, conditions, and repeats. These three components becomes the *x* axis, the grouper (one line), and the repeats (the width around the line).\n",
    "\n",
    "The grouping keeps data points together. We need to know which data belongs with which shade because we are grouping multiple data on the graph. The repeats are the multiple assessments of the same scenario subject to some random variation. `tsplot` expects these components in the following order: `(repeats, times, conditions)`.\n",
    "\n",
    "If we take the results of `learning_curve` and stack `train_scores` and `test_scores` on the outermost diemsion, we get `train_test condition, percents, folds`. Reformatting for `learning_curve`, we need the dimensions turned inside out because `folds, percents, conditions` lines up with `tsplots` `(repeats, times, conditions)`.  We doing this using `np.transpose.`"
   ]
  },
  {
   "cell_type": "code",
   "execution_count": 40,
   "id": "b90bd7c3-9c5d-49ac-9b3d-17f2226214ee",
   "metadata": {},
   "outputs": [
    {
     "name": "stdout",
     "output_type": "stream",
     "text": [
      "[[[1.     0.3333]\n",
      "  [1.     0.3333]\n",
      "  [1.     0.3333]\n",
      "  [1.     0.6667]\n",
      "  [1.     0.6667]\n",
      "  [1.     0.6667]\n",
      "  [0.9881 0.9   ]\n",
      "  [0.9792 0.9667]\n",
      "  [0.9722 0.9667]\n",
      "  [0.9667 0.9667]]\n",
      "\n",
      " [[1.     0.3333]\n",
      "  [1.     0.3333]\n",
      "  [1.     0.3333]\n",
      "  [1.     0.6667]\n",
      "  [1.     0.6667]\n",
      "  [1.     0.6667]\n",
      "  [0.9762 0.8   ]\n",
      "  [0.9688 0.9333]\n",
      "  [0.9722 1.    ]\n",
      "  [0.9667 1.    ]]\n",
      "\n",
      " [[1.     0.3333]\n",
      "  [1.     0.3333]\n",
      "  [1.     0.3333]\n",
      "  [1.     0.6667]\n",
      "  [1.     0.6667]\n",
      "  [1.     0.6667]\n",
      "  [0.9881 0.8333]\n",
      "  [0.9792 0.9   ]\n",
      "  [0.9722 0.9   ]\n",
      "  [0.975  0.9333]]\n",
      "\n",
      " [[1.     0.3333]\n",
      "  [1.     0.3333]\n",
      "  [1.     0.3333]\n",
      "  [1.     0.6667]\n",
      "  [1.     0.6667]\n",
      "  [1.     0.6667]\n",
      "  [0.9881 0.8667]\n",
      "  [0.9896 0.9   ]\n",
      "  [0.9815 0.9667]\n",
      "  [0.975  0.9667]]\n",
      "\n",
      " [[1.     0.3333]\n",
      "  [1.     0.3333]\n",
      "  [1.     0.3333]\n",
      "  [1.     0.6667]\n",
      "  [1.     0.6667]\n",
      "  [1.     0.6667]\n",
      "  [0.9762 0.8   ]\n",
      "  [0.9896 0.9667]\n",
      "  [0.963  1.    ]\n",
      "  [0.9667 1.    ]]]\n"
     ]
    }
   ],
   "source": [
    "# tsplot expects array data to have these dimensions:\n",
    "# (repeats, times, conditions)\n",
    "# for us, those translate to:\n",
    "# (CV scores, percents, train/test)\n",
    "import numpy as np\n",
    "joined = np.array([train_scores, test_scores]).transpose()\n",
    "print(joined)"
   ]
  },
  {
   "cell_type": "code",
   "execution_count": 41,
   "id": "d026bf83-e52a-41ca-a4cf-5929adc7586d",
   "metadata": {},
   "outputs": [
    {
     "name": "stdout",
     "output_type": "stream",
     "text": [
      "Requirement already satisfied: seaborn==0.8.1 in c:\\users\\scott\\.pyenv\\pyenv-win\\versions\\3.9.4\\lib\\site-packages (0.8.1)\n"
     ]
    }
   ],
   "source": [
    "import sys\n",
    "!{sys.executable} -m pip install seaborn==0.8.1"
   ]
  },
  {
   "cell_type": "code",
   "execution_count": 42,
   "id": "04897e32-1735-4365-a0f5-43e2b587e847",
   "metadata": {},
   "outputs": [
    {
     "name": "stderr",
     "output_type": "stream",
     "text": [
      "c:\\users\\scott\\.pyenv\\pyenv-win\\versions\\3.9.4\\lib\\site-packages\\seaborn\\timeseries.py:183: UserWarning: The tsplot function is deprecated and will be removed or replaced (in a substantially altered version) in a future release.\n",
      "  warnings.warn(msg, UserWarning)\n"
     ]
    },
    {
     "data": {
      "text/plain": [
       "Text(0, 0.5, 'Accuracy')"
      ]
     },
     "execution_count": 42,
     "metadata": {},
     "output_type": "execute_result"
    },
    {
     "data": {
      "image/png": "[encoded data removed]",
      "text/plain": [
       "<Figure size 842.4x595.44 with 1 Axes>"
      ]
     },
     "metadata": {},
     "output_type": "display_data"
    }
   ],
   "source": [
    "import seaborn as sns\n",
    "sns.set(rc={'figure.figsize':(11.7,8.27)})\n",
    "ax = sns.tsplot(joined,\n",
    "                time=train_sizes,\n",
    "                condition=['train', 'Test'],\n",
    "                interpolate=False)\n",
    "ax.set_title('Learning Curve for 5-NN Classifier')\n",
    "ax.set_xlabel('Number of Samples used for Training')\n",
    "ax.set_ylabel('Accuracy')"
   ]
  },
  {
   "cell_type": "markdown",
   "id": "5e9119e6-bd05-411c-a9fd-13f804524ef9",
   "metadata": {},
   "source": [
    "There are some distinct steps in the testing error. As we move from 70% to 100% of the data used for training, the test performance flattens out near a respectable percent in the high 90s. What about the training side? \n",
    "Why does it decrease? With few enough examples, there is a simple enough pattern that our 5-NN can capture all of the training data, until we get to about 60%. After that, we start losing a bit of ground on the training performance.\n",
    "\n",
    "One takeway: we can convert this percent into a minimum number of examples we think we need for adequate training. We needed almost 100% *of the joined training folds* to get reasonable 5-CV results, which translates into needing 80% of the full dataset for training. If this was inadequate, we could consider fewer CV splits which would up the amount of training data."
   ]
  },
  {
   "cell_type": "markdown",
   "id": "bc33588f-50ad-461e-9b6f-0b009c13e398",
   "metadata": {},
   "source": [
    "### 5.7.2 Complexity Curves\n",
    "\n",
    "Earlier, when discussing under- and overfitting, we drew a graph taht showed what happened to our training and testing performance as we varied the complexity of our model. Graphing that was buried deep inside some nested loops and drawing functions. We can appropriate `tsplot`, as we did for sample curves, to make the process fit in five logical lines of code. This is the minimized code."
   ]
  },
  {
   "cell_type": "code",
   "execution_count": 43,
   "id": "9b9b81ea-e4a8-4171-a17a-1c38326cf46a",
   "metadata": {},
   "outputs": [
    {
     "name": "stderr",
     "output_type": "stream",
     "text": [
      "c:\\users\\scott\\.pyenv\\pyenv-win\\versions\\3.9.4\\lib\\site-packages\\seaborn\\timeseries.py:183: UserWarning: The tsplot function is deprecated and will be removed or replaced (in a substantially altered version) in a future release.\n",
      "  warnings.warn(msg, UserWarning)\n"
     ]
    },
    {
     "data": {
      "text/plain": [
       "Text(0, 0.5, 'Accuracy')"
      ]
     },
     "execution_count": 43,
     "metadata": {},
     "output_type": "execute_result"
    },
    {
     "data": {
      "image/png": "[encoded data removed]",
      "text/plain": [
       "<Figure size 842.4x595.44 with 1 Axes>"
      ]
     },
     "metadata": {},
     "output_type": "display_data"
    }
   ],
   "source": [
    "num_neigh = [1, 3, 5, 10, 15, 20]\n",
    "KNC = neighbors.KNeighborsClassifier\n",
    "tt = skms.validation_curve(KNC(),\n",
    "                           iris.data, iris.target,\n",
    "                           param_name='n_neighbors',\n",
    "                           param_range=num_neigh,\n",
    "                           cv=5)\n",
    "\n",
    "# stack and transpose trick (as above)\n",
    "ax = sns.tsplot(np.array(tt).transpose(),\n",
    "                time=num_neigh,\n",
    "                condition=['Train', 'Test'],\n",
    "                interpolate=False)\n",
    "\n",
    "ax.set_title('5-fold CV performance on k-NN')\n",
    "ax.set_xlabel('\\n'.join(['k for k-NN',\n",
    "                         'lower k, more complex',\n",
    "                         'higher k, less complex']))\n",
    "\n",
    "ax.set_ylim(.9, 1.01)\n",
    "ax.set_ylabel('Accuracy')"
   ]
  },
  {
   "cell_type": "markdown",
   "id": "dcab0330-4d31-4347-b835-c4a16cde4528",
   "metadata": {},
   "source": [
    "Why does 1-NN get 100% training accuracy? Is that a good thing? When *might* it be a good thing?\n",
    "\n",
    "It is because the training points are classified exactly as their own target value: they are exactly their own nearest neighbor. It's potentially overfitting in the extreme. Now, if there is little or no noise it might be OK.\n",
    "\n",
    "10-NN might be a good value for our final system to deliver to our customer because it seems to make a good tradeoff between underfitting (bias) and overfitting (variance). We should assess it on a hold-out test set."
   ]
  },
  {
   "cell_type": "markdown",
   "id": "404c87fc-7d51-4c93-95ae-ba39fea730a4",
   "metadata": {},
   "source": [
    "## 5.8 Comparing Learners with Cross-Validation"
   ]
  },
  {
   "cell_type": "markdown",
   "id": "0060e2c8-d49f-4f4a-a79f-905ef1b36656",
   "metadata": {},
   "source": [
    "A benefit of CV is that we can see the variability with respect to training on different training sets. We can only do that if we keep each evaluation as a stand-alone value because we need to compare individual values against each other. \n",
    "\n"
   ]
  },
  {
   "cell_type": "markdown",
   "id": "4d72374d-46ee-4fab-846a-53876618e263",
   "metadata": {},
   "source": [
    "<style>\n",
    "    td{\n",
    "    font-size: 50px\n",
    "}\n",
    "</style>"
   ]
  },
  {
   "cell_type": "code",
   "execution_count": 44,
   "id": "eadd3917-c3f9-4f3b-8ffa-9fa3c3489d42",
   "metadata": {},
   "outputs": [
    {
     "data": {
      "text/plain": [
       "<matplotlib.legend.Legend at 0x22c783dbf10>"
      ]
     },
     "execution_count": 44,
     "metadata": {},
     "output_type": "execute_result"
    },
    {
     "data": {
      "image/png": "[encoded data removed]",
      "text/plain": [
       "<Figure size 864x576 with 1 Axes>"
      ]
     },
     "metadata": {},
     "output_type": "display_data"
    }
   ],
   "source": [
    "classifiers = {'gnb'  : naive_bayes.GaussianNB(),\n",
    "               '5-NN' : neighbors.KNeighborsClassifier(n_neighbors=5)}\n",
    "\n",
    "iris = datasets.load_iris()\n",
    "\n",
    "fig, ax = plt.subplots(figsize=(12, 8))\n",
    "for name, model in classifiers.items():\n",
    "    cv_scores = skms.cross_val_score(model,\n",
    "                                     iris.data, iris.target,\n",
    "                                     cv=10,\n",
    "                                     scoring='accuracy',\n",
    "                                     n_jobs=-1) # use all cores\n",
    "    my_lbl = '{} {:.3f}'.format(name, cv_scores.mean())\n",
    "    ax.plot(cv_scores, '-o', label=my_lbl) # marker=next(markers)\n",
    "\n",
    "ax.set_ylim(0.0, 1.1)\n",
    "ax.set_xlabel('Fold')\n",
    "ax.set_ylabel('Accuracy')\n",
    "ax.legend(ncol=2)"
   ]
  }
 ],
 "metadata": {
  "kernelspec": {
   "display_name": "Python 3 (ipykernel)",
   "language": "python",
   "name": "python3"
  },
  "language_info": {
   "codemirror_mode": {
    "name": "ipython",
    "version": 3
   },
   "file_extension": ".py",
   "mimetype": "text/x-python",
   "name": "python",
   "nbconvert_exporter": "python",
   "pygments_lexer": "ipython3",
   "version": "3.9.4"
  },
  "toc-autonumbering": false,
  "toc-showcode": false,
  "toc-showmarkdowntxt": false,
  "toc-showtags": false
 },
 "nbformat": 4,
 "nbformat_minor": 5
}
