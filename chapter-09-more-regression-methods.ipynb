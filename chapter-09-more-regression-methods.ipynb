{
 "cells": [
  {
   "cell_type": "markdown",
   "id": "b0e47401",
   "metadata": {},
   "source": [
    "# Chapter 9 - More Regression Methods\n",
    "\n"
   ]
  },
  {
   "cell_type": "code",
   "execution_count": 2,
   "id": "2d5ac72f",
   "metadata": {},
   "outputs": [],
   "source": [
    "# setup\n",
    "from mlwpy import *\n",
    "%matplotlib inline\n",
    "\n",
    "diabetes = datasets.load_diabetes()\n",
    "\n",
    "d_tts = skms.train_test_split(diabetes.data,\n",
    "                              diabetes.target,\n",
    "                              test_size=.25,\n",
    "                              random_state=42)\n",
    "\n",
    "(diabetes_train_ftrs, diabetes_test_ftrs,\n",
    " diabetes_train_tgt, diabetes_test_tgt) = d_tts"
   ]
  },
  {
   "cell_type": "markdown",
   "id": "9a2f4041",
   "metadata": {},
   "source": [
    "We dive into a few additional techniques for regression.  All are variations on techniques we've seen before.   Two are direct variations on linear regression, one splices a support vector classifier with linear regression to create a Support Vector Regressor, and one uses decision trees for regression instead of classification.\n",
    "\n",
    "Much of what we talk about will be famililar.\n",
    "\n",
    "Also, we dicuss how to build a learner of plugs into `sklearn`'s usage patterns."
   ]
  },
  {
   "cell_type": "markdown",
   "id": "4bd40a99",
   "metadata": {},
   "source": [
    "# 9.1 Linear Regression in the Penalty Box: Regularization"
   ]
  },
  {
   "cell_type": "markdown",
   "id": "9058a205",
   "metadata": {},
   "source": [
    "We can conceptually define the goodness of a model as a cost with two parts: (1) what we lose, or spend, when we make a mistake and (2) what we invest, or spend, into the model's complexity.  \n",
    "\n",
    "The math says the: *cost = loss(errors) + complexity*.  \n",
    "\n",
    "Keeping mistakes low keeps us accurate.  Keeping complexity low, we keep the model simple and improve our ability to generalize.  \n",
    "\n",
    "Overfitting has a high complexity and low training loss.  Underfitting has low complexity and high training loss and improve our ability to generalize.  The sweet spot is just the right amount of complexity and get a low loss on training *and* testing.\n",
    "\n",
    "Keeping the complexity low and the model simple is called *regularization*.  Overfitting describes graphs as being too squiggly.  They overfit and follow noise instead of the pattern.  If we reduce some squiggliness, we do a better job of following the signal--the interesting pattern--and ignore the noise."
   ]
  },
  {
   "cell_type": "code",
   "execution_count": 4,
   "id": "25841185",
   "metadata": {},
   "outputs": [
    {
     "name": "stdout",
     "output_type": "stream",
     "text": [
      "6.3 17.15\n"
     ]
    }
   ],
   "source": [
    "weights = np.array([3.5, -2.1, .7])\n",
    "print(np.sum(np.abs(weights)),\n",
    "      np.sum(weights**2))"
   ]
  },
  {
   "cell_type": "markdown",
   "id": "e85804bd",
   "metadata": {},
   "source": [
    "Now, let's define some criteria for *relatively small*.  We want to simplify our model to move from overfitting and towards *just right*.  However, our just-right values cannot operate on their own, in a vaccuum.  They must be connected to how well we fit the data, we just want to tone down the *over* part of *overfitting.  Let's return to how we account for the quality of our fit.  Let's investigate a bit of data where we specifically control the errors in it:"
   ]
  },
  {
   "cell_type": "code",
   "execution_count": 58,
   "id": "6064ae05",
   "metadata": {},
   "outputs": [
    {
     "data": {
      "text/plain": [
       "array([0, 1, 2, 3, 4, 5, 6, 7, 8, 9])"
      ]
     },
     "execution_count": 58,
     "metadata": {},
     "output_type": "execute_result"
    }
   ],
   "source": [
    "x_1 = np.arange(10)\n",
    "x_1"
   ]
  },
  {
   "cell_type": "code",
   "execution_count": 59,
   "id": "4fcf366f",
   "metadata": {},
   "outputs": [
    {
     "data": {
      "text/plain": [
       "array([3, 2])"
      ]
     },
     "execution_count": 59,
     "metadata": {},
     "output_type": "execute_result"
    }
   ],
   "source": [
    "m, b = 3, 2\n",
    "w = np.array([m, b])\n",
    "w"
   ]
  },
  {
   "cell_type": "code",
   "execution_count": 60,
   "id": "d4ed9412",
   "metadata": {},
   "outputs": [
    {
     "data": {
      "text/plain": [
       "array([[0., 1.],\n",
       "       [1., 1.],\n",
       "       [2., 1.],\n",
       "       [3., 1.],\n",
       "       [4., 1.],\n",
       "       [5., 1.],\n",
       "       [6., 1.],\n",
       "       [7., 1.],\n",
       "       [8., 1.],\n",
       "       [9., 1.]])"
      ]
     },
     "execution_count": 60,
     "metadata": {},
     "output_type": "execute_result"
    }
   ],
   "source": [
    "x = np.c_[x_1, np.repeat(1.0, 10)] # the plus-one trick\n",
    "x"
   ]
  },
  {
   "cell_type": "code",
   "execution_count": 61,
   "id": "98cb50e4",
   "metadata": {},
   "outputs": [
    {
     "data": {
      "text/plain": [
       "array([0. , 1. , 1. , 0.5, 0.5, 0. , 1. , 1. , 0.5, 0.5])"
      ]
     },
     "execution_count": 61,
     "metadata": {},
     "output_type": "execute_result"
    }
   ],
   "source": [
    "errors = np.tile(np.array([0.0, 1.0, 1.0, .5, .5]),2)\n",
    "errors"
   ]
  },
  {
   "cell_type": "code",
   "execution_count": 16,
   "id": "6dcb2f31",
   "metadata": {},
   "outputs": [
    {
     "name": "stdout",
     "output_type": "stream",
     "text": [
      "[0.   1.   1.   0.25 0.25 0.   1.   1.   0.25 0.25]\n",
      "5.0\n"
     ]
    }
   ],
   "source": [
    "print(errors * errors)\n",
    "print(np.dot(errors, errors))"
   ]
  },
  {
   "cell_type": "code",
   "execution_count": 24,
   "id": "0bd0ffd8",
   "metadata": {},
   "outputs": [
    {
     "data": {
      "text/plain": [
       "array([ 2.,  5.,  8., 11., 14., 17., 20., 23., 26., 29.])"
      ]
     },
     "execution_count": 24,
     "metadata": {},
     "output_type": "execute_result"
    }
   ],
   "source": [
    "y_true = rdot(w,x)\n",
    "y_true"
   ]
  },
  {
   "cell_type": "code",
   "execution_count": 25,
   "id": "4c1e067b",
   "metadata": {},
   "outputs": [
    {
     "data": {
      "text/plain": [
       "array([ 2. ,  6. ,  9. , 11.5, 14.5, 17. , 21. , 24. , 26.5, 29.5])"
      ]
     },
     "execution_count": 25,
     "metadata": {},
     "output_type": "execute_result"
    }
   ],
   "source": [
    "y_msr = y_true + errors\n",
    "y_msr"
   ]
  },
  {
   "cell_type": "code",
   "execution_count": 26,
   "id": "137db9b1",
   "metadata": {},
   "outputs": [
    {
     "data": {
      "text/plain": [
       "(array([[0., 1.],\n",
       "        [1., 1.],\n",
       "        [2., 1.],\n",
       "        [3., 1.],\n",
       "        [4., 1.],\n",
       "        [5., 1.],\n",
       "        [6., 1.],\n",
       "        [7., 1.],\n",
       "        [8., 1.],\n",
       "        [9., 1.]]),\n",
       " array([ 2. ,  6. ,  9. , 11.5, 14.5, 17. , 21. , 24. , 26.5, 29.5]))"
      ]
     },
     "execution_count": 26,
     "metadata": {},
     "output_type": "execute_result"
    }
   ],
   "source": [
    "D = (x,y_msr)\n",
    "D"
   ]
  },
  {
   "cell_type": "markdown",
   "id": "72eab3a1",
   "metadata": {},
   "source": [
    "Here's how the truth compares to our noise data points:"
   ]
  },
  {
   "cell_type": "code",
   "execution_count": 27,
   "id": "1ad6ad5b",
   "metadata": {},
   "outputs": [
    {
     "name": "stdout",
     "output_type": "stream",
     "text": [
      "[0 1 2 3 4 5 6 7 8 9]\n",
      "[ 2.  5.  8. 11. 14. 17. 20. 23. 26. 29.]\n",
      "[0 1 2 3 4 5 6 7 8 9]\n",
      "[ 2.   6.   9.  11.5 14.5 17.  21.  24.  26.5 29.5]\n"
     ]
    }
   ],
   "source": [
    "print(x_1)\n",
    "print(y_true)\n",
    "print(x_1)\n",
    "print(y_msr)"
   ]
  },
  {
   "cell_type": "code",
   "execution_count": 22,
   "id": "c7dc63af",
   "metadata": {},
   "outputs": [
    {
     "data": {
      "text/plain": [
       "<matplotlib.legend.Legend at 0x2712b1b9130>"
      ]
     },
     "execution_count": 22,
     "metadata": {},
     "output_type": "execute_result"
    },
    {
     "data": {
      "image/png": "[encoded data removed]",
      "text/plain": [
       "<Figure size 288x216 with 1 Axes>"
      ]
     },
     "metadata": {
      "needs_background": "light"
     },
     "output_type": "display_data"
    }
   ],
   "source": [
    "fig, ax = plt.subplots(1,1,figsize=(4,3))\n",
    "ax.plot(x_1, y_true, 'r', label='true')\n",
    "ax.plot(x_1, y_msr, 'b', label='noisy')\n",
    "ax.legend()"
   ]
  },
  {
   "cell_type": "markdown",
   "id": "32a8af54",
   "metadata": {},
   "source": [
    "Now let's take a shortcut.  We are not going to go through the process of fitting and finding good parameters from the data.  We're not going to rerun a linear regression to pull out *w*s (or {*m, b*}). But let's imagine that we did and got back the perfect parameter values--the ones we used to *create* the data above.  Here's what our sum of squared errors look like:"
   ]
  },
  {
   "cell_type": "code",
   "execution_count": 28,
   "id": "d20b151c",
   "metadata": {},
   "outputs": [],
   "source": [
    "def sq_diff(a,b):\n",
    "    return (a-b)**2"
   ]
  },
  {
   "cell_type": "code",
   "execution_count": 29,
   "id": "96140497",
   "metadata": {},
   "outputs": [
    {
     "data": {
      "text/plain": [
       "array([ 2.,  5.,  8., 11., 14., 17., 20., 23., 26., 29.])"
      ]
     },
     "execution_count": 29,
     "metadata": {},
     "output_type": "execute_result"
    }
   ],
   "source": [
    "predictions = rdot(w,x)\n",
    "predictions"
   ]
  },
  {
   "cell_type": "code",
   "execution_count": 30,
   "id": "3e31fc2a",
   "metadata": {},
   "outputs": [
    {
     "data": {
      "text/plain": [
       "5.0"
      ]
     },
     "execution_count": 30,
     "metadata": {},
     "output_type": "execute_result"
    }
   ],
   "source": [
    "np.sum(sq_diff(predictions, y_msr))"
   ]
  },
  {
   "cell_type": "code",
   "execution_count": 31,
   "id": "f1ea83bc",
   "metadata": {},
   "outputs": [
    {
     "data": {
      "text/plain": [
       "array([ 2. ,  6. ,  9. , 11.5, 14.5, 17. , 21. , 24. , 26.5, 29.5])"
      ]
     },
     "execution_count": 31,
     "metadata": {},
     "output_type": "execute_result"
    }
   ],
   "source": [
    "y_msr"
   ]
  },
  {
   "cell_type": "markdown",
   "id": "9cf7260d",
   "metadata": {},
   "source": [
    "That comes from this equation:"
   ]
  },
  {
   "cell_type": "markdown",
   "id": "3734d80f",
   "metadata": {},
   "source": [
    "$ loss = \\Sigma_{x,y \\in D} (wx - y)^2 $"
   ]
  },
  {
   "cell_type": "markdown",
   "id": "df3d34bd",
   "metadata": {},
   "source": [
    "We need to account for ideas about keeping the weights small. This constraint is a surrogate for simplifying--regularizing--the model.  Let's say that instead of just making *predictions* we have a total *cost* associated with the model. "
   ]
  },
  {
   "cell_type": "code",
   "execution_count": 38,
   "id": "3b04faa9",
   "metadata": {},
   "outputs": [
    {
     "data": {
      "text/plain": [
       "array([ 2.,  5.,  8., 11., 14., 17., 20., 23., 26., 29.])"
      ]
     },
     "execution_count": 38,
     "metadata": {},
     "output_type": "execute_result"
    }
   ],
   "source": [
    "predictions = rdot(w,x)\n",
    "predictions"
   ]
  },
  {
   "cell_type": "code",
   "execution_count": 37,
   "id": "494573c3",
   "metadata": {},
   "outputs": [
    {
     "data": {
      "text/plain": [
       "5.0"
      ]
     },
     "execution_count": 37,
     "metadata": {},
     "output_type": "execute_result"
    }
   ],
   "source": [
    "loss = np.sum(sq_diff(predictions, y_msr))\n",
    "loss"
   ]
  },
  {
   "cell_type": "code",
   "execution_count": 43,
   "id": "9f13e4ae",
   "metadata": {},
   "outputs": [
    {
     "data": {
      "text/plain": [
       "array([ 3.5, -2.1,  0.7])"
      ]
     },
     "execution_count": 43,
     "metadata": {},
     "output_type": "execute_result"
    }
   ],
   "source": [
    "weights"
   ]
  },
  {
   "cell_type": "code",
   "execution_count": 41,
   "id": "5d024f3d",
   "metadata": {},
   "outputs": [
    {
     "data": {
      "text/plain": [
       "6.3"
      ]
     },
     "execution_count": 41,
     "metadata": {},
     "output_type": "execute_result"
    }
   ],
   "source": [
    "complexity_1 = np.sum(np.abs(weights))\n",
    "complexity_1"
   ]
  },
  {
   "cell_type": "code",
   "execution_count": 42,
   "id": "8919ad20",
   "metadata": {},
   "outputs": [
    {
     "data": {
      "text/plain": [
       "17.15"
      ]
     },
     "execution_count": 42,
     "metadata": {},
     "output_type": "execute_result"
    }
   ],
   "source": [
    "complexity_2 = np.sum(weights**2) # == np.dot(weights, weights)\n",
    "complexity_2"
   ]
  },
  {
   "cell_type": "code",
   "execution_count": 40,
   "id": "76ade393",
   "metadata": {},
   "outputs": [],
   "source": [
    "cost_1 = loss + complexity_1\n",
    "cost_2 = loss + complexity_2"
   ]
  },
  {
   "cell_type": "code",
   "execution_count": 45,
   "id": "1af7a02c",
   "metadata": {},
   "outputs": [
    {
     "name": "stdout",
     "output_type": "stream",
     "text": [
      "Sum(abs) complexity: 11.3\n",
      "Sum(sqr) complexity: 22.15\n"
     ]
    }
   ],
   "source": [
    "print('Sum(abs) complexity:', cost_1)\n",
    "print('Sum(sqr) complexity:', cost_2)"
   ]
  },
  {
   "cell_type": "markdown",
   "id": "e3744c34",
   "metadata": {},
   "source": [
    "Remember, we performed a couple of tricks here.  We did not actually work from the data *back to* the weights. We just used the same weighst to make the data and to make our not-quite-predictions.  The second trick is that we used the *same weights* in both cases, so we have *same losses* contributing to both costs.  We cannot compare these two: normally, we would use one or the other to *compute the cost* which helps us find a good set of weights under one calculation for loss and complexity.\n",
    "\n",
    "There's one last piece to introduce before showing a fundamental relatoinship of learning.  Once we define a cost and say that we want to have a low cost, we are really making another tradeoff.  We can lower the cost by making fewer errors: leading to a lower loss *or* by having less complexity.  Can we do both equally or do we consider one more important? Is cutting the complexity worth doubling the errors we make? Our *real goal* is to make few errors in the future, which happens by making fewer errors now--on training data--*and* by keeping the model complexity down.\n",
    "\n",
    "To this end, it's valuable to add a way to trade off towards fewer errors or towards lower complexity and we do this like this:"
   ]
  },
  {
   "cell_type": "code",
   "execution_count": 54,
   "id": "f69ecc7a",
   "metadata": {},
   "outputs": [],
   "source": [
    "predictions = rdot(w,x)\n",
    "errors = np.sum(sq_diff(predictions, y_msr))\n",
    "complexity_1 = np.sum(np.abs(weights))"
   ]
  },
  {
   "cell_type": "code",
   "execution_count": 53,
   "id": "2c30bfb1",
   "metadata": {},
   "outputs": [
    {
     "data": {
      "text/plain": [
       "array([ 2.,  5.,  8., 11., 14., 17., 20., 23., 26., 29.])"
      ]
     },
     "execution_count": 53,
     "metadata": {},
     "output_type": "execute_result"
    }
   ],
   "source": [
    "predictions"
   ]
  },
  {
   "cell_type": "code",
   "execution_count": 51,
   "id": "c23875ab",
   "metadata": {},
   "outputs": [
    {
     "data": {
      "text/plain": [
       "5.0"
      ]
     },
     "execution_count": 51,
     "metadata": {},
     "output_type": "execute_result"
    }
   ],
   "source": [
    "errors"
   ]
  },
  {
   "cell_type": "code",
   "execution_count": 52,
   "id": "c6420116",
   "metadata": {},
   "outputs": [
    {
     "data": {
      "text/plain": [
       "6.3"
      ]
     },
     "execution_count": 52,
     "metadata": {},
     "output_type": "execute_result"
    }
   ],
   "source": [
    "complexity_1"
   ]
  },
  {
   "cell_type": "code",
   "execution_count": 49,
   "id": "6d360dac",
   "metadata": {},
   "outputs": [
    {
     "data": {
      "text/plain": [
       "8.15"
      ]
     },
     "execution_count": 49,
     "metadata": {},
     "output_type": "execute_result"
    }
   ],
   "source": [
    "C = .5\n",
    "cost = errors + C * complexity_1\n",
    "cost"
   ]
  },
  {
   "cell_type": "markdown",
   "id": "8d86b48f",
   "metadata": {},
   "source": [
    "AS far as cost is concerned, one point of increase in complexity is worth $ \\frac{1}{2} $ of a point increase in loss.  That is, losses are twice as costly, or twice as important, as complexity.  If we use *C* to represent that tradeoff, we get the following math-heavy equations:"
   ]
  },
  {
   "cell_type": "markdown",
   "id": "4788f7fa",
   "metadata": {},
   "source": [
    "$$ Cost_{1} = \\Sigma_{x,y \\in D} (wx - y)^2 + C \\Sigma_{j}\\mid w_{j} \\mid$$"
   ]
  },
  {
   "cell_type": "markdown",
   "id": "f055589e",
   "metadata": {},
   "source": [
    "$$ Cost_2 = \\Sigma_{x,y \\in D}(wx - y) ^ 2 + C \\Sigma_{j}w_{j}^2 $$"
   ]
  },
  {
   "cell_type": "markdown",
   "id": "b7a3cabf",
   "metadata": {},
   "source": [
    "Finding the best line with $ Cost_1 $ is called $ L_1$-regularized regression, or the *lasso*.  Finding the best line with $ Cost_2 $ is called the $ L_2$-regularized regression, or *ridge regression*. "
   ]
  },
  {
   "cell_type": "markdown",
   "id": "89563e1a",
   "metadata": {},
   "source": [
    "### 9.1.1 Performing Regularized Regression"
   ]
  },
  {
   "cell_type": "markdown",
   "id": "8d267ab8",
   "metadata": {},
   "source": [
    "Performing regularized linear regression is no more difficult than the good old-fashion (DOF) linear regression.\n",
    "\n",
    "The default value for our *C*, a total weight of the complexity penalty, is `1.0` for both `Lasso` and `Ridge`.  In `sklearn`, the *C* value is set by the parameter `alpha`.  So, for *C* = 2, we would call `linear_model.Lasso(alpha=2.0)`.  You see $\\lambda, \\alpha$, and *C* in discussions of regularization; \n",
    "\n",
    "they all serve a similar role, but you do have to apy attention for authors using slight variations in meaning.  For our purposes, we consider them all the same."
   ]
  },
  {
   "cell_type": "code",
   "execution_count": 56,
   "id": "13bad231",
   "metadata": {},
   "outputs": [
    {
     "name": "stdout",
     "output_type": "stream",
     "text": [
      "Lasso \n",
      "Train MSE: 3947.899897977697 \n",
      " Test MSE: 3433.1524588051197\n",
      "Ridge \n",
      "Train MSE: 3461.739515097773 \n",
      " Test MSE: 3105.468750907886\n"
     ]
    }
   ],
   "source": [
    "models = [linear_model.Lasso(),         # L1 regularized; C=1.0\n",
    "          linear_model.Ridge()]         # L2 regularized; C=1.0\n",
    "\n",
    "for model in models:\n",
    "    model.fit(diabetes_train_ftrs, diabetes_train_tgt)\n",
    "    train_preds = model.predict(diabetes_train_ftrs)\n",
    "    test_preds  = model.predict(diabetes_test_ftrs)\n",
    "    print(get_model_name(model),\n",
    "         '\\nTrain MSE:', metrics.mean_squared_error(diabetes_train_tgt,\n",
    "                                                    train_preds),\n",
    "         '\\n Test MSE:', metrics.mean_squared_error(diabetes_test_tgt,\n",
    "                                                    test_preds))"
   ]
  },
  {
   "cell_type": "markdown",
   "id": "5397e4c3",
   "metadata": {},
   "source": [
    "Using these is so easy, we might move on without *thinking* about when and why to use them.  The default of linear regression is to operatie *without* regularization.\n",
    "\n",
    "We can easily switch to a regularized version and see if it improves matters.  We might try this when we train on some data and see an overfitting failure.  Next, we can try different amounts of regularization -- different values for *C* -- and see what works best on cross-validated runs.\n",
    "\n",
    "With very noisy data, we might be tempted to make a complex model that is likely to overfit.  We have to *tolerate* a fair bit of error in the model to reduce our complexity.  In other words, we pay less for complexity and pay more for errors.  \n",
    "\n",
    "With data that is noiseless and captures a linear pattern, on the other hand, we have little need for controling complexity and should see good results with GOF linear regression.\n",
    "\n"
   ]
  },
  {
   "cell_type": "markdown",
   "id": "ba662c7b",
   "metadata": {},
   "source": [
    "# 9.2 Support Vector Regression"
   ]
  },
  {
   "cell_type": "markdown",
   "id": "e5649f20",
   "metadata": {},
   "source": [
    "The cost comes from both the mistakes (errors) and the complexity of our learner.  Support Vector Regression (SVR) makes use of thsi in a same-but different manner.  \n",
    "\n",
    "We regularized GOF linear regression by adding a complexity factor to its loss.  We can continue down this path and tweak linear regression even more.  We can modify its loss also.  Remember $ cost = loss + complexity. $  In linear regression, the standard loss is the sum of squared errors called the *squared error loss*.  As we just saw in the definitions above, that form is called $ L_2. $  In that case, $ L_2 $ is the loss.  You might be thinking, let's use $ L_1 $ the sum of absolute values.  We are going to use $L_1$, but tweak it.. Our tweaked $ L_1 $ ignores small errors."
   ]
  },
  {
   "cell_type": "markdown",
   "id": "a3e7ebe4",
   "metadata": {},
   "source": [
    "## 9.2.1 Hinge Loss\n",
    "\n",
    "Regarding Support Vector Classifiers (SVCs), we did not discuss the underlying magic that lets a SVC do its tricks.  The magic is very similar for the SVC and SVR: both make use of a slightly different loss than linear regression (either kind).  Basically, we want to measure what happens when we are *wrong* and ignore small errors.  If we put these two pieces of information together, we get the *hinge loss*.  Here's what the absolute values of the errors look like: "
   ]
  },
  {
   "cell_type": "code",
   "execution_count": 62,
   "id": "4dcdc3a3",
   "metadata": {},
   "outputs": [
    {
     "data": {
      "text/plain": [
       "array([-4.    , -3.9192, -3.8384, -3.7576, -3.6768, -3.596 , -3.5152,\n",
       "       -3.4343, -3.3535, -3.2727, -3.1919, -3.1111, -3.0303, -2.9495,\n",
       "       -2.8687, -2.7879, -2.7071, -2.6263, -2.5455, -2.4646, -2.3838,\n",
       "       -2.303 , -2.2222, -2.1414, -2.0606, -1.9798, -1.899 , -1.8182,\n",
       "       -1.7374, -1.6566, -1.5758, -1.4949, -1.4141, -1.3333, -1.2525,\n",
       "       -1.1717, -1.0909, -1.0101, -0.9293, -0.8485, -0.7677, -0.6869,\n",
       "       -0.6061, -0.5253, -0.4444, -0.3636, -0.2828, -0.202 , -0.1212,\n",
       "       -0.0404,  0.0404,  0.1212,  0.202 ,  0.2828,  0.3636,  0.4444,\n",
       "        0.5253,  0.6061,  0.6869,  0.7677,  0.8485,  0.9293,  1.0101,\n",
       "        1.0909,  1.1717,  1.2525,  1.3333,  1.4141,  1.4949,  1.5758,\n",
       "        1.6566,  1.7374,  1.8182,  1.899 ,  1.9798,  2.0606,  2.1414,\n",
       "        2.2222,  2.303 ,  2.3838,  2.4646,  2.5455,  2.6263,  2.7071,\n",
       "        2.7879,  2.8687,  2.9495,  3.0303,  3.1111,  3.1919,  3.2727,\n",
       "        3.3535,  3.4343,  3.5152,  3.596 ,  3.6768,  3.7576,  3.8384,\n",
       "        3.9192,  4.    ])"
      ]
     },
     "execution_count": 62,
     "metadata": {},
     "output_type": "execute_result"
    }
   ],
   "source": [
    "error = np.linspace(-4, 4, 100)\n",
    "error"
   ]
  },
  {
   "cell_type": "code",
   "execution_count": 65,
   "id": "cb9cad9a",
   "metadata": {},
   "outputs": [
    {
     "data": {
      "text/plain": [
       "array([4.    , 3.9192, 3.8384, 3.7576, 3.6768, 3.596 , 3.5152, 3.4343,\n",
       "       3.3535, 3.2727, 3.1919, 3.1111, 3.0303, 2.9495, 2.8687, 2.7879,\n",
       "       2.7071, 2.6263, 2.5455, 2.4646, 2.3838, 2.303 , 2.2222, 2.1414,\n",
       "       2.0606, 1.9798, 1.899 , 1.8182, 1.7374, 1.6566, 1.5758, 1.4949,\n",
       "       1.4141, 1.3333, 1.2525, 1.1717, 1.0909, 1.0101, 0.9293, 0.8485,\n",
       "       0.7677, 0.6869, 0.6061, 0.5253, 0.4444, 0.3636, 0.2828, 0.202 ,\n",
       "       0.1212, 0.0404, 0.0404, 0.1212, 0.202 , 0.2828, 0.3636, 0.4444,\n",
       "       0.5253, 0.6061, 0.6869, 0.7677, 0.8485, 0.9293, 1.0101, 1.0909,\n",
       "       1.1717, 1.2525, 1.3333, 1.4141, 1.4949, 1.5758, 1.6566, 1.7374,\n",
       "       1.8182, 1.899 , 1.9798, 2.0606, 2.1414, 2.2222, 2.303 , 2.3838,\n",
       "       2.4646, 2.5455, 2.6263, 2.7071, 2.7879, 2.8687, 2.9495, 3.0303,\n",
       "       3.1111, 3.1919, 3.2727, 3.3535, 3.4343, 3.5152, 3.596 , 3.6768,\n",
       "       3.7576, 3.8384, 3.9192, 4.    ])"
      ]
     },
     "execution_count": 65,
     "metadata": {},
     "output_type": "execute_result"
    }
   ],
   "source": [
    "loss = np.abs(error)\n",
    "loss"
   ]
  },
  {
   "cell_type": "code",
   "execution_count": 63,
   "id": "5482674f",
   "metadata": {},
   "outputs": [
    {
     "data": {
      "image/png": "[encoded data removed]",
      "text/plain": [
       "<Figure size 288x216 with 1 Axes>"
      ]
     },
     "metadata": {
      "needs_background": "light"
     },
     "output_type": "display_data"
    }
   ],
   "source": [
    "fig, ax = plt.subplots(1,1,figsize=(4,3))\n",
    "ax.plot(error, loss)\n",
    "\n",
    "ax.set_xlabel('Raw Error')\n",
    "ax.set_ylabel('Abs Loss');"
   ]
  },
  {
   "cell_type": "markdown",
   "id": "3ce69d03",
   "metadata": {},
   "source": [
    "How can we ignore errors up to a certain threshold? For example, let's write code that ignores absolute errors that are less than 1.0:"
   ]
  },
  {
   "cell_type": "code",
   "execution_count": 67,
   "id": "5a4f38e7",
   "metadata": {},
   "outputs": [
    {
     "name": "stdout",
     "output_type": "stream",
     "text": [
      "0.0\n"
     ]
    }
   ],
   "source": [
    "an_error = .75\n",
    "abs_error = abs(an_error)\n",
    "if abs_error < 1.0:\n",
    "    the_loss = 0.0\n",
    "else:\n",
    "    the_loss = abs_error\n",
    "print(the_loss)"
   ]
  },
  {
   "cell_type": "markdown",
   "id": "e785b1df",
   "metadata": {},
   "source": [
    "Now, we will re-write the above with some clever mathematics. \n",
    "\n",
    "1. Subtract the threshold value from the absolute error.\n",
    "2. If the result is bigger than zero, keep it.  Otherwise, take zero instead."
   ]
  },
  {
   "cell_type": "code",
   "execution_count": 70,
   "id": "a5fae3bd",
   "metadata": {},
   "outputs": [
    {
     "name": "stdout",
     "output_type": "stream",
     "text": [
      "0.0\n"
     ]
    }
   ],
   "source": [
    "an_error = .75\n",
    "adj_error = abs(an_error) - 1.0\n",
    "if adj_error < 0.0:\n",
    "    the_loss = 0.0\n",
    "else:\n",
    "    the_loss = adj_error\n",
    "print(the_loss)"
   ]
  },
  {
   "cell_type": "markdown",
   "id": "2f8f8b0b",
   "metadata": {},
   "source": [
    "If we want to further condense this into a single mathematical expression we can consider that `if adj_error < 0.0`, we get `0`.  If `adj_error >= 0.0`, we get `adj_error`, and realize that those two outcomes are the same as taking the bigger value of `adj_error` or `0`.  "
   ]
  },
  {
   "cell_type": "code",
   "execution_count": 71,
   "id": "35c7cb91",
   "metadata": {},
   "outputs": [
    {
     "data": {
      "text/plain": [
       "Text(0, 0.5, 'Hinge Loss')"
      ]
     },
     "execution_count": 71,
     "metadata": {},
     "output_type": "execute_result"
    },
    {
     "data": {
      "image/png": "[encoded data removed]",
      "text/plain": [
       "<Figure size 288x216 with 1 Axes>"
      ]
     },
     "metadata": {
      "needs_background": "light"
     },
     "output_type": "display_data"
    }
   ],
   "source": [
    "error = np.linspace(-4, 4, 100)\n",
    "\n",
    "# here, we ignore errors up to 1.0 by taking bigger value\n",
    "loss = np.maximum(np.abs(error) - 1.0,\n",
    "                  np.zeros_like(error))\n",
    "\n",
    "fig, ax = plt.subplots(1,1,figsize=(4,3))\n",
    "ax.plot(error, loss)\n",
    "\n",
    "ax.set_xlabel('Raw Error')\n",
    "ax.set_ylabel('Hinge Loss')"
   ]
  },
  {
   "cell_type": "markdown",
   "id": "d0eace3a",
   "metadata": {},
   "source": [
    "Mathematically we can encode the **hinge loss** as the *loss* = max(|*error*| - *threshold*, 0). First, subtract the amount of error we are willing to ignore from the raw error. If we have a negative value, then maxing against zero will throw it out.  For example, if we have an absolute error of .5 (from a raw error of .5 or -5) and we subtract 1, we end up with an adjusted error of -1.5.  Maxing with 0, we take the 0.  We are left with zero--no cost.  \n",
    "\n",
    "The *hinge loss* get its name because the above graph looks like a pair of doors with hinges at the kinks or corners.  When we apply the hinge loss around a known target, we get a band where we don't care about small differences."
   ]
  },
  {
   "cell_type": "code",
   "execution_count": 72,
   "id": "f4197491",
   "metadata": {},
   "outputs": [
    {
     "data": {
      "text/plain": [
       "array([-5.    , -4.899 , -4.798 , -4.697 , -4.596 , -4.4949, -4.3939,\n",
       "       -4.2929, -4.1919, -4.0909, -3.9899, -3.8889, -3.7879, -3.6869,\n",
       "       -3.5859, -3.4848, -3.3838, -3.2828, -3.1818, -3.0808, -2.9798,\n",
       "       -2.8788, -2.7778, -2.6768, -2.5758, -2.4747, -2.3737, -2.2727,\n",
       "       -2.1717, -2.0707, -1.9697, -1.8687, -1.7677, -1.6667, -1.5657,\n",
       "       -1.4646, -1.3636, -1.2626, -1.1616, -1.0606, -0.9596, -0.8586,\n",
       "       -0.7576, -0.6566, -0.5556, -0.4545, -0.3535, -0.2525, -0.1515,\n",
       "       -0.0505,  0.0505,  0.1515,  0.2525,  0.3535,  0.4545,  0.5556,\n",
       "        0.6566,  0.7576,  0.8586,  0.9596,  1.0606,  1.1616,  1.2626,\n",
       "        1.3636,  1.4646,  1.5657,  1.6667,  1.7677,  1.8687,  1.9697,\n",
       "        2.0707,  2.1717,  2.2727,  2.3737,  2.4747,  2.5758,  2.6768,\n",
       "        2.7778,  2.8788,  2.9798,  3.0808,  3.1818,  3.2828,  3.3838,\n",
       "        3.4848,  3.5859,  3.6869,  3.7879,  3.8889,  3.9899,  4.0909,\n",
       "        4.1919,  4.2929,  4.3939,  4.4949,  4.596 ,  4.697 ,  4.798 ,\n",
       "        4.899 ,  5.    ])"
      ]
     },
     "execution_count": 72,
     "metadata": {},
     "output_type": "execute_result"
    }
   ],
   "source": [
    "threshold = 2.5\n",
    "\n",
    "xs = np.linspace(-5,5,100)\n",
    "xs"
   ]
  },
  {
   "cell_type": "code",
   "execution_count": 74,
   "id": "068dc34a",
   "metadata": {},
   "outputs": [
    {
     "data": {
      "text/plain": [
       "array([-13.    , -12.697 , -12.3939, -12.0909, -11.7879, -11.4848,\n",
       "       -11.1818, -10.8788, -10.5758, -10.2727,  -9.9697,  -9.6667,\n",
       "        -9.3636,  -9.0606,  -8.7576,  -8.4545,  -8.1515,  -7.8485,\n",
       "        -7.5455,  -7.2424,  -6.9394,  -6.6364,  -6.3333,  -6.0303,\n",
       "        -5.7273,  -5.4242,  -5.1212,  -4.8182,  -4.5152,  -4.2121,\n",
       "        -3.9091,  -3.6061,  -3.303 ,  -3.    ,  -2.697 ,  -2.3939,\n",
       "        -2.0909,  -1.7879,  -1.4848,  -1.1818,  -0.8788,  -0.5758,\n",
       "        -0.2727,   0.0303,   0.3333,   0.6364,   0.9394,   1.2424,\n",
       "         1.5455,   1.8485,   2.1515,   2.4545,   2.7576,   3.0606,\n",
       "         3.3636,   3.6667,   3.9697,   4.2727,   4.5758,   4.8788,\n",
       "         5.1818,   5.4848,   5.7879,   6.0909,   6.3939,   6.697 ,\n",
       "         7.    ,   7.303 ,   7.6061,   7.9091,   8.2121,   8.5152,\n",
       "         8.8182,   9.1212,   9.4242,   9.7273,  10.0303,  10.3333,\n",
       "        10.6364,  10.9394,  11.2424,  11.5455,  11.8485,  12.1515,\n",
       "        12.4545,  12.7576,  13.0606,  13.3636,  13.6667,  13.9697,\n",
       "        14.2727,  14.5758,  14.8788,  15.1818,  15.4848,  15.7879,\n",
       "        16.0909,  16.3939,  16.697 ,  17.    ])"
      ]
     },
     "execution_count": 74,
     "metadata": {},
     "output_type": "execute_result"
    }
   ],
   "source": [
    "ys_true = 3 * xs + 2\n",
    "ys_true"
   ]
  },
  {
   "cell_type": "code",
   "execution_count": 80,
   "id": "424653dc",
   "metadata": {},
   "outputs": [
    {
     "data": {
      "text/plain": [
       "Text(0, 0.5, 'Output Target')"
      ]
     },
     "execution_count": 80,
     "metadata": {},
     "output_type": "execute_result"
    },
    {
     "data": {
      "image/png": "[encoded data removed]",
      "text/plain": [
       "<Figure size 288x216 with 1 Axes>"
      ]
     },
     "metadata": {
      "needs_background": "light"
     },
     "output_type": "display_data"
    }
   ],
   "source": [
    "fig, ax = plt.subplots(1,1,figsize=(4,3))\n",
    "ax.plot(xs, ys_true)\n",
    "ax.fill_between(xs, ys_true-threshold, ys_true+threshold, color=(1.0,0,0,.25))\n",
    "ax.set_xlabel('Input Feature')\n",
    "ax.set_ylabel('Output Target')"
   ]
  },
  {
   "cell_type": "markdown",
   "id": "1bdfeb17",
   "metadata": {},
   "source": [
    "Now, pretend that instead of knowing the relatoinship between points (the blue line above), we only have some data that came from noisy measurements around that true line."
   ]
  },
  {
   "cell_type": "code",
   "execution_count": 82,
   "id": "855a467e",
   "metadata": {},
   "outputs": [
    {
     "data": {
      "text/plain": [
       "array([-5.    , -4.899 , -4.798 , -4.697 , -4.596 , -4.4949, -4.3939,\n",
       "       -4.2929, -4.1919, -4.0909, -3.9899, -3.8889, -3.7879, -3.6869,\n",
       "       -3.5859, -3.4848, -3.3838, -3.2828, -3.1818, -3.0808, -2.9798,\n",
       "       -2.8788, -2.7778, -2.6768, -2.5758, -2.4747, -2.3737, -2.2727,\n",
       "       -2.1717, -2.0707, -1.9697, -1.8687, -1.7677, -1.6667, -1.5657,\n",
       "       -1.4646, -1.3636, -1.2626, -1.1616, -1.0606, -0.9596, -0.8586,\n",
       "       -0.7576, -0.6566, -0.5556, -0.4545, -0.3535, -0.2525, -0.1515,\n",
       "       -0.0505,  0.0505,  0.1515,  0.2525,  0.3535,  0.4545,  0.5556,\n",
       "        0.6566,  0.7576,  0.8586,  0.9596,  1.0606,  1.1616,  1.2626,\n",
       "        1.3636,  1.4646,  1.5657,  1.6667,  1.7677,  1.8687,  1.9697,\n",
       "        2.0707,  2.1717,  2.2727,  2.3737,  2.4747,  2.5758,  2.6768,\n",
       "        2.7778,  2.8788,  2.9798,  3.0808,  3.1818,  3.2828,  3.3838,\n",
       "        3.4848,  3.5859,  3.6869,  3.7879,  3.8889,  3.9899,  4.0909,\n",
       "        4.1919,  4.2929,  4.3939,  4.4949,  4.596 ,  4.697 ,  4.798 ,\n",
       "        4.899 ,  5.    ])"
      ]
     },
     "execution_count": 82,
     "metadata": {},
     "output_type": "execute_result"
    }
   ],
   "source": [
    "threshold = 2.5\n",
    "xs = np.linspace(-5,5,100)\n",
    "xs"
   ]
  },
  {
   "cell_type": "code",
   "execution_count": 83,
   "id": "5bb03f50",
   "metadata": {},
   "outputs": [
    {
     "data": {
      "text/plain": [
       "array([-13.4914, -13.9894, -12.7812, -11.3995, -13.812 , -13.0135,\n",
       "       -10.9913, -12.753 ,  -7.6581, -10.5027, -11.3302, -10.8927,\n",
       "       -10.0883,  -9.9153, -11.895 ,  -6.5589,  -8.1747,  -7.8895,\n",
       "        -6.3186,  -8.8243,  -8.0769,  -5.9502,  -6.4299,  -5.5129,\n",
       "        -5.8474,  -5.7863,  -2.9709,  -3.2195,  -8.2633,  -1.9916,\n",
       "        -0.671 ,  -1.7584,  -3.6245,  -4.0338,  -1.6052,  -3.3225,\n",
       "        -1.5567,  -1.8207,   0.3422,  -1.766 ,  -1.543 ,  -0.0084,\n",
       "         2.628 ,   0.1518,  -0.2914,   1.9226,   2.0166,  -0.1848,\n",
       "         0.7412,   3.4933,   2.7935,  -1.25  ,   3.4805,   4.4503,\n",
       "         2.1073,   4.6824,   6.7782,   4.8673,   3.6373,   4.0951,\n",
       "         5.2014,   6.0515,   5.8821,   6.8433,   6.1735,   6.9679,\n",
       "         8.4472,   5.7058,   7.7691,   8.0677,   9.5931,   8.1751,\n",
       "         9.7978,  10.7752,   6.6495,  11.4802,   8.5522,   8.6924,\n",
       "         6.3172,   9.7346,  11.2351,  10.9705,  11.1547,  10.4828,\n",
       "        13.7554,  14.1952,  13.6878,  10.5338,  17.0767,  14.1902,\n",
       "        15.0821,  12.3283,  14.8616,  15.8018,  15.2735,  17.0961,\n",
       "        18.0414,  14.3787,  17.9722,  17.5915])"
      ]
     },
     "execution_count": 83,
     "metadata": {},
     "output_type": "execute_result"
    }
   ],
   "source": [
    "ys = 3 * xs + 2 + np.random.normal(0, 1.5, 100)\n",
    "ys"
   ]
  },
  {
   "cell_type": "code",
   "execution_count": 108,
   "id": "0bb8410c",
   "metadata": {},
   "outputs": [
    {
     "data": {
      "text/plain": [
       "<matplotlib.collections.PolyCollection at 0x2712c36be50>"
      ]
     },
     "execution_count": 108,
     "metadata": {},
     "output_type": "execute_result"
    },
    {
     "data": {
      "image/png": "[encoded data removed]",
      "text/plain": [
       "<Figure size 288x216 with 1 Axes>"
      ]
     },
     "metadata": {
      "needs_background": "light"
     },
     "output_type": "display_data"
    }
   ],
   "source": [
    "fig, ax = plt.subplots(1,1,figsize=(4,3))\n",
    "ax.plot(xs, ys, 'o', color=(0,0,1.0,.75))\n",
    "ax.fill_between(xs, ys_true-threshold, ys_true+threshold,\n",
    "                color=(1.0,0,0,.5))"
   ]
  },
  {
   "cell_type": "markdown",
   "id": "59a7222a",
   "metadata": {},
   "source": [
    "We might consider many potential lines to fit this data.  The band around the central line captures most of the noise in the data and *throws all of those small errors* out.  The band coverage is close to perfect.  Only a few oints out of 100 are enough of a mistake to matter.  Admittedly, we cheated when drawing this data.  We based the points on the true line, which we normally do not have available.  The central line may remind you of the maximum margin separator in SVCs."
   ]
  },
  {
   "cell_type": "markdown",
   "id": "806e014f",
   "metadata": {},
   "source": [
    "### 9.2.2 From Linear Regression to Regularized Regression to Support Vector Regression\n",
    "\n",
    "We can develop a progression from GOF linear regression to regularized regression to support vector regresison.  At each step, we add or tweak a part of the basic recipe.  Using the `xs` and `ys` from above, we define a few terms and see the progression.  We'll image that we estimated the $w_1$ parameter to be 1.3 and we'll take $C$ = 1.0.  The threshold on the amount of error that we tolerate, also known as the band of ignorance or the band which we ignore, is $\\epsilon=.25$.  That is a baby Greek *epsilon.*"
   ]
  },
  {
   "cell_type": "code",
   "execution_count": 109,
   "id": "e4dad41c",
   "metadata": {},
   "outputs": [],
   "source": [
    "# hyper parameters for the scenario\n",
    "C, epsilon = 1.0, .25\n",
    "\n",
    "# parameters\n",
    "weights = np.array([1.3])"
   ]
  },
  {
   "cell_type": "markdown",
   "id": "5b3bbaf6",
   "metadata": {},
   "source": [
    "We can make `predictions` from that *w* and look at the three losses--square-error, absolute, and hinge losses.  We will not use the absolute loss any further, it's just there for the sake of comparison."
   ]
  },
  {
   "cell_type": "code",
   "execution_count": 111,
   "id": "92c7d57f",
   "metadata": {},
   "outputs": [
    {
     "data": {
      "text/plain": [
       "array([-5.    , -4.899 , -4.798 , -4.697 , -4.596 , -4.4949, -4.3939,\n",
       "       -4.2929, -4.1919, -4.0909, -3.9899, -3.8889, -3.7879, -3.6869,\n",
       "       -3.5859, -3.4848, -3.3838, -3.2828, -3.1818, -3.0808, -2.9798,\n",
       "       -2.8788, -2.7778, -2.6768, -2.5758, -2.4747, -2.3737, -2.2727,\n",
       "       -2.1717, -2.0707, -1.9697, -1.8687, -1.7677, -1.6667, -1.5657,\n",
       "       -1.4646, -1.3636, -1.2626, -1.1616, -1.0606, -0.9596, -0.8586,\n",
       "       -0.7576, -0.6566, -0.5556, -0.4545, -0.3535, -0.2525, -0.1515,\n",
       "       -0.0505,  0.0505,  0.1515,  0.2525,  0.3535,  0.4545,  0.5556,\n",
       "        0.6566,  0.7576,  0.8586,  0.9596,  1.0606,  1.1616,  1.2626,\n",
       "        1.3636,  1.4646,  1.5657,  1.6667,  1.7677,  1.8687,  1.9697,\n",
       "        2.0707,  2.1717,  2.2727,  2.3737,  2.4747,  2.5758,  2.6768,\n",
       "        2.7778,  2.8788,  2.9798,  3.0808,  3.1818,  3.2828,  3.3838,\n",
       "        3.4848,  3.5859,  3.6869,  3.7879,  3.8889,  3.9899,  4.0909,\n",
       "        4.1919,  4.2929,  4.3939,  4.4949,  4.596 ,  4.697 ,  4.798 ,\n",
       "        4.899 ,  5.    ])"
      ]
     },
     "execution_count": 111,
     "metadata": {},
     "output_type": "execute_result"
    }
   ],
   "source": [
    "xs"
   ]
  },
  {
   "cell_type": "code",
   "execution_count": 124,
   "id": "2a6fde24",
   "metadata": {},
   "outputs": [
    {
     "name": "stdout",
     "output_type": "stream",
     "text": [
      "<class 'numpy.ndarray'>\n",
      "1\n",
      "(100,)\n",
      "100\n",
      "float64\n"
     ]
    }
   ],
   "source": [
    "print(type(xs))\n",
    "print(xs.ndim)\n",
    "print(xs.shape)\n",
    "print(xs.size)\n",
    "print(xs.dtype)"
   ]
  },
  {
   "cell_type": "code",
   "execution_count": 136,
   "id": "10371f70",
   "metadata": {},
   "outputs": [
    {
     "data": {
      "text/plain": [
       "array([[-5.   ],\n",
       "       [-4.899],\n",
       "       [-4.798],\n",
       "       [-4.697],\n",
       "       [-4.596],\n",
       "       [ 4.596],\n",
       "       [ 4.697],\n",
       "       [ 4.798],\n",
       "       [ 4.899],\n",
       "       [ 5.   ]])"
      ]
     },
     "execution_count": 136,
     "metadata": {},
     "output_type": "execute_result"
    }
   ],
   "source": [
    "np.concatenate([xs.reshape(-1, 1)[:5],xs.reshape(-1,1)[-5:]])"
   ]
  },
  {
   "cell_type": "code",
   "execution_count": 149,
   "id": "225ed1b6",
   "metadata": {},
   "outputs": [
    {
     "name": "stdout",
     "output_type": "stream",
     "text": [
      "<class 'numpy.ndarray'>\n",
      "1\n",
      "(1,)\n",
      "1\n",
      "float64\n"
     ]
    },
    {
     "data": {
      "text/plain": [
       "array([1.3])"
      ]
     },
     "execution_count": 149,
     "metadata": {},
     "output_type": "execute_result"
    }
   ],
   "source": [
    "print(type(weights))\n",
    "print(weights.ndim)\n",
    "print(weights.shape)\n",
    "print(weights.size)\n",
    "print(weights.dtype)\n",
    "weights"
   ]
  },
  {
   "cell_type": "code",
   "execution_count": 139,
   "id": "a155cd9c",
   "metadata": {},
   "outputs": [
    {
     "data": {
      "text/plain": [
       "array([-6.5   , -6.3687, -6.2374, -6.1061, -5.9747, -5.8434, -5.7121,\n",
       "       -5.5808, -5.4495, -5.3182, -5.1869, -5.0556, -4.9242, -4.7929,\n",
       "       -4.6616, -4.5303, -4.399 , -4.2677, -4.1364, -4.0051, -3.8737,\n",
       "       -3.7424, -3.6111, -3.4798, -3.3485, -3.2172, -3.0859, -2.9545,\n",
       "       -2.8232, -2.6919, -2.5606, -2.4293, -2.298 , -2.1667, -2.0354,\n",
       "       -1.904 , -1.7727, -1.6414, -1.5101, -1.3788, -1.2475, -1.1162,\n",
       "       -0.9848, -0.8535, -0.7222, -0.5909, -0.4596, -0.3283, -0.197 ,\n",
       "       -0.0657,  0.0657,  0.197 ,  0.3283,  0.4596,  0.5909,  0.7222,\n",
       "        0.8535,  0.9848,  1.1162,  1.2475,  1.3788,  1.5101,  1.6414,\n",
       "        1.7727,  1.904 ,  2.0354,  2.1667,  2.298 ,  2.4293,  2.5606,\n",
       "        2.6919,  2.8232,  2.9545,  3.0859,  3.2172,  3.3485,  3.4798,\n",
       "        3.6111,  3.7424,  3.8737,  4.0051,  4.1364,  4.2677,  4.399 ,\n",
       "        4.5303,  4.6616,  4.7929,  4.9242,  5.0556,  5.1869,  5.3182,\n",
       "        5.4495,  5.5808,  5.7121,  5.8434,  5.9747,  6.1061,  6.2374,\n",
       "        6.3687,  6.5   ])"
      ]
     },
     "execution_count": 139,
     "metadata": {},
     "output_type": "execute_result"
    }
   ],
   "source": [
    "# prediction, error, loss\n",
    "predictions = rdot(weights, xs.reshape(-1, 1))\n",
    "predictions"
   ]
  },
  {
   "cell_type": "code",
   "execution_count": 144,
   "id": "0bc3a08a",
   "metadata": {},
   "outputs": [
    {
     "name": "stdout",
     "output_type": "stream",
     "text": [
      "<class 'numpy.ndarray'>\n",
      "1\n",
      "(100,)\n",
      "100\n",
      "float64\n"
     ]
    },
    {
     "data": {
      "text/plain": [
       "array([-13.4914, -13.9894, -12.7812, -11.3995, -13.812 , -13.0135,\n",
       "       -10.9913, -12.753 ,  -7.6581, -10.5027, -11.3302, -10.8927,\n",
       "       -10.0883,  -9.9153, -11.895 ,  -6.5589,  -8.1747,  -7.8895,\n",
       "        -6.3186,  -8.8243,  -8.0769,  -5.9502,  -6.4299,  -5.5129,\n",
       "        -5.8474,  -5.7863,  -2.9709,  -3.2195,  -8.2633,  -1.9916,\n",
       "        -0.671 ,  -1.7584,  -3.6245,  -4.0338,  -1.6052,  -3.3225,\n",
       "        -1.5567,  -1.8207,   0.3422,  -1.766 ,  -1.543 ,  -0.0084,\n",
       "         2.628 ,   0.1518,  -0.2914,   1.9226,   2.0166,  -0.1848,\n",
       "         0.7412,   3.4933,   2.7935,  -1.25  ,   3.4805,   4.4503,\n",
       "         2.1073,   4.6824,   6.7782,   4.8673,   3.6373,   4.0951,\n",
       "         5.2014,   6.0515,   5.8821,   6.8433,   6.1735,   6.9679,\n",
       "         8.4472,   5.7058,   7.7691,   8.0677,   9.5931,   8.1751,\n",
       "         9.7978,  10.7752,   6.6495,  11.4802,   8.5522,   8.6924,\n",
       "         6.3172,   9.7346,  11.2351,  10.9705,  11.1547,  10.4828,\n",
       "        13.7554,  14.1952,  13.6878,  10.5338,  17.0767,  14.1902,\n",
       "        15.0821,  12.3283,  14.8616,  15.8018,  15.2735,  17.0961,\n",
       "        18.0414,  14.3787,  17.9722,  17.5915])"
      ]
     },
     "execution_count": 144,
     "metadata": {},
     "output_type": "execute_result"
    }
   ],
   "source": [
    "print(type(ys))\n",
    "print(ys.ndim)\n",
    "print(ys.shape)\n",
    "print(ys.size)\n",
    "print(ys.dtype)\n",
    "ys"
   ]
  },
  {
   "cell_type": "code",
   "execution_count": 145,
   "id": "2fe2b93f",
   "metadata": {},
   "outputs": [],
   "source": [
    "errors = ys - predictions"
   ]
  },
  {
   "cell_type": "code",
   "execution_count": 147,
   "id": "4cb585ee",
   "metadata": {},
   "outputs": [
    {
     "name": "stdout",
     "output_type": "stream",
     "text": [
      "<class 'numpy.ndarray'>\n",
      "1\n",
      "(100,)\n",
      "100\n",
      "float64\n"
     ]
    },
    {
     "data": {
      "text/plain": [
       "array([-6.9914, -7.6207, -6.5438, -5.2934, -7.8372, -7.17  , -5.2792,\n",
       "       -7.1721, -2.2086, -5.1846, -6.1433, -5.8371, -5.1641, -5.1224,\n",
       "       -7.2334, -2.0286, -3.7758, -3.6219, -2.1823, -4.8193, -4.2031,\n",
       "       -2.2078, -2.8188, -2.0332, -2.4989, -2.5691,  0.1149, -0.2649,\n",
       "       -5.4401,  0.7003,  1.8896,  0.6709, -1.3265, -1.8671,  0.4301,\n",
       "       -1.4185,  0.2161, -0.1793,  1.8523, -0.3872, -0.2955,  1.1077,\n",
       "        3.6129,  1.0053,  0.4309,  2.5135,  2.4762,  0.1435,  0.9382,\n",
       "        3.5589,  2.7279, -1.447 ,  3.1523,  3.9907,  1.5164,  3.9602,\n",
       "        5.9246,  3.8824,  2.5212,  2.8476,  3.8226,  4.5414,  4.2407,\n",
       "        5.0706,  4.2695,  4.9326,  6.2805,  3.4078,  5.3398,  5.5071,\n",
       "        6.9012,  5.3518,  6.8432,  7.6894,  3.4324,  8.1317,  5.0724,\n",
       "        5.0813,  2.5748,  5.8609,  7.2301,  6.8341,  6.887 ,  6.0838,\n",
       "        9.2251,  9.5336,  8.8949,  5.6096, 12.0211,  9.0033,  9.764 ,\n",
       "        6.8788,  9.2808, 10.0897,  9.4301, 11.1214, 11.9354,  8.1413,\n",
       "       11.6035, 11.0915])"
      ]
     },
     "execution_count": 147,
     "metadata": {},
     "output_type": "execute_result"
    }
   ],
   "source": [
    "print(type(errors))\n",
    "print(errors.ndim)\n",
    "print(errors.shape)\n",
    "print(errors.size)\n",
    "print(errors.dtype)\n",
    "errors"
   ]
  },
  {
   "cell_type": "code",
   "execution_count": 153,
   "id": "51e4a34d",
   "metadata": {},
   "outputs": [],
   "source": [
    "loss_sse = np.sum(errors ** 2)\n",
    "loss_sae = np.sum(np.abs(errors))\n",
    "loss_hinge = np.sum(np.max(np.abs(errors) - epsilon, 0))"
   ]
  },
  {
   "cell_type": "markdown",
   "id": "bac2250a",
   "metadata": {},
   "source": [
    "Also, we can compute the two complexity penalties we need for $L_1$ and $L_2$ regularization.  Note the close similarity to the calculations for the *losses*, except we calculate the complexity from the *weights* instead of the *errors*."
   ]
  },
  {
   "cell_type": "code",
   "execution_count": 154,
   "id": "c528e6b4",
   "metadata": {},
   "outputs": [
    {
     "name": "stdout",
     "output_type": "stream",
     "text": [
      "1.3\n",
      "1.6900000000000002\n"
     ]
    }
   ],
   "source": [
    "# complexity penalty for regularization\n",
    "complexity_saw = np.sum(np.abs(weights))\n",
    "complexity_ssw = np.sum(weights**2)\n",
    "print(complexity_saw)\n",
    "print(complexity_ssw)"
   ]
  },
  {
   "cell_type": "markdown",
   "id": "59bc64b5",
   "metadata": {},
   "source": [
    "Finally, we can calculate our total costs."
   ]
  },
  {
   "cell_type": "code",
   "execution_count": 157,
   "id": "697bd97a",
   "metadata": {},
   "outputs": [
    {
     "name": "stdout",
     "output_type": "stream",
     "text": [
      "3179.7823768670883\n",
      "3181.0823768670884\n",
      "3181.4723768670883\n",
      "13.461128848137333\n"
     ]
    }
   ],
   "source": [
    "cost_gof_regression   = loss_sse + 0.0\n",
    "cost_L1pen_regression = loss_sse + C * complexity_saw\n",
    "cost_L2pen_regression = loss_sse + C * complexity_ssw\n",
    "cost_sv_regression    = loss_hinge + C * complexity_ssw\n",
    "print(cost_gof_regression)\n",
    "print(cost_L1pen_regression)\n",
    "print(cost_L2pen_regression)\n",
    "print(cost_sv_regression)"
   ]
  },
  {
   "cell_type": "markdown",
   "id": "40b9ee92",
   "metadata": {},
   "source": [
    "The code above only calculates a cost for each type of regression for *one* set of weights.  We would have to run that code over and over--with different sets of weights--to find a good, better, or best set of weights.\n",
    "\n",
    "The table below shows the math forms buried in the code.  If we let $ L_1 = \\Sigma \\big | v_i \\big | $ and $ L_2 = \\Sigma v_i^2 $.\n",
    "\n",
    "The loss applies to raw errors and the penalty applies to the parameters or weights.\n",
    "\n",
    "In reality, we **don't know the right assumptions to choose between learning methods.**  The discrimnant methods or these varied regression methods.  Therefore, we do not know whether the noise and underlying complexity of data is going to be best suited to one or another of these technqiues.  We *can* cross-validate the data to pick a preferred method for a given dataset.  \n",
    "\n",
    "The choice between models may depend on outside constraints.  On very complex problems, we might not even bother with GOF linear regression, although it might make a good baseline comparison.  If we have a lot of features, we may choose the lasso--$L_1$-penalized--to eliminate features entirely.  Ridge, on the other hand, has a more moderate approach and only reduces, but does not eliminate, features."
   ]
  },
  {
   "cell_type": "markdown",
   "id": "dff6f929",
   "metadata": {},
   "source": [
    "| **Name** | **Penalty** | **Math** |\n",
    "| :--- | :--- | :---: |\n",
    "| GOF Linear Regression | None | $$ \\Sigma_i (y_i - wx_{i})^2 $$ |\n",
    "| Lasso | $ L_1 $ | $$ \\Sigma_i(y_i - wx_i)^2 + C\\Sigma_{j}\\big|w_j\\big| $$  |\n",
    "| Ridge | $ L_2 $ | $$ \\Sigma_i(y_i - wx_i)^2 + C\\Sigma_{j}w_j^2 $$ |\n",
    "| SVR | $ L_1 $ | $$ \\Sigma_i(\\big|y_i - wx_i \\big| - \\epsilon, 0) + C \\Sigma_j w_j $$ |"
   ]
  },
  {
   "cell_type": "markdown",
   "id": "e457c6ee",
   "metadata": {},
   "source": [
    "| **Name** | **Loss** | **Penalty** |\n",
    "| :--- | :--- | :--- |\n",
    "| GOF Linear Regression | $L_1$ | 0 |\n",
    "| Lasso ($L_1$-Penalty LR) | $L_2$ | $L_1$  |\n",
    "| Ridge ($L_2$-Penalty LR)| $L_2$ | $L_2$ |\n",
    "| SVR | Hinge | $L_1$ |\n"
   ]
  },
  {
   "cell_type": "markdown",
   "id": "62c61492",
   "metadata": {},
   "source": [
    "## 9.2.3 SVR Implementation"
   ]
  },
  {
   "cell_type": "markdown",
   "id": "e16b3682",
   "metadata": {},
   "source": [
    "There are two main options for SVR in `sklearn`.  You can control different aspects with these two regressors.\n",
    "\n",
    "1. $\\epsilon$-SVR: you set the error band tolerance. $\\nu$ is determined implicitly by this choice.  This is what you get with the default parameters to `SVR` in `sklearn`.\n",
    "2. $\\nu$-SVR: you set $\\nu$, the proportion of kept support vectors with respect to teh total number of examples.  $\\epsilon$, the error band tolerance, is determined implicitly by this choice."
   ]
  },
  {
   "cell_type": "code",
   "execution_count": 159,
   "id": "ad34571c",
   "metadata": {},
   "outputs": [
    {
     "name": "stdout",
     "output_type": "stream",
     "text": [
      "4511.861877534951\n",
      "4608.838803768554\n"
     ]
    }
   ],
   "source": [
    "svrs = [svm.SVR(),    # default epsilon=0.1\n",
    "        svm.NuSVR()]  # default nu=0.5\n",
    "\n",
    "for model in svrs:\n",
    "    preds = (model.fit(diabetes_train_ftrs, diabetes_train_tgt)\n",
    "                  .predict(diabetes_test_ftrs))\n",
    "    print(metrics.mean_squared_error(diabetes_test_tgt, preds))"
   ]
  },
  {
   "cell_type": "markdown",
   "id": "c4f33e6e",
   "metadata": {},
   "source": [
    "# 9.3 Piecewise Constant Regression\n",
    "\n",
    "All linear regression techniques we looked at have one common theme: they assume that a suitably small variation of the inputs leads to a small variation in the output.  This is related to the concept of *smoothness*.  The output never jumps around.  In classificaiton, we *expect* the outputs to make leaps: at some critical point we move from predicted *dog* to predicting *cat*. Methods like logistic regression have smooth transitions from one class to the next; decision tree classifiers are distinctly dog-or-cat.  In mathese, if we have a numerical output value that is not sufficiently smooth, we say we have a *discontinuous target*.\n",
    "\n",
    "Let's look at a concrete example.  Suppose a hotdog stand wants to be cash-only and does not want to deal with coins.  They are *literally* paper-cash only .  Therefore, if a customer gets a bill of $2.75, the round up and charge the customer $3.00.  Here's a graph that converts the raw bill to a collected bill."
   ]
  },
  {
   "cell_type": "code",
   "execution_count": 168,
   "id": "539b4786",
   "metadata": {},
   "outputs": [
    {
     "name": "stdout",
     "output_type": "stream",
     "text": [
      "[[ 0.5   ]\n",
      " [ 0.596 ]\n",
      " [ 0.6919]\n",
      " [ 0.7879]\n",
      " [ 0.8838]\n",
      " [ 9.6162]\n",
      " [ 9.7121]\n",
      " [ 9.8081]\n",
      " [ 9.904 ]\n",
      " [10.    ]]\n",
      "[ 0.5     0.596   0.6919  0.7879  0.8838  0.9798  1.0758  1.1717  1.2677\n",
      "  1.3636  1.4596  1.5556  1.6515  1.7475  1.8434  1.9394  2.0354  2.1313\n",
      "  2.2273  2.3232  2.4192  2.5152  2.6111  2.7071  2.803   2.899   2.9949\n",
      "  3.0909  3.1869  3.2828  3.3788  3.4747  3.5707  3.6667  3.7626  3.8586\n",
      "  3.9545  4.0505  4.1465  4.2424  4.3384  4.4343  4.5303  4.6263  4.7222\n",
      "  4.8182  4.9141  5.0101  5.1061  5.202   5.298   5.3939  5.4899  5.5859\n",
      "  5.6818  5.7778  5.8737  5.9697  6.0657  6.1616  6.2576  6.3535  6.4495\n",
      "  6.5455  6.6414  6.7374  6.8333  6.9293  7.0253  7.1212  7.2172  7.3131\n",
      "  7.4091  7.5051  7.601   7.697   7.7929  7.8889  7.9848  8.0808  8.1768\n",
      "  8.2727  8.3687  8.4646  8.5606  8.6566  8.7525  8.8485  8.9444  9.0404\n",
      "  9.1364  9.2323  9.3283  9.4242  9.5202  9.6162  9.7121  9.8081  9.904\n",
      " 10.    ]\n"
     ]
    }
   ],
   "source": [
    "raw_bill = np.linspace(.5, 10.0, 100)\n",
    "print(np.concatenate([raw_bill[:5].reshape(-1,1), raw_bill[-5:].reshape(-1,1)]))\n",
    "print(raw_bill)\n"
   ]
  },
  {
   "cell_type": "code",
   "execution_count": 169,
   "id": "5a1b7c01",
   "metadata": {},
   "outputs": [
    {
     "data": {
      "text/plain": [
       "array([ 0.,  1.,  1.,  1.,  1.,  1.,  1.,  1.,  1.,  1.,  1.,  2.,  2.,\n",
       "        2.,  2.,  2.,  2.,  2.,  2.,  2.,  2.,  3.,  3.,  3.,  3.,  3.,\n",
       "        3.,  3.,  3.,  3.,  3.,  3.,  4.,  4.,  4.,  4.,  4.,  4.,  4.,\n",
       "        4.,  4.,  4.,  5.,  5.,  5.,  5.,  5.,  5.,  5.,  5.,  5.,  5.,\n",
       "        5.,  6.,  6.,  6.,  6.,  6.,  6.,  6.,  6.,  6.,  6.,  7.,  7.,\n",
       "        7.,  7.,  7.,  7.,  7.,  7.,  7.,  7.,  8.,  8.,  8.,  8.,  8.,\n",
       "        8.,  8.,  8.,  8.,  8.,  8.,  9.,  9.,  9.,  9.,  9.,  9.,  9.,\n",
       "        9.,  9.,  9., 10., 10., 10., 10., 10., 10.])"
      ]
     },
     "execution_count": 169,
     "metadata": {},
     "output_type": "execute_result"
    }
   ],
   "source": [
    "collected = np.round(raw_bill)\n",
    "collected"
   ]
  },
  {
   "cell_type": "code",
   "execution_count": 170,
   "id": "c5fd797b",
   "metadata": {},
   "outputs": [
    {
     "data": {
      "text/plain": [
       "Text(0, 0.5, 'bill')"
      ]
     },
     "execution_count": 170,
     "metadata": {},
     "output_type": "execute_result"
    },
    {
     "data": {
      "image/png": "[encoded data removed]",
      "text/plain": [
       "<Figure size 288x216 with 1 Axes>"
      ]
     },
     "metadata": {
      "needs_background": "light"
     },
     "output_type": "display_data"
    }
   ],
   "source": [
    "fig, ax = plt.subplots(1,1,figsize=(4,3))\n",
    "ax.plot(raw_bill, collected, '.')\n",
    "ax.set_xlabel('raw cost')\n",
    "ax.set_ylabel('bill')"
   ]
  },
  {
   "cell_type": "markdown",
   "id": "746414e3",
   "metadata": {},
   "source": [
    "The graph looks like a set of stairs and it is not possible for a smooth regression line to capture this pattern in the relationship.  A single line through the dataset will have problems.  To put it bluntly, the bias of linear regression puts a fundamental limit on our ability to follow the pattern.\n",
    "\n",
    "We could use decision trees to break down the inputs into little buckets.  We will look at that soon.  First, we will examine a middle ground between using linear regression and modifying decision trees to perform regression.  We will use *piecewise* linear regression in the simplest way: *piecewise constant regression.* For each region of the input features, we predict a simple horizontal line.  This means that we predict a single constant value for that region.\n",
    "\n",
    "The cost-versus-bill graph is one example where this is an appropriate model.  Let's develop an example with a less consistent relationship.  Instead of constantly working our way up, we move both up and down as *x* increases.  Let's define some split points.  Therefore, if we want four lines, we define three split points.  Imagine splitting at *a, b* and *c*.  Then, we fit four lines on the data: (1) from very small up to *a*, (2) from *a* to *b*, (3) from *b* to *c*, and (4) from *c* onwards to very big.  `a,b,c,=3,8,12`.  The results might look like the following:"
   ]
  },
  {
   "cell_type": "code",
   "execution_count": 173,
   "id": "1e3bbe60",
   "metadata": {},
   "outputs": [
    {
     "data": {
      "text/plain": [
       "[<matplotlib.axis.XTick at 0x2713025b2b0>,\n",
       " <matplotlib.axis.XTick at 0x2713025b280>,\n",
       " <matplotlib.axis.XTick at 0x2713024eaf0>]"
      ]
     },
     "execution_count": 173,
     "metadata": {},
     "output_type": "execute_result"
    },
    {
     "data": {
      "image/png": "[encoded data removed]",
      "text/plain": [
       "<Figure size 288x216 with 1 Axes>"
      ]
     },
     "metadata": {
      "needs_background": "light"
     },
     "output_type": "display_data"
    }
   ],
   "source": [
    "fig, ax = plt.subplots(1,1,figsize=(4,3))\n",
    "ax.plot([0,3],     [0,0],\n",
    "        [3,8],     [5,5],\n",
    "        [8,12],    [2,2],\n",
    "        [12,15],   [9,9])\n",
    "ax.set_xticks([3,8,12])"
   ]
  },
  {
   "cell_type": "markdown",
   "id": "40f6aa92",
   "metadata": {},
   "source": [
    "If there are no splits, we simply perform linear regression without a close and predict a constant value everywhere using the mean.  If we go to th eother extreme, where we have *n* data points and make *n*-1 mini-lines the model will do great in training, but will do bad in texting because it overfits the data.\n",
    "\n",
    "In some ways, piecewise constant regression is like *k*-Nearest Neighbors Regression (*k*-NN-R).  However, *k*-NN-R considers examples based on relative distance instead of raw numeric value.  For example, we claim a new testing example is like examples 3, 17, or 21 because they are close to the new example, regardless of the raw numeric value.  Piecewise constant regression gives examples the same target value based on a preset range of splits: If my value is 6, I am like the examples with values between 5 and 10 even if I'm closer to an example with value 4.\n",
    "\n",
    "With *k*-NN-R the data determines the boundary between predictions *and* those boundaries move with the density of the data.  Denser regions get more potential boundaries.  With piecewise constant regression, our splits are predetermined.  We have no wiggle room for areas with high or low densities of data.  The net effect is that we may do very well when choosing splits for piece wise regression if we have some strong background information about the data.  For example, in the US, tax brackets are set by predetermined break points.  If we don't ahve the right informatoin, our splits may do much worse than *k*-NN-R."
   ]
  },
  {
   "cell_type": "markdown",
   "id": "2e477a35",
   "metadata": {},
   "source": [
    "## 9.3.1 Implementing a Piecewise Constant Regressor\n",
    "\n",
    "`sklearn` does not have a built-in piecewise regression model.  Therefore, we will implement a learner of our own.  It is about 40 lines of code and makes use of two main ideas.  \n",
    "\n",
    "1. To perform each constant regression for the individual pieces, we simply reuse `sklearn`'s built-in linear regression on a rewritten form of the data.\n",
    "2. We need to map from the input feature--we limit ourself to just one for now--to the appropriate section of our rope. The mapping has two steps:\n",
    "    1. In the first step we use `np.searchsorted`. `searchsorted` finds an insertion point for a new element into a sorted sequence of values.\n",
    "        1. It says where someone should enter a line of people ordered by height to maintain the ordering.\n",
    "        2. We want to be able to translate a feature value of 60 to segment, or rope piece, 3.\n",
    "        3. We do this in both the training and testing phases.\n",
    "    2. We convert the rope pieces to true/false indicators.\n",
    "        1. Instead of $Piece = 3$, we have $Piece_1 = False$, $Piece_2 = False$, $Piece_3 = True$.\n",
    "        2. Then, we learn a regression model from the piece indicators to the output target.\n",
    "            1. When we want to predict a new example, we run it through the mapping process to get the right piece indicator and then pipe it to the constant linear regression.\n",
    "            2. The remapping is wrapped up in the `_recode` member function in the code below.\n",
    "            \n",
    "## 9.3.2 General Notes on Implementing Models\n",
    "\n",
    "The following is a simplified process for implementing custom models in `sklearn`.\n",
    "\n",
    "* We will inherit from `BaseEstimator` and `RegressorMixin` because we are implementing a regressor\n",
    "* We will *not* do anything with the model arguments in `__init__`.\n",
    "* We define `fit(X,y)` and `predict(X)` methods.\n",
    "* We make use of `check_X_y` and `check_array` to verify arguments are valid in the `sklearn` sense.\n",
    "\n",
    "Quick code comments:\n",
    "\n",
    "* The following code only works for a single feature.  Chapter 10 includes ideas on how to extend the code to multiple features.\n",
    "* If no cut points are defined, we use one cut point for every ten examples and we choose the cut points at evenly spaced percentiles of the data.\n",
    "    * For two regions, the split point would be at 50%, or the median.  With three or four regions, the splits would be at 33-67% or 25-50-75%. Ironically, a single split at 50% might be bad if the data is concentrated in the middle, as might be the case with heights.\n",
    "    "
   ]
  },
  {
   "cell_type": "code",
   "execution_count": 203,
   "id": "1b3f20b7",
   "metadata": {},
   "outputs": [],
   "source": [
    "from sklearn.base import BaseEstimator, RegressorMixin\n",
    "from sklearn.utils.validation import (check_X_y,\n",
    "                                      check_array,\n",
    "                                      check_is_fitted)\n",
    "\n",
    "class PiecewiseConstantRegression(BaseEstimator, RegressorMixin):\n",
    "    def __init__(self, cut_points=None):\n",
    "        self.cut_points = cut_points\n",
    "        \n",
    "    def fit(self, X, y):\n",
    "        X, y = check_X_y(X,y)\n",
    "        assert X.shape[1] == 1 # one variable only\n",
    "        \n",
    "        if self.cut_points is None:\n",
    "            n = (len(X) // 10) + 1\n",
    "            qtiles = np.linspace(0.0, 1.0, n+2)[1:-1]\n",
    "            self.cut_points = np.percentile(X, qtiles, axis=1)\n",
    "        else:\n",
    "            # ensure cutpoints in order and in range of X\n",
    "            assert np.all(self.cut_points[:-1] < self.cut_points[1:])\n",
    "            assert (X.min() < self.cut_points[0] and\n",
    "                    self.cut_points[-1] < X.max())\n",
    "            \n",
    "        recoded_X = self._recode(X)\n",
    "        # even though the _inner_ model is fit without an intercept,\n",
    "        # our piecewise model *does* have a constant term (but see notes)\n",
    "        self.coeffs_ = (linear_model.LinearRegression(fit_intercept=False)\n",
    "                                    .fit(recoded_X, y).coef_)\n",
    "        \n",
    "    def _recode(self, X):\n",
    "        cp = self.cut_points\n",
    "        n_pieces = len(cp) + 1\n",
    "        recoded_X = np.eye(n_pieces)[np.searchsorted(cp, X.flat)]\n",
    "        return recoded_X\n",
    "    \n",
    "    def predict(self, X):\n",
    "        check_is_fitted(self, 'coeffs_')\n",
    "        X = check_array(X)\n",
    "        recoded_X = self._recode(X)\n",
    "        return rdot(self.coeffs_, recoded_X)    "
   ]
  },
  {
   "cell_type": "markdown",
   "id": "8543cd81",
   "metadata": {},
   "source": [
    "To test and demonstrate that code, let's generate a simple example dataset we can train on."
   ]
  },
  {
   "cell_type": "code",
   "execution_count": 187,
   "id": "4e2d6f60",
   "metadata": {},
   "outputs": [
    {
     "name": "stdout",
     "output_type": "stream",
     "text": [
      "Dimensions: 2\n",
      "Shape: (100, 1)\n",
      "Size: 100\n",
      "DataType: float64\n",
      "Examples:\n",
      "[[1.]\n",
      " [4.]\n",
      " [9.]\n",
      " [3.]\n",
      " [8.]\n",
      " [6.]\n",
      " [4.]\n",
      " [5.]\n",
      " [5.]\n",
      " [7.]]\n"
     ]
    }
   ],
   "source": [
    "ftr = np.random.randint(0,10,(100,1)).astype(np.float64)\n",
    "\n",
    "print(f'Dimensions: {ftr.ndim}')\n",
    "print(f'Shape: {ftr.shape}')\n",
    "print(f'Size: {ftr.size}')\n",
    "print(f'DataType: {ftr.dtype}')\n",
    "print(f'Examples:\\n{np.concatenate([ftr[:5],ftr[-5:]])}')"
   ]
  },
  {
   "cell_type": "code",
   "execution_count": 191,
   "id": "c3789809",
   "metadata": {},
   "outputs": [],
   "source": [
    "cp = np.array([3,7])\n",
    "tgt = np.searchsorted(cp, ftr.flat) + 1"
   ]
  },
  {
   "cell_type": "code",
   "execution_count": 195,
   "id": "37804920",
   "metadata": {},
   "outputs": [
    {
     "name": "stdout",
     "output_type": "stream",
     "text": [
      "Dimensions: 1\n",
      "Shape: (100,)\n",
      "Size: 100\n",
      "DataType: int64\n",
      "Examples:\n",
      "[1 2 3 1 3 2 2 2 2 2]\n",
      "[1 2 3 1 3 2 1 1 2 3 2 3 2 2 3 2 2 3 2 2 1 3 2 2 3 1 3 2 3 1 2 1 1 2 1 1 3\n",
      " 2 2 1 1 2 2 1 2 1 2 2 2 2 2 2 1 3 1 1 1 1 1 1 1 3 3 1 2 3 3 2 1 1 3 2 3 3\n",
      " 2 1 1 1 2 1 2 1 1 2 1 1 3 3 2 1 2 1 2 2 1 2 2 2 2 2]\n"
     ]
    }
   ],
   "source": [
    "print(f'Dimensions: {tgt.ndim}')\n",
    "print(f'Shape: {tgt.shape}')\n",
    "print(f'Size: {tgt.size}')\n",
    "print(f'DataType: {tgt.dtype}')\n",
    "print(f'Examples:\\n{np.concatenate([tgt[:5],tgt[-5:]])}')\n",
    "print(tgt)"
   ]
  },
  {
   "cell_type": "code",
   "execution_count": 196,
   "id": "6449ce07",
   "metadata": {},
   "outputs": [
    {
     "data": {
      "text/plain": [
       "[<matplotlib.lines.Line2D at 0x271302f49d0>]"
      ]
     },
     "execution_count": 196,
     "metadata": {},
     "output_type": "execute_result"
    },
    {
     "data": {
      "image/png": "[encoded data removed]",
      "text/plain": [
       "<Figure size 288x216 with 1 Axes>"
      ]
     },
     "metadata": {
      "needs_background": "light"
     },
     "output_type": "display_data"
    }
   ],
   "source": [
    "fig, ax  = plt.subplots(1,1,figsize=(4,3))\n",
    "ax.plot(ftr, tgt, '.')"
   ]
  },
  {
   "cell_type": "markdown",
   "id": "01578368",
   "metadata": {},
   "source": [
    "Our use of the code is familiar because we created a learner that directly uses the `sklearn` API."
   ]
  },
  {
   "cell_type": "code",
   "execution_count": 204,
   "id": "041b93ed",
   "metadata": {},
   "outputs": [
    {
     "name": "stdout",
     "output_type": "stream",
     "text": [
      "predictions equal target? True\n"
     ]
    }
   ],
   "source": [
    "# here, we're giving ourselves all the help we can by using\n",
    "# the same cut points as our data were generated with\n",
    "model = PiecewiseConstantRegression(cut_points=np.array([3, 7]))\n",
    "model.fit(ftr, tgt)\n",
    "preds = model.predict(ftr)\n",
    "print(\"predictions equal target?\", np.allclose(preds, tgt))\n"
   ]
  },
  {
   "cell_type": "markdown",
   "id": "34b22f06",
   "metadata": {},
   "source": [
    "`PiecewiseConstantRegression` is defined by some hyperparameters (the cut points) and some parameters (the constants associated with each piece).  The constants are computed when we call `fit`.  The overall fit of the model is very, very sensitive to the number and location of the split points.  If we are thinking about using piecewise methods, we either (1) hope to have background knowledge about where the jumps are or (2) are willing to spend time trying different hyper parameters and cross-validating the results to get a good end product.\n",
    "\n",
    "We could extend this to piecewise lines, piecewise parabolas, etc.  We could also require that the end points meet.  This requirement gets us a degree of continuity, but not necessarily smoothness.  We could connect the piecewise segments but there migth still be sharp turns.  We could enforce an even higher degree of smoothness where the turns have to be more gentle.  Allowing more bends in the piecewise components reduces our bias.  Enforcing constraints on the meeting oints smooths the model."
   ]
  },
  {
   "cell_type": "markdown",
   "id": "c19412ef",
   "metadata": {},
   "source": [
    "# 9.4 Regression Trees\n",
    "\n",
    "Decision trees find regions with similar outputs and label everything in that region in some way.  If we can find regions where a single numerical value is a good representation of the whole region, we're golden.  At the leaves of the tree, instead of saying *cat* or *dog*, we say 37.5.\n",
    "\n",
    "## 9.4.1 Performing Regression with Trees\n",
    "\n",
    "It is a straighforward concept to move from piecewise constant regression to decision trees beccause decision trees gives us a way to zoom in on regions that are similar and, having selected a region, predict a constant.  The zoom-in happens as we segment off regions of space.\n",
    "\n",
    "Eventually, we get to a small enough region that behaves in a nicely uniform way.  Using decision trees for regression gives us an automatic way to pick the number and location of split poitns.  The splits are determined by computing the loss when a split breaks the current set of data at a node into two subsets.  The split that leads to the immediate lowest squared error is the chosen breakpoint for that node.  Tree building is a greedy process and it is not guaranteed to be a globally best step, but a sequence of greedy steps is often good enough for day-to-day use."
   ]
  },
  {
   "cell_type": "code",
   "execution_count": 205,
   "id": "a936dace",
   "metadata": {},
   "outputs": [
    {
     "name": "stdout",
     "output_type": "stream",
     "text": [
      "DecisionTreeRegressor  1 4341\n",
      "DecisionTreeRegressor  3 3593\n",
      "DecisionTreeRegressor  5 4018\n",
      "DecisionTreeRegressor 10 5520\n"
     ]
    }
   ],
   "source": [
    "dtrees = [tree.DecisionTreeRegressor(max_depth=md) for md in [1, 3, 5, 10]]\n",
    "\n",
    "for model in dtrees:\n",
    "    preds = (model.fit(diabetes_train_ftrs, diabetes_train_tgt)\n",
    "                  .predict(diabetes_test_ftrs))\n",
    "    mse = metrics.mean_squared_error(diabetes_test_tgt, preds)\n",
    "    fmt = '{} {:2d} {:4.0f}'\n",
    "    print(fmt.format(get_model_name(model),\n",
    "                     model.get_params()['max_depth'],\n",
    "                     mse))"
   ]
  },
  {
   "cell_type": "markdown",
   "id": "9eb0917f",
   "metadata": {},
   "source": [
    "Notice how adding depth helps and then hurts.  This is because of *overfitting!*.  If we allow too much depth, we split the data into too many parts.  If the data is split too finely, we make unneeded distinctions, we overfit, and our test error creeps up."
   ]
  },
  {
   "cell_type": "markdown",
   "id": "1b407fb2",
   "metadata": {},
   "source": [
    "# Comparison of Regressors: Take Three\n",
    "\n",
    "We return to the student dataset and apply some of our fancier learners to it."
   ]
  },
  {
   "cell_type": "code",
   "execution_count": 206,
   "id": "be45a133",
   "metadata": {},
   "outputs": [],
   "source": [
    "student_url = ('https://archive.ics.uci.edu/' + \n",
    "               'ml/machine-learning-databases/00320/student.zip')\n",
    "\n",
    "def grab_student_numeric():\n",
    "    # download zip file and unzip\n",
    "    # unzipping unknown files can be a security hazard\n",
    "    import urllib.request, zipfile\n",
    "    urllib.request.urlretrieve(student_url,\n",
    "                               'port_student.zip')\n",
    "    zipfile.ZipFile('port_student.zip').extract('student-mat.csv')\n",
    "    \n",
    "    # preprocessing\n",
    "    df = pd.read_csv('student-mat.csv', sep=';')\n",
    "    \n",
    "    # g1 & g2 are highly correlated with g3;\n",
    "    # dropping them makes the problem significanltty harder\n",
    "    # we also remove all non-numeric columns\n",
    "    df = df.drop(columns=['G1', 'G2']).select_dtypes(include=['number'])\n",
    "    \n",
    "    # save as\n",
    "    df.to_csv('portugese_student_numeric.csv', index=False)\n",
    "    \n",
    "\n",
    "grab_student_numeric()\n"
   ]
  },
  {
   "cell_type": "code",
   "execution_count": 207,
   "id": "195ef92f",
   "metadata": {},
   "outputs": [],
   "source": [
    "student_df = pd.read_csv('portugese_student_numeric.csv')\n",
    "student_ftrs = student_df[student_df.columns[:-1]]\n",
    "student_tgt = student_df['G3']"
   ]
  },
  {
   "cell_type": "code",
   "execution_count": 208,
   "id": "dcea72d8",
   "metadata": {},
   "outputs": [],
   "source": [
    "student_tts = skms.train_test_split(student_ftrs, student_tgt)\n",
    "\n",
    "(student_train_ftrs, student_test_ftrs,\n",
    " student_train_tgt,  student_test_tgt) = student_tts"
   ]
  },
  {
   "cell_type": "markdown",
   "id": "6ddf0c99",
   "metadata": {},
   "source": [
    "We bring in the regression methods introduced in Chapter 7."
   ]
  },
  {
   "cell_type": "code",
   "execution_count": 209,
   "id": "12d5df08",
   "metadata": {},
   "outputs": [],
   "source": [
    "old_school = [linear_model.LinearRegression(),\n",
    "              neighbors.KNeighborsRegressor(n_neighbors=3),\n",
    "              neighbors.KNeighborsRegressor(n_neighbors=10)]"
   ]
  },
  {
   "cell_type": "markdown",
   "id": "dc436e9b",
   "metadata": {},
   "source": [
    "And add some new regressors from this chapter:"
   ]
  },
  {
   "cell_type": "code",
   "execution_count": 210,
   "id": "df8063e3",
   "metadata": {},
   "outputs": [],
   "source": [
    "# L1, L2 penalized (abs, sqr), C=1.0 for both\n",
    "penalized_lr = [linear_model.Lasso(),\n",
    "                linear_model.Ridge()]\n",
    "\n",
    "#defaults are epsilon=.1 and nu=.5, respectively\n",
    "svrs = [svm.SVR(), svm.NuSVR()]\n",
    "\n",
    "dtrees = [tree.DecisionTreeRegressor(max_depth=md) for md in [1, 3, 5, 10]]\n",
    "\n",
    "reg_models = old_school + penalized_lr + svrs + dtrees"
   ]
  },
  {
   "cell_type": "markdown",
   "id": "4f03bfd5",
   "metadata": {},
   "source": [
    "Let's compare these methods based on root mean squared error (RMSE):"
   ]
  },
  {
   "cell_type": "code",
   "execution_count": 211,
   "id": "31dfb094",
   "metadata": {},
   "outputs": [],
   "source": [
    "def rms_error(actual, predicted):\n",
    "    ' root-mean-squared-error function'\n",
    "    # lesser values are better (a<b means a is better)\n",
    "    mse = metrics.mean_squared_error(actual, predicted)\n",
    "    return np.sqrt(mse)\n",
    "rms_scorer = metrics.make_scorer(rms_error)"
   ]
  },
  {
   "cell_type": "markdown",
   "id": "139719e3",
   "metadata": {},
   "source": [
    "and we standardize the data before we aplpy the models."
   ]
  },
  {
   "cell_type": "code",
   "execution_count": 212,
   "id": "ff6174b3",
   "metadata": {},
   "outputs": [
    {
     "data": {
      "text/html": [
       "<div>\n",
       "<style scoped>\n",
       "    .dataframe tbody tr th:only-of-type {\n",
       "        vertical-align: middle;\n",
       "    }\n",
       "\n",
       "    .dataframe tbody tr th {\n",
       "        vertical-align: top;\n",
       "    }\n",
       "\n",
       "    .dataframe thead th {\n",
       "        text-align: right;\n",
       "    }\n",
       "</style>\n",
       "<table border=\"1\" class=\"dataframe\">\n",
       "  <thead>\n",
       "    <tr style=\"text-align: right;\">\n",
       "      <th></th>\n",
       "      <th>RMSE</th>\n",
       "    </tr>\n",
       "  </thead>\n",
       "  <tbody>\n",
       "    <tr>\n",
       "      <th>DecisionTreeRegressor1</th>\n",
       "      <td>4.3192</td>\n",
       "    </tr>\n",
       "    <tr>\n",
       "      <th>Ridge</th>\n",
       "      <td>4.3646</td>\n",
       "    </tr>\n",
       "    <tr>\n",
       "      <th>LinearRegression</th>\n",
       "      <td>4.3653</td>\n",
       "    </tr>\n",
       "    <tr>\n",
       "      <th>NuSVR</th>\n",
       "      <td>4.3896</td>\n",
       "    </tr>\n",
       "    <tr>\n",
       "      <th>SVR</th>\n",
       "      <td>4.4062</td>\n",
       "    </tr>\n",
       "    <tr>\n",
       "      <th>DecisionTreeRegressor3</th>\n",
       "      <td>4.4298</td>\n",
       "    </tr>\n",
       "    <tr>\n",
       "      <th>Lasso</th>\n",
       "      <td>4.4375</td>\n",
       "    </tr>\n",
       "    <tr>\n",
       "      <th>KNeighborsRegressor10</th>\n",
       "      <td>4.4873</td>\n",
       "    </tr>\n",
       "    <tr>\n",
       "      <th>DecisionTreeRegressor5</th>\n",
       "      <td>4.7074</td>\n",
       "    </tr>\n",
       "    <tr>\n",
       "      <th>KNeighborsRegressor3</th>\n",
       "      <td>4.8915</td>\n",
       "    </tr>\n",
       "    <tr>\n",
       "      <th>DecisionTreeRegressor10</th>\n",
       "      <td>5.4651</td>\n",
       "    </tr>\n",
       "  </tbody>\n",
       "</table>\n",
       "</div>"
      ],
      "text/latex": [
       "{\\centering\n",
       "\\begin{tabular}{lr}\n",
       "\\toprule\n",
       "{} &                 RMSE \\\\\n",
       "\\midrule\n",
       "DecisionTreeRegressor1  &               4.3192 \\\\\n",
       "Ridge                   &               4.3646 \\\\\n",
       "LinearRegression        &               4.3653 \\\\\n",
       "NuSVR                   &               4.3896 \\\\\n",
       "SVR                     &               4.4062 \\\\\n",
       "DecisionTreeRegressor3  &               4.4298 \\\\\n",
       "Lasso                   &               4.4375 \\\\\n",
       "KNeighborsRegressor10   &               4.4873 \\\\\n",
       "DecisionTreeRegressor5  &               4.7074 \\\\\n",
       "KNeighborsRegressor3    &               4.8915 \\\\\n",
       "DecisionTreeRegressor10 &               5.4651 \\\\\n",
       "\\bottomrule\n",
       "\\end{tabular}\n",
       "\n",
       "\\medskip}"
      ],
      "text/plain": [
       "                                        RMSE\n",
       "DecisionTreeRegressor1                4.3192\n",
       "Ridge                                 4.3646\n",
       "LinearRegression                      4.3653\n",
       "NuSVR                                 4.3896\n",
       "SVR                                   4.4062\n",
       "DecisionTreeRegressor3                4.4298\n",
       "Lasso                                 4.4375\n",
       "KNeighborsRegressor10                 4.4873\n",
       "DecisionTreeRegressor5                4.7074\n",
       "KNeighborsRegressor3                  4.8915\n",
       "DecisionTreeRegressor10               5.4651"
      ]
     },
     "execution_count": 212,
     "metadata": {},
     "output_type": "execute_result"
    }
   ],
   "source": [
    "scaler = skpre.StandardScaler()\n",
    "\n",
    "scores = {}\n",
    "for model in reg_models:\n",
    "    pipe = pipeline.make_pipeline(scaler, model)\n",
    "    preds = skms.cross_val_predict(pipe,\n",
    "                                   student_ftrs, student_tgt,\n",
    "                                   cv=10)\n",
    "    key = (get_model_name(model) +\n",
    "           str(model.get_params().get('max_depth', '')) +\n",
    "           str(model.get_params().get('n_neighbors', '')))\n",
    "    scores[key] = rms_error(student_tgt, preds)\n",
    "    \n",
    "df = pd.DataFrame.from_dict(scores, orient='index').sort_values(0)\n",
    "df.columns=['RMSE']\n",
    "df"
   ]
  },
  {
   "cell_type": "markdown",
   "id": "5f9358ae",
   "metadata": {},
   "source": [
    "For the top four models, let's look at some details about performance on a fold-by-fold basis."
   ]
  },
  {
   "cell_type": "code",
   "execution_count": 225,
   "id": "0d85b059",
   "metadata": {},
   "outputs": [
    {
     "data": {
      "image/png": "[encoded data removed]",
      "text/plain": [
       "<Figure size 576x288 with 1 Axes>"
      ]
     },
     "metadata": {
      "needs_background": "light"
     },
     "output_type": "display_data"
    }
   ],
   "source": [
    "better_models = [tree.DecisionTreeRegressor(max_depth=1),\n",
    "                 linear_model.Ridge(),\n",
    "                 linear_model.LinearRegression(),\n",
    "                 svm.NuSVR()]\n",
    "fig, ax = plt.subplots(1, 1, figsize=(8,4))\n",
    "for model in better_models:\n",
    "    pipe = pipeline.make_pipeline(scaler, model)\n",
    "    cv_results = skms.cross_val_score(pipe, \n",
    "                                      student_ftrs, student_tgt,\n",
    "                                      scoring = rms_scorer,\n",
    "                                      cv=10)\n",
    "    my_lbl = '{:s} ({:5.3f}$\\pm${:.2f})'.format(get_model_name(model),\n",
    "                                               cv_results.mean(),\n",
    "                                               cv_results.std())\n",
    "    \n",
    "    ax.plot(cv_results, 'o--', label=my_lbl)\n",
    "    ax.set_xlabel('CV-Fold #')\n",
    "    ax.set_ylabel('RMSE')\n",
    "    ax.legend(bbox_to_anchor=(1.00, 1.00), fancybox=True, shadow=True)"
   ]
  },
  {
   "cell_type": "markdown",
   "id": "10e1a4aa",
   "metadata": {},
   "source": [
    "Each goes back and forth a bit.  They are all very close in learning performance.  The range of the means (4.23, 4.29) is not very wide and it's also a bit less than the standard deviation.  There's more work to be done.  We didn't actually work through different values for regularization.  We can do that by hand, in a manner similar to the complexity curves we saw earlier.   However, we appraoch it in a much more convenient fashion in Section 11.2."
   ]
  },
  {
   "cell_type": "markdown",
   "id": "c269c0eb",
   "metadata": {},
   "source": [
    "# New version"
   ]
  },
  {
   "cell_type": "code",
   "execution_count": 21,
   "id": "fba15740",
   "metadata": {},
   "outputs": [
    {
     "name": "stdout",
     "output_type": "stream",
     "text": [
      "Loading boston dataset...\n",
      "Type dataset object: <class 'sklearn.utils.Bunch'>\n",
      "Dataset keys: dict_keys(['data', 'target', 'feature_names', 'DESCR', 'filename'])\n",
      "Description: .. _boston_dataset:\n",
      "\n",
      "Boston house prices dataset\n",
      "---------------------------\n",
      "\n",
      "**Data Set Characteristics:**  \n",
      "\n",
      "    :Number of Instances: 506 \n",
      "\n",
      "    :Number of Attributes: 13 numeric/categorical predictive. Median Value (attribute 14) is usually the target.\n",
      "\n",
      "    :Attribute Information (in order):\n",
      "        - CRIM     per capita crime rate by town\n",
      "        - ZN       proportion of residential land zoned for lots over 25,000 sq.ft.\n",
      "        - INDUS    proportion of non-retail business acres per town\n",
      "        - CHAS     Charles River dummy variable (= 1 if tract bounds river; 0 otherwise)\n",
      "        - NOX      nitric oxides concentration (parts per 10 million)\n",
      "        - RM       average number of rooms per dwelling\n",
      "        - AGE      proportion of owner-occupied units built prior to 1940\n",
      "        - DIS      weighted distances to five Boston employment centres\n",
      "        - RAD      index of accessibility to radial highways\n",
      "        - TAX      full-value property-tax rate per $10,000\n",
      "        - PTRATIO  pupil-teacher ratio by town\n",
      "        - B        1000(Bk - 0.63)^2 where Bk is the proportion of black people by town\n",
      "        - LSTAT    % lower status of the population\n",
      "        - MEDV     Median value of owner-occupied homes in $1000's\n",
      "\n",
      "    :Missing Attribute Values: None\n",
      "\n",
      "    :Creator: Harrison, D. and Rubinfeld, D.L.\n",
      "\n",
      "This is a copy of UCI ML housing dataset.\n",
      "https://archive.ics.uci.edu/ml/machine-learning-databases/housing/\n",
      "\n",
      "\n",
      "This dataset was taken from the StatLib library which is maintained at Carnegie Mellon University.\n",
      "\n",
      "The Boston house-price data of Harrison, D. and Rubinfeld, D.L. 'Hedonic\n",
      "prices and the demand for clean air', J. Environ. Economics & Management,\n",
      "vol.5, 81-102, 1978.   Used in Belsley, Kuh & Welsch, 'Regression diagnostics\n",
      "...', Wiley, 1980.   N.B. Various transformations are used in the table on\n",
      "pages 244-261 of the latter.\n",
      "\n",
      "The Boston house-price data has been used in many machine learning papers that address regression\n",
      "problems.   \n",
      "     \n",
      ".. topic:: References\n",
      "\n",
      "   - Belsley, Kuh & Welsch, 'Regression diagnostics: Identifying Influential Data and Sources of Collinearity', Wiley, 1980. 244-261.\n",
      "   - Quinlan,R. (1993). Combining Instance-Based and Model-Based Learning. In Proceedings on the Tenth International Conference of Machine Learning, 236-243, University of Massachusetts, Amherst. Morgan Kaufmann.\n",
      "\n",
      "<class 'pandas.core.frame.DataFrame'>\n",
      "RangeIndex: 506 entries, 0 to 505\n",
      "Data columns (total 14 columns):\n",
      " #   Column   Non-Null Count  Dtype  \n",
      "---  ------   --------------  -----  \n",
      " 0   CRIM     506 non-null    float64\n",
      " 1   ZN       506 non-null    float64\n",
      " 2   INDUS    506 non-null    float64\n",
      " 3   CHAS     506 non-null    float64\n",
      " 4   NOX      506 non-null    float64\n",
      " 5   RM       506 non-null    float64\n",
      " 6   AGE      506 non-null    float64\n",
      " 7   DIS      506 non-null    float64\n",
      " 8   RAD      506 non-null    float64\n",
      " 9   TAX      506 non-null    float64\n",
      " 10  PTRATIO  506 non-null    float64\n",
      " 11  B        506 non-null    float64\n",
      " 12  LSTAT    506 non-null    float64\n",
      " 13  MEDV     506 non-null    float64\n",
      "dtypes: float64(14)\n",
      "memory usage: 55.5 KB\n",
      "None\n"
     ]
    }
   ],
   "source": [
    "from sklearn.datasets import load_boston\n",
    "#load data as a bunch object (bo)\n",
    "boston_bo = load_boston()\n",
    "print(f'Loading boston dataset...')\n",
    "print(f'Type dataset object: {type(boston_bo)}')\n",
    "print(f'Dataset keys: {boston_bo.keys()}')\n",
    "print(f'Description: {boston_bo.DESCR}')\n",
    "import pandas as pd\n",
    "\n",
    "# convert to dataframe object\n",
    "boston_df = pd.DataFrame(boston_bo.data, columns=boston_bo.feature_names)\n",
    "# add target column\n",
    "boston_df['MEDV'] = boston_bo.target\n",
    "rows, cols = boston_df.shape\n",
    "print(f'Dataset rows: {rows}')\n",
    "print(f'Dataset cols: {cols} ({cols-1} features and 1 target variable)')\n",
    "print(f'Total elements in dataset: {boston_df.size}')"
   ]
  },
  {
   "cell_type": "code",
   "execution_count": 22,
   "id": "906ea823",
   "metadata": {},
   "outputs": [
    {
     "name": "stdout",
     "output_type": "stream",
     "text": [
      "<class 'pandas.core.frame.DataFrame'>\n",
      "RangeIndex: 506 entries, 0 to 505\n",
      "Data columns (total 14 columns):\n",
      " #   Column   Non-Null Count  Dtype  \n",
      "---  ------   --------------  -----  \n",
      " 0   CRIM     506 non-null    float64\n",
      " 1   ZN       506 non-null    float64\n",
      " 2   INDUS    506 non-null    float64\n",
      " 3   CHAS     506 non-null    float64\n",
      " 4   NOX      506 non-null    float64\n",
      " 5   RM       506 non-null    float64\n",
      " 6   AGE      506 non-null    float64\n",
      " 7   DIS      506 non-null    float64\n",
      " 8   RAD      506 non-null    float64\n",
      " 9   TAX      506 non-null    float64\n",
      " 10  PTRATIO  506 non-null    float64\n",
      " 11  B        506 non-null    float64\n",
      " 12  LSTAT    506 non-null    float64\n",
      " 13  MEDV     506 non-null    float64\n",
      "dtypes: float64(14)\n",
      "memory usage: 55.5 KB\n",
      "None\n"
     ]
    }
   ],
   "source": [
    "print(boston_df.info())"
   ]
  },
  {
   "cell_type": "code",
   "execution_count": 25,
   "id": "39f9c0c0",
   "metadata": {},
   "outputs": [
    {
     "name": "stdout",
     "output_type": "stream",
     "text": [
      "Split the data into training and test features:\n",
      "Training Features: (379, 13)\n",
      "Training Target: (379,)\n",
      "Testing Features: (127, 13)\n",
      "Testing Target: (127,)\n"
     ]
    }
   ],
   "source": [
    "# split data into test and validation datasets\n",
    "from sklearn.model_selection import train_test_split\n",
    "\n",
    "boston_ftrs = boston_df[boston_df.columns[:-1]]\n",
    "boston_tgt = boston_df['MEDV']\n",
    "boston_tts = train_test_split(boston_ftrs, boston_tgt)\n",
    "(boston_train_ftrs, boston_test_ftrs,\n",
    " boston_train_tgt,  boston_test_tgt) = boston_tts\n",
    "print('Split the data into training and test features:' )\n",
    "print(f'Training Features: {boston_train_ftrs.shape}')\n",
    "print(f'Training Target: {boston_train_tgt.shape}')\n",
    "print(f'Testing Features: {boston_test_ftrs.shape}')\n",
    "print(f'Testing Target: {boston_test_tgt.shape}')"
   ]
  },
  {
   "cell_type": "code",
   "execution_count": null,
   "id": "1a244818",
   "metadata": {},
   "outputs": [],
   "source": []
  }
 ],
 "metadata": {
  "kernelspec": {
   "display_name": "Python 3 (ipykernel)",
   "language": "python",
   "name": "python3"
  },
  "language_info": {
   "codemirror_mode": {
    "name": "ipython",
    "version": 3
   },
   "file_extension": ".py",
   "mimetype": "text/x-python",
   "name": "python",
   "nbconvert_exporter": "python",
   "pygments_lexer": "ipython3",
   "version": "3.9.4"
  }
 },
 "nbformat": 4,
 "nbformat_minor": 5
}
