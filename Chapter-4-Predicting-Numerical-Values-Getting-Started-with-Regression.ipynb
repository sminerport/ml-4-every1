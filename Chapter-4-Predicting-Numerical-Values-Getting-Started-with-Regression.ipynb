{
 "cells": [
  {
   "cell_type": "code",
   "execution_count": 3,
   "id": "52039821",
   "metadata": {},
   "outputs": [],
   "source": [
    "# setup\n",
    "from mlwpy import*\n",
    "%matplotlib inline"
   ]
  },
  {
   "cell_type": "markdown",
   "id": "c7611b3f",
   "metadata": {},
   "source": [
    "# Predicting Numerical Values: Getting Started with Regression"
   ]
  },
  {
   "cell_type": "markdown",
   "id": "145091a1",
   "metadata": {},
   "source": [
    "Regression predicts a finely graded numerical value from inputs.  To illustrate, we need a simple dataset with numerical results.  `sklearn` comes with the *diabetes* dataset that serves us nicely.  The dataset included with `sklearn` has been modified from faw numerical features by subtracting the mean and dividing by the standard deviation of each column.  The process is called *standardizing* or *z-scoring* the features.  We return to the standard deviation later.  Briefly, the standard deviation is a measure of how spread out a set of values are.\n",
    "\n",
    "The net result of standardizing the columns is that each column has a mean of 0 and a standard deviation of 1.  When we standardize or rescale the data so that differences in feature ranges, such as heights within 50-100 inches or incomes from $20,000 to $200,000, don't incur undo weight penalties or benefits just from their scale.\n",
    "\n",
    "We'll discuss standardization and scaling more in section 10.3.  The categorical values in *diabetes* were recorded numerically as {0, 1} and then standardized, which is why there are *negative* ages, (the mean age is zero after standardizing) and why the sexes are coded, or recorded, as {0.0507, -0.0446} instead of {*M, F*}.\n",
    "\n"
   ]
  },
  {
   "cell_type": "code",
   "execution_count": 4,
   "id": "f620b6ed",
   "metadata": {},
   "outputs": [],
   "source": [
    "diabetes = datasets.load_diabetes()\n",
    "\n",
    "tts = skms.train_test_split(diabetes.data,\n",
    "                            diabetes.target,\n",
    "                            test_size=.25)\n",
    "\n",
    "(diabetes_train_ftrs, diabetes_test_ftrs,\n",
    " diabetes_train_tgt, diabetes_test_tgt) = tts"
   ]
  },
  {
   "cell_type": "markdown",
   "id": "a8023079",
   "metadata": {},
   "source": [
    "We can dress the dataset up with a `DataFrame` and look at the first few rows:"
   ]
  },
  {
   "cell_type": "code",
   "execution_count": 5,
   "id": "4a0f093f",
   "metadata": {},
   "outputs": [
    {
     "data": {
      "text/html": [
       "<div>\n",
       "<style scoped>\n",
       "    .dataframe tbody tr th:only-of-type {\n",
       "        vertical-align: middle;\n",
       "    }\n",
       "\n",
       "    .dataframe tbody tr th {\n",
       "        vertical-align: top;\n",
       "    }\n",
       "\n",
       "    .dataframe thead th {\n",
       "        text-align: right;\n",
       "    }\n",
       "</style>\n",
       "<table border=\"1\" class=\"dataframe\">\n",
       "  <thead>\n",
       "    <tr style=\"text-align: right;\">\n",
       "      <th></th>\n",
       "      <th>age</th>\n",
       "      <th>sex</th>\n",
       "      <th>bmi</th>\n",
       "      <th>bp</th>\n",
       "      <th>s1</th>\n",
       "      <th>s2</th>\n",
       "      <th>s3</th>\n",
       "      <th>s4</th>\n",
       "      <th>s5</th>\n",
       "      <th>s6</th>\n",
       "      <th>target</th>\n",
       "    </tr>\n",
       "  </thead>\n",
       "  <tbody>\n",
       "    <tr>\n",
       "      <th>0</th>\n",
       "      <td>0.0381</td>\n",
       "      <td>0.0507</td>\n",
       "      <td>0.0617</td>\n",
       "      <td>0.0219</td>\n",
       "      <td>-0.0442</td>\n",
       "      <td>-0.0348</td>\n",
       "      <td>-0.0434</td>\n",
       "      <td>-0.0026</td>\n",
       "      <td>0.0199</td>\n",
       "      <td>-0.0176</td>\n",
       "      <td>151.0000</td>\n",
       "    </tr>\n",
       "    <tr>\n",
       "      <th>1</th>\n",
       "      <td>-0.0019</td>\n",
       "      <td>-0.0446</td>\n",
       "      <td>-0.0515</td>\n",
       "      <td>-0.0263</td>\n",
       "      <td>-0.0084</td>\n",
       "      <td>-0.0192</td>\n",
       "      <td>0.0744</td>\n",
       "      <td>-0.0395</td>\n",
       "      <td>-0.0683</td>\n",
       "      <td>-0.0922</td>\n",
       "      <td>75.0000</td>\n",
       "    </tr>\n",
       "    <tr>\n",
       "      <th>2</th>\n",
       "      <td>0.0853</td>\n",
       "      <td>0.0507</td>\n",
       "      <td>0.0445</td>\n",
       "      <td>-0.0057</td>\n",
       "      <td>-0.0456</td>\n",
       "      <td>-0.0342</td>\n",
       "      <td>-0.0324</td>\n",
       "      <td>-0.0026</td>\n",
       "      <td>0.0029</td>\n",
       "      <td>-0.0259</td>\n",
       "      <td>141.0000</td>\n",
       "    </tr>\n",
       "    <tr>\n",
       "      <th>3</th>\n",
       "      <td>-0.0891</td>\n",
       "      <td>-0.0446</td>\n",
       "      <td>-0.0116</td>\n",
       "      <td>-0.0367</td>\n",
       "      <td>0.0122</td>\n",
       "      <td>0.0250</td>\n",
       "      <td>-0.0360</td>\n",
       "      <td>0.0343</td>\n",
       "      <td>0.0227</td>\n",
       "      <td>-0.0094</td>\n",
       "      <td>206.0000</td>\n",
       "    </tr>\n",
       "    <tr>\n",
       "      <th>4</th>\n",
       "      <td>0.0054</td>\n",
       "      <td>-0.0446</td>\n",
       "      <td>-0.0364</td>\n",
       "      <td>0.0219</td>\n",
       "      <td>0.0039</td>\n",
       "      <td>0.0156</td>\n",
       "      <td>0.0081</td>\n",
       "      <td>-0.0026</td>\n",
       "      <td>-0.0320</td>\n",
       "      <td>-0.0466</td>\n",
       "      <td>135.0000</td>\n",
       "    </tr>\n",
       "  </tbody>\n",
       "</table>\n",
       "</div>"
      ],
      "text/latex": [
       "{\\centering\n",
       "\\begin{tabular}{lrrrrrrrrrrr}\n",
       "\\toprule\n",
       "{} &                  age &                  sex &                  bmi &                   bp &                   s1 &                   s2 &                   s3 &                   s4 &                   s5 &                   s6 &               target \\\\\n",
       "\\midrule\n",
       "0 &               0.0381 &               0.0507 &               0.0617 &               0.0219 &              -0.0442 &              -0.0348 &              -0.0434 &              -0.0026 &               0.0199 &              -0.0176 &             151.0000 \\\\\n",
       "1 &              -0.0019 &              -0.0446 &              -0.0515 &              -0.0263 &              -0.0084 &              -0.0192 &               0.0744 &              -0.0395 &              -0.0683 &              -0.0922 &              75.0000 \\\\\n",
       "2 &               0.0853 &               0.0507 &               0.0445 &              -0.0057 &              -0.0456 &              -0.0342 &              -0.0324 &              -0.0026 &               0.0029 &              -0.0259 &             141.0000 \\\\\n",
       "3 &              -0.0891 &              -0.0446 &              -0.0116 &              -0.0367 &               0.0122 &               0.0250 &              -0.0360 &               0.0343 &               0.0227 &              -0.0094 &             206.0000 \\\\\n",
       "4 &               0.0054 &              -0.0446 &              -0.0364 &               0.0219 &               0.0039 &               0.0156 &               0.0081 &              -0.0026 &              -0.0320 &              -0.0466 &             135.0000 \\\\\n",
       "\\bottomrule\n",
       "\\end{tabular}\n",
       "\n",
       "\\medskip}"
      ],
      "text/plain": [
       "                   age                  sex                  bmi  \\\n",
       "0               0.0381               0.0507               0.0617   \n",
       "1              -0.0019              -0.0446              -0.0515   \n",
       "2               0.0853               0.0507               0.0445   \n",
       "3              -0.0891              -0.0446              -0.0116   \n",
       "4               0.0054              -0.0446              -0.0364   \n",
       "\n",
       "                    bp                   s1                   s2  \\\n",
       "0               0.0219              -0.0442              -0.0348   \n",
       "1              -0.0263              -0.0084              -0.0192   \n",
       "2              -0.0057              -0.0456              -0.0342   \n",
       "3              -0.0367               0.0122               0.0250   \n",
       "4               0.0219               0.0039               0.0156   \n",
       "\n",
       "                    s3                   s4                   s5  \\\n",
       "0              -0.0434              -0.0026               0.0199   \n",
       "1               0.0744              -0.0395              -0.0683   \n",
       "2              -0.0324              -0.0026               0.0029   \n",
       "3              -0.0360               0.0343               0.0227   \n",
       "4               0.0081              -0.0026              -0.0320   \n",
       "\n",
       "                    s6               target  \n",
       "0              -0.0176             151.0000  \n",
       "1              -0.0922              75.0000  \n",
       "2              -0.0259             141.0000  \n",
       "3              -0.0094             206.0000  \n",
       "4              -0.0466             135.0000  "
      ]
     },
     "execution_count": 5,
     "metadata": {},
     "output_type": "execute_result"
    }
   ],
   "source": [
    "diabetes_df = pd.DataFrame(diabetes.data,\n",
    "                           columns=diabetes.feature_names)\n",
    "diabetes_df['target'] = diabetes.target\n",
    "diabetes_df.head()"
   ]
  },
  {
   "cell_type": "markdown",
   "id": "1982a97a",
   "metadata": {},
   "source": [
    "Aside from the odd values for seemingly categorical measures like age and sex, two of the other columns are quickly explainable; the rest are more specalized and somewhat underspecified:\n",
    "\n",
    "* *bmi* is the *body mass index*, computed from height and weight, which is an approximation of body-fat percentage,\n",
    "* *bp* is the *blood pressure*\n",
    "* *s1 - s6* are six *blood serum measurements*, and\n",
    "* *target* is a numerical score measuring the progression of a patient's illness."
   ]
  },
  {
   "cell_type": "markdown",
   "id": "e48f68ee",
   "metadata": {},
   "source": [
    "As we did with the *iris* data, we can investigate the bivariate relatoinship with Seaborn's `pairplot`.  We keep a subset of the measurements for the graphic.  The resulting mini-plots are still fairly small, but we can still glance through them and look for overall patterns.  We can always redo the `pairplot` with more features if we want."
   ]
  },
  {
   "cell_type": "code",
   "execution_count": 6,
   "id": "b31b218d",
   "metadata": {},
   "outputs": [
    {
     "data": {
      "text/html": [
       "<svg  width=\"550\" height=\"55\"><rect x=\"0\" y=\"0\" width=\"55\" height=\"55\" style=\"fill:#1f77b4;stroke-width:2;stroke:rgb(255,255,255)\"/><rect x=\"55\" y=\"0\" width=\"55\" height=\"55\" style=\"fill:#ff7f0e;stroke-width:2;stroke:rgb(255,255,255)\"/><rect x=\"110\" y=\"0\" width=\"55\" height=\"55\" style=\"fill:#2ca02c;stroke-width:2;stroke:rgb(255,255,255)\"/><rect x=\"165\" y=\"0\" width=\"55\" height=\"55\" style=\"fill:#d62728;stroke-width:2;stroke:rgb(255,255,255)\"/><rect x=\"220\" y=\"0\" width=\"55\" height=\"55\" style=\"fill:#9467bd;stroke-width:2;stroke:rgb(255,255,255)\"/><rect x=\"275\" y=\"0\" width=\"55\" height=\"55\" style=\"fill:#8c564b;stroke-width:2;stroke:rgb(255,255,255)\"/><rect x=\"330\" y=\"0\" width=\"55\" height=\"55\" style=\"fill:#e377c2;stroke-width:2;stroke:rgb(255,255,255)\"/><rect x=\"385\" y=\"0\" width=\"55\" height=\"55\" style=\"fill:#7f7f7f;stroke-width:2;stroke:rgb(255,255,255)\"/><rect x=\"440\" y=\"0\" width=\"55\" height=\"55\" style=\"fill:#bcbd22;stroke-width:2;stroke:rgb(255,255,255)\"/><rect x=\"495\" y=\"0\" width=\"55\" height=\"55\" style=\"fill:#17becf;stroke-width:2;stroke:rgb(255,255,255)\"/></svg>"
      ],
      "text/plain": [
       "[(0.12156862745098039, 0.4666666666666667, 0.7058823529411765),\n",
       " (1.0, 0.4980392156862745, 0.054901960784313725),\n",
       " (0.17254901960784313, 0.6274509803921569, 0.17254901960784313),\n",
       " (0.8392156862745098, 0.15294117647058825, 0.1568627450980392),\n",
       " (0.5803921568627451, 0.403921568627451, 0.7411764705882353),\n",
       " (0.5490196078431373, 0.33725490196078434, 0.29411764705882354),\n",
       " (0.8901960784313725, 0.4666666666666667, 0.7607843137254902),\n",
       " (0.4980392156862745, 0.4980392156862745, 0.4980392156862745),\n",
       " (0.7372549019607844, 0.7411764705882353, 0.13333333333333333),\n",
       " (0.09019607843137255, 0.7450980392156863, 0.8117647058823529)]"
      ]
     },
     "execution_count": 6,
     "metadata": {},
     "output_type": "execute_result"
    }
   ],
   "source": [
    "current_palette = sns.color_palette()\n",
    "current_palette"
   ]
  },
  {
   "cell_type": "code",
   "execution_count": 7,
   "id": "9b9accde",
   "metadata": {},
   "outputs": [
    {
     "name": "stderr",
     "output_type": "stream",
     "text": [
      "c:\\users\\scott\\appdata\\local\\programs\\python\\python39\\lib\\site-packages\\seaborn\\axisgrid.py:1969: UserWarning: The `size` parameter has been renamed to `height`; please update your code.\n",
      "  warnings.warn(msg, UserWarning)\n"
     ]
    },
    {
     "data": {
      "image/png": "[encoded data removed]",
      "text/plain": [
       "<Figure size 578.5x432 with 20 Axes>"
      ]
     },
     "metadata": {
      "needs_background": "light"
     },
     "output_type": "display_data"
    }
   ],
   "source": [
    "import seaborn as sns\n",
    "sns.pairplot(diabetes_df[['age','sex','bmi','bp','s1']],\n",
    "             size=1.5, hue='sex', plot_kws={'alpha': .2} );"
   ]
  },
  {
   "cell_type": "markdown",
   "id": "f09e3a53",
   "metadata": {},
   "source": [
    "# 4.2 Nearest-Neighbors Regression and Summary Statistics\n",
    "\n",
    "When considering nearest-neighbor classification, we need to perform the following steps:\n",
    "\n",
    "1. Describe similarity between pairs of examples.\n",
    "2. Pick several of the most-similar examples.\n",
    "3. Combine the picked examples into a single answer.\n",
    "\n",
    "When considering Nearest-Neighbors regression, we must take into account the quantities represented by the outputs.  This means the first two steps stay the same, but step 3 requires adjustments.  Let's turn our attention to the median and the mean.\n"
   ]
  },
  {
   "cell_type": "markdown",
   "id": "2bc917b3",
   "metadata": {},
   "source": [
    "## 4.2.1 Measures of Center: Median and Mean\n",
    "\n",
    "The median balances the *count* of values to the left and right, whereas the mean balances the total distances to the left and right.  So, the mean is the value for which `sum(distnace(s,mean) for s in smaller)` is equal to `sum(distance(b,mean) for b in bigger`.  Let's see what happens if we shift one value by 'a lot' and recompute the mean and median"
   ]
  },
  {
   "cell_type": "code",
   "execution_count": 8,
   "id": "017c7733",
   "metadata": {},
   "outputs": [
    {
     "name": "stdout",
     "output_type": "stream",
     "text": [
      "no outlier\n",
      "8.0 8.0\n",
      "with outlier\n",
      "11.57 8.0\n"
     ]
    }
   ],
   "source": [
    "values = np.array([1, 3, 5, 8, 11, 13, 15])\n",
    "print('no outlier')\n",
    "print(np.mean(values),\n",
    "      np.median(values))\n",
    "\n",
    "values_with_outlier = np.array([1, 3, 5, 8, 11, 13, 40])\n",
    "print('with outlier')\n",
    "print('%5.2f' % np.mean(values_with_outlier),\n",
    "      np.median(values_with_outlier))"
   ]
  },
  {
   "cell_type": "markdown",
   "id": "58f64d92",
   "metadata": {},
   "source": [
    "Beyond the mean and median, we can combine the nearest-neighbor answers into an answer for a text example using many possible ways.  One combiner that builds on the idea of the mean is the *weighted* mean.  In the nearest-neighbor context, we have a perfect candiate to serve as the weighting factor, the distance from our new example to the neighbor.  \n",
    "\n",
    "Therefore, instead of neighbors contributing just their values \\[4,0, 6.0, 8.0\\], , we can also incorporate distance from each neighbor to our example.  Let's say those distances are \\[2.0, 4.0, 4.0\\], i.e., the second and third training examples are twice as far from our test example as the first one.  A simple way to incorporate the distance is to compute a *weighted average* using the following  "
   ]
  },
  {
   "cell_type": "code",
   "execution_count": 9,
   "id": "f5ceefaf",
   "metadata": {},
   "outputs": [
    {
     "data": {
      "text/plain": [
       "array([0.5 , 0.25, 0.25])"
      ]
     },
     "execution_count": 9,
     "metadata": {},
     "output_type": "execute_result"
    }
   ],
   "source": [
    "distances = np.array([2.0, 4.0, 4.0])\n",
    "closeness = 1.0 / distances # element-by-element division\n",
    "weights = closeness / np.sum(closeness) # normalize sum to one\n",
    "weights"
   ]
  },
  {
   "cell_type": "markdown",
   "id": "817c5dcd",
   "metadata": {},
   "source": [
    "In mathese: $$ \\frac{\\frac{1}{distances}}{\\Sigma(\\frac{1}{distances})} $$"
   ]
  },
  {
   "cell_type": "markdown",
   "id": "9c053fbf",
   "metadata": {},
   "source": [
    "We use $\\frac{1}{distances}$ since if you are *closer*, we want a *higher* weight; if you are *further*, but still a nearest neighbor, we want a *lower* weight.  We put the entire sum into the numerator to normalize the values so they sum to one.  Compare the mean with the weighted mean for these values:"
   ]
  },
  {
   "cell_type": "code",
   "execution_count": 10,
   "id": "2054961e",
   "metadata": {},
   "outputs": [
    {
     "name": "stdout",
     "output_type": "stream",
     "text": [
      "Mean: 6.0\n",
      "Weighted Mean: 5.5\n"
     ]
    }
   ],
   "source": [
    "values = np.array([4, 6, 8])\n",
    "\n",
    "mean = np.mean(values)\n",
    "wgt_mean = np.dot(values, weights)\n",
    "\n",
    "print('Mean:', mean)\n",
    "print('Weighted Mean:', wgt_mean)"
   ]
  },
  {
   "cell_type": "markdown",
   "id": "e904e8e3",
   "metadata": {},
   "source": [
    "## 4.2.2 Building a *k*-NN Regression Model"
   ]
  },
  {
   "cell_type": "markdown",
   "id": "1baed516",
   "metadata": {},
   "source": [
    "Now that we have some mental concepts to back up our undersatnding of *k*-NN regression, we can return to our basic `sklearn` workflow: build, fit, predict, evaluate."
   ]
  },
  {
   "cell_type": "code",
   "execution_count": 11,
   "id": "34a10bbb",
   "metadata": {},
   "outputs": [
    {
     "data": {
      "text/plain": [
       "3471.41941941942"
      ]
     },
     "execution_count": 11,
     "metadata": {},
     "output_type": "execute_result"
    }
   ],
   "source": [
    "knn = neighbors.KNeighborsRegressor(n_neighbors=3)\n",
    "fit = knn.fit(diabetes_train_ftrs, diabetes_train_tgt)\n",
    "preds = fit.predict(diabetes_test_ftrs)\n",
    "\n",
    "# evaluate our predictions against the held-back testing targets\n",
    "metrics.mean_squared_error(diabetes_test_tgt, preds)"
   ]
  },
  {
   "cell_type": "markdown",
   "id": "75614b55",
   "metadata": {},
   "source": [
    "If you compare *k*-NN regression to the *k*-NN classifier, you'll only notice two differences.\n",
    "\n",
    "1. We built a different model: this time we used `KNeighborsRegressor` instead of `KNeighborsClassifier`.\n",
    "2. We used a different evaluation metric: this time we used `mean_squared_error` instead of `accuracy_score`.\n",
    "\n",
    "Both reflect the difference in the targets we are trying to predict: numerical values, not Boolean categories.  To put the numerical value for MSE into context, let's look at two things.  First, the MSE is approximately 3500.  Let's take its square root--since we're adding up squares, we need to scale back to nonsquares:"
   ]
  },
  {
   "cell_type": "code",
   "execution_count": 12,
   "id": "0086e002",
   "metadata": {},
   "outputs": [
    {
     "data": {
      "text/plain": [
       "59.16079783099616"
      ]
     },
     "execution_count": 12,
     "metadata": {},
     "output_type": "execute_result"
    }
   ],
   "source": [
    "np.sqrt(3500)"
   ]
  },
  {
   "cell_type": "markdown",
   "id": "5f8482ce",
   "metadata": {},
   "source": [
    "Now, let's look at the range of values that the target can take:"
   ]
  },
  {
   "cell_type": "code",
   "execution_count": 13,
   "id": "2b9250cb",
   "metadata": {},
   "outputs": [
    {
     "data": {
      "text/plain": [
       "321.0"
      ]
     },
     "execution_count": 13,
     "metadata": {},
     "output_type": "execute_result"
    }
   ],
   "source": [
    "diabetes_df['target'].max() - diabetes_df['target'].min()"
   ]
  },
  {
   "cell_type": "markdown",
   "id": "3502c9e1",
   "metadata": {},
   "source": [
    "Therefore, the target values span about 300 units and our predictions are off--in some average sense--by 60 units.  That's around 20%.  Whether or not that is 'good enough' depends on many other factors which we'll see in Chapter 7."
   ]
  },
  {
   "cell_type": "markdown",
   "id": "a8321447",
   "metadata": {},
   "source": [
    "# 7.3 Linear Regression and Errors\n",
    "\n",
    "We are going to begin exploring linear regression by drawing high-jump bars."
   ]
  },
  {
   "cell_type": "code",
   "execution_count": 14,
   "id": "4342aafe",
   "metadata": {},
   "outputs": [],
   "source": [
    "def axis_helper(ax, lims):\n",
    "    'clean up axes'\n",
    "    ax.set_xlim(lims); ax.set_xticks([])\n",
    "    ax.set_ylim(lims); ax.set_yticks([])\n",
    "    ax.set_aspect('equal')"
   ]
  },
  {
   "cell_type": "markdown",
   "id": "4c1883d3",
   "metadata": {},
   "source": [
    "We're going to use some trivial data to show what's happening."
   ]
  },
  {
   "cell_type": "code",
   "execution_count": 15,
   "id": "b4161206",
   "metadata": {},
   "outputs": [],
   "source": [
    "# our data is very simple: two (x, y) points\n",
    "D = np.array([[3, 5],\n",
    "              [4, 2]])\n",
    "\n",
    "# we'll take x as our 'input' and y as our 'output'\n",
    "x, y = D[:, 0], D[:, 1]"
   ]
  },
  {
   "cell_type": "markdown",
   "id": "e3d72386",
   "metadata": {},
   "source": [
    "Now, let's graph what happens as we move a horizontal line up through different possible values.  This will represent our *predicted* values.  Also, we will calculate the sum of errors, the *sum of squares* of errors (abbreviated SSE), and the *square root of the sum of squared errors*.  "
   ]
  },
  {
   "cell_type": "code",
   "execution_count": 16,
   "id": "915f245b",
   "metadata": {},
   "outputs": [
    {
     "data": {
      "image/png": "[encoded data removed]",
      "text/plain": [
       "<Figure size 720x360 with 6 Axes>"
      ]
     },
     "metadata": {},
     "output_type": "display_data"
    }
   ],
   "source": [
    "horizontal_lines = np.array([1, 2, 3, 3.5, 4, 5])\n",
    "results = []\n",
    "fig, axes = plt.subplots(1, 6, figsize=(10, 5))\n",
    "for h_line, ax in zip(horizontal_lines, axes.flat):\n",
    "    # styling\n",
    "    axis_helper(ax, (0, 6))\n",
    "    ax.set_title(str(h_line))\n",
    "    \n",
    "    # plot the data\n",
    "    ax.plot(x, y, 'ro')\n",
    "    \n",
    "    # plot the prediction line\n",
    "    ax.axhline(h_line, color='y') # ax coords; default to 100%\n",
    "    \n",
    "    # plot the errors\n",
    "    # the horizontal line *is* our prediction; renaming for clarity\n",
    "    predictions = h_line\n",
    "    ax.vlines(x, predictions, y)\n",
    "    \n",
    "    # calculate the error amounts and their sum of squares\n",
    "    errors = y - predictions\n",
    "    sse = np.dot(errors, errors)\n",
    "    \n",
    "    # put together some results in a tuple\n",
    "    results.append((predictions,\n",
    "                    errors, errors.sum(),\n",
    "                    sse, np.sqrt(sse)))"
   ]
  },
  {
   "cell_type": "markdown",
   "id": "160fbd04",
   "metadata": {},
   "source": [
    "Let's take a look at the results."
   ]
  },
  {
   "cell_type": "code",
   "execution_count": 17,
   "id": "e92c5f5a",
   "metadata": {},
   "outputs": [
    {
     "data": {
      "text/html": [
       "<div>\n",
       "<style scoped>\n",
       "    .dataframe tbody tr th:only-of-type {\n",
       "        vertical-align: middle;\n",
       "    }\n",
       "\n",
       "    .dataframe tbody tr th {\n",
       "        vertical-align: top;\n",
       "    }\n",
       "\n",
       "    .dataframe thead th {\n",
       "        text-align: right;\n",
       "    }\n",
       "</style>\n",
       "<table border=\"1\" class=\"dataframe\">\n",
       "  <thead>\n",
       "    <tr style=\"text-align: right;\">\n",
       "      <th></th>\n",
       "      <th>Errors</th>\n",
       "      <th>Sum</th>\n",
       "      <th>SSE</th>\n",
       "      <th>Distance</th>\n",
       "    </tr>\n",
       "    <tr>\n",
       "      <th>Prediction</th>\n",
       "      <th></th>\n",
       "      <th></th>\n",
       "      <th></th>\n",
       "      <th></th>\n",
       "    </tr>\n",
       "  </thead>\n",
       "  <tbody>\n",
       "    <tr>\n",
       "      <th>1.0000</th>\n",
       "      <td>[4.0, 1.0]</td>\n",
       "      <td>5.0000</td>\n",
       "      <td>17.0000</td>\n",
       "      <td>4.1231</td>\n",
       "    </tr>\n",
       "    <tr>\n",
       "      <th>2.0000</th>\n",
       "      <td>[3.0, 0.0]</td>\n",
       "      <td>3.0000</td>\n",
       "      <td>9.0000</td>\n",
       "      <td>3.0000</td>\n",
       "    </tr>\n",
       "    <tr>\n",
       "      <th>3.0000</th>\n",
       "      <td>[2.0, -1.0]</td>\n",
       "      <td>1.0000</td>\n",
       "      <td>5.0000</td>\n",
       "      <td>2.2361</td>\n",
       "    </tr>\n",
       "    <tr>\n",
       "      <th>3.5000</th>\n",
       "      <td>[1.5, -1.5]</td>\n",
       "      <td>0.0000</td>\n",
       "      <td>4.5000</td>\n",
       "      <td>2.1213</td>\n",
       "    </tr>\n",
       "    <tr>\n",
       "      <th>4.0000</th>\n",
       "      <td>[1.0, -2.0]</td>\n",
       "      <td>-1.0000</td>\n",
       "      <td>5.0000</td>\n",
       "      <td>2.2361</td>\n",
       "    </tr>\n",
       "    <tr>\n",
       "      <th>5.0000</th>\n",
       "      <td>[0.0, -3.0]</td>\n",
       "      <td>-3.0000</td>\n",
       "      <td>9.0000</td>\n",
       "      <td>3.0000</td>\n",
       "    </tr>\n",
       "  </tbody>\n",
       "</table>\n",
       "</div>"
      ],
      "text/latex": [
       "{\\centering\n",
       "\\begin{tabular}{llrrr}\n",
       "\\toprule\n",
       "{} &       Errors &                  Sum &                  SSE &             Distance \\\\\n",
       "Prediction &              &                      &                      &                      \\\\\n",
       "\\midrule\n",
       "1.0000     &   [4.0, 1.0] &               5.0000 &              17.0000 &               4.1231 \\\\\n",
       "2.0000     &   [3.0, 0.0] &               3.0000 &               9.0000 &               3.0000 \\\\\n",
       "3.0000     &  [2.0, -1.0] &               1.0000 &               5.0000 &               2.2361 \\\\\n",
       "3.5000     &  [1.5, -1.5] &               0.0000 &               4.5000 &               2.1213 \\\\\n",
       "4.0000     &  [1.0, -2.0] &              -1.0000 &               5.0000 &               2.2361 \\\\\n",
       "5.0000     &  [0.0, -3.0] &              -3.0000 &               9.0000 &               3.0000 \\\\\n",
       "\\bottomrule\n",
       "\\end{tabular}\n",
       "\n",
       "\\medskip}"
      ],
      "text/plain": [
       "                 Errors                  Sum                  SSE  \\\n",
       "Prediction                                                          \n",
       "1.0000       [4.0, 1.0]               5.0000              17.0000   \n",
       "2.0000       [3.0, 0.0]               3.0000               9.0000   \n",
       "3.0000      [2.0, -1.0]               1.0000               5.0000   \n",
       "3.5000      [1.5, -1.5]               0.0000               4.5000   \n",
       "4.0000      [1.0, -2.0]              -1.0000               5.0000   \n",
       "5.0000      [0.0, -3.0]              -3.0000               9.0000   \n",
       "\n",
       "                       Distance  \n",
       "Prediction                       \n",
       "1.0000                   4.1231  \n",
       "2.0000                   3.0000  \n",
       "3.0000                   2.2361  \n",
       "3.5000                   2.1213  \n",
       "4.0000                   2.2361  \n",
       "5.0000                   3.0000  "
      ]
     },
     "metadata": {},
     "output_type": "display_data"
    }
   ],
   "source": [
    "col_labels = \"Prediction\", \"Errors\", \"Sum\", \"SSE\", \"Distance\"\n",
    "display(pd.DataFrame.from_records(results, columns=col_labels, index=\"Prediction\"))"
   ]
  },
  {
   "cell_type": "markdown",
   "id": "ad470ca3",
   "metadata": {},
   "source": [
    "The table includes the raw errors that can be positive or negative.  The sums of the raw errors do not do a great job of evaluating the lines because errors in the opposite directions, such as [2, -1], give us a total of 1 and cancel each other out.  One of the best ways to address this is to use a *total distance*.  That means we want something like $\\sqrt{(prediction - actual)^2}$.  The SSE is the *sum of squared errors*, which gets us most of the way  towards calculating distances.  The last thing that's left to do is to take a square root.  The line that is best, under the rules so far, is the horizontal line at the mean of the points based on their vertical componoent: $\\frac{5+2}{2} = 3.5$.  The mean is the best answer for the same reason it is the pivot on the balance beams shown earlier.  It perfectly balances off the error on each side."
   ]
  },
  {
   "cell_type": "markdown",
   "id": "9da49813",
   "metadata": {},
   "source": [
    "## 4.3.2 Tilting the Field"
   ]
  },
  {
   "cell_type": "markdown",
   "id": "f1c9abe1",
   "metadata": {},
   "source": [
    "The form of sloped lines is $y = mx + b$.  What does the distance from a point to our line look like?  It's just `distance(prediciton, y) = distance(m*x + b,y)`.  What is the total distance? Just add those up for all of our data: `sum(distance(mx + b, y) for x, y in D)`.  \n",
    "\n",
    "What's our total distance? Just add those up for all of our data: `sum(distance(mx + b, y) for x, y in D)`.  In mathese, that looks like $ \\Sigma_{x,y\\in D} ((mx + b) - y)^2$"
   ]
  },
  {
   "cell_type": "code",
   "execution_count": 18,
   "id": "c642cae7",
   "metadata": {},
   "outputs": [],
   "source": [
    "def process(D, model, ax):\n",
    "    # make some useful abbreviations/names\n",
    "    # y is our 'actual'\n",
    "    x, y = D[:, 0], D[:, 1]\n",
    "    m, b = model\n",
    "    \n",
    "    # styling\n",
    "    axis_helper(ax, (0, 8))\n",
    "    \n",
    "    # plot the data\n",
    "    ax.plot(x, y, 'ro')\n",
    "    \n",
    "    # plot the prediction line\n",
    "    helper_xs = np.array([0, 8])\n",
    "    helper_line = m * helper_xs + b\n",
    "    ax.plot(helper_xs, helper_line, color='y')\n",
    "    \n",
    "    # plot the errors\n",
    "    predictions = m * x + b\n",
    "    ax.vlines(x, predictions, y)\n",
    "    \n",
    "    # calculate error amounts\n",
    "    errors = y - predictions\n",
    "    \n",
    "    # tuple up the results\n",
    "    sse = np.dot(errors, errors)\n",
    "    return (errors, errors.sum(), sse, np.sqrt(sse))"
   ]
  },
  {
   "cell_type": "markdown",
   "id": "4905670a",
   "metadata": {},
   "source": [
    "Now we'll make use of `process` with several different prediction lines:"
   ]
  },
  {
   "cell_type": "code",
   "execution_count": 19,
   "id": "64b89804",
   "metadata": {},
   "outputs": [
    {
     "data": {
      "text/html": [
       "<div>\n",
       "<style scoped>\n",
       "    .dataframe tbody tr th:only-of-type {\n",
       "        vertical-align: middle;\n",
       "    }\n",
       "\n",
       "    .dataframe tbody tr th {\n",
       "        vertical-align: top;\n",
       "    }\n",
       "\n",
       "    .dataframe thead th {\n",
       "        text-align: right;\n",
       "    }\n",
       "</style>\n",
       "<table border=\"1\" class=\"dataframe\">\n",
       "  <thead>\n",
       "    <tr style=\"text-align: right;\">\n",
       "      <th></th>\n",
       "      <th>Raw Errors</th>\n",
       "      <th>Sum</th>\n",
       "      <th>SSE</th>\n",
       "      <th>TotDist</th>\n",
       "    </tr>\n",
       "  </thead>\n",
       "  <tbody>\n",
       "    <tr>\n",
       "      <th>0</th>\n",
       "      <td>[2, -2]</td>\n",
       "      <td>0</td>\n",
       "      <td>8</td>\n",
       "      <td>2.8284</td>\n",
       "    </tr>\n",
       "    <tr>\n",
       "      <th>1</th>\n",
       "      <td>[1, -3]</td>\n",
       "      <td>-2</td>\n",
       "      <td>10</td>\n",
       "      <td>3.1623</td>\n",
       "    </tr>\n",
       "    <tr>\n",
       "      <th>2</th>\n",
       "      <td>[0, -4]</td>\n",
       "      <td>-4</td>\n",
       "      <td>16</td>\n",
       "      <td>4.0000</td>\n",
       "    </tr>\n",
       "    <tr>\n",
       "      <th>3</th>\n",
       "      <td>[0, -2]</td>\n",
       "      <td>-2</td>\n",
       "      <td>4</td>\n",
       "      <td>2.0000</td>\n",
       "    </tr>\n",
       "    <tr>\n",
       "      <th>4</th>\n",
       "      <td>[0, 0]</td>\n",
       "      <td>0</td>\n",
       "      <td>0</td>\n",
       "      <td>0.0000</td>\n",
       "    </tr>\n",
       "  </tbody>\n",
       "</table>\n",
       "</div>"
      ],
      "text/latex": [
       "{\\centering\n",
       "\\begin{tabular}{llrrr}\n",
       "\\toprule\n",
       "{} & Raw Errors &  Sum &  SSE &              TotDist \\\\\n",
       "\\midrule\n",
       "0 &    [2, -2] &    0 &    8 &               2.8284 \\\\\n",
       "1 &    [1, -3] &   -2 &   10 &               3.1623 \\\\\n",
       "2 &    [0, -4] &   -4 &   16 &               4.0000 \\\\\n",
       "3 &    [0, -2] &   -2 &    4 &               2.0000 \\\\\n",
       "4 &     [0, 0] &    0 &    0 &               0.0000 \\\\\n",
       "\\bottomrule\n",
       "\\end{tabular}\n",
       "\n",
       "\\medskip}"
      ],
      "text/plain": [
       "  Raw Errors  Sum  SSE              TotDist\n",
       "0    [2, -2]    0    8               2.8284\n",
       "1    [1, -3]   -2   10               3.1623\n",
       "2    [0, -4]   -4   16               4.0000\n",
       "3    [0, -2]   -2    4               2.0000\n",
       "4     [0, 0]    0    0               0.0000"
      ]
     },
     "metadata": {},
     "output_type": "display_data"
    },
    {
     "data": {
      "image/png": "[encoded data removed]",
      "text/plain": [
       "<Figure size 864x432 with 5 Axes>"
      ]
     },
     "metadata": {},
     "output_type": "display_data"
    }
   ],
   "source": [
    "# our data is very simple: two (x, y) points\n",
    "D = np.array([[3, 5],\n",
    "              [4, 2]])\n",
    "\n",
    "#                      m  b --> predictions = mx + b\n",
    "lines_mb = np.array([[ 1, 0],\n",
    "                     [ 1, 1],\n",
    "                     [ 1, 2],\n",
    "                     [-1, 8],\n",
    "                     [-3, 14]])\n",
    "\n",
    "col_labels = ('Raw Errors', 'Sum', 'SSE', 'TotDist')\n",
    "results = []\n",
    "\n",
    "# note: plotting occurs in process()\n",
    "fig, axes = plt.subplots(1, 5, figsize=(12, 6))\n",
    "records = [process(D, mod, ax) for mod,ax in zip(lines_mb, axes.flat)]\n",
    "df = pd.DataFrame.from_records(records, columns=col_labels)\n",
    "display(df)\n",
    "                   "
   ]
  },
  {
   "cell_type": "markdown",
   "id": "891282a6",
   "metadata": {},
   "source": [
    "So we have a progression in calculating our measure of success:\n",
    "\n",
    "* `predicted = m*x + b`\n",
    "* `error = (m*x + b) - actual = predicted - actual`\n",
    "* `SSE = sum(errors**2) = sum(((m*x+b) - actual)**2 for x,actual in data)`\n",
    "* `total_distance = sqrt(SSE)`\n",
    "\n",
    "The last line precisely intersects with both data points."
   ]
  },
  {
   "cell_type": "markdown",
   "id": "86f1144b",
   "metadata": {},
   "source": [
    "# 4.3.3 Performing Linear Regression\n",
    "\n",
    "So far, we considered what happens when we have a single predictive feature, `x`.  When we track many different slopes, we use the term *weights* to describe the contribution of each feature.  Now, we can create a linear combination of the weights and the features to get the prediction for an example.  The prediction is coded in Python as `rdot(weights_wo, features) + wgt_b` if `weights_wo` is *without* the `b` part.  If we use the plus-one trick, it is `rdot(weights, features_p1)`, where `weights` includes a `b` (as `weights[0]`) and `features_p1` includes a column of ones.  Our error still looks like `distance(prediction, actual)` with `prediction=rdot(weights, features_p1)`.  The mathese form of a prediction looks like:\n",
    "\n",
    "$$ y_{pred} = \\Sigma_{ftrs} w_fx_f = w \\dot x $$"
   ]
  },
  {
   "cell_type": "code",
   "execution_count": 20,
   "id": "294c1734",
   "metadata": {},
   "outputs": [
    {
     "data": {
      "text/plain": [
       "2848.2953079329427"
      ]
     },
     "execution_count": 20,
     "metadata": {},
     "output_type": "execute_result"
    }
   ],
   "source": [
    "lr = linear_model.LinearRegression()\n",
    "fit = lr.fit(diabetes_train_ftrs, diabetes_train_tgt)\n",
    "preds = fit.predict(diabetes_test_ftrs)\n",
    "\n",
    "# evaluate our predictions against the unseen testing targets\n",
    "metrics.mean_squared_error(diabetes_test_tgt, preds)"
   ]
  },
  {
   "cell_type": "markdown",
   "id": "8e2717c3",
   "metadata": {},
   "source": [
    "The `mean_squared_error` is the average distance of the errors in our prediction."
   ]
  },
  {
   "cell_type": "markdown",
   "id": "b7355b9c",
   "metadata": {},
   "source": [
    "# Optimization: Picking the Best Answer"
   ]
  },
  {
   "cell_type": "markdown",
   "id": "0095be9b",
   "metadata": {},
   "source": [
    "Here are four strategies we can adopt for picking the best answer:\n",
    "\n",
    "1. Random guess: try lots of possibilities at random, take the best one.\n",
    "2. Random step: Try one line--pick an *m* and a *b*--at random, make several random adjustments, pick the adjustment that helps the most. Repeat.\n",
    "3. Smart step: try one line at random, see how it does, adjust it in some smart way. Repeat.\n",
    "4. Calculated shortcut: Use fancy mathematics to prove that if Fact A, Fact B, and Fact C are all true, then the One Line to Rule Them All must be the best.\n",
    "\n",
    "Let's run through these using a really, really simple constant-only model."
   ]
  },
  {
   "cell_type": "markdown",
   "id": "0c84d326",
   "metadata": {},
   "source": [
    "## 4.4.1 Random Guess\n",
    "\n",
    "Let's make some simple data to predict."
   ]
  },
  {
   "cell_type": "code",
   "execution_count": 21,
   "id": "0087a740",
   "metadata": {},
   "outputs": [],
   "source": [
    "tgt = np.array([3, 5, 8, 10, 12, 15])"
   ]
  },
  {
   "cell_type": "markdown",
   "id": "fcd8c5c0",
   "metadata": {},
   "source": [
    "Let's turn Method 1--random guessing--into some code."
   ]
  },
  {
   "cell_type": "code",
   "execution_count": 22,
   "id": "bfadfd1b",
   "metadata": {},
   "outputs": [
    {
     "data": {
      "text/plain": [
       "8.228074784134693"
      ]
     },
     "execution_count": 22,
     "metadata": {},
     "output_type": "execute_result"
    }
   ],
   "source": [
    "# random guesses with some constraints\n",
    "num_guesses = 10\n",
    "results = []\n",
    "\n",
    "for g in range(num_guesses):\n",
    "    guess = np.random.uniform(low=tgt.min(), high=tgt.max())\n",
    "    total_dist = np.sum((tgt - guess)**2)\n",
    "    results.append((total_dist, guess))\n",
    "best_guess = sorted(results)[0][1]\n",
    "best_guess\n"
   ]
  },
  {
   "cell_type": "markdown",
   "id": "94ef4912",
   "metadata": {},
   "source": [
    "Since we have a simple value to estimate, we only need to take a few shots to get a good answer."
   ]
  },
  {
   "cell_type": "markdown",
   "id": "5ef6c1b8",
   "metadata": {},
   "source": [
    "## 4.4.2 Random Step\n",
    "\n",
    "Method 2 starts with a single random guess, but then takes a random step up or down.  If the step is an improvement, we keep it.  Otherwise, we go back to where we were."
   ]
  },
  {
   "cell_type": "code",
   "execution_count": 23,
   "id": "2d06fde8",
   "metadata": {},
   "outputs": [
    {
     "name": "stdout",
     "output_type": "stream",
     "text": [
      "8.836959712695537\n"
     ]
    }
   ],
   "source": [
    "# use a random choice to take a hypothetical\n",
    "# step up or down: follow it, if it is an improvement\n",
    "num_steps = 100\n",
    "step_size = .05\n",
    "\n",
    "best_guess = np.random.uniform(low=tgt.min(), high=tgt.max())\n",
    "best_dist = np.sum((tgt - best_guess)**2)\n",
    "\n",
    "for s in range(num_steps):\n",
    "    new_guess = best_guess + (np.random.choice([+1, -1]) * step_size)\n",
    "    new_dist = np.sum((tgt - new_guess)**2)\n",
    "    if new_dist < best_dist:\n",
    "        best_guess, best_dist = new_guess, new_dist\n",
    "print(best_guess)"
   ]
  },
  {
   "cell_type": "markdown",
   "id": "0e80b1cc",
   "metadata": {},
   "source": [
    "## 4.4.3 Smart Step\n",
    "\n",
    "Imagine walking, blindfolded, through a rock-stren field.  You might take tentative, test steps as you try to move around.  After a step, you use your foot to probe the area around you for a clear spot."
   ]
  },
  {
   "cell_type": "code",
   "execution_count": 24,
   "id": "eda2fbcb",
   "metadata": {},
   "outputs": [
    {
     "name": "stdout",
     "output_type": "stream",
     "text": [
      "start: 9.575662598977047\n",
      "  end: 8.835662598977063\n"
     ]
    }
   ],
   "source": [
    "# hypotehtically take both steps (up and down)\n",
    "# choose the better of the two\n",
    "# if it is an improvement, follow that step\n",
    "num_steps = 1000\n",
    "step_size = .02\n",
    "\n",
    "best_guess = np.random.uniform(low=tgt.min(), high=tgt.max())\n",
    "best_dist = np.sum((tgt - best_guess)**2)\n",
    "print('start:', best_guess)\n",
    "for s in range(num_steps):\n",
    "    # np.newaxis is needed to align the minus\n",
    "    guesses = best_guess + (np.array([-1, 1]) * step_size)\n",
    "    dists   = np.sum((tgt[:,np.newaxis] - guesses)**2, axis=0)\n",
    "    \n",
    "    better_idx = np.argmin(dists)\n",
    "    \n",
    "    if dists[better_idx] > best_dist:\n",
    "        break\n",
    "        \n",
    "    best_guess = guesses[better_idx]\n",
    "    best_dist  = dists[better_idx]\n",
    "    \n",
    "print(\"  end:\", best_guess)"
   ]
  },
  {
   "cell_type": "markdown",
   "id": "91ee4d60",
   "metadata": {},
   "source": [
    "Now, unless we get stuck in a bad stop, we should have a better shot at success than random stepping: at any given point we check out the legal alternatives and take the best of them."
   ]
  },
  {
   "cell_type": "markdown",
   "id": "67b31092",
   "metadata": {},
   "source": [
    "# 4.4.4 Calculated Shortcuts\n",
    "\n",
    "If you go to a statistics textbook, you'll discover that for our SSE evaluation criteria, there is a *formula* for the answer.  To get the smallest sum of squared errors, what we need is precisely the *mean*.  When we said earlier that the mean balanced the distances to the values, we were merely saying the same thing in a different way.  So, we don't actually have to search to find our best value.  The fancy footwork is in the mathematics that demonstrates that the mean is the right answer to the question."
   ]
  },
  {
   "cell_type": "code",
   "execution_count": 25,
   "id": "7c16ebfc",
   "metadata": {},
   "outputs": [
    {
     "name": "stdout",
     "output_type": "stream",
     "text": [
      "mean: 8.833333333333334\n"
     ]
    }
   ],
   "source": [
    "print('mean:', np.mean(tgt))"
   ]
  },
  {
   "cell_type": "markdown",
   "id": "ab72095c",
   "metadata": {},
   "source": [
    "# 4.4.5 Application to Linear Regression"
   ]
  },
  {
   "cell_type": "markdown",
   "id": "7b3f5962",
   "metadata": {},
   "source": [
    "We can apply these same ideas to fitting a sloped line, or finding many weights (one per feature), to our data points.  The model becomes a bit more complicated--we have to twiddle more values, either simultaneously or in sequence.  Still, it turns out that an equivalent to Method 4, the *Calculated Shortcut* is the standard, classical way to find the best line, which is called *least-squares fitting* and it is solved by the *normal equations.*  You don't have to remember that, instead just remember the *mean*.  \n",
    "\n",
    "Our method 3, *Smart Step*, that uses some mathematics to limit the direction of our steps, is common when dealing with very big data where we can't run all the calculations needed for the standard method.  That method is called *gradient descent*.  Gradient descent (GD) uses some smart calculations--instead of probing steps--to determine directions of improvement. "
   ]
  },
  {
   "cell_type": "markdown",
   "id": "5644e0d6",
   "metadata": {},
   "source": [
    "# 4.5 Simple Evaluation and Comparison of Regressors\n",
    "\n",
    "Earlier, I promised we'd come back to the mean squared error (MSE).  Now that we've discussed sum of squared errors and total distances from a regression line, we can tie the ideas together nicely."
   ]
  },
  {
   "cell_type": "markdown",
   "id": "64b0f0fb",
   "metadata": {},
   "source": [
    "## 4.5.1 Root Mean Squared Error\n",
    "\n",
    "How can we quantify the performance of regression predictions? We going to use some mathematics that are almost identical to our criteria for finding good lines.  Basically, we take the average of the squared errors. Remember, we can't just add up the errors themselves because then a +3 and a -3 would cancel each other out and we'd consider those predictions perfect when we're really off by a total of 6.  Squaring and adding the two values gives us a total error of 18.  \n",
    "\n",
    "Averaging gives us a mean squared error of 9.  We take one other step and take the *square root* of the value to get back to the same scale as the errors themselves, giving us the *root mean squared error*, often abbreviated *RMSE*.  Notice that in this example, our RMSE is 3: precisely the amount of the error(s) in our individual predictions.  This reminds me of an old joke for which I can't find specific attribution:"
   ]
  },
  {
   "cell_type": "markdown",
   "id": "9fdfd7d1",
   "metadata": {},
   "source": [
    "## 4.5.2 Learning Performance\n",
    "\n",
    "With data, methods, and an evaluation metric in hand, we can do a small comparison between *k*-NN-R and LR."
   ]
  },
  {
   "cell_type": "code",
   "execution_count": 26,
   "id": "dcd48f5b",
   "metadata": {},
   "outputs": [
    {
     "name": "stdout",
     "output_type": "stream",
     "text": [
      "   kNN : 54.85\n",
      "linreg : 46.95\n"
     ]
    }
   ],
   "source": [
    "import numpy as np\n",
    "# stand-alone code\n",
    "from sklearn import (datasets, neighbors,\n",
    "                     model_selection as skms,\n",
    "                     linear_model, metrics)\n",
    "\n",
    "diabetes = datasets.load_diabetes()\n",
    "tts = skms.train_test_split(diabetes.data,\n",
    "                            diabetes.target,\n",
    "                            test_size=.25)\n",
    "\n",
    "(diabetes_train, diabetes_test,\n",
    " diabetes_train_tgt, diabetes_test_tgt) = tts\n",
    "\n",
    "models = {'kNN': neighbors.KNeighborsRegressor(n_neighbors=3),\n",
    "          'linreg' : linear_model.LinearRegression()}\n",
    "\n",
    "for name, model in models.items():\n",
    "    fit = model.fit(diabetes_train, diabetes_train_tgt)\n",
    "    preds = fit.predict(diabetes_test)\n",
    "\n",
    "    score = np.sqrt(metrics.mean_squared_error(diabetes_test_tgt, preds))\n",
    "    print(\"{:>6s} : {:0.2f}\".format(name,score))"
   ]
  },
  {
   "cell_type": "markdown",
   "id": "18f88825",
   "metadata": {},
   "source": [
    "## 4.5.3 Resource Utilization in Regression\n",
    "\n",
    "If you compare the code here with the earlier code, you'll find two differences: (1) different learning methods and (2) a different learning performance metric.  Here is that script adapted for *k*-NN-R and LR:\n",
    "\n",
    "```python\n",
    "import timeit, sys\n",
    "import functools as ft\n",
    "import memory_profiler\n",
    "from mlwpy import *\n",
    "\n",
    "def knn_go(train_ftrs, test_ftrs, train_tgt):\n",
    "    knn = neighbors.KNeighborsRegressor(n_neighbors=3)\n",
    "    fit   = knn.fit(train_ftrs, train_tgt)\n",
    "    preds = fit.predict(test_ftrs)\n",
    "\n",
    "def lr_go(train_ftrs, test_ftrs, train_tgt):\n",
    "    linreg = linear_model.LinearRegression()\n",
    "    fit   = linreg.fit(train_ftrs, train_tgt)\n",
    "    preds = fit.predict(test_ftrs)\n",
    "\n",
    "def split_data(dataset):\n",
    "    split = skms.train_test_split(dataset.data,\n",
    "                                  dataset.target,\n",
    "                                  test_size=.25)\n",
    "\n",
    "    return split[:-1] # don't need test tgt\n",
    "\n",
    "def msr_time(go, args):\n",
    "    call = ft.partial(go, *args)\n",
    "    tu = min(timeit.Timer(call).repeat(repeat=3, number=100))\n",
    "    print(\"{:<6}: ~{:.4f} sec\".format(go.__name__, tu))\n",
    "\n",
    "def msr_mem(go, args):\n",
    "    base = memory_profiler.memory_usage()[0]\n",
    "    mu = memory_profiler.memory_usage((go, args),\n",
    "                                       max_usage=True)\n",
    "    print(\"{:<3}: ~{:.4f} MiB\".format(go.__name__, mu-base))\n",
    "\n",
    "if __name__ == \"__main__\":\n",
    "    which_msr = sys.argv[1]\n",
    "    which_go = sys.argv[2]\n",
    "\n",
    "    msr = {'time': msr_time, 'mem':msr_mem}[which_msr]\n",
    "    go = {'lr': lr_go, 'knn': knn_go}[which_go]\n",
    "\n",
    "    sd = split_data(datasets.load_iris())\n",
    "    msr(go, sd)\n",
    "```"
   ]
  },
  {
   "cell_type": "markdown",
   "id": "add7dd7b",
   "metadata": {},
   "source": [
    "When we execute the script, we see:"
   ]
  },
  {
   "cell_type": "code",
   "execution_count": 27,
   "id": "598a9b46",
   "metadata": {},
   "outputs": [
    {
     "name": "stdout",
     "output_type": "stream",
     "text": [
      "lr_go: ~0.4609 MiB\n",
      "lr_go : ~0.0280 sec\n"
     ]
    }
   ],
   "source": [
    "!python perf_02.py mem lr\n",
    "!python perf_02.py time lr"
   ]
  },
  {
   "cell_type": "code",
   "execution_count": 28,
   "id": "1c988a6d",
   "metadata": {},
   "outputs": [
    {
     "name": "stdout",
     "output_type": "stream",
     "text": [
      "knn_go: ~0.3047 MiB\n",
      "knn_go: ~0.0669 sec\n"
     ]
    }
   ],
   "source": [
    "!python perf_02.py mem knn\n",
    "!python perf_02.py time knn "
   ]
  },
  {
   "cell_type": "markdown",
   "id": "82a27aba",
   "metadata": {},
   "source": [
    "Here's a brief table of our results that might vary a bit over different runs:"
   ]
  },
  {
   "cell_type": "markdown",
   "id": "a8981a4e",
   "metadata": {},
   "source": [
    "Method | RMSE | Time (s) | Memory (MiB)\n",
    ":-- | :-- | :-- | :--\n",
    "*k*-NN-R | 55 | 0.06 | 0.2852\n",
    "LR | 45 | 0.04 | 0.4297"
   ]
  },
  {
   "cell_type": "markdown",
   "id": "ee70ded1",
   "metadata": {},
   "source": [
    "It may be surprising that linear regression takes up so much memory, especially considering that *k*-NN-R requires keeping all the data around. This surprise highlights an issue with the way we measure memory: (1) we are measuring the *entire* fit-and-predict process as one unified task and (2) we are measuring the *peak* usage of the unified task.  \n",
    "\n",
    "Even if linear regression has one brief moment of high usage, that's what we are going to see.  Under the hood, this form of linear regression, which optimizes by Method 4, *Calculated Shortcut*, isn't super clever about how it does its calculations.  There's a critical part of its operation--solving those normal equations I mentioned above--that is very memory hungry.\n",
    "\n"
   ]
  }
 ],
 "metadata": {
  "kernelspec": {
   "display_name": "Python 3",
   "language": "python",
   "name": "python3"
  },
  "language_info": {
   "codemirror_mode": {
    "name": "ipython",
    "version": 3
   },
   "file_extension": ".py",
   "mimetype": "text/x-python",
   "name": "python",
   "nbconvert_exporter": "python",
   "pygments_lexer": "ipython3",
   "version": "3.9.2"
  }
 },
 "nbformat": 4,
 "nbformat_minor": 5
}
