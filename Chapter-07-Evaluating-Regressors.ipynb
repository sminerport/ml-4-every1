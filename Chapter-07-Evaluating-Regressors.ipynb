{
 "cells": [
  {
   "cell_type": "markdown",
   "id": "a4c01d4e",
   "metadata": {},
   "source": [
    "# Evaluating Regressors\n",
    "\n"
   ]
  },
  {
   "cell_type": "code",
   "execution_count": 127,
   "id": "9ee2b37f",
   "metadata": {},
   "outputs": [],
   "source": [
    "# Setup\n",
    "from mlwpy import *\n",
    "%matplotlib inline\n",
    "\n",
    "diabetes = datasets.load_diabetes()\n",
    "\n",
    "tts = skms.train_test_split(diabetes.data,\n",
    "                            diabetes.target,\n",
    "                            test_size=.25,\n",
    "                            random_state=42)\n",
    "\n",
    "(diabetes_train_ftrs, diabetes_test_ftrs,\n",
    " diabetes_train_tgt,  diabetes_test_tgt) = tts"
   ]
  },
  {
   "cell_type": "markdown",
   "id": "0ee97be2",
   "metadata": {},
   "source": [
    "# 7.1 BaselineRegressors"
   ]
  },
  {
   "cell_type": "markdown",
   "id": "ea2494db",
   "metadata": {},
   "source": [
    "Regressors, like classifiers need simple baseline strategies to compete against.  In `sklearn`s back of tricks, we can easily create baseline models that predict the mean and the median, which are fixed values for a given training dataset.  Once we train on the dataset, the baseline returns a single value which serves as our prediction for all examples.  Another approach is to pick arbirary constants out of ahat.  For example, if a rare disease causes fever and most people are healthy, a temperature near 98.6 degrees Fahrenheit could be a good baseline temperature prediction.\n",
    "\n",
    "The `quantile` generalizes the idea of the `median`.  The median is a specific percentile--the 50th percentile.  The 75th percentile has 75% of the data less than it and 25% of the data greater.\n",
    "\n",
    "Using `quantile`, we can pick an arbitrary percent as our break point. "
   ]
  },
  {
   "cell_type": "code",
   "execution_count": 128,
   "id": "6189da7e",
   "metadata": {},
   "outputs": [
    {
     "data": {
      "text/plain": [
       "[{'strategy': 'constant', 'constant': 50.0},\n",
       " {'strategy': 'quantile', 'quantile': 0.75},\n",
       " {'strategy': 'mean'},\n",
       " {'strategy': 'median'}]"
      ]
     },
     "execution_count": 128,
     "metadata": {},
     "output_type": "execute_result"
    }
   ],
   "source": [
    "baseline = dummy.DummyRegressor(strategy='median')\n",
    "strategies = ['constant', 'quantile', 'mean', 'median', ]\n",
    "baseline_args = [{'strategy':s} for s in strategies]\n",
    "\n",
    "# additional args for constant and quantile\n",
    "baseline_args[0]['constant'] = 50.0\n",
    "baseline_args[1]['quantile'] = 0.75\n",
    "baseline_args"
   ]
  },
  {
   "cell_type": "code",
   "execution_count": 129,
   "id": "116599e8",
   "metadata": {},
   "outputs": [
    {
     "data": {
      "text/html": [
       "<div>\n",
       "<style scoped>\n",
       "    .dataframe tbody tr th:only-of-type {\n",
       "        vertical-align: middle;\n",
       "    }\n",
       "\n",
       "    .dataframe tbody tr th {\n",
       "        vertical-align: top;\n",
       "    }\n",
       "\n",
       "    .dataframe thead th {\n",
       "        text-align: right;\n",
       "    }\n",
       "</style>\n",
       "<table border=\"1\" class=\"dataframe\">\n",
       "  <thead>\n",
       "    <tr style=\"text-align: right;\">\n",
       "      <th></th>\n",
       "      <th>mse</th>\n",
       "    </tr>\n",
       "  </thead>\n",
       "  <tbody>\n",
       "    <tr>\n",
       "      <th>constant</th>\n",
       "      <td>14,657.6847</td>\n",
       "    </tr>\n",
       "    <tr>\n",
       "      <th>quantile</th>\n",
       "      <td>10,216.3874</td>\n",
       "    </tr>\n",
       "    <tr>\n",
       "      <th>mean</th>\n",
       "      <td>5,607.1979</td>\n",
       "    </tr>\n",
       "    <tr>\n",
       "      <th>median</th>\n",
       "      <td>5,542.2252</td>\n",
       "    </tr>\n",
       "  </tbody>\n",
       "</table>\n",
       "</div>"
      ],
      "text/latex": [
       "{\\centering\n",
       "\\begin{tabular}{lr}\n",
       "\\toprule\n",
       "{} &                  mse \\\\\n",
       "\\midrule\n",
       "constant &          14,657.6847 \\\\\n",
       "quantile &          10,216.3874 \\\\\n",
       "mean     &           5,607.1979 \\\\\n",
       "median   &           5,542.2252 \\\\\n",
       "\\bottomrule\n",
       "\\end{tabular}\n",
       "\n",
       "\\medskip}"
      ],
      "text/plain": [
       "                          mse\n",
       "constant          14,657.6847\n",
       "quantile          10,216.3874\n",
       "mean               5,607.1979\n",
       "median             5,542.2252"
      ]
     },
     "metadata": {},
     "output_type": "display_data"
    }
   ],
   "source": [
    "# similar to ch 5, but using a list comprehension\n",
    "# process a single argument package (a dict)\n",
    "\n",
    "def do_one(**args):\n",
    "    baseline = dummy.DummyRegressor(**args)\n",
    "    baseline.fit(diabetes_train_ftrs, diabetes_train_tgt)\n",
    "    base_preds = baseline.predict(diabetes_test_ftrs)\n",
    "    return metrics.mean_squared_error(base_preds, diabetes_test_tgt)\n",
    "\n",
    "# gather all results via a list comprehension\n",
    "mses = [do_one(**bla) for bla in baseline_args]\n",
    "\n",
    "display(pd.DataFrame({'mse':mses}, index=strategies))"
   ]
  },
  {
   "cell_type": "markdown",
   "id": "c013644c",
   "metadata": {},
   "source": [
    "# 7.2 Additional Measures for Regression\n",
    "\n",
    "So far, we used *mean squared error* as our success measure in regression problems.  We have also modified MSE to the *root mean squared error* (RMSE) because the scale of MSE is a bit off compared to our predictions.  MSE is on the same scale as the squares of the errors; RMSE moves us back to the scale of the errors.  We've done this in an ad-hoc manner by applying square roots here and there.  However, RMSE is more commonly use, let's integrate RMSE more deeply into our `sklearn`-fu. (Seriously, what???) (what is `sklearn`-fu?)\n",
    "\n",
    "\n",
    "We develop the new regression evaluation metric in three steps.  We define an error measure, use the error to define a score, and use the score to create a scorer.  This is because, generally, `sklearn` wants to work with scores, where bigger is better.\n",
    "\n",
    "Remember: (1) for *errors* and *loss functions*, lower values are better and (2) for *scores*, higher values are better.  Therefore, we need an inverse relationship between our error measure and our score.  One of the easiest ways to do that is to negate the error.  Therefore, for RMSE, all our scores based on it will be negative, and being *better* means being closer to zero while still negative.  A way to think about this is like losing *less* money.\n",
    "\n",
    "The error and scoring functions have to receive three arguments: a fit model, predictors, and a target.  `sklearn` has a naming convention that \"smaller is better\" ends with `_error` or `_loss` and \"bigger is better\" ends with `_score`.  The `*_scorer` form is responsible for applying a model on features to make predictions and compare them with actual known values.  It quantifies the success using an error or score function.\n",
    "\n",
    "It is not necessary to define all three of these pieces.  We could pick and choose which RMS components we want to implement.  However, writing code for all three demonstrates how they are related."
   ]
  },
  {
   "cell_type": "markdown",
   "id": "32af6d0f",
   "metadata": {},
   "source": [
    "## 7.2.1 Creating Our Own Evaluation Metric"
   ]
  },
  {
   "cell_type": "code",
   "execution_count": 130,
   "id": "207358fc",
   "metadata": {},
   "outputs": [
    {
     "data": {
      "text/plain": [
       "array([-59.9545, -60.4838, -62.1117, -72.6665, -68.2894])"
      ]
     },
     "execution_count": 130,
     "metadata": {},
     "output_type": "execute_result"
    }
   ],
   "source": [
    "def rms_error(actual, predicted):\n",
    "    'root-mean-squared-error function '\n",
    "    # lesser values are better (a < b means a is better)\n",
    "    mse = metrics.mean_squared_error(actual, predicted)\n",
    "    return np.sqrt(mse)\n",
    "\n",
    "def neg_rmse_score(actual, predicted):\n",
    "    ' rmse based score function '\n",
    "    # greater values are better (a < b means b is better)\n",
    "    return -rms_error(actual, predicted)\n",
    "\n",
    "def neg_rmse_scorer(mod, ftrs, tgt_actual):\n",
    "    ' rmse scorer suitable for scoring arg '\n",
    "    tgt_pred = mod.predict(ftrs)\n",
    "    return neg_rmse_score(tgt_actual, tgt_pred)\n",
    "\n",
    "knn = neighbors.KNeighborsRegressor(n_neighbors=3)\n",
    "skms.cross_val_score(knn,\n",
    "                     diabetes.data, diabetes.target,\n",
    "                     cv=skms.KFold(5, shuffle=True),\n",
    "                     scoring=neg_rmse_scorer)"
   ]
  },
  {
   "cell_type": "markdown",
   "id": "9e7941c7",
   "metadata": {},
   "source": [
    "The `hand_and_till_M_statistic` from earlier acted like a score and we turned it into a scorer with `make_scorer`.\n",
    "Here, we laid out all the `sklearn` subcomponents for RMSE: an error measure, a score, and a scorer.  `make_scorer` can be told to treat larger values as the *better* result with the `greater_is_better` argument."
   ]
  },
  {
   "cell_type": "markdown",
   "id": "1c4c641e",
   "metadata": {},
   "source": [
    "## 7.2.2 Other Built-in Regression Metrics\n",
    "\n",
    "The laundry list of metrics is available through `metrics.SCORERS.keys().`  We can check out the default metric for linear regression by looking at `help(lr.score)`."
   ]
  },
  {
   "cell_type": "code",
   "execution_count": 131,
   "id": "31d090bb",
   "metadata": {},
   "outputs": [
    {
     "data": {
      "text/plain": [
       "dict_keys(['explained_variance', 'r2', 'max_error', 'neg_median_absolute_error', 'neg_mean_absolute_error', 'neg_mean_absolute_percentage_error', 'neg_mean_squared_error', 'neg_mean_squared_log_error', 'neg_root_mean_squared_error', 'neg_mean_poisson_deviance', 'neg_mean_gamma_deviance', 'accuracy', 'top_k_accuracy', 'roc_auc', 'roc_auc_ovr', 'roc_auc_ovo', 'roc_auc_ovr_weighted', 'roc_auc_ovo_weighted', 'balanced_accuracy', 'average_precision', 'neg_log_loss', 'neg_brier_score', 'adjusted_rand_score', 'rand_score', 'homogeneity_score', 'completeness_score', 'v_measure_score', 'mutual_info_score', 'adjusted_mutual_info_score', 'normalized_mutual_info_score', 'fowlkes_mallows_score', 'precision', 'precision_macro', 'precision_micro', 'precision_samples', 'precision_weighted', 'recall', 'recall_macro', 'recall_micro', 'recall_samples', 'recall_weighted', 'f1', 'f1_macro', 'f1_micro', 'f1_samples', 'f1_weighted', 'jaccard', 'jaccard_macro', 'jaccard_micro', 'jaccard_samples', 'jaccard_weighted'])"
      ]
     },
     "execution_count": 131,
     "metadata": {},
     "output_type": "execute_result"
    }
   ],
   "source": [
    "metrics.SCORERS.keys()"
   ]
  },
  {
   "cell_type": "code",
   "execution_count": 132,
   "id": "aa1e373d",
   "metadata": {},
   "outputs": [
    {
     "name": "stdout",
     "output_type": "stream",
     "text": [
      "['Return the coefficient of determination :math:`R^2` of the', '        prediction.', '', '        The coefficient :math:`R^2` is defined as :math:`(1 - \\\\frac{u}{v})`,', '        where :math:`u` is the residual sum of squares ``((y_true - y_pred)', '        ** 2).sum()`` and :math:`v` is the total sum of squares ``((y_true -', '        y_true.mean()) ** 2).sum()``. The best possible score is 1.0 and it', '        can be negative (because the model can be arbitrarily worse). A', '        constant model that always predicts the expected value of `y`,', '        disregarding the input features, would get a :math:`R^2` score of', '        0.0.', '', '        Parameters', '        ----------', '        X : array-like of shape (n_samples, n_features)', '            Test samples. For some estimators this may be a precomputed', '            kernel matrix or a list of generic objects instead with shape', '            ``(n_samples, n_samples_fitted)``, where ``n_samples_fitted``', '            is the number of samples used in the fitting for the estimator.', '', '        y : array-like of shape (n_samples,) or (n_samples, n_outputs)', '            True values for `X`.', '', '        sample_weight : array-like of shape (n_samples,), default=None', '            Sample weights.', '', '        Returns', '        -------', '        score : float', '            :math:`R^2` of ``self.predict(X)`` wrt. `y`.', '', '        Notes', '        -----', '        The :math:`R^2` score used when calling ``score`` on a regressor uses', \"        ``multioutput='uniform_average'`` from version 0.23 to keep consistent\", '        with default value of :func:`~sklearn.metrics.r2_score`.', '        This influences the ``score`` method of all the multioutput', '        regressors (except for', '        :class:`~sklearn.multioutput.MultiOutputRegressor`).', '        ']\n",
      "Return the coefficient of determination :math:`R^2` of the\n"
     ]
    }
   ],
   "source": [
    "\n",
    "lr = linear_model.LinearRegression()\n",
    "\n",
    "#help(lr.score) # for full output\n",
    "print(lr.score.__doc__.splitlines())\n",
    "print(lr.score.__doc__.splitlines()[0])"
   ]
  },
  {
   "cell_type": "markdown",
   "id": "69bf9a1d",
   "metadata": {},
   "source": [
    "The default metric for linear regression is $R^2$.  $R^2$ is the default metric for all regressors.  The other major built-in performance evaluation metrics for regressors are mean absolute error, mean squared error, and median absolute error.\n",
    "\n",
    "In both mean absolute error (MAE) and mean squared error (MSE), the mean part means to divide by the number of examples.  MAE penalizes large and small differences from *actual* by the same amount as the size of the error.  Therefore, if we are off by 10 we get a penalty of 10.  However, MSE penalizes bigger errors more: being off by 10 generates a penalty of 100.  If two predictions are off by 5, the contributes to MAE are $5 + 5 = 10$.  However, with MSE, the contributions from two errors of 5 are $5^2 + 5^2 = 25 + 25 = 50$.  Therefore, with MAE, we could have 10 data points off by 5, two points off by 25, or one point off by 50.  For MSE, we could only have one point off by about 7 since $7^2$ = 49.\n",
    "\n",
    "Median absolute error protetcs from single large errors overwhelming other well-behaved errors.  If we are OK with a few real bad errors, as long  as the rest of the predictions are on track, MAE may be a good fit."
   ]
  },
  {
   "cell_type": "markdown",
   "id": "5680bb36",
   "metadata": {},
   "source": [
    "## 7.2.3 $R^2$\n",
    "\n",
    "Let's define $R^2$ in the manner the `sklearn` computes it.  We describe $R^2$ in terms of two models.  The first is *our model of interest*.  From it, we can calculate how well we do with our model using the *sum of squared errors.*\n",
    "\n",
    "$$ SSE_{ours} = \\Sigma_i(our\\_preds_{i} - actual_{i})^2 $$ \n",
    "\n",
    "$$ SSE_{mean} = \\Sigma_i(mean - actual_{i})^2 $$\n",
    "\n"
   ]
  },
  {
   "cell_type": "code",
   "execution_count": 133,
   "id": "379ed653",
   "metadata": {},
   "outputs": [],
   "source": [
    "our_preds  = np.array([1, 2, 3])\n",
    "mean_preds = np.array([2, 2, 2])\n",
    "actual     = np.array([2, 3, 4])\n",
    "\n",
    "sse_ours = np.sum((our_preds - actual)**2)\n",
    "sse_mean = np.sum((mean_preds - actual)**2)"
   ]
  },
  {
   "cell_type": "markdown",
   "id": "895266db",
   "metadata": {},
   "source": [
    "With these two components, we can compute $R^2$ just like `sklearn` describes in its documentation."
   ]
  },
  {
   "cell_type": "code",
   "execution_count": 134,
   "id": "475a8fc7",
   "metadata": {},
   "outputs": [
    {
     "name": "stdout",
     "output_type": "stream",
     "text": [
      "manual r2: 0.40\n"
     ]
    }
   ],
   "source": [
    "r_2 = 1 - (sse_ours / sse_mean)\n",
    "print(f'manual r2:{r_2:5.2f}')"
   ]
  },
  {
   "cell_type": "markdown",
   "id": "7efbb474",
   "metadata": {},
   "source": [
    "The formula referenced by the `sklearn` docs is:"
   ]
  },
  {
   "cell_type": "markdown",
   "id": "1cbdf7e3",
   "metadata": {},
   "source": [
    "$$ R^2 = 1 - \\frac{SSE_{ours}}{SSE_{mean}} $$"
   ]
  },
  {
   "cell_type": "markdown",
   "id": "7eec026c",
   "metadata": {},
   "source": [
    "$\\frac{SSE_{ours}}{SSE_{mean}}$ is the ratio between how well we do versus how well a simple model does, when both models are measured in terms of the sum of squared errors.  The specific baseline model is the `dummy.DummyRegressor(strategy='mean')` that we saw at the start of the chapter.  For example, if the errors of our predictor were 2500 and the errors o fthe mean were 10000, the ratio between the two would be \\frac{1}{4} and we would ahve $R^2 = 1 - \\frac{1}{4} = \\frac{3}{4} = 0.75$  We are *normalizing* or rescaling, our model's performance to a model that always predicts the mean target value.  What is the *one minus* that ratio?"
   ]
  },
  {
   "cell_type": "markdown",
   "id": "f79f6dcd",
   "metadata": {},
   "source": [
    "### 7.2.3.1 An Interpretation of $R^2$ for the Machine Learning World\n",
    "\n",
    "The term $\\frac{SSE_{ours}}{SSE_{mean}}$ will be between zero and one.  If the linear regression uses only a constant term it will be identical to the mean and the value will be 1.  At the low end, if there linear regression makes no errors on the data, it will be zero.  \n",
    "\n",
    "However, our model could be *worse* than the mean.  If we have a worse-than-mean model, and we use `sklearn`'s formula for $R^2$, then we have a *negative* value.  \n",
    "\n",
    "How can we think about `sklearn`'s $R^2$ in a reasonable way?  The ratio between the SSEs gives us a normalized performance versus a standard, baseline model.  Under the hood, the SSE is the same as our mean squared error but without the mean.  If we divide both SSEs in the ratio by *n*, we get\n",
    "\n",
    "$$ R^2 = 1 - \\frac{\\frac{SSE_{ours}}{n}}{\\frac{SSE_{mean}}{n}} = 1 - \\frac{MSE_{ours}}{MSE_{mean}} $$\n"
   ]
  },
  {
   "cell_type": "markdown",
   "id": "987ec1c1",
   "metadata": {},
   "source": [
    "We have really been working with ratios of MSEs in disguise.  To ease our interpration of the right-hand side, let's get ride of the 1-."
   ]
  },
  {
   "cell_type": "markdown",
   "id": "5db18bae",
   "metadata": {},
   "source": [
    "$$ R^2 = 1 - \\frac{SSE_{ours}}{SSE_{mean}} = 1 - \\frac{MSE_{ours}}{MSE_{mean}} $$\n"
   ]
  },
  {
   "cell_type": "markdown",
   "id": "25ba7ff2",
   "metadata": {},
   "source": [
    "$$ 1 - R^2 = \\frac{SSE_{ours}}{SSE_{mean}} = \\frac{MSE_{ours}}{MSE_{mean}} $$"
   ]
  },
  {
   "cell_type": "markdown",
   "id": "034d9185",
   "metadata": {},
   "source": [
    "We can view $ 1 - R^2 $ (for arbitrary machine learning models) as a MSE that is normalized by the MSE we get from a simple, baseline model that predicts the mean.  If we have two models of interest and if we compare (divide) the $ 1 - R^2 $ of our model 1 and the $1 - R^2 $ of our model 2, we get:"
   ]
  },
  {
   "cell_type": "markdown",
   "id": "6b9c0d65",
   "metadata": {},
   "source": [
    "$$ \\frac{1 - R^2_{M1}}{1 - R^2_{M2}} = \\frac{\\frac{MSE_{M1}}{MSE_{mean}}}{\\frac{MSE_{M2}}{MSE_{mean}}} = \\frac{MSE_{M1}}{MSE_{M2}} $$"
   ]
  },
  {
   "cell_type": "markdown",
   "id": "63d36064",
   "metadata": {},
   "source": [
    "This is the ratios of MSEs or SSEs between the two models."
   ]
  },
  {
   "cell_type": "markdown",
   "id": "d046f534",
   "metadata": {},
   "source": [
    "### 7.2.3.2 A Cold Dose of Reality: sklearn's $R^2$\n",
    "\n",
    "Let's compute a few simple $R^2$ values manually and with `sklearn`.  We compute `r2_score` from actuals and test set predictions from a simple predict-the-mean model:"
   ]
  },
  {
   "cell_type": "code",
   "execution_count": 135,
   "id": "1de1fea2",
   "metadata": {},
   "outputs": [
    {
     "name": "stdout",
     "output_type": "stream",
     "text": [
      "-0.014016723490579253\n"
     ]
    }
   ],
   "source": [
    "baseline = dummy.DummyRegressor(strategy='mean')\n",
    "\n",
    "baseline.fit(diabetes_train_ftrs, diabetes_train_tgt)\n",
    "base_preds = baseline.predict(diabetes_test_ftrs)\n",
    "\n",
    "# r2 is not symmetric because true values have priority\n",
    "# are are used to compute target mean\n",
    "base_r2_sklearn = metrics.r2_score(diabetes_test_tgt, base_preds)\n",
    "print(base_r2_sklearn)"
   ]
  },
  {
   "cell_type": "markdown",
   "id": "12d41d93",
   "metadata": {},
   "source": [
    "Now, let's look at those values with some manual computations:"
   ]
  },
  {
   "cell_type": "code",
   "execution_count": 136,
   "id": "2b9c71f2",
   "metadata": {},
   "outputs": [
    {
     "name": "stdout",
     "output_type": "stream",
     "text": [
      "sklearn train-mean model SSE(on test): 622398.970317905\n",
      " manual train-mean model SSE(on test): 622398.970317905\n",
      " manual test-mean model SSE(on test): 613795.5675675675\n"
     ]
    }
   ],
   "source": [
    "# sklearn-train-mean to predict test tgts\n",
    "base_errors = base_preds - diabetes_test_tgt\n",
    "sse_base_preds = np.dot(base_errors, base_errors)\n",
    "\n",
    "# train-mean to predict test targets\n",
    "train_mean_errors = np.mean(diabetes_train_tgt) - diabetes_test_tgt\n",
    "sse_mean_train = np.dot(train_mean_errors, train_mean_errors)\n",
    "\n",
    "# test-mean to predict test targets (Danger Will Robinson!)\n",
    "test_mean_errors = np.mean(diabetes_test_tgt) - diabetes_test_tgt\n",
    "sse_mean_test    = np.dot(test_mean_errors, test_mean_errors)\n",
    "\n",
    "print('sklearn train-mean model SSE(on test):', sse_base_preds)\n",
    "print(' manual train-mean model SSE(on test):', sse_mean_train)\n",
    "print(' manual test-mean model SSE(on test):', sse_mean_test)"
   ]
  },
  {
   "cell_type": "markdown",
   "id": "7b11688b",
   "metadata": {},
   "source": [
    "In the third option, we calculated the mean of the *test* set and looked at my error against the test targets.  Not surprisingly, since we are teaching to the test, we do a bit better than the other cases.  Let's see what happens if we use the taught-to-the-test values as our baseline for computing `r2`:"
   ]
  },
  {
   "cell_type": "code",
   "execution_count": 137,
   "id": "416bbabe",
   "metadata": {},
   "outputs": [
    {
     "name": "stdout",
     "output_type": "stream",
     "text": [
      "[219.  70. 202. 230. 111.  84. 242. 272.  94.  96.  94. 252.  99. 297.\n",
      " 135.  67. 295. 264. 170. 275. 310.  64. 128. 232. 129. 118. 263.  77.\n",
      "  48. 107. 140. 113.  90. 164. 180. 233.  42.  84. 172.  63.  48. 108.\n",
      " 156. 168.  90.  52. 200.  87.  90. 258. 136. 158.  69.  72. 171.  95.\n",
      "  72. 151. 168.  60. 122.  52. 187. 102. 214. 248. 181. 110. 140. 202.\n",
      " 101. 222. 281.  61.  89.  91. 186. 220. 237. 233.  68. 190.  96.  72.\n",
      " 153.  98.  37.  63. 184. 144. 150. 280. 125.  59.  65. 281. 277. 167.\n",
      "  90.  72. 178.  88. 270. 101. 197.  97.  53.  71. 262.  52. 102.]\n",
      "145.54054054054055\n",
      "[ -73.4595   75.5405  -56.4595  -84.4595   34.5405   61.5405  -96.4595\n",
      " -126.4595   51.5405   49.5405   51.5405 -106.4595   46.5405 -151.4595\n",
      "   10.5405   78.5405 -149.4595 -118.4595  -24.4595 -129.4595 -164.4595\n",
      "   81.5405   17.5405  -86.4595   16.5405   27.5405 -117.4595   68.5405\n",
      "   97.5405   38.5405    5.5405   32.5405   55.5405  -18.4595  -34.4595\n",
      "  -87.4595  103.5405   61.5405  -26.4595   82.5405   97.5405   37.5405\n",
      "  -10.4595  -22.4595   55.5405   93.5405  -54.4595   58.5405   55.5405\n",
      " -112.4595    9.5405  -12.4595   76.5405   73.5405  -25.4595   50.5405\n",
      "   73.5405   -5.4595  -22.4595   85.5405   23.5405   93.5405  -41.4595\n",
      "   43.5405  -68.4595 -102.4595  -35.4595   35.5405    5.5405  -56.4595\n",
      "   44.5405  -76.4595 -135.4595   84.5405   56.5405   54.5405  -40.4595\n",
      "  -74.4595  -91.4595  -87.4595   77.5405  -44.4595   49.5405   73.5405\n",
      "   -7.4595   47.5405  108.5405   82.5405  -38.4595    1.5405   -4.4595\n",
      " -134.4595   20.5405   86.5405   80.5405 -135.4595 -131.4595  -21.4595\n",
      "   55.5405   73.5405  -32.4595   57.5405 -124.4595   44.5405  -51.4595\n",
      "   48.5405   92.5405   74.5405 -116.4595   93.5405   43.5405]\n",
      "613795.5675675675\n"
     ]
    }
   ],
   "source": [
    "print(diabetes_test_tgt)\n",
    "print(np.mean(diabetes_test_tgt))\n",
    "print(test_mean_errors)\n",
    "print(sse_mean_test)"
   ]
  },
  {
   "cell_type": "code",
   "execution_count": 138,
   "id": "25bb2ab8",
   "metadata": {},
   "outputs": [
    {
     "data": {
      "text/plain": [
       "-0.014016723490578809"
      ]
     },
     "execution_count": 138,
     "metadata": {},
     "output_type": "execute_result"
    }
   ],
   "source": [
    "1 - (sse_base_preds / sse_mean_test)"
   ]
  },
  {
   "cell_type": "markdown",
   "id": "de161355",
   "metadata": {},
   "source": [
    "Let's compare with the `r2` score we calculated above."
   ]
  },
  {
   "cell_type": "code",
   "execution_count": 139,
   "id": "16fdfed0",
   "metadata": {},
   "outputs": [
    {
     "name": "stdout",
     "output_type": "stream",
     "text": [
      "-0.014016723490579253\n",
      "-0.014016723490578809\n"
     ]
    }
   ],
   "source": [
    "print(base_r2_sklearn)\n",
    "print(1 - (sse_base_preds / sse_mean_test))"
   ]
  },
  {
   "cell_type": "markdown",
   "id": "c13ca2c2",
   "metadata": {},
   "source": [
    "`sklearn`'s $R^2$ is calculating its base model--the mean model--from the true values we are testing against.  \n",
    "\n",
    "We are not comparing the performance of `my_model.fit(train)` and `mean_model.fit(train)`.  With `sklearn`'s $R^2$ we are comparing `my_model.fit(train)` with `mean_model.fit(test)` and evaluating them against `test`.  Since this is counterintuitive, let's draw it out the long way:"
   ]
  },
  {
   "cell_type": "code",
   "execution_count": 140,
   "id": "2e468fa7",
   "metadata": {},
   "outputs": [
    {
     "name": "stdout",
     "output_type": "stream",
     "text": [
      "5529.689797906013\n"
     ]
    },
    {
     "data": {
      "text/html": [
       "<div>\n",
       "<style scoped>\n",
       "    .dataframe tbody tr th:only-of-type {\n",
       "        vertical-align: middle;\n",
       "    }\n",
       "\n",
       "    .dataframe tbody tr th {\n",
       "        vertical-align: top;\n",
       "    }\n",
       "\n",
       "    .dataframe thead th {\n",
       "        text-align: right;\n",
       "    }\n",
       "</style>\n",
       "<table border=\"1\" class=\"dataframe\">\n",
       "  <thead>\n",
       "    <tr style=\"text-align: right;\">\n",
       "      <th></th>\n",
       "      <th>R^2</th>\n",
       "      <th>MSE</th>\n",
       "      <th>Norm_MSE</th>\n",
       "      <th>1-R^2</th>\n",
       "    </tr>\n",
       "  </thead>\n",
       "  <tbody>\n",
       "    <tr>\n",
       "      <th>KNeighborsRegressor</th>\n",
       "      <td>0.3722</td>\n",
       "      <td>3,471.4194</td>\n",
       "      <td>0.6278</td>\n",
       "      <td>0.6278</td>\n",
       "    </tr>\n",
       "    <tr>\n",
       "      <th>LinearRegression</th>\n",
       "      <td>0.4849</td>\n",
       "      <td>2,848.2953</td>\n",
       "      <td>0.5151</td>\n",
       "      <td>0.5151</td>\n",
       "    </tr>\n",
       "  </tbody>\n",
       "</table>\n",
       "</div>"
      ],
      "text/latex": [
       "{\\centering\n",
       "\\begin{tabular}{lrrrr}\n",
       "\\toprule\n",
       "{} &                  R\\textasciicircum 2 &                  MSE &             Norm\\_MSE &                1-R\\textasciicircum 2 \\\\\n",
       "\\midrule\n",
       "KNeighborsRegressor &               0.3722 &           3,471.4194 &               0.6278 &               0.6278 \\\\\n",
       "LinearRegression    &               0.4849 &           2,848.2953 &               0.5151 &               0.5151 \\\\\n",
       "\\bottomrule\n",
       "\\end{tabular}\n",
       "\n",
       "\\medskip}"
      ],
      "text/plain": [
       "                                     R^2                  MSE  \\\n",
       "KNeighborsRegressor               0.3722           3,471.4194   \n",
       "LinearRegression                  0.4849           2,848.2953   \n",
       "\n",
       "                                Norm_MSE                1-R^2  \n",
       "KNeighborsRegressor               0.6278               0.6278  \n",
       "LinearRegression                  0.5151               0.5151  "
      ]
     },
     "metadata": {},
     "output_type": "display_data"
    }
   ],
   "source": [
    "# \n",
    "# WARNING! Don't try this at home, boys and girls!\n",
    "# We are fitting on the *test* set... to mimic the behavior\n",
    "# of sklearn R^2\n",
    "#\n",
    "\n",
    "testbase = dummy.DummyRegressor(strategy='mean')\n",
    "testbase.fit(diabetes_test_ftrs, diabetes_test_tgt)\n",
    "testbase_preds = testbase.predict(diabetes_test_ftrs)\n",
    "testbase_mse = metrics.mean_squared_error(testbase_preds,\n",
    "                                          diabetes_test_tgt)\n",
    "\n",
    "models = [neighbors.KNeighborsRegressor(n_neighbors=3),\n",
    "          linear_model.LinearRegression()]\n",
    "\n",
    "results = co.defaultdict(dict)\n",
    "for m in models:\n",
    "    preds = (m.fit(diabetes_train_ftrs, diabetes_train_tgt)\n",
    "              .predict(diabetes_test_ftrs))\n",
    "        \n",
    "    mse = metrics.mean_squared_error(preds, diabetes_test_tgt)\n",
    "    r2 = metrics.r2_score(diabetes_test_tgt, preds)\n",
    "    results[get_model_name(m)]['R^2'] = r2\n",
    "    results[get_model_name(m)]['MSE'] = mse\n",
    "    \n",
    "print(testbase_mse)\n",
    "\n",
    "df = pd.DataFrame(results).T\n",
    "df['Norm_MSE'] = df['MSE'] / testbase_mse\n",
    "df['1-R^2'] = 1-df['R^2']\n",
    "display(df)\n"
   ]
  },
  {
   "cell_type": "markdown",
   "id": "98d73482",
   "metadata": {},
   "source": [
    "Therefore, $1 - R^2$ computed by `sklearn` is equivalent to the MSE of our model normalized by the *fit-to-the-test-sample* mean model.  If we *knew* the mean of our test targets, the value tells us how well we would do in comparison to predicting that known mean. "
   ]
  },
  {
   "cell_type": "markdown",
   "id": "111cb29f",
   "metadata": {},
   "source": [
    "### 7.2.3.3 Recommendations on $R^2$"
   ]
  },
  {
   "cell_type": "markdown",
   "id": "b8a54150",
   "metadata": {},
   "source": [
    "There are some reasons to not use $R^2$ unless you are an advanced user and believe you know what you are doing.\n",
    "\n",
    "1.  $R^2$ has a lot of scientific and statistical baggage.  Any statements that include 'ercent' or 'linear' or 'explained' should be viewed with *extreme* skepticism when applied to `sklearn`'s $R^2$.\n",
    "\n",
    "2. There are a number of formulas for $R^2$ `sklearn` uses one of them.  The multiple formulas for $R^2$ are equivalent when using a linear model with an intercept, but there are other scenarios where they are *not* equivalent.\n",
    "\n",
    "3.  $R^2$ has a simple relationship to a very weird thing: a *normalized MSE computed on a test-sample-trained mean model*.  We can avoid the baggabe by going straight to the alternative.\n",
    "\n",
    "Instead of $R^2$ we will use MSE or RMSE.  If we *really* want to normalize the scores, we can compare our regression model with a training-set-trained mean model."
   ]
  },
  {
   "cell_type": "markdown",
   "id": "0f6e138b",
   "metadata": {},
   "source": [
    "# 7.3 Residual Plots\n",
    "\n",
    "Let's step back and look at some graphical techniques for evaluating regressors.  We will develop a regression analog of confusion matrices."
   ]
  },
  {
   "cell_type": "markdown",
   "id": "acbfb7b0",
   "metadata": {},
   "source": [
    "## 7.3.1 Error Plots\n",
    "\n",
    "Let's graph an actual, true target value against a predicted value.  The graphical distance between the two represents our error.  Therefore, if the actual value was 27.5 and we predicted 31.5, we'd plot the point (x = 27.5, y = 31.5) on axes labeled (Reality, Predicted).  Perfect Predictions would be points alon the line $y = x$ because for each output, we'd be predicting exactly that value.  For now, we keep the directions of our errors.  Predicting too high makes a positive error and vice-a-versa.  The second graph will swap the predicted-actual axes.  Therefore, our point will become (x = 31.5, y=27.5): (Predicted, Reality)."
   ]
  },
  {
   "cell_type": "code",
   "execution_count": 141,
   "id": "536879ec",
   "metadata": {},
   "outputs": [
    {
     "data": {
      "text/html": [
       "<div>\n",
       "<style scoped>\n",
       "    .dataframe tbody tr th:only-of-type {\n",
       "        vertical-align: middle;\n",
       "    }\n",
       "\n",
       "    .dataframe tbody tr th {\n",
       "        vertical-align: top;\n",
       "    }\n",
       "\n",
       "    .dataframe thead th {\n",
       "        text-align: right;\n",
       "    }\n",
       "</style>\n",
       "<table border=\"1\" class=\"dataframe\">\n",
       "  <thead>\n",
       "    <tr style=\"text-align: right;\">\n",
       "      <th></th>\n",
       "      <th>predicted</th>\n",
       "      <th>actual</th>\n",
       "    </tr>\n",
       "  </thead>\n",
       "  <tbody>\n",
       "    <tr>\n",
       "      <th>0</th>\n",
       "      <td>4</td>\n",
       "      <td>3</td>\n",
       "    </tr>\n",
       "    <tr>\n",
       "      <th>1</th>\n",
       "      <td>2</td>\n",
       "      <td>5</td>\n",
       "    </tr>\n",
       "    <tr>\n",
       "      <th>2</th>\n",
       "      <td>9</td>\n",
       "      <td>7</td>\n",
       "    </tr>\n",
       "  </tbody>\n",
       "</table>\n",
       "</div>"
      ],
      "text/latex": [
       "{\\centering\n",
       "\\begin{tabular}{lrr}\n",
       "\\toprule\n",
       "{} &  predicted &  actual \\\\\n",
       "\\midrule\n",
       "0 &          4 &       3 \\\\\n",
       "1 &          2 &       5 \\\\\n",
       "2 &          9 &       7 \\\\\n",
       "\\bottomrule\n",
       "\\end{tabular}\n",
       "\n",
       "\\medskip}"
      ],
      "text/plain": [
       "   predicted  actual\n",
       "0          4       3\n",
       "1          2       5\n",
       "2          9       7"
      ]
     },
     "execution_count": 141,
     "metadata": {},
     "output_type": "execute_result"
    }
   ],
   "source": [
    "ape_df = pd.DataFrame({'predicted' : [4, 2, 9],\n",
    "                       'actual'    : [3, 5, 7]})\n",
    "\n",
    "ape_df"
   ]
  },
  {
   "cell_type": "code",
   "execution_count": 142,
   "id": "fd643d14",
   "metadata": {},
   "outputs": [
    {
     "data": {
      "text/html": [
       "<div>\n",
       "<style scoped>\n",
       "    .dataframe tbody tr th:only-of-type {\n",
       "        vertical-align: middle;\n",
       "    }\n",
       "\n",
       "    .dataframe tbody tr th {\n",
       "        vertical-align: top;\n",
       "    }\n",
       "\n",
       "    .dataframe thead th {\n",
       "        text-align: right;\n",
       "    }\n",
       "</style>\n",
       "<table border=\"1\" class=\"dataframe\">\n",
       "  <thead>\n",
       "    <tr style=\"text-align: right;\">\n",
       "      <th></th>\n",
       "      <th>predicted</th>\n",
       "      <th>actual</th>\n",
       "      <th>error</th>\n",
       "    </tr>\n",
       "  </thead>\n",
       "  <tbody>\n",
       "    <tr>\n",
       "      <th>0</th>\n",
       "      <td>4</td>\n",
       "      <td>3</td>\n",
       "      <td>1</td>\n",
       "    </tr>\n",
       "    <tr>\n",
       "      <th>1</th>\n",
       "      <td>2</td>\n",
       "      <td>5</td>\n",
       "      <td>-3</td>\n",
       "    </tr>\n",
       "    <tr>\n",
       "      <th>2</th>\n",
       "      <td>9</td>\n",
       "      <td>7</td>\n",
       "      <td>2</td>\n",
       "    </tr>\n",
       "  </tbody>\n",
       "</table>\n",
       "</div>"
      ],
      "text/latex": [
       "{\\centering\n",
       "\\begin{tabular}{lrrr}\n",
       "\\toprule\n",
       "{} &  predicted &  actual &  error \\\\\n",
       "\\midrule\n",
       "0 &          4 &       3 &      1 \\\\\n",
       "1 &          2 &       5 &     -3 \\\\\n",
       "2 &          9 &       7 &      2 \\\\\n",
       "\\bottomrule\n",
       "\\end{tabular}\n",
       "\n",
       "\\medskip}"
      ],
      "text/plain": [
       "   predicted  actual  error\n",
       "0          4       3      1\n",
       "1          2       5     -3\n",
       "2          9       7      2"
      ]
     },
     "execution_count": 142,
     "metadata": {},
     "output_type": "execute_result"
    }
   ],
   "source": [
    "ape_df['error'] = ape_df['predicted'] - ape_df['actual']\n",
    "                        \n",
    "ape_df"
   ]
  },
  {
   "cell_type": "code",
   "execution_count": 143,
   "id": "9ee1d5db",
   "metadata": {},
   "outputs": [
    {
     "data": {
      "text/html": [
       "<div>\n",
       "<style scoped>\n",
       "    .dataframe tbody tr th:only-of-type {\n",
       "        vertical-align: middle;\n",
       "    }\n",
       "\n",
       "    .dataframe tbody tr th {\n",
       "        vertical-align: top;\n",
       "    }\n",
       "\n",
       "    .dataframe thead th {\n",
       "        text-align: right;\n",
       "    }\n",
       "</style>\n",
       "<table border=\"1\" class=\"dataframe\">\n",
       "  <thead>\n",
       "    <tr style=\"text-align: right;\">\n",
       "      <th></th>\n",
       "      <th>predicted</th>\n",
       "      <th>actual</th>\n",
       "      <th>error</th>\n",
       "    </tr>\n",
       "    <tr>\n",
       "      <th>example</th>\n",
       "      <th></th>\n",
       "      <th></th>\n",
       "      <th></th>\n",
       "    </tr>\n",
       "  </thead>\n",
       "  <tbody>\n",
       "    <tr>\n",
       "      <th>0</th>\n",
       "      <td>4</td>\n",
       "      <td>3</td>\n",
       "      <td>1</td>\n",
       "    </tr>\n",
       "    <tr>\n",
       "      <th>1</th>\n",
       "      <td>2</td>\n",
       "      <td>5</td>\n",
       "      <td>-3</td>\n",
       "    </tr>\n",
       "    <tr>\n",
       "      <th>2</th>\n",
       "      <td>9</td>\n",
       "      <td>7</td>\n",
       "      <td>2</td>\n",
       "    </tr>\n",
       "  </tbody>\n",
       "</table>\n",
       "</div>"
      ],
      "text/latex": [
       "{\\centering\n",
       "\\begin{tabular}{lrrr}\n",
       "\\toprule\n",
       "{} &  predicted &  actual &  error \\\\\n",
       "example &            &         &        \\\\\n",
       "\\midrule\n",
       "0       &          4 &       3 &      1 \\\\\n",
       "1       &          2 &       5 &     -3 \\\\\n",
       "2       &          9 &       7 &      2 \\\\\n",
       "\\bottomrule\n",
       "\\end{tabular}\n",
       "\n",
       "\\medskip}"
      ],
      "text/plain": [
       "         predicted  actual  error\n",
       "example                          \n",
       "0                4       3      1\n",
       "1                2       5     -3\n",
       "2                9       7      2"
      ]
     },
     "execution_count": 143,
     "metadata": {},
     "output_type": "execute_result"
    }
   ],
   "source": [
    "ape_df.index.name = 'example'\n",
    "ape_df"
   ]
  },
  {
   "cell_type": "code",
   "execution_count": 144,
   "id": "3ab4c575",
   "metadata": {},
   "outputs": [
    {
     "data": {
      "image/png": "[encoded data removed]",
      "text/plain": [
       "<Figure size 432x216 with 2 Axes>"
      ]
     },
     "metadata": {
      "needs_background": "light"
     },
     "output_type": "display_data"
    }
   ],
   "source": [
    "def regression_errors(figsize, predicted, actual, errors='all'):\n",
    "    ''' figsize -> subplots;\n",
    "        predicted/actual data -> columns in a DataFrame\n",
    "        errors -> 'all' or sequence of indices \n",
    "    '''\n",
    "    fig, axes = plt.subplots(1, 2, figsize=figsize,\n",
    "                             sharex=True, sharey=True)\n",
    "    df = pd.DataFrame({'actual':actual,\n",
    "                       'predicted': predicted})\n",
    "    \n",
    "    for ax, (x,y) in zip(axes, it.permutations(['actual',\n",
    "                                                'predicted'])):\n",
    "        # plot the data as '.'; perfect as y=x line\n",
    "        ax.plot(df[x], df[y], '.', label='data')\n",
    "        ax.plot(df['actual'], df['actual'], '-',\n",
    "               label='perfection')\n",
    "        ax.legend()\n",
    "        \n",
    "        ax.set_xlabel('{} Value'.format(x.capitalize()))\n",
    "        ax.set_ylabel('{} Value'.format(y.capitalize()))\n",
    "        ax.set_aspect('equal')\n",
    "        \n",
    "    axes[1].yaxis.tick_right()\n",
    "    axes[1].yaxis.set_label_position('right')\n",
    "    \n",
    "    # show connecting bars from data to perfect\n",
    "    # for all or only those specified?\n",
    "    if errors == 'all':\n",
    "        errors = range(len(df))\n",
    "    if errors:\n",
    "        acts = df.actual.iloc[errors]\n",
    "        preds = df.predicted.iloc[errors]\n",
    "        axes[0].vlines(acts, preds, acts, 'r')\n",
    "        axes[1].hlines(acts, preds, acts, 'r')\n",
    "        \n",
    "regression_errors((6, 3), ape_df.predicted, ape_df.actual)"
   ]
  },
  {
   "cell_type": "markdown",
   "id": "7f892b78",
   "metadata": {},
   "source": [
    "The orange line is an omnisicient model, where the predicted value is the true actual value.  The error there si zero.  Flipping the axes results in flipping the dataoints over the line $y = x$.  We can apply this to our diabetes dataset. "
   ]
  },
  {
   "cell_type": "code",
   "execution_count": 145,
   "id": "152cf044",
   "metadata": {},
   "outputs": [
    {
     "data": {
      "image/png": "[encoded data removed]",
      "text/plain": [
       "<Figure size 576x288 with 2 Axes>"
      ]
     },
     "metadata": {
      "needs_background": "light"
     },
     "output_type": "display_data"
    }
   ],
   "source": [
    "lr = linear_model.LinearRegression()\n",
    "preds = (lr.fit(diabetes_train_ftrs, diabetes_train_tgt)\n",
    "           .predict(diabetes_test_ftrs))\n",
    "\n",
    "regression_errors((8, 4), preds, diabetes_test_tgt, errors=[-20])"
   ]
  },
  {
   "cell_type": "markdown",
   "id": "097bdca3",
   "metadata": {},
   "source": [
    "The left-hand graph answers the question \"compared to reality, how did we do?\" The right-hand graph answers, 'for a given prediction, how did we do?'  The difference is similar to that between sensitivity (and specificity) being calcluated with respect to the *reality of sick*, while precision is calculated with respect to a *prediction of sick*.  When the actual value ranges from 200 to 250, we seem to consistently predict low.  When the predicted value is near 200, we have real values ranging from 50 to 300."
   ]
  },
  {
   "cell_type": "markdown",
   "id": "fca4b260",
   "metadata": {},
   "source": [
    "## 7.3.2 Residual Plots"
   ]
  },
  {
   "cell_type": "markdown",
   "id": "64fe8935",
   "metadata": {},
   "source": [
    "We will not talk about *residual plots*.  The error of our predictions can be calculated as follows: $ error = predicted - actual $.  However, for *residual plots* the equation is $ residuals = actual - predicted $.  "
   ]
  },
  {
   "cell_type": "code",
   "execution_count": 146,
   "id": "539b1f8c",
   "metadata": {},
   "outputs": [
    {
     "data": {
      "text/html": [
       "<div>\n",
       "<style scoped>\n",
       "    .dataframe tbody tr th:only-of-type {\n",
       "        vertical-align: middle;\n",
       "    }\n",
       "\n",
       "    .dataframe tbody tr th {\n",
       "        vertical-align: top;\n",
       "    }\n",
       "\n",
       "    .dataframe thead th {\n",
       "        text-align: right;\n",
       "    }\n",
       "</style>\n",
       "<table border=\"1\" class=\"dataframe\">\n",
       "  <thead>\n",
       "    <tr style=\"text-align: right;\">\n",
       "      <th></th>\n",
       "      <th>predicted</th>\n",
       "      <th>actual</th>\n",
       "      <th>error</th>\n",
       "      <th>resid</th>\n",
       "    </tr>\n",
       "    <tr>\n",
       "      <th>example</th>\n",
       "      <th></th>\n",
       "      <th></th>\n",
       "      <th></th>\n",
       "      <th></th>\n",
       "    </tr>\n",
       "  </thead>\n",
       "  <tbody>\n",
       "    <tr>\n",
       "      <th>0</th>\n",
       "      <td>4</td>\n",
       "      <td>3</td>\n",
       "      <td>1</td>\n",
       "      <td>-1</td>\n",
       "    </tr>\n",
       "    <tr>\n",
       "      <th>1</th>\n",
       "      <td>2</td>\n",
       "      <td>5</td>\n",
       "      <td>-3</td>\n",
       "      <td>3</td>\n",
       "    </tr>\n",
       "    <tr>\n",
       "      <th>2</th>\n",
       "      <td>9</td>\n",
       "      <td>7</td>\n",
       "      <td>2</td>\n",
       "      <td>-2</td>\n",
       "    </tr>\n",
       "  </tbody>\n",
       "</table>\n",
       "</div>"
      ],
      "text/latex": [
       "{\\centering\n",
       "\\begin{tabular}{lrrrr}\n",
       "\\toprule\n",
       "{} &  predicted &  actual &  error &  resid \\\\\n",
       "example &            &         &        &        \\\\\n",
       "\\midrule\n",
       "0       &          4 &       3 &      1 &     -1 \\\\\n",
       "1       &          2 &       5 &     -3 &      3 \\\\\n",
       "2       &          9 &       7 &      2 &     -2 \\\\\n",
       "\\bottomrule\n",
       "\\end{tabular}\n",
       "\n",
       "\\medskip}"
      ],
      "text/plain": [
       "         predicted  actual  error  resid\n",
       "example                                 \n",
       "0                4       3      1     -1\n",
       "1                2       5     -3      3\n",
       "2                9       7      2     -2"
      ]
     },
     "metadata": {},
     "output_type": "display_data"
    }
   ],
   "source": [
    "ape_df = pd.DataFrame({'predicted' : [4, 2, 9],\n",
    "                       'actual'    : [3, 5, 7]})\n",
    "ape_df['error'] = ape_df['predicted'] - ape_df['actual']\n",
    "ape_df['resid'] = ape_df['actual'] - ape_df['predicted']\n",
    "ape_df.index.name = 'example'\n",
    "display(ape_df)\n",
    "                       "
   ]
  },
  {
   "cell_type": "markdown",
   "id": "af1e844d",
   "metadata": {},
   "source": [
    "When talking about *errors* we interpret that value as how much we over- or undershot by.  Any error of 2 means our prediction was over by 2.  We can think about it as *what happened*.  With residuals, we think about what adjustment we need to do to *fix up* our prediction.  A residual of -2 means that we need to subtract 2 to get the right answer.\n",
    "\n",
    "With residuals, we are thinking about the adjustment we need to do to *fix up* our prediction.  A residual of -2 means that we need to subtract 2 to get to the right answer.\n",
    "\n",
    "Residual plots are made by graphing the predicted value against the residual for the prediction.  Therefore, we need a slight variation of the right graph above (predicted versus actual) but written in terms of *residuals*, not *errors*.  We will take the residual values, which are the signed distance from predicted back to actual, and graph them against their predicted value.\n",
    "\n",
    "For example, if we predict 31.5 for an example that is actually 27.5, the residual is -4.0.  So we have a point at (*x* = predicted = 31.5, *y* = residual = -4.0).  These can be thought of as *what's left over after we make a prediction*.  What's left over is sometimes called a *residue.* \n",
    "\n",
    "We are making two graphs: (1) actual against predicted and (2) predicted against residual.\n",
    "\n"
   ]
  },
  {
   "cell_type": "code",
   "execution_count": 164,
   "id": "5da9399a",
   "metadata": {},
   "outputs": [
    {
     "data": {
      "image/png": "[encoded data removed]",
      "text/plain": [
       "<Figure size 576x288 with 2 Axes>"
      ]
     },
     "metadata": {
      "needs_background": "light"
     },
     "output_type": "display_data"
    }
   ],
   "source": [
    "def regression_residuals(ax, predicted, actual,\n",
    "                         show_errors=None, right=False):\n",
    "    ''' figsize -> subplots;\n",
    "        predicted/actual data -> columns of a DataFrame\n",
    "        errors -> 'all' or sequence of indices\n",
    "    '''\n",
    "    df = pd.DataFrame({'actual':actual,\n",
    "                       'predicted':predicted})\n",
    "    df['error'] = df.actual - df.predicted\n",
    "    ax.plot(df.predicted, df.error, '.')\n",
    "    ax.plot(df.predicted, np.zeros_like(predicted), '-')\n",
    "    \n",
    "    if right:\n",
    "        ax.yaxis.tick_right()\n",
    "        ax.yaxis.set_label_position('right')\n",
    "        ax.set_xlabel('Predicted Value')\n",
    "        ax.set_ylabel('Residual')\n",
    "        \n",
    "    if show_errors == 'all':\n",
    "        show_errors = range(len(df))\n",
    "    if show_errors:\n",
    "        preds = df.predicted.iloc[show_errors]\n",
    "        errors = df.error.iloc[show_errors]\n",
    "        ax.vlines(preds, 0, errors, 'r')\n",
    "        \n",
    "fig, (ax1, ax2) = plt.subplots(1, 2, figsize=(8, 4))\n",
    "ax1.plot(ape_df.predicted, ape_df.actual, 'r.', # pred vs actual\n",
    "         [0, 10], [0, 10], 'b-')              \n",
    "ax1.set_xlabel('Predicted')\n",
    "ax1.set_ylabel('Actual')\n",
    "regression_residuals(ax2, ape_df.predicted, ape_df.actual,\n",
    "                    'all', right=True)"
   ]
  },
  {
   "cell_type": "code",
   "execution_count": 163,
   "id": "d021a80e",
   "metadata": {},
   "outputs": [
    {
     "ename": "AttributeError",
     "evalue": "'numpy.ndarray' object has no attribute 'plot'",
     "output_type": "error",
     "traceback": [
      "\u001b[1;31m-----------------------------------------------------------------------\u001b[0m",
      "\u001b[1;31mAttributeError\u001b[0m                        Traceback (most recent call last)",
      "\u001b[1;32m<ipython-input-163-c5078dced31e>\u001b[0m in \u001b[0;36m<module>\u001b[1;34m\u001b[0m\n\u001b[1;32m----> 1\u001b[1;33m \u001b[0mregression_residuals\u001b[0m\u001b[1;33m(\u001b[0m\u001b[0max\u001b[0m\u001b[1;33m,\u001b[0m \u001b[0mpreds\u001b[0m\u001b[1;33m,\u001b[0m \u001b[0mdiabetes_test_tgt\u001b[0m\u001b[1;33m,\u001b[0m \u001b[1;33m[\u001b[0m\u001b[1;36m0\u001b[0m\u001b[1;33m,\u001b[0m\u001b[1;36m10\u001b[0m\u001b[1;33m,\u001b[0m\u001b[1;36m20\u001b[0m\u001b[1;33m,\u001b[0m\u001b[1;36m30\u001b[0m\u001b[1;33m,\u001b[0m\u001b[1;36m35\u001b[0m\u001b[1;33m,\u001b[0m\u001b[1;36m36\u001b[0m\u001b[1;33m]\u001b[0m\u001b[1;33m,\u001b[0m \u001b[0mon_right\u001b[0m\u001b[1;33m)\u001b[0m\u001b[1;33m\u001b[0m\u001b[1;33m\u001b[0m\u001b[0m\n\u001b[0m",
      "\u001b[1;32m<ipython-input-162-38c4f8cc1b4d>\u001b[0m in \u001b[0;36mregression_residuals\u001b[1;34m(ax, predicted, actual, show_errors, right)\u001b[0m\n\u001b[0;32m      8\u001b[0m                        'predicted':predicted})\n\u001b[0;32m      9\u001b[0m     \u001b[0mdf\u001b[0m\u001b[1;33m[\u001b[0m\u001b[1;34m'error'\u001b[0m\u001b[1;33m]\u001b[0m \u001b[1;33m=\u001b[0m \u001b[0mdf\u001b[0m\u001b[1;33m.\u001b[0m\u001b[0mactual\u001b[0m \u001b[1;33m-\u001b[0m \u001b[0mdf\u001b[0m\u001b[1;33m.\u001b[0m\u001b[0mpredicted\u001b[0m\u001b[1;33m\u001b[0m\u001b[1;33m\u001b[0m\u001b[0m\n\u001b[1;32m---> 10\u001b[1;33m     \u001b[0max\u001b[0m\u001b[1;33m.\u001b[0m\u001b[0mplot\u001b[0m\u001b[1;33m(\u001b[0m\u001b[0mdf\u001b[0m\u001b[1;33m.\u001b[0m\u001b[0mpredicted\u001b[0m\u001b[1;33m,\u001b[0m \u001b[0mdf\u001b[0m\u001b[1;33m.\u001b[0m\u001b[0merror\u001b[0m\u001b[1;33m,\u001b[0m \u001b[1;34m'.'\u001b[0m\u001b[1;33m)\u001b[0m\u001b[1;33m\u001b[0m\u001b[1;33m\u001b[0m\u001b[0m\n\u001b[0m\u001b[0;32m     11\u001b[0m     \u001b[0max\u001b[0m\u001b[1;33m.\u001b[0m\u001b[0mplot\u001b[0m\u001b[1;33m(\u001b[0m\u001b[0mdf\u001b[0m\u001b[1;33m.\u001b[0m\u001b[0mpredicted\u001b[0m\u001b[1;33m,\u001b[0m \u001b[0mnp\u001b[0m\u001b[1;33m.\u001b[0m\u001b[0mzeros_like\u001b[0m\u001b[1;33m(\u001b[0m\u001b[0mpredicted\u001b[0m\u001b[1;33m)\u001b[0m\u001b[1;33m,\u001b[0m \u001b[1;34m'-'\u001b[0m\u001b[1;33m)\u001b[0m\u001b[1;33m\u001b[0m\u001b[1;33m\u001b[0m\u001b[0m\n\u001b[0;32m     12\u001b[0m \u001b[1;33m\u001b[0m\u001b[0m\n",
      "\u001b[1;31mAttributeError\u001b[0m: 'numpy.ndarray' object has no attribute 'plot'"
     ]
    }
   ],
   "source": [
    "regression_residuals(ax, preds, diabetes_test_tgt, [0,10,20,30,35,36], on_right)"
   ]
  },
  {
   "cell_type": "markdown",
   "id": "fc507a13",
   "metadata": {},
   "source": [
    "Now, we can compare two different learners based on their residual plots.   We can use a proper train-test split, so these residuals are called *predictive residuals*.  In a traditional stats class, the plain vanilla residuals are computed from the training set (sometimes called *in sample*).  That's not our normal method for evaluation: we prefer to evaluate against a test set.  "
   ]
  },
  {
   "cell_type": "code",
   "execution_count": 148,
   "id": "c9dbc493",
   "metadata": {},
   "outputs": [
    {
     "data": {
      "image/png": "[encoded data removed]",
      "text/plain": [
       "<Figure size 720x360 with 2 Axes>"
      ]
     },
     "metadata": {
      "needs_background": "light"
     },
     "output_type": "display_data"
    }
   ],
   "source": [
    "lr = linear_model.LinearRegression()\n",
    "knn = neighbors.KNeighborsRegressor()\n",
    "\n",
    "models = [lr, knn]\n",
    "fig, axes = plt.subplots(1, 2, figsize=(10, 5),\n",
    "                         sharex=True, sharey=True)\n",
    "fig.tight_layout()\n",
    "\n",
    "for model, ax, on_right in zip(models, axes, [False, True]):\n",
    "    preds = (model.fit(diabetes_train_ftrs, diabetes_train_tgt)\n",
    "                  .predict(diabetes_test_ftrs))\n",
    "    \n",
    "    regression_residuals(ax, preds, diabetes_test_tgt, [0,10,20,30,35,36], on_right)\n",
    "    \n",
    "axes[0].set_title('Linear Regression Residuals')\n",
    "axes[1].set_title('k-NN-Regressor Residuals');"
   ]
  },
  {
   "cell_type": "markdown",
   "id": "5ab140a5",
   "metadata": {},
   "source": [
    "Since the two models predict different values for our point of interest, it shows up at different spots on the horizontal *x* axis.  With linear regression, the value is predicted a hint under 250.  With the *k*-NN-R model, the value is predicted to be a bit above 250.  In both cases, it is underpredicted.  Remeber, residuals tell us how to fix up the prediction.  We need to ADD a bit to these predictions).  Teh actual value is:"
   ]
  },
  {
   "cell_type": "code",
   "execution_count": 149,
   "id": "69d269cd",
   "metadata": {},
   "outputs": [
    {
     "name": "stdout",
     "output_type": "stream",
     "text": [
      "280.0\n"
     ]
    }
   ],
   "source": [
    "print(diabetes_test_tgt[-20])"
   ]
  },
  {
   "cell_type": "code",
   "execution_count": 150,
   "id": "0cda23a7",
   "metadata": {},
   "outputs": [
    {
     "data": {
      "text/plain": [
       "array([219.,  70., 202., 230., 111.,  84., 242., 272.,  94.,  96.,  94.,\n",
       "       252.,  99., 297., 135.,  67., 295., 264., 170., 275., 310.,  64.,\n",
       "       128., 232., 129., 118., 263.,  77.,  48., 107., 140., 113.,  90.,\n",
       "       164., 180., 233.,  42.,  84., 172.,  63.,  48., 108., 156., 168.,\n",
       "        90.,  52., 200.,  87.,  90., 258., 136., 158.,  69.,  72., 171.,\n",
       "        95.,  72., 151., 168.,  60., 122.,  52., 187., 102., 214., 248.,\n",
       "       181., 110., 140., 202., 101., 222., 281.,  61.,  89.,  91., 186.,\n",
       "       220., 237., 233.,  68., 190.,  96.,  72., 153.,  98.,  37.,  63.,\n",
       "       184., 144., 150., 280., 125.,  59.,  65., 281., 277., 167.,  90.,\n",
       "        72., 178.,  88., 270., 101., 197.,  97.,  53.,  71., 262.,  52.,\n",
       "       102.])"
      ]
     },
     "execution_count": 150,
     "metadata": {},
     "output_type": "execute_result"
    }
   ],
   "source": [
    "diabetes_test_tgt"
   ]
  },
  {
   "cell_type": "markdown",
   "id": "a7b439f2",
   "metadata": {},
   "source": [
    "If either model predicted 280, the residual would be zero.  In classicial stats, when looking at the residual plots, you are trying to diagnose if the assumptions of linear regression are violated.  However, here we use linear regression as a black box prediction method.  therefore, we are concerned about trends among the residual s with respect to the predicted values.  Potential trends are what these graphs give us a chance to evaluate.  At the low end of the predicted values for the linear regression model, we have pretty consistent **negative error** (*positive residual*).  This means that when we predict a small value, we are undershooting.  We also see undershooting in the predicted values around 200 to 250.  \n",
    "\n",
    "For *k*-NN-R, there is a wider spread among the negative errors, while the positive errors are more clumped around the zero error line.  "
   ]
  },
  {
   "cell_type": "markdown",
   "id": "66fa784b",
   "metadata": {},
   "source": [
    "# 7.4 A First Look at Standardization\n",
    "\n",
    "Broadly, when normalzing, we take different measurements and put them directly on comparable footing.  This often involves two steps: (1) adjusting the center of the data and (2) adjusting the scale of the data.\n",
    "\n",
    "Some learning methods *require* normalization before we can reasonably press 'Go!'.  Second we are using a common form of normalization called *standardization*.  When we *standardize* our data, we do two things: (1) we *center* the data around zero and (2) we scale the data so it has a standard deviation of 1.  To acommplish this we do two things (1) subtract the mean and (2) divide by the standard deviation.  \n",
    "\n",
    "The standard deviation is a close friend of variance.  We get standard deviation by taking the square root of variance.  "
   ]
  },
  {
   "cell_type": "code",
   "execution_count": 151,
   "id": "7fc5f885",
   "metadata": {},
   "outputs": [
    {
     "data": {
      "text/html": [
       "<div>\n",
       "<style scoped>\n",
       "    .dataframe tbody tr th:only-of-type {\n",
       "        vertical-align: middle;\n",
       "    }\n",
       "\n",
       "    .dataframe tbody tr th {\n",
       "        vertical-align: top;\n",
       "    }\n",
       "\n",
       "    .dataframe thead th {\n",
       "        text-align: right;\n",
       "    }\n",
       "</style>\n",
       "<table border=\"1\" class=\"dataframe\">\n",
       "  <thead>\n",
       "    <tr style=\"text-align: right;\">\n",
       "      <th></th>\n",
       "      <th>x</th>\n",
       "      <th>std-ized</th>\n",
       "    </tr>\n",
       "  </thead>\n",
       "  <tbody>\n",
       "    <tr>\n",
       "      <th>mean</th>\n",
       "      <td>2.5000</td>\n",
       "      <td>0.0000</td>\n",
       "    </tr>\n",
       "    <tr>\n",
       "      <th>std</th>\n",
       "      <td>4.6706</td>\n",
       "      <td>1.0000</td>\n",
       "    </tr>\n",
       "  </tbody>\n",
       "</table>\n",
       "</div>"
      ],
      "text/latex": [
       "{\\centering\n",
       "\\begin{tabular}{lrr}\n",
       "\\toprule\n",
       "{} &                    x &             std-ized \\\\\n",
       "\\midrule\n",
       "mean &               2.5000 &               0.0000 \\\\\n",
       "std  &               4.6706 &               1.0000 \\\\\n",
       "\\bottomrule\n",
       "\\end{tabular}\n",
       "\n",
       "\\medskip}"
      ],
      "text/plain": [
       "                        x             std-ized\n",
       "mean               2.5000               0.0000\n",
       "std                4.6706               1.0000"
      ]
     },
     "metadata": {},
     "output_type": "display_data"
    },
    {
     "data": {
      "image/png": "[encoded data removed]",
      "text/plain": [
       "<Figure size 216x216 with 1 Axes>"
      ]
     },
     "metadata": {
      "needs_background": "light"
     },
     "output_type": "display_data"
    }
   ],
   "source": [
    "# 1D standardization\n",
    "# place evenly spaced values in a dataframe\n",
    "xs = np.linspace(-5, 10, 20)\n",
    "df = pd.DataFrame(xs, columns=['x'])\n",
    "\n",
    "# center ( - mean) and scale (/ std)\n",
    "df['std-ized'] = (df.x - df.x.mean()) / df.x.std()\n",
    "\n",
    "# show original and new data; compute statistics\n",
    "fig, ax = plt.subplots(1, 1, figsize=(3, 3))\n",
    "sns.stripplot(data=df)\n",
    "display(df.describe().loc[['mean', 'std']])\n"
   ]
  },
  {
   "cell_type": "markdown",
   "id": "7b2edbae",
   "metadata": {},
   "source": [
    "That's all well and good, things get far more interesting in two dimensions:"
   ]
  },
  {
   "cell_type": "code",
   "execution_count": 152,
   "id": "b50e2421",
   "metadata": {},
   "outputs": [
    {
     "name": "stdout",
     "output_type": "stream",
     "text": [
      "[-5.     -4.2105 -3.4211 -2.6316 -1.8421 -1.0526 -0.2632  0.5263  1.3158\n",
      "  2.1053  2.8947  3.6842  4.4737  5.2632  6.0526  6.8421  7.6316  8.4211\n",
      "  9.2105 10.    ]\n",
      "[ 9.043  22.5423 30.5935 30.2829 18.002  24.4295 39.8169 28.6401 41.5708\n",
      " 44.8184 40.5933 40.7796 44.4235 42.3288 57.9457 51.5387 62.5439 49.377\n",
      " 69.3971 60.8655]\n"
     ]
    }
   ],
   "source": [
    "# 2 1d standardizations\n",
    "xs = np.linspace(-5, 10, 20)\n",
    "ys = 3*xs + 2 + np.random.uniform(20, 40, 20)\n",
    "print(xs)\n",
    "print(ys)"
   ]
  },
  {
   "cell_type": "code",
   "execution_count": 153,
   "id": "4e26c01a",
   "metadata": {},
   "outputs": [
    {
     "data": {
      "text/html": [
       "<div>\n",
       "<style scoped>\n",
       "    .dataframe tbody tr th:only-of-type {\n",
       "        vertical-align: middle;\n",
       "    }\n",
       "\n",
       "    .dataframe tbody tr th {\n",
       "        vertical-align: top;\n",
       "    }\n",
       "\n",
       "    .dataframe thead th {\n",
       "        text-align: right;\n",
       "    }\n",
       "</style>\n",
       "<table border=\"1\" class=\"dataframe\">\n",
       "  <thead>\n",
       "    <tr style=\"text-align: right;\">\n",
       "      <th></th>\n",
       "      <th>x</th>\n",
       "      <th>y</th>\n",
       "    </tr>\n",
       "  </thead>\n",
       "  <tbody>\n",
       "    <tr>\n",
       "      <th>0</th>\n",
       "      <td>-5.0000</td>\n",
       "      <td>9.0430</td>\n",
       "    </tr>\n",
       "    <tr>\n",
       "      <th>1</th>\n",
       "      <td>-4.2105</td>\n",
       "      <td>22.5423</td>\n",
       "    </tr>\n",
       "    <tr>\n",
       "      <th>2</th>\n",
       "      <td>-3.4211</td>\n",
       "      <td>30.5935</td>\n",
       "    </tr>\n",
       "    <tr>\n",
       "      <th>3</th>\n",
       "      <td>-2.6316</td>\n",
       "      <td>30.2829</td>\n",
       "    </tr>\n",
       "    <tr>\n",
       "      <th>4</th>\n",
       "      <td>-1.8421</td>\n",
       "      <td>18.0020</td>\n",
       "    </tr>\n",
       "    <tr>\n",
       "      <th>5</th>\n",
       "      <td>-1.0526</td>\n",
       "      <td>24.4295</td>\n",
       "    </tr>\n",
       "    <tr>\n",
       "      <th>6</th>\n",
       "      <td>-0.2632</td>\n",
       "      <td>39.8169</td>\n",
       "    </tr>\n",
       "    <tr>\n",
       "      <th>7</th>\n",
       "      <td>0.5263</td>\n",
       "      <td>28.6401</td>\n",
       "    </tr>\n",
       "    <tr>\n",
       "      <th>8</th>\n",
       "      <td>1.3158</td>\n",
       "      <td>41.5708</td>\n",
       "    </tr>\n",
       "    <tr>\n",
       "      <th>9</th>\n",
       "      <td>2.1053</td>\n",
       "      <td>44.8184</td>\n",
       "    </tr>\n",
       "    <tr>\n",
       "      <th>10</th>\n",
       "      <td>2.8947</td>\n",
       "      <td>40.5933</td>\n",
       "    </tr>\n",
       "    <tr>\n",
       "      <th>11</th>\n",
       "      <td>3.6842</td>\n",
       "      <td>40.7796</td>\n",
       "    </tr>\n",
       "    <tr>\n",
       "      <th>12</th>\n",
       "      <td>4.4737</td>\n",
       "      <td>44.4235</td>\n",
       "    </tr>\n",
       "    <tr>\n",
       "      <th>13</th>\n",
       "      <td>5.2632</td>\n",
       "      <td>42.3288</td>\n",
       "    </tr>\n",
       "    <tr>\n",
       "      <th>14</th>\n",
       "      <td>6.0526</td>\n",
       "      <td>57.9457</td>\n",
       "    </tr>\n",
       "    <tr>\n",
       "      <th>15</th>\n",
       "      <td>6.8421</td>\n",
       "      <td>51.5387</td>\n",
       "    </tr>\n",
       "    <tr>\n",
       "      <th>16</th>\n",
       "      <td>7.6316</td>\n",
       "      <td>62.5439</td>\n",
       "    </tr>\n",
       "    <tr>\n",
       "      <th>17</th>\n",
       "      <td>8.4211</td>\n",
       "      <td>49.3770</td>\n",
       "    </tr>\n",
       "    <tr>\n",
       "      <th>18</th>\n",
       "      <td>9.2105</td>\n",
       "      <td>69.3971</td>\n",
       "    </tr>\n",
       "    <tr>\n",
       "      <th>19</th>\n",
       "      <td>10.0000</td>\n",
       "      <td>60.8655</td>\n",
       "    </tr>\n",
       "  </tbody>\n",
       "</table>\n",
       "</div>"
      ],
      "text/latex": [
       "{\\centering\n",
       "\\begin{tabular}{lrr}\n",
       "\\toprule\n",
       "{} &                    x &                    y \\\\\n",
       "\\midrule\n",
       "0  &              -5.0000 &               9.0430 \\\\\n",
       "1  &              -4.2105 &              22.5423 \\\\\n",
       "2  &              -3.4211 &              30.5935 \\\\\n",
       "3  &              -2.6316 &              30.2829 \\\\\n",
       "4  &              -1.8421 &              18.0020 \\\\\n",
       "5  &              -1.0526 &              24.4295 \\\\\n",
       "6  &              -0.2632 &              39.8169 \\\\\n",
       "7  &               0.5263 &              28.6401 \\\\\n",
       "8  &               1.3158 &              41.5708 \\\\\n",
       "9  &               2.1053 &              44.8184 \\\\\n",
       "10 &               2.8947 &              40.5933 \\\\\n",
       "11 &               3.6842 &              40.7796 \\\\\n",
       "12 &               4.4737 &              44.4235 \\\\\n",
       "13 &               5.2632 &              42.3288 \\\\\n",
       "14 &               6.0526 &              57.9457 \\\\\n",
       "15 &               6.8421 &              51.5387 \\\\\n",
       "16 &               7.6316 &              62.5439 \\\\\n",
       "17 &               8.4211 &              49.3770 \\\\\n",
       "18 &               9.2105 &              69.3971 \\\\\n",
       "19 &              10.0000 &              60.8655 \\\\\n",
       "\\bottomrule\n",
       "\\end{tabular}\n",
       "\n",
       "\\medskip}"
      ],
      "text/plain": [
       "                      x                    y\n",
       "0               -5.0000               9.0430\n",
       "1               -4.2105              22.5423\n",
       "2               -3.4211              30.5935\n",
       "3               -2.6316              30.2829\n",
       "4               -1.8421              18.0020\n",
       "5               -1.0526              24.4295\n",
       "6               -0.2632              39.8169\n",
       "7                0.5263              28.6401\n",
       "8                1.3158              41.5708\n",
       "9                2.1053              44.8184\n",
       "10               2.8947              40.5933\n",
       "11               3.6842              40.7796\n",
       "12               4.4737              44.4235\n",
       "13               5.2632              42.3288\n",
       "14               6.0526              57.9457\n",
       "15               6.8421              51.5387\n",
       "16               7.6316              62.5439\n",
       "17               8.4211              49.3770\n",
       "18               9.2105              69.3971\n",
       "19              10.0000              60.8655"
      ]
     },
     "execution_count": 153,
     "metadata": {},
     "output_type": "execute_result"
    }
   ],
   "source": [
    "df = pd.DataFrame({'x':xs, 'y':ys})\n",
    "df"
   ]
  },
  {
   "cell_type": "code",
   "execution_count": 154,
   "id": "bfc46549",
   "metadata": {},
   "outputs": [
    {
     "data": {
      "text/html": [
       "<div>\n",
       "<style scoped>\n",
       "    .dataframe tbody tr th:only-of-type {\n",
       "        vertical-align: middle;\n",
       "    }\n",
       "\n",
       "    .dataframe tbody tr th {\n",
       "        vertical-align: top;\n",
       "    }\n",
       "\n",
       "    .dataframe thead th {\n",
       "        text-align: right;\n",
       "    }\n",
       "</style>\n",
       "<table border=\"1\" class=\"dataframe\">\n",
       "  <thead>\n",
       "    <tr style=\"text-align: right;\">\n",
       "      <th></th>\n",
       "      <th>x</th>\n",
       "      <th>y</th>\n",
       "    </tr>\n",
       "  </thead>\n",
       "  <tbody>\n",
       "    <tr>\n",
       "      <th>0</th>\n",
       "      <td>-1.6058</td>\n",
       "      <td>-1.9987</td>\n",
       "    </tr>\n",
       "    <tr>\n",
       "      <th>1</th>\n",
       "      <td>-1.4368</td>\n",
       "      <td>-1.1404</td>\n",
       "    </tr>\n",
       "    <tr>\n",
       "      <th>2</th>\n",
       "      <td>-1.2677</td>\n",
       "      <td>-0.6284</td>\n",
       "    </tr>\n",
       "    <tr>\n",
       "      <th>3</th>\n",
       "      <td>-1.0987</td>\n",
       "      <td>-0.6482</td>\n",
       "    </tr>\n",
       "    <tr>\n",
       "      <th>4</th>\n",
       "      <td>-0.9297</td>\n",
       "      <td>-1.4290</td>\n",
       "    </tr>\n",
       "    <tr>\n",
       "      <th>5</th>\n",
       "      <td>-0.7606</td>\n",
       "      <td>-1.0204</td>\n",
       "    </tr>\n",
       "    <tr>\n",
       "      <th>6</th>\n",
       "      <td>-0.5916</td>\n",
       "      <td>-0.0419</td>\n",
       "    </tr>\n",
       "    <tr>\n",
       "      <th>7</th>\n",
       "      <td>-0.4226</td>\n",
       "      <td>-0.7526</td>\n",
       "    </tr>\n",
       "    <tr>\n",
       "      <th>8</th>\n",
       "      <td>-0.2535</td>\n",
       "      <td>0.0696</td>\n",
       "    </tr>\n",
       "    <tr>\n",
       "      <th>9</th>\n",
       "      <td>-0.0845</td>\n",
       "      <td>0.2761</td>\n",
       "    </tr>\n",
       "    <tr>\n",
       "      <th>10</th>\n",
       "      <td>0.0845</td>\n",
       "      <td>0.0074</td>\n",
       "    </tr>\n",
       "    <tr>\n",
       "      <th>11</th>\n",
       "      <td>0.2535</td>\n",
       "      <td>0.0193</td>\n",
       "    </tr>\n",
       "    <tr>\n",
       "      <th>12</th>\n",
       "      <td>0.4226</td>\n",
       "      <td>0.2510</td>\n",
       "    </tr>\n",
       "    <tr>\n",
       "      <th>13</th>\n",
       "      <td>0.5916</td>\n",
       "      <td>0.1178</td>\n",
       "    </tr>\n",
       "    <tr>\n",
       "      <th>14</th>\n",
       "      <td>0.7606</td>\n",
       "      <td>1.1108</td>\n",
       "    </tr>\n",
       "    <tr>\n",
       "      <th>15</th>\n",
       "      <td>0.9297</td>\n",
       "      <td>0.7034</td>\n",
       "    </tr>\n",
       "    <tr>\n",
       "      <th>16</th>\n",
       "      <td>1.0987</td>\n",
       "      <td>1.4031</td>\n",
       "    </tr>\n",
       "    <tr>\n",
       "      <th>17</th>\n",
       "      <td>1.2677</td>\n",
       "      <td>0.5659</td>\n",
       "    </tr>\n",
       "    <tr>\n",
       "      <th>18</th>\n",
       "      <td>1.4368</td>\n",
       "      <td>1.8389</td>\n",
       "    </tr>\n",
       "    <tr>\n",
       "      <th>19</th>\n",
       "      <td>1.6058</td>\n",
       "      <td>1.2964</td>\n",
       "    </tr>\n",
       "  </tbody>\n",
       "</table>\n",
       "</div>"
      ],
      "text/latex": [
       "{\\centering\n",
       "\\begin{tabular}{lrr}\n",
       "\\toprule\n",
       "{} &                    x &                    y \\\\\n",
       "\\midrule\n",
       "0  &              -1.6058 &              -1.9987 \\\\\n",
       "1  &              -1.4368 &              -1.1404 \\\\\n",
       "2  &              -1.2677 &              -0.6284 \\\\\n",
       "3  &              -1.0987 &              -0.6482 \\\\\n",
       "4  &              -0.9297 &              -1.4290 \\\\\n",
       "5  &              -0.7606 &              -1.0204 \\\\\n",
       "6  &              -0.5916 &              -0.0419 \\\\\n",
       "7  &              -0.4226 &              -0.7526 \\\\\n",
       "8  &              -0.2535 &               0.0696 \\\\\n",
       "9  &              -0.0845 &               0.2761 \\\\\n",
       "10 &               0.0845 &               0.0074 \\\\\n",
       "11 &               0.2535 &               0.0193 \\\\\n",
       "12 &               0.4226 &               0.2510 \\\\\n",
       "13 &               0.5916 &               0.1178 \\\\\n",
       "14 &               0.7606 &               1.1108 \\\\\n",
       "15 &               0.9297 &               0.7034 \\\\\n",
       "16 &               1.0987 &               1.4031 \\\\\n",
       "17 &               1.2677 &               0.5659 \\\\\n",
       "18 &               1.4368 &               1.8389 \\\\\n",
       "19 &               1.6058 &               1.2964 \\\\\n",
       "\\bottomrule\n",
       "\\end{tabular}\n",
       "\n",
       "\\medskip}"
      ],
      "text/plain": [
       "                      x                    y\n",
       "0               -1.6058              -1.9987\n",
       "1               -1.4368              -1.1404\n",
       "2               -1.2677              -0.6284\n",
       "3               -1.0987              -0.6482\n",
       "4               -0.9297              -1.4290\n",
       "5               -0.7606              -1.0204\n",
       "6               -0.5916              -0.0419\n",
       "7               -0.4226              -0.7526\n",
       "8               -0.2535               0.0696\n",
       "9               -0.0845               0.2761\n",
       "10               0.0845               0.0074\n",
       "11               0.2535               0.0193\n",
       "12               0.4226               0.2510\n",
       "13               0.5916               0.1178\n",
       "14               0.7606               1.1108\n",
       "15               0.9297               0.7034\n",
       "16               1.0987               1.4031\n",
       "17               1.2677               0.5659\n",
       "18               1.4368               1.8389\n",
       "19               1.6058               1.2964"
      ]
     },
     "execution_count": 154,
     "metadata": {},
     "output_type": "execute_result"
    }
   ],
   "source": [
    "df_std_ized = (df - df.mean()) / df.std()\n",
    "df_std_ized"
   ]
  },
  {
   "cell_type": "code",
   "execution_count": 155,
   "id": "54a5420e",
   "metadata": {},
   "outputs": [
    {
     "data": {
      "text/html": [
       "<div>\n",
       "<style scoped>\n",
       "    .dataframe tbody tr th:only-of-type {\n",
       "        vertical-align: middle;\n",
       "    }\n",
       "\n",
       "    .dataframe tbody tr th {\n",
       "        vertical-align: top;\n",
       "    }\n",
       "\n",
       "    .dataframe thead th {\n",
       "        text-align: right;\n",
       "    }\n",
       "</style>\n",
       "<table border=\"1\" class=\"dataframe\">\n",
       "  <thead>\n",
       "    <tr style=\"text-align: right;\">\n",
       "      <th></th>\n",
       "      <th>x</th>\n",
       "      <th>y</th>\n",
       "    </tr>\n",
       "  </thead>\n",
       "  <tbody>\n",
       "    <tr>\n",
       "      <th>count</th>\n",
       "      <td>20.0000</td>\n",
       "      <td>20.0000</td>\n",
       "    </tr>\n",
       "    <tr>\n",
       "      <th>mean</th>\n",
       "      <td>0.0000</td>\n",
       "      <td>0.0000</td>\n",
       "    </tr>\n",
       "    <tr>\n",
       "      <th>std</th>\n",
       "      <td>1.0000</td>\n",
       "      <td>1.0000</td>\n",
       "    </tr>\n",
       "    <tr>\n",
       "      <th>min</th>\n",
       "      <td>-1.6058</td>\n",
       "      <td>-1.9987</td>\n",
       "    </tr>\n",
       "    <tr>\n",
       "      <th>25%</th>\n",
       "      <td>-0.8029</td>\n",
       "      <td>-0.6743</td>\n",
       "    </tr>\n",
       "    <tr>\n",
       "      <th>50%</th>\n",
       "      <td>0.0000</td>\n",
       "      <td>0.0444</td>\n",
       "    </tr>\n",
       "    <tr>\n",
       "      <th>75%</th>\n",
       "      <td>0.8029</td>\n",
       "      <td>0.6003</td>\n",
       "    </tr>\n",
       "    <tr>\n",
       "      <th>max</th>\n",
       "      <td>1.6058</td>\n",
       "      <td>1.8389</td>\n",
       "    </tr>\n",
       "  </tbody>\n",
       "</table>\n",
       "</div>"
      ],
      "text/latex": [
       "{\\centering\n",
       "\\begin{tabular}{lrr}\n",
       "\\toprule\n",
       "{} &                    x &                    y \\\\\n",
       "\\midrule\n",
       "count &              20.0000 &              20.0000 \\\\\n",
       "mean  &               0.0000 &               0.0000 \\\\\n",
       "std   &               1.0000 &               1.0000 \\\\\n",
       "min   &              -1.6058 &              -1.9987 \\\\\n",
       "25\\%   &              -0.8029 &              -0.6743 \\\\\n",
       "50\\%   &               0.0000 &               0.0444 \\\\\n",
       "75\\%   &               0.8029 &               0.6003 \\\\\n",
       "max   &               1.6058 &               1.8389 \\\\\n",
       "\\bottomrule\n",
       "\\end{tabular}\n",
       "\n",
       "\\medskip}"
      ],
      "text/plain": [
       "                         x                    y\n",
       "count              20.0000              20.0000\n",
       "mean                0.0000               0.0000\n",
       "std                 1.0000               1.0000\n",
       "min                -1.6058              -1.9987\n",
       "25%                -0.8029              -0.6743\n",
       "50%                 0.0000               0.0444\n",
       "75%                 0.8029               0.6003\n",
       "max                 1.6058               1.8389"
      ]
     },
     "execution_count": 155,
     "metadata": {},
     "output_type": "execute_result"
    }
   ],
   "source": [
    "df_std_ized.describe()"
   ]
  },
  {
   "cell_type": "code",
   "execution_count": 156,
   "id": "f76285ff",
   "metadata": {},
   "outputs": [
    {
     "data": {
      "text/html": [
       "<div>\n",
       "<style scoped>\n",
       "    .dataframe tbody tr th:only-of-type {\n",
       "        vertical-align: middle;\n",
       "    }\n",
       "\n",
       "    .dataframe tbody tr th {\n",
       "        vertical-align: top;\n",
       "    }\n",
       "\n",
       "    .dataframe thead th {\n",
       "        text-align: right;\n",
       "    }\n",
       "</style>\n",
       "<table border=\"1\" class=\"dataframe\">\n",
       "  <thead>\n",
       "    <tr style=\"text-align: right;\">\n",
       "      <th></th>\n",
       "      <th>x</th>\n",
       "      <th>y</th>\n",
       "    </tr>\n",
       "  </thead>\n",
       "  <tbody>\n",
       "    <tr>\n",
       "      <th>mean</th>\n",
       "      <td>0.0000</td>\n",
       "      <td>0.0000</td>\n",
       "    </tr>\n",
       "    <tr>\n",
       "      <th>std</th>\n",
       "      <td>1.0000</td>\n",
       "      <td>1.0000</td>\n",
       "    </tr>\n",
       "  </tbody>\n",
       "</table>\n",
       "</div>"
      ],
      "text/latex": [
       "{\\centering\n",
       "\\begin{tabular}{lrr}\n",
       "\\toprule\n",
       "{} &                    x &                    y \\\\\n",
       "\\midrule\n",
       "mean &               0.0000 &               0.0000 \\\\\n",
       "std  &               1.0000 &               1.0000 \\\\\n",
       "\\bottomrule\n",
       "\\end{tabular}\n",
       "\n",
       "\\medskip}"
      ],
      "text/plain": [
       "                        x                    y\n",
       "mean               0.0000               0.0000\n",
       "std                1.0000               1.0000"
      ]
     },
     "metadata": {},
     "output_type": "display_data"
    }
   ],
   "source": [
    "display(df_std_ized.describe().loc[['mean', 'std']])"
   ]
  },
  {
   "cell_type": "markdown",
   "id": "57e860fa",
   "metadata": {},
   "source": [
    "We can look at the original data and the standardized data on two different scales: the natural scale that `matplotlib` wants to use for the data and a simple, fixed, zoomed-out scale:"
   ]
  },
  {
   "cell_type": "code",
   "execution_count": 157,
   "id": "98f8cad4",
   "metadata": {},
   "outputs": [
    {
     "data": {
      "text/plain": [
       "Text(0.5, 0, 'Standardized Data')"
      ]
     },
     "execution_count": 157,
     "metadata": {},
     "output_type": "execute_result"
    },
    {
     "data": {
      "image/png": "[encoded data removed]",
      "text/plain": [
       "<Figure size 360x360 with 4 Axes>"
      ]
     },
     "metadata": {
      "needs_background": "light"
     },
     "output_type": "display_data"
    }
   ],
   "source": [
    "fig, ax = plt.subplots(2, 2, figsize=(5, 5))\n",
    "\n",
    "ax[0,0].plot(df.x, df.y, '.')\n",
    "ax[0,1].plot(df_std_ized.x, df_std_ized.y, '.')\n",
    "ax[0,0].set_ylabel(\"'Natural' Scale\")\n",
    "\n",
    "ax[1,0].plot(df.x, df.y, '.')\n",
    "ax[1,1].plot(df_std_ized.x, df_std_ized.y, '.')\n",
    "\n",
    "ax[1,0].axis([-10, 50, -10, 50])\n",
    "ax[1,1].axis([-10, 50, -10, 50])\n",
    "\n",
    "ax[1,0].set_ylabel('Fixed/Shared Scale')\n",
    "ax[1,0].set_xlabel('Original Data')\n",
    "ax[1,1].set_xlabel('Standardized Data')"
   ]
  },
  {
   "cell_type": "markdown",
   "id": "8af4559b",
   "metadata": {},
   "source": [
    "After standardizing, the shape of the data stays the same.  You can clearly see this in the top row--where the data are on different scales and in different locations.  \n",
    "\n",
    "In the top row, `matplotlib` uses different scales to empasize the data's *shape*.  In the bottom row, a fixed common scale emphasize that the *location* and the *spread* of the data are different.  Standardizing shifts the data to be centered at zero and scales the data so that the resulting values have a standard deviation and variance of 1.0.\n",
    "\n",
    "We can perform standarization in `sklearn` using a special 'learner' named `StandardScaler`.  The learner figures out the mean and standard deviation from the training data and applies these values to transform the traing or test data.  The name of this in `sklearn` is *Transformer*.  `fit` works the same way as it does for the learners we've seen so far.  \n",
    "\n",
    "However, instead of `predict`, we use `transform`.\n"
   ]
  },
  {
   "cell_type": "code",
   "execution_count": 158,
   "id": "b79c7adb",
   "metadata": {},
   "outputs": [
    {
     "name": "stdout",
     "output_type": "stream",
     "text": [
      "[[ 6.0526]\n",
      " [ 5.2632]\n",
      " [ 8.4211]\n",
      " [-3.4211]\n",
      " [ 9.2105]\n",
      " [-5.    ]\n",
      " [ 2.8947]\n",
      " [10.    ]\n",
      " [ 4.4737]\n",
      " [ 0.5263]]\n",
      "[[-1.0526]\n",
      " [ 2.1053]\n",
      " [-0.2632]\n",
      " [ 3.6842]\n",
      " [ 7.6316]\n",
      " [-4.2105]\n",
      " [ 1.3158]\n",
      " [-2.6316]\n",
      " [-1.8421]\n",
      " [ 6.8421]]\n"
     ]
    },
    {
     "data": {
      "text/plain": [
       "array([[-1.0037],\n",
       "       [-0.3561],\n",
       "       [-0.8418],\n",
       "       [-0.0324],\n",
       "       [ 0.777 ],\n",
       "       [-1.6512],\n",
       "       [-0.518 ],\n",
       "       [-1.3274],\n",
       "       [-1.1655],\n",
       "       [ 0.6151]])"
      ]
     },
     "execution_count": 158,
     "metadata": {},
     "output_type": "execute_result"
    }
   ],
   "source": [
    "train_xs, test_xs = skms.train_test_split(xs.reshape(-1, 1), test_size=.5)\n",
    "print(train_xs)\n",
    "print(test_xs)\n",
    "scaler = skpre.StandardScaler()\n",
    "scaler.fit(train_xs).transform(test_xs)"
   ]
  },
  {
   "cell_type": "markdown",
   "id": "e7d77233",
   "metadata": {},
   "source": [
    "Now, we will talk about pipelines, where we can standardize and then fit in a model in one condensed package."
   ]
  },
  {
   "cell_type": "code",
   "execution_count": 159,
   "id": "a24f746b",
   "metadata": {},
   "outputs": [
    {
     "data": {
      "text/plain": [
       "array([-5.    , -4.2105, -3.4211, -2.6316, -1.8421, -1.0526, -0.2632,\n",
       "        0.5263,  1.3158,  2.1053,  2.8947,  3.6842,  4.4737,  5.2632,\n",
       "        6.0526,  6.8421,  7.6316,  8.4211,  9.2105, 10.    ])"
      ]
     },
     "execution_count": 159,
     "metadata": {},
     "output_type": "execute_result"
    }
   ],
   "source": [
    "(train_xs, test_xs,\n",
    " train_ys, test_ys) = skms.train_test_split(xs.reshape(-1, 1),\n",
    "                                            ys.reshape(-1, 1),\n",
    "                                            test_size=.5)\n",
    "xs"
   ]
  },
  {
   "cell_type": "code",
   "execution_count": 160,
   "id": "1946dc92",
   "metadata": {},
   "outputs": [
    {
     "data": {
      "text/plain": [
       "array([[19.5999],\n",
       "       [64.8115],\n",
       "       [58.3527],\n",
       "       [16.3705],\n",
       "       [13.1411],\n",
       "       [71.2703],\n",
       "       [45.4351],\n",
       "       [35.7469],\n",
       "       [48.6645],\n",
       "       [ 9.9117]])"
      ]
     },
     "execution_count": 160,
     "metadata": {},
     "output_type": "execute_result"
    }
   ],
   "source": [
    "scaler = skpre.StandardScaler()\n",
    "lr = linear_model.LinearRegression()\n",
    "\n",
    "std_lr_pipe = pipeline.make_pipeline(scaler, lr)\n",
    "\n",
    "std_lr_pipe.fit(train_xs, train_ys).predict(test_xs)"
   ]
  },
  {
   "cell_type": "markdown",
   "id": "43fd295e",
   "metadata": {},
   "source": [
    "The pipline acts just like any other learner we've seen: it has `fit` and `predict` methods.  We can use a pipeline as a plug-in substitute for any other learning method.  \n",
    "\n",
    "We use the *same interface* whether the learners are stand-alone components or built up from primitive components.  \n",
    "\n",
    "Even though the `StandardScaler` uses `transform` when it is applied stand-alone, the overall pipeline uses `predict` to apply the transformation.  Calling `my_pipe.predict()` will do the transformations necessary to get to the final product without having to explicity call the `transform` step.\n",
    "\n",
    "You may have noticed we are learning the parameters we use to standardize (our training mean and standard deviation).\n",
    "We do that from the *training* set.  We do not want to peek with a learning model, we also don't want to peek with our preprocessing.  \n",
    "\n",
    "Never peek at the test data unless there is (1) a formal proof that peeking won't bias or invalidate your results and (2) you understand the limits of the formal proof and when it may *not* apply, so that again, you're back in a scenario wher you shouldn't peek.\n"
   ]
  },
  {
   "cell_type": "markdown",
   "id": "030c750a",
   "metadata": {},
   "source": [
    "# 7.5 Evaluating Regressors in a More Sophisticated Way: Take Two"
   ]
  },
  {
   "cell_type": "markdown",
   "id": "72ee60c8",
   "metadata": {},
   "source": [
    "We not turn back to the Portuguese student data for a larger example.  We have the same data we used in Chapter 6, except we keep the target feature as a numerical value.  \n",
    "\n",
    "Therefore, we just have the numerical features from the original dataset and the`G3` column as our target."
   ]
  },
  {
   "cell_type": "code",
   "execution_count": 161,
   "id": "96f73444",
   "metadata": {},
   "outputs": [
    {
     "ename": "IndentationError",
     "evalue": "expected an indented block (<ipython-input-161-a0fb6c0d288d>, line 4)",
     "output_type": "error",
     "traceback": [
      "\u001b[1;36m  File \u001b[1;32m\"<ipython-input-161-a0fb6c0d288d>\"\u001b[1;36m, line \u001b[1;32m4\u001b[0m\n\u001b[1;33m    # download zip file and un\u001b[0m\n\u001b[1;37m                              ^\u001b[0m\n\u001b[1;31mIndentationError\u001b[0m\u001b[1;31m:\u001b[0m expected an indented block\n"
     ]
    }
   ],
   "source": [
    "student_url = ('https://archie.ics.uci.edu/' +\n",
    "               'ml/machine-learning-databases/00320/student.zip')\n",
    "def grab_student_numeric():\n",
    "    # download zip file and un"
   ]
  },
  {
   "cell_type": "code",
   "execution_count": null,
   "id": "68baaf1c",
   "metadata": {},
   "outputs": [],
   "source": [
    "df = pd.read_csv('student-mat.csv', sep=';')\n",
    "student_df = df.drop(columns=['G1', 'G2']).select_dtypes(include=['number'])\n",
    "df"
   ]
  },
  {
   "cell_type": "code",
   "execution_count": null,
   "id": "a25c4aa4",
   "metadata": {},
   "outputs": [],
   "source": [
    "\n",
    "display(student_df[['absences']].describe().T)\n",
    "student_df"
   ]
  },
  {
   "cell_type": "code",
   "execution_count": null,
   "id": "8429058e",
   "metadata": {},
   "outputs": [],
   "source": [
    "student_ftrs = student_df[student_df.columns[:-1]]\n",
    "student_tgt = student_df['G3']"
   ]
  },
  {
   "cell_type": "markdown",
   "id": "95c4de52",
   "metadata": {},
   "source": [
    "## 7.5.1 Cross-Validated Results on Multiple Metrics\n",
    "\n",
    "The following uses `skms.cross_validate` to score over multiple metrics.  \n",
    "\n",
    "It is a nice convenience function that allows us to evaluate multiple metrics with one call.  It works to capture the amount of time spent to fit and predict with the given model.\n",
    "\n",
    "We will ignore those pieces and just make use of the multiple metric evaluations that it returns.\n",
    "\n",
    "Like `skms.cross_val_score`, it requires `scoreres` passed into the `scoring` argument."
   ]
  },
  {
   "cell_type": "code",
   "execution_count": null,
   "id": "e7bf9ed5",
   "metadata": {
    "scrolled": true
   },
   "outputs": [],
   "source": [
    "scaler = skpre.StandardScaler()\n",
    "\n",
    "lr = linear_model.LinearRegression()\n",
    "knn_3 =  neighbors.KNeighborsRegressor(n_neighbors=3)\n",
    "knn_10 = neighbors.KNeighborsRegressor(n_neighbors=10)\n",
    "\n",
    "std_lr_pipe = pipeline.make_pipeline(scaler, lr)\n",
    "std_knn3_pipe = pipeline.make_pipeline(scaler, knn_3)\n",
    "std_knn10_pipe = pipeline.make_pipeline(scaler, knn_10)\n",
    "\n",
    "# mean with/without Standardization should give some results\n",
    "regressors = {'baseline'  : dummy.DummyRegressor(strategy='mean'),\n",
    "              'std_knn3'  : std_knn3_pipe,\n",
    "              'std_knn10' : std_knn10_pipe, \n",
    "              'std_lr'    : std_lr_pipe}\n",
    "\n",
    "msrs = {'MAE'  : metrics.make_scorer(metrics.mean_absolute_error),\n",
    "        'RMSE' : metrics.make_scorer(rms_error)}\n",
    "\n",
    "fig, axes = plt.subplots(2, 1, figsize=(6, 4))\n",
    "fig.tight_layout()\n",
    "for mod_name, model in regressors.items():\n",
    "    cv_results = skms.cross_validate(model,\n",
    "                                     student_ftrs, student_tgt,\n",
    "                                     scoring = msrs, cv=10)\n",
    "    for ax, msr in zip(axes, msrs):\n",
    "        msr_results = cv_results['test_' + msr]\n",
    "        my_lbl = f'{mod_name:12s} {msr_results.mean():.3f} {msr_results.std():.2f}'\n",
    "        \n",
    "        ax.plot(msr_results, 'o--', label=my_lbl)\n",
    "        ax.set_title(msr)\n",
    "        ax.legend(bbox_to_anchor=(1, 0.5), fancybox=True, shadow=True) # uncomment for summary stats"
   ]
  },
  {
   "cell_type": "markdown",
   "id": "c260135a",
   "metadata": {},
   "source": [
    "3-NN is not serving us very well in this problem: the baseline method generally has less error than 3-NN.  For several folds, 10-NN and LR perform very similar and their overall performance is mostly on par with on another and slightly better than baseline.  We can tease out some of the close values--and get a more direct comparison with the baseline regressor, by looking at the ratio of $MSEs = \\frac{\\sqrt{MSE_{me}}}{\\sqrt{MSE_{baseline}}} $."
   ]
  },
  {
   "cell_type": "code",
   "execution_count": null,
   "id": "d7d09af3",
   "metadata": {},
   "outputs": [],
   "source": [
    "fig,ax = plt.subplots(1, 1, figsize=(6,3))\n",
    "baseline_results = skms.cross_val_score(regressors['baseline'],\n",
    "                                        student_ftrs, student_tgt,\n",
    "                                        scoring = msrs['RMSE'], cv=10)\n",
    "\n",
    "for mod_name, model in regressors.items():\n",
    "    if mod_name.startswith('std_'):\n",
    "        cv_results = skms.cross_val_score(model,\n",
    "                                          student_ftrs, student_tgt,\n",
    "                                          scoring = msrs['RMSE'], cv=10)\n",
    "        my_lbl= f'{mod_name:12s} {cv_results.mean():.3f} {cv_results.std():.2f}'\n",
    "        \n",
    "        ax.plot(cv_results / baseline_results, 'o--', label=my_lbl)\n",
    "ax.set_title('RMSE(model) / RMSE(baseline)\\n$<1$ is better than baseline')\n",
    "ax.legend(bbox_to_anchor=(1, 0.5), fancybox=True, shadow=True)"
   ]
  },
  {
   "cell_type": "markdown",
   "id": "7b0a573a",
   "metadata": {},
   "source": [
    "Here, it is clear that 3-NN is generating more error than baseline since its ratios are bigger than 1 and it is worse than the other two regressors.  We see that LR seems to be a bit of awinner on more folds, although 10-NN does eek out a few victories in folds 6-9."
   ]
  },
  {
   "cell_type": "markdown",
   "id": "fec04342",
   "metadata": {},
   "source": [
    "Let's see the default $R^2$ scoring for this problem, although it is easily abused."
   ]
  },
  {
   "cell_type": "code",
   "execution_count": null,
   "id": "a57103ac",
   "metadata": {},
   "outputs": [],
   "source": [
    "fig, ax = plt.subplots(1, 1, figsize=(6, 3))\n",
    "for mod_name, model in regressors.items():\n",
    "    cv_results = skms.cross_val_score(model,\n",
    "                                      student_ftrs, student_tgt,\n",
    "                                      cv=10)\n",
    "    my_lbl = f'{mod_name:12s} {cv_results.mean():.3f} {cv_results.std():.2f}'\n",
    "    \n",
    "    ax.plot(cv_results, 'o--', label=my_lbl)\n",
    "ax.set_title('$R^2$')\n",
    "ax.legend(fancybox=True, shadow=True, bbox_to_anchor=(1, 0.5))"
   ]
  },
  {
   "cell_type": "markdown",
   "id": "508bdd28",
   "metadata": {},
   "source": [
    "There are two interesting patterns here.  Linear regression is consistently better than *k*-NN-R.  The *order* of the winnders on each fold seems to be the same.  \n",
    "\n",
    "Why doesn't the baseline model, which has a mean predictor model, have an $R^2$ value of zero?\n",
    "\n",
    "There's going to be different values for the means of training and testing sets.  We are doing train-test splitting wrapped up in cross-validation, our training and testing means are going to be a bit off from each other, but not too much.  You'll notice that most of the $R^2$ values for the baseline mare are in the vicinity of zero.  That's the price we pay for randomness and using $R^2$. "
   ]
  },
  {
   "cell_type": "markdown",
   "id": "27abb857",
   "metadata": {},
   "source": [
    "# 7.5.2 Summarizing Cross-Validated Results"
   ]
  },
  {
   "cell_type": "markdown",
   "id": "7da063d0",
   "metadata": {},
   "source": [
    "Another approach to cross-validated predictions is to view the entire cross-validation process as a single learner.  Remember, each example is in *one and only one* testing scenario in cross-validation.  Therefore, we can simply gather up all the predictions, made by a basket of learners training on different partitions of the data, and compare them with our known targets.  \n",
    "\n",
    "Applying an evaluation metric to these predictions and targets gives us a net result of a *single* value for each model and metric.  We access the predictions with `cross_val_predict.`"
   ]
  },
  {
   "cell_type": "code",
   "execution_count": null,
   "id": "012bc4f7",
   "metadata": {},
   "outputs": [],
   "source": [
    "msrs = {'MAE'  : metrics.mean_absolute_error,\n",
    "        'RMSE' : rms_error} # not scorer, no model\n",
    "\n",
    "results = {}\n",
    "for mod_name, model in regressors.items():\n",
    "    cv_preds = skms.cross_val_predict(model,\n",
    "                                      student_ftrs, student_tgt,\n",
    "                                      cv=10)\n",
    "    for ax, msr in zip(axes, msrs):\n",
    "        msr_results = msrs[msr](student_tgt, cv_preds)\n",
    "        results.setdefault(msr, []).append(msr_results)\n",
    "        \n",
    "df = pd.DataFrame(results, index=regressors.keys())\n",
    "df"
   ]
  },
  {
   "cell_type": "code",
   "execution_count": null,
   "id": "0ab055ed",
   "metadata": {},
   "outputs": [],
   "source": [
    "msr_results"
   ]
  },
  {
   "cell_type": "markdown",
   "id": "002e82a9",
   "metadata": {},
   "source": [
    "# 7.5.3 Residuals\n",
    "\n",
    "\n",
    "Let's look at (1) the residuals of our baseline model and (2) using the standardized, preprocessed data."
   ]
  },
  {
   "cell_type": "code",
   "execution_count": null,
   "id": "25d8578d",
   "metadata": {},
   "outputs": [],
   "source": [
    "fig, axes = plt.subplots(1, 4, figsize=(10, 5),\n",
    "                         sharex=True, sharey=True)\n",
    "fig.tight_layout()\n",
    "for model_name, ax in zip(regressors, axes):\n",
    "    model = regressors[model_name]\n",
    "    preds = skms.cross_val_predict(model,\n",
    "                                   student_ftrs, student_tgt,\n",
    "                                   cv=10)\n",
    "    \n",
    "    regression_residuals(ax, preds, student_tgt)\n",
    "    ax.set_title(model_name + ' residuals')\n",
    "pd.DataFrame(student_tgt).describe().T"
   ]
  },
  {
   "cell_type": "markdown",
   "id": "7d80e1a6",
   "metadata": {},
   "source": [
    "Key points:\n",
    "\n",
    "* Even though we are using the mean model as our baseline model, we have multiple means, one mean for each training-split.  Our predicted values only have a slight variation for the mean-only models(s)\n",
    "\n",
    "* The residuals for our standardize-then-fit models have some striking patterns.\n",
    "\n",
    "    1. They all show banding.  The banding is due to the integer values of the target: there are target values of 17 and 18, but not 17.5.  Therefore, there are distinct gaps.\n",
    "    2. The overall patterns seem quite similar for each nonbaseline model.\n",
    "    3. There's a whole band of 'error outliers' where all of the residuals are negative and keep decreasing with the amount of the prediction.  Negative residuals are positive errors.  It indicates that we are overpredicting.  On the right, we predict 15, and we are over by about 15, as the actual is near zero.  On the left, we predict 5 and we've over by about 5, the actual is, again, near zero.  So the *reason* we see that band is that it shows us our *maximum* error (minimum residual) at each possible predicted value.  If we predict *x* and the actual value is zero, our error is *x* (residual of -*x*)."
   ]
  },
  {
   "cell_type": "markdown",
   "id": "fabd44c6",
   "metadata": {},
   "source": [
    "# 7.6 EOC\n",
    "\n",
    "## 7.6.1 \n",
    "\n",
    "We added (1) baseline regression models, (2) residual plots, and (3) some appropriate metrics.  We also looked at pipelines and standardization and discussed some of the difficulties of the metrics above."
   ]
  },
  {
   "cell_type": "markdown",
   "id": "339e54dd",
   "metadata": {},
   "source": [
    "\n",
    "\n"
   ]
  }
 ],
 "metadata": {
  "kernelspec": {
   "display_name": "Python 3 (ipykernel)",
   "language": "python",
   "name": "python3"
  },
  "language_info": {
   "codemirror_mode": {
    "name": "ipython",
    "version": 3
   },
   "file_extension": ".py",
   "mimetype": "text/x-python",
   "name": "python",
   "nbconvert_exporter": "python",
   "pygments_lexer": "ipython3",
   "version": "3.9.4"
  }
 },
 "nbformat": 4,
 "nbformat_minor": 5
}
